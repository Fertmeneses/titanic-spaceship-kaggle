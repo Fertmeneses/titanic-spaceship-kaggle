{
 "cells": [
  {
   "cell_type": "markdown",
   "id": "a7d4b3aa-1f7d-4c3c-93a4-4568b513bbbd",
   "metadata": {
    "jp-MarkdownHeadingCollapsed": true
   },
   "source": [
    "<a id=\"Title\"></a>\n",
    "# <span style=\"color:teal;font-weight:bold;\">Spaceship Titanic 🩹 Data imputation</span>\n",
    "\n",
    "This notebook is the third part of my <span style=\"font-weight:bold;color:green\">Spaceship Titanic series</span>:\n",
    "\n",
    "1. <a href=\"https://www.kaggle.com/code/fertmeneses/spaceship-titanic-getting-familiar\">Spaceship Titanic 🏁 Getting familiar</a>.\n",
    "2. <a href=\"https://www.kaggle.com/code/fertmeneses/spaceship-titanic-feature-engineering\">Spaceship Titanic 💡 Feature engineering.</a>\n",
    "3. <span style=\"font-weight:bold\">Spaceship Titanic 🩹 Data imputation.</span> [This notebook]\n",
    "4. Spaceship Titanic 🖥️ Model optimization. (Coming soon)\n",
    "5. Spaceship Titanic 🔭 Integrated analysis. (Coming soon)\n",
    "\n",
    "In the <span style=\"color:orangered;font-weight:bold;\">first episode</span>, I studied the Leaderboard (LB) and tried simple Machine Learning models with the original dataset, getting a <span style=\"color:orangered;font-weight:bold;\">submission score of 0.79635</span>. \n",
    "\n",
    "From that experience, I learned that **$\\approx$75% of the submissions in the LB are below a 0.80 score, while only $\\approx$5% are above 0.81**.\n",
    "\n",
    "In the <span style=\"color:orange;font-weight:bold;\">second episode</span>, I performed feature engineering on the original dataset (without any data correction), getting a <span style=\"color:orange;font-weight:bold;\">submission score of 0.80336</span>.\n",
    "\n",
    "<div style=\"color:white;\n",
    "    display:fill;\n",
    "    border-radius:15px;\n",
    "    margin-left: 100px;\n",
    "    margin-right: 100px;\n",
    "    background-color:lightblue;\n",
    "    font-size:105%;\n",
    "    font-family:Verdana;\n",
    "    letter-spacing:0.5px\">\n",
    "\n",
    "<p style=\"padding: 20px;color:black;text-align:center;\">\n",
    "In this <span style=\"color:green;font-weight:bold;\">notebook</span>, I use my previously engineered features and focus on <span style=\"font-weight:bold;\">data imputation</span> employing my own Machine Learning methods, getting a <span style=\"color:green;font-weight:bold;\">submission score of X</span>.\n",
    "\n",
    "</p>\n",
    "</div>\n",
    "\n",
    "\n",
    "\n",
    "In the future notebooks, I'll optimize the Machine Learning model and finally make an integrated analysis based on my results and a deep study of other kagglers' contributions.\n",
    "\n",
    "<hr>"
   ]
  },
  {
   "cell_type": "markdown",
   "id": "92087346-b763-486d-9ec7-73c774358411",
   "metadata": {},
   "source": [
    "# <font color='teal'>Outline</font> <a class=\"anchor\"  id=\"Outline\"></a>\n",
    "\n",
    "[**Load data and preprocess**](#Load_data_and_preprocess)\n",
    "\n",
    "  - [Load original data](#Load_original_data)\n",
    "\n",
    "  - [Basic feature engineering](#Basic_feature_engineering)\n",
    "\n",
    "[**Manual data correction**](#Manual_data_correction)\n",
    "\n",
    "  - [Expenses features](#Manual_data_correction_Expenses_Features)\n",
    "\n",
    "  - [Cryosleep feature](#Manual_data_correction_Cryosleep_Feature)\n",
    "\n",
    "  - [HomePlanet feature](#Manual_data_correction_HomePlanet_Feature)\n",
    "\n",
    "  - [VIP feature](#Manual_data_correction_VIP_Feature)\n",
    "\n",
    "  - [Cabin_isPort feature](#Manual_data_correction_Cabin_isPort_Feature)\n",
    "\n",
    "  - [Checkpoint: Manual correction](#Manual_data_correction_checkpoint)\n",
    "\n",
    "  - [Preliminary submission results](#Preliminary_submission_results)\n",
    "\n",
    "[**ML data imputation**](#ML_data_imputation)\n",
    "\n",
    "  - [Method description](#Method_description)\n",
    "\n",
    "  - [Data selection](#Data_selection)\n",
    "\n",
    "  - [Model tests](#Model_tests)\n",
    "\n",
    "  - [Data imputation](#Data_imputation)\n",
    "\n",
    "    - [First stage: ML optimization](#ML_data_imputation_first_stage)\n",
    "      \n",
    "    - [Second stage: Data imputation](#ML_data_imputation_second_stage)\n",
    "    \n",
    "[**Submission results**](#Submission_results)\n",
    " \n",
    "[**Conclusions**](#Conclusions)"
   ]
  },
  {
   "cell_type": "markdown",
   "id": "324337ff-eb9c-4e10-af5a-24be73de43ea",
   "metadata": {},
   "source": [
    "<a id=\"Load_data_and_preprocess\"></a>\n",
    "# <span style=\"color:teal;font-weight:bold;\">Load data and preprocess</span>\n",
    "\n",
    "In this section, I load the original data and make basic feature engineering, in which I only extract information from single variables or change names. Other feature engineering processes that relate two or more features will come later."
   ]
  },
  {
   "cell_type": "code",
   "execution_count": 1,
   "id": "482f75e3-3a65-4038-92c8-cf08094ccc25",
   "metadata": {},
   "outputs": [
    {
     "name": "stdout",
     "output_type": "stream",
     "text": [
      "Notebook last run (end-to-end): 2025-03-12 09:59:08.478492\n"
     ]
    }
   ],
   "source": [
    "import datetime\n",
    "print(f\"Notebook last run (end-to-end): {datetime.datetime.now()}\")"
   ]
  },
  {
   "cell_type": "markdown",
   "id": "7915230d-b4f6-415e-8e6a-5ce2ed8f16b8",
   "metadata": {},
   "source": [
    "<a id=\"Load_original_data\"></a>\n",
    "## <span style=\"color:teal;font-weight:bold;\">Load original data</span>\n",
    "\n",
    "In the following lines, I load the original datasets and get this information:\n",
    "\n",
    "- Example for 10 random rows in training dataset.\n",
    "\n",
    "- Number of rows in both datasets.\n",
    "\n",
    "- Features' names and data types.\n",
    "\n",
    "- Number of missing values in both datasets, per feature and per row."
   ]
  },
  {
   "cell_type": "code",
   "execution_count": 2,
   "id": "9e5cf416-cac1-45f4-be71-e957ad7212d5",
   "metadata": {},
   "outputs": [
    {
     "data": {
      "text/html": [
       "<div>\n",
       "<style scoped>\n",
       "    .dataframe tbody tr th:only-of-type {\n",
       "        vertical-align: middle;\n",
       "    }\n",
       "\n",
       "    .dataframe tbody tr th {\n",
       "        vertical-align: top;\n",
       "    }\n",
       "\n",
       "    .dataframe thead th {\n",
       "        text-align: right;\n",
       "    }\n",
       "</style>\n",
       "<table border=\"1\" class=\"dataframe\">\n",
       "  <thead>\n",
       "    <tr style=\"text-align: right;\">\n",
       "      <th></th>\n",
       "      <th>PassengerId</th>\n",
       "      <th>HomePlanet</th>\n",
       "      <th>CryoSleep</th>\n",
       "      <th>Cabin</th>\n",
       "      <th>Destination</th>\n",
       "      <th>Age</th>\n",
       "      <th>VIP</th>\n",
       "      <th>RoomService</th>\n",
       "      <th>FoodCourt</th>\n",
       "      <th>ShoppingMall</th>\n",
       "      <th>Spa</th>\n",
       "      <th>VRDeck</th>\n",
       "      <th>Name</th>\n",
       "      <th>Transported</th>\n",
       "    </tr>\n",
       "  </thead>\n",
       "  <tbody>\n",
       "    <tr>\n",
       "      <th>1454</th>\n",
       "      <td>1539_01</td>\n",
       "      <td>Europa</td>\n",
       "      <td>NaN</td>\n",
       "      <td>A/17/S</td>\n",
       "      <td>55 Cancri e</td>\n",
       "      <td>32.0</td>\n",
       "      <td>False</td>\n",
       "      <td>54.0</td>\n",
       "      <td>3782.0</td>\n",
       "      <td>0.0</td>\n",
       "      <td>21.0</td>\n",
       "      <td>5.0</td>\n",
       "      <td>Alyadum Barmant</td>\n",
       "      <td>True</td>\n",
       "    </tr>\n",
       "    <tr>\n",
       "      <th>218</th>\n",
       "      <td>0232_01</td>\n",
       "      <td>Earth</td>\n",
       "      <td>True</td>\n",
       "      <td>G/36/S</td>\n",
       "      <td>PSO J318.5-22</td>\n",
       "      <td>27.0</td>\n",
       "      <td>False</td>\n",
       "      <td>0.0</td>\n",
       "      <td>NaN</td>\n",
       "      <td>0.0</td>\n",
       "      <td>0.0</td>\n",
       "      <td>0.0</td>\n",
       "      <td>Nica Bakerrison</td>\n",
       "      <td>False</td>\n",
       "    </tr>\n",
       "    <tr>\n",
       "      <th>7866</th>\n",
       "      <td>8392_01</td>\n",
       "      <td>Earth</td>\n",
       "      <td>False</td>\n",
       "      <td>F/1610/S</td>\n",
       "      <td>PSO J318.5-22</td>\n",
       "      <td>24.0</td>\n",
       "      <td>False</td>\n",
       "      <td>86.0</td>\n",
       "      <td>669.0</td>\n",
       "      <td>1.0</td>\n",
       "      <td>0.0</td>\n",
       "      <td>0.0</td>\n",
       "      <td>Therly Brightez</td>\n",
       "      <td>False</td>\n",
       "    </tr>\n",
       "    <tr>\n",
       "      <th>7622</th>\n",
       "      <td>8141_01</td>\n",
       "      <td>Earth</td>\n",
       "      <td>True</td>\n",
       "      <td>G/1310/S</td>\n",
       "      <td>TRAPPIST-1e</td>\n",
       "      <td>38.0</td>\n",
       "      <td>False</td>\n",
       "      <td>0.0</td>\n",
       "      <td>0.0</td>\n",
       "      <td>0.0</td>\n",
       "      <td>0.0</td>\n",
       "      <td>0.0</td>\n",
       "      <td>Stenny Belley</td>\n",
       "      <td>True</td>\n",
       "    </tr>\n",
       "    <tr>\n",
       "      <th>4108</th>\n",
       "      <td>4387_01</td>\n",
       "      <td>Mars</td>\n",
       "      <td>False</td>\n",
       "      <td>F/902/P</td>\n",
       "      <td>PSO J318.5-22</td>\n",
       "      <td>32.0</td>\n",
       "      <td>False</td>\n",
       "      <td>192.0</td>\n",
       "      <td>0.0</td>\n",
       "      <td>441.0</td>\n",
       "      <td>18.0</td>\n",
       "      <td>0.0</td>\n",
       "      <td>Apix Wala</td>\n",
       "      <td>False</td>\n",
       "    </tr>\n",
       "    <tr>\n",
       "      <th>4363</th>\n",
       "      <td>4645_01</td>\n",
       "      <td>Europa</td>\n",
       "      <td>False</td>\n",
       "      <td>B/184/S</td>\n",
       "      <td>TRAPPIST-1e</td>\n",
       "      <td>48.0</td>\n",
       "      <td>False</td>\n",
       "      <td>0.0</td>\n",
       "      <td>9633.0</td>\n",
       "      <td>0.0</td>\n",
       "      <td>1.0</td>\n",
       "      <td>2.0</td>\n",
       "      <td>Aton Bacistion</td>\n",
       "      <td>True</td>\n",
       "    </tr>\n",
       "    <tr>\n",
       "      <th>343</th>\n",
       "      <td>0379_01</td>\n",
       "      <td>Earth</td>\n",
       "      <td>False</td>\n",
       "      <td>G/63/P</td>\n",
       "      <td>TRAPPIST-1e</td>\n",
       "      <td>31.0</td>\n",
       "      <td>False</td>\n",
       "      <td>198.0</td>\n",
       "      <td>0.0</td>\n",
       "      <td>591.0</td>\n",
       "      <td>0.0</td>\n",
       "      <td>164.0</td>\n",
       "      <td>Brita Moodson</td>\n",
       "      <td>True</td>\n",
       "    </tr>\n",
       "    <tr>\n",
       "      <th>5966</th>\n",
       "      <td>6324_01</td>\n",
       "      <td>Earth</td>\n",
       "      <td>False</td>\n",
       "      <td>E/420/S</td>\n",
       "      <td>NaN</td>\n",
       "      <td>31.0</td>\n",
       "      <td>False</td>\n",
       "      <td>19.0</td>\n",
       "      <td>509.0</td>\n",
       "      <td>0.0</td>\n",
       "      <td>0.0</td>\n",
       "      <td>177.0</td>\n",
       "      <td>Lesley Hinetthews</td>\n",
       "      <td>False</td>\n",
       "    </tr>\n",
       "    <tr>\n",
       "      <th>669</th>\n",
       "      <td>0699_01</td>\n",
       "      <td>Mars</td>\n",
       "      <td>True</td>\n",
       "      <td>F/126/S</td>\n",
       "      <td>NaN</td>\n",
       "      <td>18.0</td>\n",
       "      <td>False</td>\n",
       "      <td>0.0</td>\n",
       "      <td>0.0</td>\n",
       "      <td>0.0</td>\n",
       "      <td>0.0</td>\n",
       "      <td>0.0</td>\n",
       "      <td>Roswal Sha</td>\n",
       "      <td>True</td>\n",
       "    </tr>\n",
       "    <tr>\n",
       "      <th>6506</th>\n",
       "      <td>6865_01</td>\n",
       "      <td>Europa</td>\n",
       "      <td>False</td>\n",
       "      <td>D/208/S</td>\n",
       "      <td>TRAPPIST-1e</td>\n",
       "      <td>27.0</td>\n",
       "      <td>NaN</td>\n",
       "      <td>69.0</td>\n",
       "      <td>2878.0</td>\n",
       "      <td>0.0</td>\n",
       "      <td>4232.0</td>\n",
       "      <td>3798.0</td>\n",
       "      <td>Thabih Peducting</td>\n",
       "      <td>False</td>\n",
       "    </tr>\n",
       "  </tbody>\n",
       "</table>\n",
       "</div>"
      ],
      "text/plain": [
       "     PassengerId HomePlanet CryoSleep     Cabin    Destination   Age    VIP  \\\n",
       "1454     1539_01     Europa       NaN    A/17/S    55 Cancri e  32.0  False   \n",
       "218      0232_01      Earth      True    G/36/S  PSO J318.5-22  27.0  False   \n",
       "7866     8392_01      Earth     False  F/1610/S  PSO J318.5-22  24.0  False   \n",
       "7622     8141_01      Earth      True  G/1310/S    TRAPPIST-1e  38.0  False   \n",
       "4108     4387_01       Mars     False   F/902/P  PSO J318.5-22  32.0  False   \n",
       "4363     4645_01     Europa     False   B/184/S    TRAPPIST-1e  48.0  False   \n",
       "343      0379_01      Earth     False    G/63/P    TRAPPIST-1e  31.0  False   \n",
       "5966     6324_01      Earth     False   E/420/S            NaN  31.0  False   \n",
       "669      0699_01       Mars      True   F/126/S            NaN  18.0  False   \n",
       "6506     6865_01     Europa     False   D/208/S    TRAPPIST-1e  27.0    NaN   \n",
       "\n",
       "      RoomService  FoodCourt  ShoppingMall     Spa  VRDeck               Name  \\\n",
       "1454         54.0     3782.0           0.0    21.0     5.0    Alyadum Barmant   \n",
       "218           0.0        NaN           0.0     0.0     0.0    Nica Bakerrison   \n",
       "7866         86.0      669.0           1.0     0.0     0.0    Therly Brightez   \n",
       "7622          0.0        0.0           0.0     0.0     0.0      Stenny Belley   \n",
       "4108        192.0        0.0         441.0    18.0     0.0          Apix Wala   \n",
       "4363          0.0     9633.0           0.0     1.0     2.0     Aton Bacistion   \n",
       "343         198.0        0.0         591.0     0.0   164.0      Brita Moodson   \n",
       "5966         19.0      509.0           0.0     0.0   177.0  Lesley Hinetthews   \n",
       "669           0.0        0.0           0.0     0.0     0.0         Roswal Sha   \n",
       "6506         69.0     2878.0           0.0  4232.0  3798.0   Thabih Peducting   \n",
       "\n",
       "      Transported  \n",
       "1454         True  \n",
       "218         False  \n",
       "7866        False  \n",
       "7622         True  \n",
       "4108        False  \n",
       "4363         True  \n",
       "343          True  \n",
       "5966        False  \n",
       "669          True  \n",
       "6506        False  "
      ]
     },
     "metadata": {},
     "output_type": "display_data"
    },
    {
     "name": "stdout",
     "output_type": "stream",
     "text": [
      "\n",
      "Number of rows in train/test datasets:\n",
      "\n",
      "8693 / 4277\n",
      "\n",
      "Features: names and data types:\n",
      "\n",
      "PassengerId      object\n",
      "HomePlanet       object\n",
      "CryoSleep        object\n",
      "Cabin            object\n",
      "Destination      object\n",
      "Age             float64\n",
      "VIP              object\n",
      "RoomService     float64\n",
      "FoodCourt       float64\n",
      "ShoppingMall    float64\n",
      "Spa             float64\n",
      "VRDeck          float64\n",
      "Name             object\n",
      "Transported        bool\n",
      "dtype: object\n"
     ]
    }
   ],
   "source": [
    "import pandas as pd\n",
    "import numpy as np\n",
    "from termcolor import colored\n",
    "\n",
    "# Load original datasets:\n",
    "train_df = pd.read_csv('kaggle/input/spaceship-titanic/train.csv') # Training dataset\n",
    "test_df = pd.read_csv('kaggle/input/spaceship-titanic/test.csv') # Testing dataset\n",
    "# Keep the passengerID features separately:\n",
    "train_ID = train_df['PassengerId']\n",
    "test_ID = test_df['PassengerId']\n",
    "# Display a 10 random examples:\n",
    "np.random.seed(1) # Ensure reproducitibility\n",
    "samples = np.random.choice(range(len(train_df)), 10, replace=False)\n",
    "display(train_df.iloc[samples]) # Examples\n",
    "# Print global information:\n",
    "print('\\nNumber of rows in train/test datasets:\\n')\n",
    "print(len(train_df),'/',len(test_df))\n",
    "print('\\nFeatures: names and data types:\\n')\n",
    "print(train_df.dtypes)"
   ]
  },
  {
   "cell_type": "code",
   "execution_count": 3,
   "id": "0b28df7d-6c70-46a2-86cf-6e5331e651b4",
   "metadata": {},
   "outputs": [],
   "source": [
    "def compute_missing_values(train_df,test_df):\n",
    "    \"\"\"\n",
    "    Analyzes the missing values in each feature listed in the testing\n",
    "    dataset, for both training and testing datasets.\n",
    "    --- Inputs ---\n",
    "    {train_df, test_df} [Dataframes]: Training and testing datasets.\n",
    "    \"\"\"\n",
    "    print('\\nMissing values in train/test datasets:\\n')\n",
    "    for col in test_df.columns:\n",
    "        # Count missing values and obtain percentages:\n",
    "        N_train = train_df[col].isna().sum() \n",
    "        N_test = test_df[col].isna().sum()\n",
    "        p_train = N_train/len(train_df)*100 # [%]\n",
    "        p_test = N_test/len(test_df)*100 # [%]\n",
    "        # Print results:\n",
    "        color_train = 'red' if N_train else 'green'\n",
    "        color_test = 'red' if N_test else 'green'\n",
    "        rmargin = 60-len(col)\n",
    "        text_train = colored(f'{N_train} ({p_train:.1f}%)', color_train)\n",
    "        text_test = colored(f'{N_test} ({p_test:.1f}%)', color_test)\n",
    "        print(f'{col}:',f'{text_train} / {text_test}'.rjust(rmargin))\n",
    "    # Count missing values in each row:\n",
    "    N_nan_train = train_df.apply(lambda x: x.isna().sum(), axis=1)\n",
    "    N_nan_test = test_df.apply(lambda x: x.isna().sum(), axis=1) \n",
    "    # Print number of rows with N missing values:\n",
    "    print('')\n",
    "    for n in set(N_nan_train).union(set(N_nan_test)):\n",
    "        print(f'Number of rows with {n} missing values: {sum(N_nan_train==n)}/{sum(N_nan_test==n)}')"
   ]
  },
  {
   "cell_type": "code",
   "execution_count": 4,
   "id": "f69cd7c4-44d8-47d1-871a-c28131b09f65",
   "metadata": {},
   "outputs": [
    {
     "name": "stdout",
     "output_type": "stream",
     "text": [
      "\n",
      "Missing values in train/test datasets:\n",
      "\n",
      "PassengerId:             \u001b[32m0 (0.0%)\u001b[0m / \u001b[32m0 (0.0%)\u001b[0m\n",
      "HomePlanet:           \u001b[31m201 (2.3%)\u001b[0m / \u001b[31m87 (2.0%)\u001b[0m\n",
      "CryoSleep:            \u001b[31m217 (2.5%)\u001b[0m / \u001b[31m93 (2.2%)\u001b[0m\n",
      "Cabin:               \u001b[31m199 (2.3%)\u001b[0m / \u001b[31m100 (2.3%)\u001b[0m\n",
      "Destination:          \u001b[31m182 (2.1%)\u001b[0m / \u001b[31m92 (2.2%)\u001b[0m\n",
      "Age:                  \u001b[31m179 (2.1%)\u001b[0m / \u001b[31m91 (2.1%)\u001b[0m\n",
      "VIP:                  \u001b[31m203 (2.3%)\u001b[0m / \u001b[31m93 (2.2%)\u001b[0m\n",
      "RoomService:          \u001b[31m181 (2.1%)\u001b[0m / \u001b[31m82 (1.9%)\u001b[0m\n",
      "FoodCourt:           \u001b[31m183 (2.1%)\u001b[0m / \u001b[31m106 (2.5%)\u001b[0m\n",
      "ShoppingMall:         \u001b[31m208 (2.4%)\u001b[0m / \u001b[31m98 (2.3%)\u001b[0m\n",
      "Spa:                 \u001b[31m183 (2.1%)\u001b[0m / \u001b[31m101 (2.4%)\u001b[0m\n",
      "VRDeck:               \u001b[31m188 (2.2%)\u001b[0m / \u001b[31m80 (1.9%)\u001b[0m\n",
      "Name:                 \u001b[31m200 (2.3%)\u001b[0m / \u001b[31m94 (2.2%)\u001b[0m\n",
      "\n",
      "Number of rows with 0 missing values: 6606/3281\n",
      "Number of rows with 1 missing values: 1867/879\n",
      "Number of rows with 2 missing values: 203/113\n",
      "Number of rows with 3 missing values: 17/4\n"
     ]
    }
   ],
   "source": [
    "compute_missing_values(train_df,test_df)"
   ]
  },
  {
   "cell_type": "markdown",
   "id": "4942b2ca-9a94-41bf-a758-6b8eb4ad9b14",
   "metadata": {},
   "source": [
    "For more comments, please visit <a href=\"https://www.kaggle.com/code/fertmeneses/spaceship-titanic-feature-engineering\">Spaceship Titanic 💡 Feature engineering.</a>"
   ]
  },
  {
   "cell_type": "markdown",
   "id": "8db3f715-6231-4bd6-8d98-fb2681996195",
   "metadata": {},
   "source": [
    "<a id=\"Basic_feature_engineering\"></a>\n",
    "## <span style=\"color:teal;font-weight:bold;\">Basic feature engineering</span>\n",
    "\n",
    "Except for the **PassengerID** feature, there are around 2% missing values in each feature of both training and testing datasets. In order to correct them, I'll make some fair assumptions and deductions using the original information. \n",
    "\n",
    "Then, **in this Basic feature engineering process I won't generate new features that involve two or more features, because that would multiply the missing values**. Instead, I will just extract information from the original features or make simple changes such as changing the feature name.\n",
    "\n",
    "You can check my previous notebook <a href=\"https://www.kaggle.com/code/fertmeneses/spaceship-titanic-feature-engineering\">Spaceship Titanic 💡 Feature engineering.</a> for details about the engineering of single features. In the following, I just apply that code."
   ]
  },
  {
   "cell_type": "code",
   "execution_count": 5,
   "id": "fdaa7353-a30a-4d28-83c0-3079de030e19",
   "metadata": {},
   "outputs": [],
   "source": [
    "# First generate the corrected datasets:\n",
    "train_df_SF = train_df.copy()\n",
    "test_df_SF = test_df.copy()\n",
    "\n",
    "# # # \"PassengerId\": new features \"IDgroup\" and \"GroupMembers\" # # #\n",
    "\n",
    "train_df_SF['IDgroup'] = train_df['PassengerId'].apply(\n",
    "    lambda x: int(x.split('_')[0]))\n",
    "test_df_SF['IDgroup'] = test_df['PassengerId'].apply(\n",
    "    lambda x: int(x.split('_')[0]))\n",
    "# Identify ocurrences for every unique value in IDgroup:\n",
    "ocurrences = pd.concat([train_df_SF['IDgroup'], test_df_SF['IDgroup']]).value_counts().to_dict()\n",
    "for dataset in [train_df_SF,test_df_SF]:\n",
    "    dataset['GroupMembers'] = dataset['IDgroup'].apply(lambda x: ocurrences[x])\n",
    "# Drop unnecessary feature:\n",
    "train_df_SF = train_df_SF.drop('PassengerId',axis=1)\n",
    "test_df_SF = test_df_SF.drop('PassengerId',axis=1)\n",
    "\n",
    "# # # \"CryoSleep\": make numeric # # #\n",
    "\n",
    "for dataset in [train_df_SF,test_df_SF]:\n",
    "    dataset['CryoSleep'] = dataset['CryoSleep'].apply(\n",
    "        lambda x: np.nan if x!=x else (1 if x else 0))\n",
    "\n",
    "# # # \"VIP\": make numeric # # #\n",
    "\n",
    "for dataset in [train_df_SF,test_df_SF]:\n",
    "    dataset['VIP'] = dataset['VIP'].apply(\n",
    "        lambda x: np.nan if x!=x else (1 if x else 0))\n",
    "\n",
    "# # # \"Cabin\": new features \"Cabin_Deck\", \"Cabin_num\" and \"Cabin_isPort\" # # #\n",
    "\n",
    "# Generate list of unique values:\n",
    "cabin = list(train_df['Cabin'].loc[~train_df['Cabin'].isna()].values)+\\\n",
    "        list(test_df['Cabin'].loc[~test_df['Cabin'].isna()].values)\n",
    "# Separate \"Cabin\" into three parts:\n",
    "cabin_X = ['Cabin_Deck','Cabin_num','Cabin_Side']\n",
    "for i,cabin in enumerate(cabin_X):\n",
    "    train_df_SF[cabin] = train_df['Cabin'].apply(\n",
    "        lambda x: np.nan if x!=x else (\n",
    "            x.split('/')[i]))\n",
    "    test_df_SF[cabin] = test_df['Cabin'].apply(\n",
    "        lambda x: np.nan if x!=x else (\n",
    "            x.split('/')[i]))\n",
    "# Make 'Cabin_num' numeric:\n",
    "for dataset in [train_df_SF,test_df_SF]:\n",
    "    dataset['Cabin_num'] = pd.to_numeric(dataset['Cabin_num'], errors='coerce')\n",
    "\n",
    "# Change 'Cabin_Side' to 'Cabin_isPort' and make it boolean/numeric:\n",
    "train_df_SF['Cabin_isPort'] = train_df_SF['Cabin_Side'].apply(\n",
    "    lambda x: np.nan if x!=x else (1 if x=='P' else 0))\n",
    "test_df_SF['Cabin_isPort'] = test_df_SF['Cabin_Side'].apply(\n",
    "    lambda x: np.nan if x!=x else (1 if x=='P' else 0))\n",
    "# Drop unnecesary features:\n",
    "for feature in ['Cabin','Cabin_Side']:\n",
    "    train_df_SF = train_df_SF.drop(feature,axis=1)\n",
    "    test_df_SF = test_df_SF.drop(feature,axis=1)\n",
    "\n",
    "# # # \"Destination\" redefinition # # #\n",
    "\n",
    "train_df_SF[\"Destination\"] = train_df[\"Destination\"].apply(\n",
    "    lambda x: np.nan if x!=x else (\n",
    "    \"Cancri\" if x==\"55 Cancri e\" else (\n",
    "        \"PSO\" if x==\"PSO J318.5-22\" else \"Trappist\"))\n",
    ")\n",
    "test_df_SF[\"Destination\"] = test_df[\"Destination\"].apply(\n",
    "    lambda x: np.nan if x!=x else (\n",
    "    \"Cancri\" if x==\"55 Cancri e\" else (\n",
    "        \"PSO\" if x==\"PSO J318.5-22\" else \"Trappist\"))\n",
    ")\n",
    "\n",
    "# # # Expense-features redefinition # # #\n",
    "\n",
    "for dataset in [train_df_SF, test_df_SF]:\n",
    "    dataset.rename(columns={\n",
    "        'RoomService': 'ExpRS',\n",
    "        'FoodCourt': 'ExpFC',\n",
    "        'ShoppingMall': 'ExpSM',\n",
    "        'Spa': 'ExpSpa',\n",
    "        'VRDeck': 'ExpVR'\n",
    "        }, inplace=True)\n",
    "\n",
    "# # # \"Name\" feature: new features \"Name_Last\" and \"Ocurrence_LastName\" # # #\n",
    "\n",
    "# Training dataset:\n",
    "train_df_SF['Name_Last'] = train_df['Name'].apply(\n",
    "    lambda x: np.nan if x!=x else (\n",
    "        x.split(' ')[-1]))\n",
    "# Testing dataset:\n",
    "test_df_SF['Name_Last'] = test_df['Name'].apply(\n",
    "    lambda x: np.nan if x!=x else (\n",
    "        x.split(' ')[-1]))\n",
    "# Identify ocurrences for every unique value in Name_Last:\n",
    "ocurrences = pd.concat([train_df_SF['Name_Last'], test_df_SF['Name_Last']]).value_counts().to_dict()\n",
    "for dataset in [train_df_SF,test_df_SF]:\n",
    "    dataset['Ocurrence_LastName'] = dataset['Name_Last'].apply(\n",
    "        lambda x: np.nan if x!=x else ocurrences[x])\n",
    "# Drop unnecessary feature:\n",
    "train_df_SF = train_df_SF.drop('Name',axis=1)\n",
    "test_df_SF = test_df_SF.drop('Name',axis=1)"
   ]
  },
  {
   "cell_type": "markdown",
   "id": "e268a000-cb75-406d-abb3-43ee80f7d3cb",
   "metadata": {},
   "source": [
    "Below, I summarize all **features after the basic engineering process**:\n",
    "\n",
    "| Feature | Definition |\n",
    "| :---: | :--- |\n",
    "| **IDgroup** | Indicates the group with which the passenger is travelling with. People in a group are often family members, but not always. |\n",
    "| **GroupMembers** | Number of passengers sharing the same **IDgroup** (including self). |\n",
    "| **Name_Last** | Last name of the passenger. |\n",
    "| **Ocurrence_LastName** | Number of passengers sharing the same last name (including self). |\n",
    "| **HomePlanet** | The planet the passenger departed from, typically their planet of permanent residence. |\n",
    "| **CryoSleep** | Indicates whether the passenger elected to be put into suspended animation for the duration of the voyage. Passengers in cryosleep are confined to their cabins. |\n",
    "| **Destination** | The planet the passenger will be debarking to. |\n",
    "| **Age** | The age of the passenger. |\n",
    "| **VIP** | Whether the passenger has paid for special VIP service during the voyage. |\n",
    "| **Cabin_Deck** | Designation of the Deck in which the passenger's cabin is located |\n",
    "| **Cabin_num** | Passenger's cabin number |\n",
    "| **Cabin_isPort** | Side of the starship in which the passenger's cabin is located: a value 1 means Port, 0 means Starboard. |\n",
    "| **ExpRS** | Amount the passenger has billed at the Room Service luxury amenity |\n",
    "| **ExpFC** | Amount the passenger has billed at the Food Court luxury amenity |\n",
    "| **ExpSM** | Amount the passenger has billed at the Shopping Mall luxury amenity |\n",
    "| **ExpSpa** | Amount the passenger has billed at the Spa luxury amenity |\n",
    "| **ExpVR** | Amount the passenger has billed at the VRDeck luxury amenity |"
   ]
  },
  {
   "cell_type": "markdown",
   "id": "021e362d-214f-4292-b57c-4e460ec140ea",
   "metadata": {},
   "source": [
    "<a id=\"Manual_data_correction\"></a>\n",
    "# <span style=\"color:teal;font-weight:bold;\">Manual data correction</span>\n",
    "\n",
    "As the original features have changed their names and expanded into a new set, I compute again the missing values:"
   ]
  },
  {
   "cell_type": "code",
   "execution_count": 6,
   "id": "524b0c6b-8174-4911-8ef2-c8b7bbfbb3b6",
   "metadata": {},
   "outputs": [
    {
     "name": "stdout",
     "output_type": "stream",
     "text": [
      "\n",
      "Missing values in train/test datasets:\n",
      "\n",
      "HomePlanet:           \u001b[31m201 (2.3%)\u001b[0m / \u001b[31m87 (2.0%)\u001b[0m\n",
      "CryoSleep:            \u001b[31m217 (2.5%)\u001b[0m / \u001b[31m93 (2.2%)\u001b[0m\n",
      "Destination:          \u001b[31m182 (2.1%)\u001b[0m / \u001b[31m92 (2.2%)\u001b[0m\n",
      "Age:                  \u001b[31m179 (2.1%)\u001b[0m / \u001b[31m91 (2.1%)\u001b[0m\n",
      "VIP:                  \u001b[31m203 (2.3%)\u001b[0m / \u001b[31m93 (2.2%)\u001b[0m\n",
      "ExpRS:                \u001b[31m181 (2.1%)\u001b[0m / \u001b[31m82 (1.9%)\u001b[0m\n",
      "ExpFC:               \u001b[31m183 (2.1%)\u001b[0m / \u001b[31m106 (2.5%)\u001b[0m\n",
      "ExpSM:                \u001b[31m208 (2.4%)\u001b[0m / \u001b[31m98 (2.3%)\u001b[0m\n",
      "ExpSpa:              \u001b[31m183 (2.1%)\u001b[0m / \u001b[31m101 (2.4%)\u001b[0m\n",
      "ExpVR:                \u001b[31m188 (2.2%)\u001b[0m / \u001b[31m80 (1.9%)\u001b[0m\n",
      "IDgroup:                 \u001b[32m0 (0.0%)\u001b[0m / \u001b[32m0 (0.0%)\u001b[0m\n",
      "GroupMembers:            \u001b[32m0 (0.0%)\u001b[0m / \u001b[32m0 (0.0%)\u001b[0m\n",
      "Cabin_Deck:          \u001b[31m199 (2.3%)\u001b[0m / \u001b[31m100 (2.3%)\u001b[0m\n",
      "Cabin_num:           \u001b[31m199 (2.3%)\u001b[0m / \u001b[31m100 (2.3%)\u001b[0m\n",
      "Cabin_isPort:        \u001b[31m199 (2.3%)\u001b[0m / \u001b[31m100 (2.3%)\u001b[0m\n",
      "Name_Last:            \u001b[31m200 (2.3%)\u001b[0m / \u001b[31m94 (2.2%)\u001b[0m\n",
      "Ocurrence_LastName:   \u001b[31m200 (2.3%)\u001b[0m / \u001b[31m94 (2.2%)\u001b[0m\n",
      "\n",
      "Number of rows with 0 missing values: 6606/3281\n",
      "Number of rows with 1 missing values: 1551/723\n",
      "Number of rows with 2 missing values: 289/152\n",
      "Number of rows with 3 missing values: 202/101\n",
      "Number of rows with 4 missing values: 39/19\n",
      "Number of rows with 5 missing values: 5/1\n",
      "Number of rows with 6 missing values: 1/0\n"
     ]
    }
   ],
   "source": [
    "compute_missing_values(train_df_SF,test_df_SF)"
   ]
  },
  {
   "cell_type": "markdown",
   "id": "ff35ebf7-0adc-4056-bf37-48b3ac7cbf88",
   "metadata": {},
   "source": [
    "Again, about 2% of the values are missing in each feature, and now that the features have been divided into multiple subfeatures (such as **Cabin** into **Cabin_Deck**, **Cabin_num** and **Cabin_isPort**), now some rows have up to 5 or 6 missing values.\n",
    "\n",
    "In the following, I analyze the single features and complete those missing values that can be deducted by reasonable assumptions."
   ]
  },
  {
   "cell_type": "code",
   "execution_count": 7,
   "id": "15a0cdf6-fb6c-4d90-888f-5b65b9377796",
   "metadata": {},
   "outputs": [],
   "source": [
    "# Define plotting functions:\n",
    "import matplotlib.pyplot as plt\n",
    "import seaborn as sns\n",
    "\n",
    "def plot_swarm(df,feat,axis,ref_feat='Transported',\n",
    "               xlabels_off=False,seed=42):\n",
    "    \"\"\"\n",
    "    Plots a swarm plot ordered by the transported rate from a \n",
    "    single feature within the dataset.\n",
    "    --- Inputs ---\n",
    "    {df} [Dataframe]: Dataset, must include the columns with \n",
    "    names {feat} and {ref_feat}.\n",
    "    {feat} [String]: Name of the column (feature) to be analyzed.\n",
    "    {ref_feat} [String]: Name of the column (feature) by which {feat} will\n",
    "    be analyzed. This feature must be binary with values 0 and 1.\n",
    "    {axis} [matplotlib axis object]: Axis for the current subplot.\n",
    "    {xlabels_off} [Boolean]: If True, remove the x-labels.\n",
    "    {seed} [Integer]: Seed for random scattering in swarm plots.\n",
    "    \"\"\"\n",
    "    # Identify data, count frequency per variable and sort it alphabetically:\n",
    "    data = df[feat] # Training dataset    \n",
    "    data_counts = data.value_counts().sort_index()\n",
    "    # For each variable, identify the transported rate and build the swarm plot:\n",
    "    np.random.seed(seed) # Random seed for swarm plots\n",
    "    for i, var in enumerate(data_counts.keys()):\n",
    "        # Determine points' location:\n",
    "        ref_rate = df.groupby([feat]).mean(numeric_only=True)[ref_feat].loc[var] # Reference rate\n",
    "        pp_pos = int(len(df[(df[feat]==var)])*ref_rate) # Positive reference values\n",
    "        pp_neg = int(len(df[(df[feat]==var)])*(1-ref_rate)) # Negative reference values\n",
    "        var_pos = np.random.uniform(0, ref_rate,pp_pos) # Randomly assign locations for \"positive\" points\n",
    "        var_neg = np.random.uniform(ref_rate,1,pp_neg) # Randomly assign locations for \"negative\" points              \n",
    "        # Allocate all points in plot:\n",
    "        color = np.array(sns.color_palette('tab20')[i])\n",
    "        axis.scatter(i+np.random.uniform(-0.3, 0.3, len(var_neg)), var_neg,s=10,\n",
    "                     color=color, edgecolor=np.append(color,0.2),\n",
    "                     alpha=0.1, label=f'{var}({ref_feat}=0)')\n",
    "        axis.scatter(i+np.random.uniform(-0.3, 0.3, len(var_pos)), var_pos,s=10,\n",
    "                     color=color, edgecolor=np.append(color,0.2),\n",
    "                     label=f'{var}({ref_feat}=1)')\n",
    "        axis.plot([i-0.3,i+0.3],[ref_rate,ref_rate],ls='--',color='k',lw=1)\n",
    "    # Ticks and limits:\n",
    "    axis.set_xlim(-0.5, len(data_counts)-0.5)\n",
    "    axis.set_ylim(-0.03, 1.1)\n",
    "    if xlabels_off:\n",
    "        axis.set_xticks([])\n",
    "        axis.set_xticklabels([])\n",
    "    else:\n",
    "        axis.set_xticks(np.linspace(0,len(data_counts.keys())-1,len(data_counts.keys())))\n",
    "        axis.set_xticklabels(data_counts.keys(), fontsize=10)\n",
    "    axis.set_yticks([], minor=False)\n",
    "    axis.set_ylabel('')\n",
    "    # Spines, legend and title:\n",
    "    for s in [\"top\",\"right\",\"left\", 'bottom']:\n",
    "        axis.spines[s].set_visible(False)\n",
    "    axis.legend([0,1],title=ref_feat,loc=(0.8, 0.7), edgecolor='k')\n",
    "    axis.set_title(f'Feature bars: {feat}; feature points: {ref_feat}')\n",
    "\n",
    "import warnings # <sns.kdeplot> gives a warning I couldn't fix, I avoid displaying it...\n",
    "warnings.simplefilter(action='ignore', category=FutureWarning)\n",
    "\n",
    "def plot_KDE(df,feat,axis,ref_feat):\n",
    "    \"\"\"\n",
    "    Plots a kernel density estimate (KDE) plot ordered by the \n",
    "    reference rate from a single feature within the dataset.\n",
    "    --- Inputs ---\n",
    "    {df} [Dataframe]: Training dataset, must include the columns with\n",
    "    names {feat} and {ref_feat}.\n",
    "    {feat} [String]: Name of the column (feature) to be analyzed.\n",
    "    {ref_feat} [String]: Name of the column (feature) by which {feat} will\n",
    "    be analyzed. This feature must be binary with values 0 and 1.\n",
    "    {axis} [matplotlib axis object]: Axis for the current subplot.\n",
    "    \"\"\"    \n",
    "    # Plot KDE:\n",
    "    sns.kdeplot(x=feat, data=df, ax=axis, fill=True,cut=0,\n",
    "                bw_method=0.15, lw=1.4, edgecolor='lightgray', hue=ref_feat,\n",
    "                multiple=\"stack\", palette='PuBu', alpha=0.8)\n",
    "    axis.set_yticks([], minor=False)\n",
    "    axis.set_ylabel('Density')\n",
    "    axis.set_title(f'{feat}: \"{ref_feat}\" rate')\n",
    "    for s in [\"top\",\"right\",\"left\", 'bottom']: # Remove spins\n",
    "        axis.spines[s].set_visible(False)  \n",
    "\n",
    "def single_feat_corr(df,feat_targ,feat_rel):\n",
    "    \"\"\"\n",
    "    Plots the KDE distribution of values for a target feature within\n",
    "    a single dataset, grouped by a relative feature.\n",
    "    --- Inputs ---\n",
    "    {df} [Dataframe]: Dataset that will be analyzed, must include the\n",
    "    target {feat_targ} and relative {feat_rel} features.\n",
    "    {feat_targ} [String]: Target feature.\n",
    "    {feat_rel} [String]: Relative feature.\n",
    "    \"\"\"\n",
    "    # First clean the dataset from the NaN values in the {feat_rel} feature:\n",
    "    df_copy = df[[feat_targ,feat_rel]].copy()\n",
    "    df_copy = df_copy.dropna()\n",
    "    print(\"Number of known values:\", df_copy[feat_targ].notna().sum())\n",
    "    fig, ax = plt.subplots(figsize=(8,3)) # Start figure\n",
    "    if df[feat_targ].dtype == 'object': # Non-numerical features:\n",
    "        plot_swarm(df_copy,feat_targ,ax,ref_feat=feat_rel)    \n",
    "    else: # Numerical features:\n",
    "        plot_KDE(df_copy,feat_targ,ax,ref_feat=feat_rel)\n",
    "    fig.tight_layout()\n",
    "\n",
    "def make_two_feature_chart(df,feat1,feat2,figsize=(10,4)):\n",
    "    \"\"\"\n",
    "    Make a double entry chart, relating two features in the dataset.\n",
    "    --- Inputs ---\n",
    "    {df} [Dataframe]: Dataset that will be analyzed.\n",
    "    {feat1} [String]: Name of one the features to be compared.\n",
    "    {feat2} [String]: Name of the other feature to be compared.\n",
    "    {figsize} [Tuple]: Define the size for the figure, in the format (width,length).\n",
    "    \"\"\"\n",
    "    # Group one feature according to the other:\n",
    "    CDHP_gb = all_df.groupby([feat1,feat2])[feat2].size().unstack().fillna(0)\n",
    "    # Plot distribution:\n",
    "    plt.figure(figsize=figsize)\n",
    "    sns.heatmap(CDHP_gb.T, annot=True, fmt='g', cmap='coolwarm')\n",
    "    plt.show()"
   ]
  },
  {
   "cell_type": "markdown",
   "id": "c66cfbc4-4957-4da1-adbf-3eb4506887fd",
   "metadata": {},
   "source": [
    "<a id=\"Manual_data_correction_Expenses_Features\"></a>\n",
    "## <span style=\"color:teal;font-weight:bold;\">Expenses features</span>\n",
    "\n",
    "The expenses features **ExpRS**, **ExpFC**, **ExpSM**, **ExpSpa** and **ExpVR** can be combined in a total expenditure feature, namely **ExpTotal**, which will be helpful to make correlations with the other features. In addition, I will define a boolean feature **Exp_zero**, which takes the value True for those passengers who spent nothing during the trip, else False."
   ]
  },
  {
   "cell_type": "code",
   "execution_count": 8,
   "id": "cc9f89cf-3feb-4f2a-b791-817d1dfbedef",
   "metadata": {},
   "outputs": [],
   "source": [
    "# Expense features:\n",
    "exp_features = ['ExpRS','ExpFC','ExpSM','ExpSpa','ExpVR']\n",
    "# Build ExpTotal and Exp_zero for each dataset:\n",
    "for dataset in [train_df_SF, test_df_SF]:\n",
    "    # Identify all rows in which the expenses information is complete:\n",
    "    idx = ((~dataset['ExpRS'].isna()) & \n",
    "           (~dataset['ExpFC'].isna()) & \n",
    "           (~dataset['ExpSM'].isna()) & \n",
    "           (~dataset['ExpSpa'].isna()) & \n",
    "           (~dataset['ExpVR'].isna())) # Relevant indexes\n",
    "    # Initiate ExpTotal as NaN, then complete valid values:\n",
    "    pd.options.mode.chained_assignment = None  # default='warn'\n",
    "    dataset['ExpTotal'] = np.nan\n",
    "    dataset['ExpTotal'][idx] = dataset[exp_features].sum(axis=\"columns\")[idx]\n",
    "    # Create 'Exp_zero' feature, that checks whether a passenger spent nothing (True) or something (False):\n",
    "    dataset['Exp_zero'] = np.nan # Initiate with NaN values\n",
    "    dataset.loc[dataset['ExpTotal']==0,'Exp_zero'] = True # Compute True values\n",
    "    dataset.loc[dataset['ExpTotal']>0,'Exp_zero'] = False # Compute False values"
   ]
  },
  {
   "cell_type": "markdown",
   "id": "a246e3d1-9954-4bd4-b3e7-d39cf8b458de",
   "metadata": {},
   "source": [
    "After exploring the correlation between **ExpTotal** and other features, I observed a clear correlation with the **Age** feature: passengers who are 12 or younger do not expend! The following plot demonstrates this pattern:"
   ]
  },
  {
   "cell_type": "code",
   "execution_count": 9,
   "id": "e138c5a2-8f58-427c-8105-085ca7822abd",
   "metadata": {},
   "outputs": [
    {
     "data": {
      "image/png": "[encoded data removed]",
      "text/plain": [
       "<Figure size 1000x400 with 2 Axes>"
      ]
     },
     "metadata": {},
     "output_type": "display_data"
    }
   ],
   "source": [
    "# Merge training and testing datasets:\n",
    "all_df = pd.concat([train_df_SF, test_df_SF])\n",
    "# Set age condition:\n",
    "age_limit = 12 # Set age limit for zoomed-in plot\n",
    "cond_age = all_df[\"Age\"] <= age_limit\n",
    "\n",
    "# Plot expenses vs age:\n",
    "from mpl_toolkits.axes_grid1.inset_locator import zoomed_inset_axes\n",
    "from mpl_toolkits.axes_grid1.inset_locator import mark_inset\n",
    "\n",
    "fig, ax = plt.subplots(figsize=(10,4))\n",
    "ax.scatter(all_df[\"Age\"][~cond_age],all_df[\"ExpTotal\"][~cond_age],s=7,alpha=0.8,color='blue',label='<=12')\n",
    "ax.scatter(all_df[\"Age\"][cond_age],all_df[\"ExpTotal\"][cond_age],s=7,alpha=0.8,color='orange',label='>12')\n",
    "ax.set_xlabel('Age',fontsize=12), ax.set_ylabel('ExpTotal',fontsize=12)\n",
    "ax.set_ylim(ax.get_ylim()[0], ax.get_ylim()[1]+15000)\n",
    "ax.legend(title='Age groups')\n",
    "# Zoomed-in image:\n",
    "axins = zoomed_inset_axes(ax, 4, loc=6, bbox_to_anchor=[180,280,50,50])\n",
    "axins.scatter(all_df[\"Age\"][cond_age],all_df[\"ExpTotal\"][cond_age],s=7,alpha=0.8,color='orange')\n",
    "axins.set_xlim(-0.5, age_limit+0.5), axins.set_ylim(-200, 2000)\n",
    "mark_inset(ax, axins, loc1=4, loc2=3, fc=\"none\", ec=\"0.4\") # Lines for inset image\n",
    "plt.show()"
   ]
  },
  {
   "cell_type": "markdown",
   "id": "4bbc687e-21ce-4aea-878a-ceb831e79ec1",
   "metadata": {},
   "source": [
    "Consequently, for passengers with feature **Age**<12, I will fill all expenses missing values as zero."
   ]
  },
  {
   "cell_type": "code",
   "execution_count": 10,
   "id": "58e47666-27e7-4495-aa2e-3882672bf59c",
   "metadata": {},
   "outputs": [],
   "source": [
    "age_limit = 12 # Set age limit for zoomed-in plot\n",
    "for dataset in [train_df_SF, test_df_SF]:\n",
    "    idx = dataset[\"Age\"][dataset[\"Age\"] <= age_limit].index # Relevant indexes\n",
    "    for feat in exp_features:\n",
    "        dataset[feat].loc[idx] = 0 # Assign zero expenses for all categories\n",
    "        dataset['ExpTotal'].loc[idx] = 0 # Assign zero total expenses\n",
    "        dataset['Exp_zero'].loc[idx] = True # Assign Exp_zero"
   ]
  },
  {
   "cell_type": "markdown",
   "id": "5dd04ecc-857a-4f71-8be3-af17d55e37ec",
   "metadata": {},
   "source": [
    "After this process, **131 missing values were corrected**.\n",
    "\n",
    "(Remember you can call the function \"compute_missing_values\" at any step to see the number of missing values)\n",
    "\n",
    "Now, let's turn the attention to the CryoSleeping passengers, who most probably could not spend anything during the trip:"
   ]
  },
  {
   "cell_type": "code",
   "execution_count": 11,
   "id": "2b8cbf85-b016-4d9c-be62-c3de0dd5d61f",
   "metadata": {},
   "outputs": [
    {
     "data": {
      "image/png": "[encoded data removed]",
      "text/plain": [
       "<Figure size 800x300 with 2 Axes>"
      ]
     },
     "metadata": {},
     "output_type": "display_data"
    }
   ],
   "source": [
    "make_two_feature_chart(pd.concat([train_df_SF, test_df_SF]),'Exp_zero','CryoSleep',figsize=(8,3))"
   ]
  },
  {
   "cell_type": "markdown",
   "id": "c2aeb026-c4b7-4840-b570-9c1e0bf5820b",
   "metadata": {},
   "source": [
    "As expected, all those passengers who were cryo-sleeping (**CryoSleep**=1) spent nothing (**Exp_zero**=True) during the trip. Then, let's assign zero expenses to all those missing expenses values from sleeping passengers: "
   ]
  },
  {
   "cell_type": "code",
   "execution_count": 12,
   "id": "8ca34064-7576-48f7-85fa-5e4312f34ef3",
   "metadata": {},
   "outputs": [],
   "source": [
    "for dataset in [train_df_SF, test_df_SF]:\n",
    "    idx = dataset[\"CryoSleep\"][dataset[\"CryoSleep\"] == True].index # Relevant indexes\n",
    "    for feat in exp_features:\n",
    "        dataset[feat].loc[idx] = 0 # Assign zero expenses\n",
    "        dataset['ExpTotal'].loc[idx] = 0 # Assign zero total expenses\n",
    "        dataset['Exp_zero'].loc[idx] = True # Assign Exp_zero"
   ]
  },
  {
   "cell_type": "markdown",
   "id": "e0dc0aa9-1098-4ac1-8d51-b942b234ebc6",
   "metadata": {},
   "source": [
    "This time, **467 missing values were corrected**!\n",
    "\n",
    "And I have to stop here, as there no other certain rules for the other features. The **VIP** feature sounds like a good candidate for spending patterns, expecting that the wealthy passengers have some expenses. However, although most VIP people spent something, there are some exceptions, then I cannot make any assumptions:"
   ]
  },
  {
   "cell_type": "code",
   "execution_count": 13,
   "id": "9637a35c-986a-4a88-bc8b-115afd02740a",
   "metadata": {},
   "outputs": [
    {
     "data": {
      "image/png": "[encoded data removed]",
      "text/plain": [
       "<Figure size 800x300 with 2 Axes>"
      ]
     },
     "metadata": {},
     "output_type": "display_data"
    }
   ],
   "source": [
    "make_two_feature_chart(pd.concat([train_df_SF, test_df_SF]),'Exp_zero','VIP',figsize=(8,3))"
   ]
  },
  {
   "cell_type": "markdown",
   "id": "c252420f-137c-4e45-b342-33f165b04a29",
   "metadata": {},
   "source": [
    "<a id=\"Manual_data_correction_Cryosleep_Feature\"></a>\n",
    "## <span style=\"color:teal;font-weight:bold;\">Cryosleep Feature</span>\n",
    "\n",
    "As I demonstrated before, passengets who went to cryosleeping spent nothing during the trip.\n",
    "\n",
    "Before, I corrected the missing expenses values by assigning zero expenses to all sleeping passengers. Now I'll do the converse operation: for any missing **CryoSleep** value, if the passenger spent something (**Exp_zero**=False), then that passenger was not cryosleeping, then **CryoSleep**=False."
   ]
  },
  {
   "cell_type": "code",
   "execution_count": 14,
   "id": "3fb79ae2-b7d8-445e-8577-3c5f826b2123",
   "metadata": {},
   "outputs": [],
   "source": [
    "for dataset in [train_df_SF, test_df_SF]:\n",
    "    # Correct missing values:\n",
    "    idx = (dataset['CryoSleep'].isna()) & (dataset['Exp_zero']==False) # Relevant indexes\n",
    "    dataset['CryoSleep'].loc[idx] = 0"
   ]
  },
  {
   "cell_type": "markdown",
   "id": "26d96adb-a761-4732-89ab-0b454a2b8db1",
   "metadata": {},
   "source": [
    "*Note*: in this process, the new feature **ExpTotal** sums all individual expenditures, including the NaN values! The NaN values are counted as 0. Although I did not analyze any of the expense features yet, I will tolerate this assumption for the **CryoSleep** analysis.\n",
    "\n",
    "Let me summarize the progress so far for the **CryoSleep** feature: \n",
    "* Initial missing values: <span style=\"color:red\">217 (2.5%) / 93 (2.2%)</span>.\n",
    "* Current missing values: <span style=\"color:red\">111 (1.3%) / 42 (1.0%)</span>."
   ]
  },
  {
   "cell_type": "markdown",
   "id": "ebafdb15-720d-47dd-b94c-5f2336a254ca",
   "metadata": {},
   "source": [
    "<a id=\"Manual_data_correction_HomePlanet_Feature\"></a>\n",
    "## <span style=\"color:teal;font-weight:bold;\">HomePlanet feature</span>\n",
    "\n",
    "Passengers are organized in groups, identified by **IDgroup**. These groups have a common Home planet, as the next lines of code demonstrate:"
   ]
  },
  {
   "cell_type": "code",
   "execution_count": 15,
   "id": "3bda4d1e-6dc6-4ede-ab3e-d31c7602cfaa",
   "metadata": {},
   "outputs": [],
   "source": [
    "def check_group_correlation(df,group_feat,target_feat):\n",
    "    \"\"\"\n",
    "    Check if a target feature is univocally correlated with each unique value of\n",
    "    the grouping feature. \n",
    "    --- Inputs ---\n",
    "    {df} [Dataframe]: Dataset that will be analyzed.\n",
    "    {group_feat} [String]: Name of the grouping features, from which the unique values\n",
    "    will be considered.\n",
    "    {target_feat} [String]: Name of the target feature to evaluate correlation.\n",
    "    \"\"\"\n",
    "    n = 0 # Auxiliar counter\n",
    "    for unique_val in set(df[group_feat]):\n",
    "        # Make a set with all target values for the current grouping unique value (exclude NaN):\n",
    "        target_values = set([x for x in df[df[group_feat]==unique_val][target_feat] if x==x])\n",
    "        # If there is more than a single target value in the set, print on screen:\n",
    "        if len(target_values)>1:\n",
    "            n += 1\n",
    "    # Inform conclusion:\n",
    "    if n == 0:\n",
    "        print(colored(\n",
    "            f'{target_feat} is univocally correlated with each unique value of {group_feat}.','green'))\n",
    "    else:\n",
    "        print(colored(\n",
    "            f'{target_feat} is NOT univocally correlated with each unique value of {group_feat}.','red'))\n",
    "        print(f'There are {n} unique values in {group_feat} for which the univocally correlation is not valid.')"
   ]
  },
  {
   "cell_type": "code",
   "execution_count": 16,
   "id": "0e4a224f-7834-49df-a2e6-b4393d8264c4",
   "metadata": {},
   "outputs": [
    {
     "name": "stdout",
     "output_type": "stream",
     "text": [
      "\u001b[32mHomePlanet is univocally correlated with each unique value of IDgroup.\u001b[0m\n"
     ]
    }
   ],
   "source": [
    "check_group_correlation(pd.concat([train_df_SF, test_df_SF]),'IDgroup','HomePlanet')"
   ]
  },
  {
   "cell_type": "markdown",
   "id": "89edd833-0153-45cb-ad9a-3f9ddf08e2d9",
   "metadata": {},
   "source": [
    "Consequently, any missing values in **HomePlanet** can be filled with the known destination of another passenger with the same **IDgroup**."
   ]
  },
  {
   "cell_type": "code",
   "execution_count": 17,
   "id": "562d0308-8c1a-47ce-a3b1-363cca1dad3f",
   "metadata": {},
   "outputs": [],
   "source": [
    "def correct_values_for_univocal_group_corr(dfs,group_feat,target_feat):\n",
    "    \"\"\"\n",
    "    Correct missing values based for the target feature based on a univocal\n",
    "    correlation with unique values of a grouping feature.\n",
    "    --- Inputs ---\n",
    "    {dfs} [List]: Each element is a pandas dataframe that will be considered for the\n",
    "    univocal correlation and then corrected.\n",
    "    {group_feat} [String]: Name of the grouping features, from which the unique values\n",
    "    will be considered.\n",
    "    {target_feat} [String]: Name of the target feature to evaluate correlation.\n",
    "    \"\"\"\n",
    "    all_df = pd.concat(dfs) # Combine datasets\n",
    "    # Apply corrections for each individual dataset: \n",
    "    for df in dfs:\n",
    "        idx = df.loc[pd.isna(df[target_feat]), :].index # Relevant indexes (NaN values)\n",
    "        # For each missing value, identify a known value for the grouping feature and correct the target feature:\n",
    "        for i in idx:\n",
    "            known_group_val = list(set(\n",
    "                [x for x in all_df[all_df[group_feat]==df[group_feat][i]][target_feat] if x==x]))\n",
    "            # Only proceed if there is a known grouping value (rather than only NaN):\n",
    "            if len(known_group_val)>0:\n",
    "                df[target_feat].loc[i] = known_group_val[0]"
   ]
  },
  {
   "cell_type": "code",
   "execution_count": 18,
   "id": "f0126f22-be3e-44d3-ae3c-b55d3a47fb0a",
   "metadata": {},
   "outputs": [],
   "source": [
    "correct_values_for_univocal_group_corr(\n",
    "    [train_df_SF, test_df_SF],\"IDgroup\",\"HomePlanet\")"
   ]
  },
  {
   "cell_type": "markdown",
   "id": "2ddd0820-3f9c-4e33-bb7d-552328b937fa",
   "metadata": {},
   "source": [
    "As there are still missing values in **HomePlanet**, I turn my attention to the correlation with the **Cabin_Deck** feature, as they are highly correlated (see section Correlations II in <a href=\"https://www.kaggle.com/code/fertmeneses/spaceship-titanic-feature-engineering\">Spaceship Titanic 💡 Feature engineering.</a>)."
   ]
  },
  {
   "cell_type": "code",
   "execution_count": 19,
   "id": "37dbdde8-388f-44f0-8e70-9ed34e134b14",
   "metadata": {},
   "outputs": [
    {
     "data": {
      "image/png": "[encoded data removed]",
      "text/plain": [
       "<Figure size 1000x400 with 2 Axes>"
      ]
     },
     "metadata": {},
     "output_type": "display_data"
    }
   ],
   "source": [
    "make_two_feature_chart(pd.concat([train_df_SF, test_df_SF]),'Cabin_Deck','HomePlanet',figsize=(10,4))"
   ]
  },
  {
   "cell_type": "markdown",
   "id": "76e3b7d6-726c-4840-9951-0ae218e9daf9",
   "metadata": {},
   "source": [
    "From this distribution plot, I can conclude the following:\n",
    "- Passengers in **Cabin_Deck** A,B,C,T are associated with the **HomePlanet** Europa.\n",
    "- Passengers in **Cabin_Deck** G are associated with the **HomePlanet** Earth.\n",
    "- Passengers in **Cabin_Deck** D,E,F cannot be clearly assigned to a **HomePlanet**."
   ]
  },
  {
   "cell_type": "code",
   "execution_count": 20,
   "id": "0f9c5cd9-e3a8-4b7e-8372-ff1114e51e65",
   "metadata": {},
   "outputs": [],
   "source": [
    "# Assign HomePlanet values based on Cabin:\n",
    "for dataset in [train_df_SF, test_df_SF]:\n",
    "    # Cabins A,B,C,T, associated to Europa:\n",
    "    cond_ABCT = ((dataset[\"Cabin_Deck\"]==\"A\") |\n",
    "                 (dataset[\"Cabin_Deck\"]==\"B\") |\n",
    "                 (dataset[\"Cabin_Deck\"]==\"C\") |\n",
    "                 (dataset[\"Cabin_Deck\"]==\"T\")) # Define condition\n",
    "    dataset[\"HomePlanet\"].loc[cond_ABCT] = \"Europa\" # Apply changes\n",
    "    # Cabins G, associated to Earth:\n",
    "    cond_G = dataset[\"Cabin_Deck\"]==\"G\" # Define condition\n",
    "    dataset[\"HomePlanet\"].loc[cond_G] = \"Earth\" # Apply changes"
   ]
  },
  {
   "cell_type": "markdown",
   "id": "22e4dff7-4dfe-49b6-958e-50618b90fe34",
   "metadata": {},
   "source": [
    "Let's summarize the progress so far for the **HomePlanet** feature: \n",
    "* Initial missing values: <span style=\"color:red\">201 (2.3%) / 87 (2.0%)</span>.\n",
    "* Current missing values: <span style=\"color:red\">63 (0.7%) / 31 (0.7%)</span>.\n",
    "\n",
    "I have one last resource! Before, I grouped the passengers according to their **IDgroup** and correlated their **HomePlanet**. I will do the same with the **Name_Last** feature, and show that all passengers sharing the same surname belong to the same **HomePlanet**:"
   ]
  },
  {
   "cell_type": "code",
   "execution_count": 21,
   "id": "b7f6096f-c3ee-460e-85ba-c22829d6d9f6",
   "metadata": {},
   "outputs": [
    {
     "name": "stdout",
     "output_type": "stream",
     "text": [
      "\u001b[32mHomePlanet is univocally correlated with each unique value of Name_Last.\u001b[0m\n"
     ]
    }
   ],
   "source": [
    "check_group_correlation(pd.concat([train_df_SF, test_df_SF]),'Name_Last','HomePlanet')"
   ]
  },
  {
   "cell_type": "markdown",
   "id": "2bc6d2c1-c6c0-4c35-8d69-79cf62a1a984",
   "metadata": {},
   "source": [
    "Consequently, any missing values in **HomePlanet** can be filled with the known destination of another passenger with the same **Name_Last**."
   ]
  },
  {
   "cell_type": "code",
   "execution_count": 22,
   "id": "f320c664-5dc2-4a4d-886d-f838933c94eb",
   "metadata": {},
   "outputs": [],
   "source": [
    "correct_values_for_univocal_group_corr(\n",
    "    [train_df_SF, test_df_SF],\"Name_Last\",\"HomePlanet\")"
   ]
  },
  {
   "cell_type": "markdown",
   "id": "16e1082e-8af6-48de-9621-bf0aa6ab1ca0",
   "metadata": {},
   "source": [
    "Excellent news, now the **HomePlanet** feature presents only a few missing values! \n",
    "* Current missing values: <span style=\"color:red\">5 (0.1%) / 5 (0.1%)</span>."
   ]
  },
  {
   "cell_type": "markdown",
   "id": "41931a34-15a5-4c78-89af-c9d9334d4a81",
   "metadata": {},
   "source": [
    "<a id=\"Manual_data_correction_VIP_Feature\"></a>\n",
    "## <span style=\"color:teal;font-weight:bold;\">VIP feature</span>\n",
    "\n",
    "Very Important Passengers (**VIP**=True) have a diverse behavior in most of the features, including the expenses! However, I did find a patter regarding to their cabin location and surname popularity...\n",
    "Let's take a look at the cabin deck first:"
   ]
  },
  {
   "cell_type": "code",
   "execution_count": 23,
   "id": "1217799f-f6b5-4195-8091-ca683f2168fc",
   "metadata": {},
   "outputs": [
    {
     "data": {
      "image/png": "[encoded data removed]",
      "text/plain": [
       "<Figure size 1000x400 with 2 Axes>"
      ]
     },
     "metadata": {},
     "output_type": "display_data"
    }
   ],
   "source": [
    "make_two_feature_chart(pd.concat([train_df_SF, test_df_SF]),'VIP','Cabin_Deck',figsize=(10,4))"
   ]
  },
  {
   "cell_type": "markdown",
   "id": "f02c1a9a-bbee-4744-971d-3bb7b657c05b",
   "metadata": {},
   "source": [
    "From this chart, we can conclude that **VIP**=True passenger do not stay in **Cabin_Deck**=G or T (although the last case is not very reliable, as there are only 10 values). Let's check how many NaN values for the **VIP** feature are for these cabin decks:"
   ]
  },
  {
   "cell_type": "code",
   "execution_count": 24,
   "id": "18986021-de1e-409e-83e2-7e7fd69dbb7e",
   "metadata": {},
   "outputs": [
    {
     "data": {
      "text/plain": [
       "Cabin_Deck\n",
       "G    88\n",
       "T     1\n",
       "Name: count, dtype: int64"
      ]
     },
     "execution_count": 24,
     "metadata": {},
     "output_type": "execute_result"
    }
   ],
   "source": [
    "# Combine datasets and prepare condition:\n",
    "all_df = pd.concat([train_df_SF, test_df_SF])\n",
    "cond_cabin = ((all_df['VIP'].isna()) &\n",
    "    ((all_df['Cabin_Deck']=='G') | (all_df['Cabin_Deck']=='T')))\n",
    "# Count the number of ocurrences for each \"Cabin_Deck\" for NaN VIP values:\n",
    "all_df[['VIP','Cabin_Deck']].loc[cond_cabin]['Cabin_Deck'].value_counts()"
   ]
  },
  {
   "cell_type": "markdown",
   "id": "10e2374d-f4fa-4759-b3bc-03d667cde5a9",
   "metadata": {},
   "source": [
    "I will leave that 'T' row apart and only correct the 'G' rows:"
   ]
  },
  {
   "cell_type": "code",
   "execution_count": 25,
   "id": "1ba3b124-55b2-4fb7-a910-56e0fffc1301",
   "metadata": {},
   "outputs": [],
   "source": [
    "for dataset in [train_df_SF, test_df_SF]:\n",
    "    # Correct missing values:\n",
    "    idx = (dataset['VIP'].isna()) & (dataset['Cabin_Deck']=='G') # Relevant indexes\n",
    "    dataset['VIP'].loc[idx] = 0"
   ]
  },
  {
   "cell_type": "markdown",
   "id": "9113f715-2352-4648-b298-34bb1815d0c0",
   "metadata": {},
   "source": [
    "Lastly, I'll show a very strong correlation between the **VIP** and **Ocurrence_LastName** features, probably meaning that VIP passengers do not have too popular last names..."
   ]
  },
  {
   "cell_type": "code",
   "execution_count": 26,
   "id": "caf29fc6-2a56-421d-bb8a-ddf63b2099b3",
   "metadata": {},
   "outputs": [
    {
     "data": {
      "image/png": "[encoded data removed]",
      "text/plain": [
       "<Figure size 1000x400 with 2 Axes>"
      ]
     },
     "metadata": {},
     "output_type": "display_data"
    }
   ],
   "source": [
    "make_two_feature_chart(pd.concat([train_df_SF, test_df_SF]),'VIP','Ocurrence_LastName',figsize=(10,4))"
   ]
  },
  {
   "cell_type": "markdown",
   "id": "8a1a961b-48f8-4a82-986a-b7043e0174d3",
   "metadata": {},
   "source": [
    "It seems that **Ocurrence_LastName**>14 implies **VIP**=False, but this rule may be misleading, as the VIP True values are very scarce, then making statistics is not very reliable. For example, **Ocurrence_LastName**=14 and 12 have VIP rates of approximate 0.013 and 0.012, which are very low but not zero. Then, finding a **VIP**=True value for very high **Ocurrence_LastName** is very rare, but it is possible according to the low rates.\n",
    "\n",
    "For this edition process, in which I'm using \"all or nothing\" rules, I will not use the **Ocurrence_LastName** feature to correct the **VIP** missing values. And anyway, the amount of missing **VIP** values that may be corrected is very small:"
   ]
  },
  {
   "cell_type": "code",
   "execution_count": 27,
   "id": "c87409bf-647a-4442-ad7a-91af5fe1da13",
   "metadata": {},
   "outputs": [
    {
     "data": {
      "text/plain": [
       "Ocurrence_LastName\n",
       "16.0    4\n",
       "15.0    2\n",
       "Name: count, dtype: int64"
      ]
     },
     "execution_count": 27,
     "metadata": {},
     "output_type": "execute_result"
    }
   ],
   "source": [
    "# Combine datasets and prepare condition:\n",
    "all_df = pd.concat([train_df_SF, test_df_SF])\n",
    "cond_cabin = ((all_df['VIP'].isna()) &\n",
    "    ((all_df['Ocurrence_LastName']>14)))\n",
    "# Count the number of ocurrences for each \"Ocurrence_LastName\" for NaN VIP values:\n",
    "all_df[['VIP','Ocurrence_LastName']].loc[cond_cabin]['Ocurrence_LastName'].value_counts()"
   ]
  },
  {
   "cell_type": "markdown",
   "id": "a7da6d07-53e9-423f-a401-ddc07604633b",
   "metadata": {},
   "source": [
    "<a id=\"Manual_data_correction_Cabin_isPort_Feature\"></a>\n",
    "## <span style=\"color:teal;font-weight:bold;\">Cabin_isPort feature</span>\n",
    "\n",
    "Similar to the **HomePlanet** and **IDgroup** correlation, passengers who share the same **IDgroup** are located in the same **Cabin_isPort**:"
   ]
  },
  {
   "cell_type": "code",
   "execution_count": 28,
   "id": "df1f8574-8002-475d-8087-d08921613d0a",
   "metadata": {},
   "outputs": [
    {
     "name": "stdout",
     "output_type": "stream",
     "text": [
      "\u001b[32mCabin_isPort is univocally correlated with each unique value of IDgroup.\u001b[0m\n"
     ]
    }
   ],
   "source": [
    "check_group_correlation(pd.concat([train_df_SF, test_df_SF]),'IDgroup','Cabin_isPort')"
   ]
  },
  {
   "cell_type": "markdown",
   "id": "6389f314-4f90-4eac-b124-da438e2f9bbe",
   "metadata": {},
   "source": [
    "Then, I will fill any **Cabin_isPort** missing values with a known value from the same **IDgroup**:"
   ]
  },
  {
   "cell_type": "code",
   "execution_count": 29,
   "id": "4e18eaab-8aed-4c38-8628-620923506d74",
   "metadata": {},
   "outputs": [],
   "source": [
    "correct_values_for_univocal_group_corr(\n",
    "    [train_df_SF, test_df_SF],\"IDgroup\",\"Cabin_isPort\")"
   ]
  },
  {
   "cell_type": "markdown",
   "id": "d27084e3-83d8-46bf-bc4f-dbf6f3a30ac4",
   "metadata": {},
   "source": [
    "In this way, 137 missing **Cabin_isPort** were corrected."
   ]
  },
  {
   "cell_type": "markdown",
   "id": "f348fd46-a368-48e8-a20f-6d089f0b9f98",
   "metadata": {},
   "source": [
    "<a id=\"Manual_data_correction_checkpoint\"></a>\n",
    "## <span style=\"color:teal;font-weight:bold;\">Checkpoint: Manual correction</span>\n",
    "\n",
    "Manual correction is finished! Using completely certain correlations, I have corrected missing values from many features. If I were to take some risks in filling missing values, I could use \"high probability\" rules, such as the one relating the **VIP** feature with **Ocurrence_LastName**. However, I will leave this job the ML data imputation algorithm, explained later.\n",
    "\n",
    "Let's check the updated missing values:"
   ]
  },
  {
   "cell_type": "code",
   "execution_count": 30,
   "id": "6a2e298c-9ed0-4cb6-b6db-85041dc680da",
   "metadata": {},
   "outputs": [
    {
     "name": "stdout",
     "output_type": "stream",
     "text": [
      "\n",
      "Missing values in train/test datasets:\n",
      "\n",
      "HomePlanet:              \u001b[31m5 (0.1%)\u001b[0m / \u001b[31m5 (0.1%)\u001b[0m\n",
      "CryoSleep:            \u001b[31m111 (1.3%)\u001b[0m / \u001b[31m42 (1.0%)\u001b[0m\n",
      "Destination:          \u001b[31m182 (2.1%)\u001b[0m / \u001b[31m92 (2.2%)\u001b[0m\n",
      "Age:                  \u001b[31m179 (2.1%)\u001b[0m / \u001b[31m91 (2.1%)\u001b[0m\n",
      "VIP:                  \u001b[31m137 (1.6%)\u001b[0m / \u001b[31m71 (1.7%)\u001b[0m\n",
      "ExpRS:                \u001b[31m107 (1.2%)\u001b[0m / \u001b[31m55 (1.3%)\u001b[0m\n",
      "ExpFC:                \u001b[31m106 (1.2%)\u001b[0m / \u001b[31m65 (1.5%)\u001b[0m\n",
      "ExpSM:                \u001b[31m103 (1.2%)\u001b[0m / \u001b[31m60 (1.4%)\u001b[0m\n",
      "ExpSpa:               \u001b[31m114 (1.3%)\u001b[0m / \u001b[31m52 (1.2%)\u001b[0m\n",
      "ExpVR:                \u001b[31m107 (1.2%)\u001b[0m / \u001b[31m43 (1.0%)\u001b[0m\n",
      "IDgroup:                 \u001b[32m0 (0.0%)\u001b[0m / \u001b[32m0 (0.0%)\u001b[0m\n",
      "GroupMembers:            \u001b[32m0 (0.0%)\u001b[0m / \u001b[32m0 (0.0%)\u001b[0m\n",
      "Cabin_Deck:          \u001b[31m199 (2.3%)\u001b[0m / \u001b[31m100 (2.3%)\u001b[0m\n",
      "Cabin_num:           \u001b[31m199 (2.3%)\u001b[0m / \u001b[31m100 (2.3%)\u001b[0m\n",
      "Cabin_isPort:          \u001b[31m99 (1.1%)\u001b[0m / \u001b[31m63 (1.5%)\u001b[0m\n",
      "Name_Last:            \u001b[31m200 (2.3%)\u001b[0m / \u001b[31m94 (2.2%)\u001b[0m\n",
      "Ocurrence_LastName:   \u001b[31m200 (2.3%)\u001b[0m / \u001b[31m94 (2.2%)\u001b[0m\n",
      "ExpTotal:            \u001b[31m518 (6.0%)\u001b[0m / \u001b[31m267 (6.2%)\u001b[0m\n",
      "Exp_zero:            \u001b[31m518 (6.0%)\u001b[0m / \u001b[31m267 (6.2%)\u001b[0m\n",
      "\n",
      "Number of rows with 0 missing values: 7259/3572\n",
      "Number of rows with 1 missing values: 523/243\n",
      "Number of rows with 2 missing values: 277/133\n",
      "Number of rows with 3 missing values: 557/281\n",
      "Number of rows with 4 missing values: 57/35\n",
      "Number of rows with 5 missing values: 14/9\n",
      "Number of rows with 6 missing values: 4/4\n",
      "Number of rows with 7 missing values: 2/0\n"
     ]
    }
   ],
   "source": [
    "compute_missing_values(train_df_SF,test_df_SF)"
   ]
  },
  {
   "cell_type": "markdown",
   "id": "62df71ff-bafb-4fc7-b9eb-450a4a22f15b",
   "metadata": {},
   "source": [
    "<a id=\"Preliminary_submission_results\"></a>\n",
    "## <span style=\"color:teal;font-weight:bold;\">Preliminary submission results</span>\n",
    "\n",
    "The data edition process is not finished yet, but I would like to measure the improvement so far by missing the missing values with the completely reliable manual correction. As a reference benchmark, I will use the previous 0.80336 that I obtained in my notebook <a href=\"https://www.kaggle.com/code/fertmeneses/spaceship-titanic-feature-engineering\">Spaceship Titanic 💡 Feature engineering</a>.\n",
    "\n",
    "As ML models, I will use simple choices, the same as in the mentioned notebook. As some of these models require that the dataset is clean of NaN values, I assign simple corrections based on the mean value for numerical features, or the most frequent value for non-numerical features."
   ]
  },
  {
   "cell_type": "code",
   "execution_count": 31,
   "id": "f82b4f37-7bfb-490b-a958-8315b7009e44",
   "metadata": {},
   "outputs": [],
   "source": [
    "# Simple correction for dataset:\n",
    "def simple_data_correction(df,target_col='Transported'):\n",
    "    \"\"\"\n",
    "    Corrects missing values using the average value for numeric features\n",
    "    or most frequent value for non-numeric features.\n",
    "    --- Inputs ---\n",
    "    {df} [Dataframe]: Dataframe to be corrected.\n",
    "    {target_col} [String]: Target column in the dataframe (won't be corrected)\n",
    "    --- Outputs ---\n",
    "    {df_corrected} [Dataframe]: Corrected Dataframe.\n",
    "    \"\"\"\n",
    "    df_corrected = df.copy()\n",
    "    # Determine column types:\n",
    "    col_numeric = [col for col in df.columns if \n",
    "                   df[col].dtypes != 'object' and col!=target_col]\n",
    "    col_object = [col for col in df.columns if \n",
    "                  col not in col_numeric and col!=target_col]\n",
    "    # Correct numeric columns:\n",
    "    for col in col_numeric:\n",
    "        df_corrected[col] = df[col].fillna(value=df[col].mean())\n",
    "    # Correct non-numeric columns:\n",
    "    for col in col_object:\n",
    "        most_freq = df[col].value_counts(sort=True).index[0]\n",
    "        df_corrected[col] = df[col].fillna(value=most_freq)\n",
    "    return df_corrected"
   ]
  },
  {
   "cell_type": "code",
   "execution_count": 32,
   "id": "7e6e7723-a4cf-42e0-81fe-603ddb38c127",
   "metadata": {},
   "outputs": [],
   "source": [
    "import matplotlib.patches as patches\n",
    "\n",
    "def encode_and_correlation(df,max_cats=10,target_col='Transported',\n",
    "                           c_thres=0.1,plot_corr=True):\n",
    "    \"\"\"\n",
    "    Encodes non-numeric features in a dataset and plots the correlation matrix.\n",
    "    --- Inputs ---\n",
    "    {df} [dataframe]: Dataframe to be encoded.\n",
    "    {max_cats} [int]: Maximum number of categories for a non-numeric\n",
    "    feature to be encoded. If the feature has more categories, it is ignored.\n",
    "    {ref_col} [string]: Target column, it won't be encoded.\n",
    "    {c_thres} [float]: Threshold correlation value, only exceeding values\n",
    "    will be painted in the correlation matrix.\n",
    "    {plot_corr} [boolean]: If True, plots the correlation matrix. If False, \n",
    "    doesn't plot it, but still returns the encoded dataframe.\n",
    "    --- Outputs ---\n",
    "    {df_enc} [dataframe]: Encoded dataframe.\n",
    "    \"\"\"\n",
    "    # ===== ENCODING ===== \n",
    "    # One-Hot encode non-numerical features with few unique values:\n",
    "    feat_enc = [feat for feat in df.columns if \n",
    "                df[feat].dtype == 'object' and # Numeric or...\n",
    "                df[feat].nunique()<=max_cats] # ...Few unique values\n",
    "\n",
    "    # Encode features:\n",
    "    if len(feat_enc)>1:\n",
    "        data_enc = pd.get_dummies(df[feat_enc])\n",
    "        # Prepare dataframes having only numeric/boolean features:\n",
    "        df_enc = pd.concat([df, data_enc], axis=1)\n",
    "    else:\n",
    "        df_enc = df.copy()\n",
    "    # Sort columns alphabetically, but leave 'Transported' at the beggining in training dataset:\n",
    "    df_enc = df_enc.reindex(sorted(df_enc.columns), axis=1)\n",
    "    if target_col in df_enc:\n",
    "        df_enc = df_enc[['Transported'] + [col for col in df_enc.columns\n",
    "                                           if col != target_col ]]\n",
    "    else:\n",
    "        df_enc = df_enc[[col for col in df_enc.columns]]\n",
    "    # Drop source-encoded features: \n",
    "    df_enc = df_enc.drop(feat_enc,axis=1)\n",
    "    # Drop not suitable features:\n",
    "    feat_not_enc = [feat for feat in df.columns if\n",
    "                    df[feat].dtype == 'object' and # Numeric or...\n",
    "                    df[feat].nunique()>10] # ...Few unique values\n",
    "    df_enc = df_enc.drop(feat_not_enc,axis=1)\n",
    "    \n",
    "    # ===== CORRELATION MATRIX ===== \n",
    "    if plot_corr:\n",
    "        # Prepare data:\n",
    "        corr = df_enc.corr() # Obtain correlations\n",
    "        trimask = np.triu(np.ones_like(corr, dtype=bool)) # Mask upper triangle in correlations    \n",
    "        # Plot correlations in training dataset:\n",
    "        fig, ax = plt.subplots(figsize=(20, 10))\n",
    "        sns.heatmap(corr, ax=ax, square=True,cmap='coolwarm',\n",
    "                    vmin=-1, vmax=1, linecolor='w',lw=0.5, \n",
    "                    mask=trimask | (np.abs(corr) <= c_thres))\n",
    "        # Separate the target correlations:\n",
    "        ax.plot([1,1],[1,len(df_enc.columns)],color='k',lw=2)\n",
    "        # Draw the correlations' triangle:\n",
    "        ax.plot([1,len(df_enc.columns)],[1,len(df_enc.columns)],color='k',lw=0.5)\n",
    "        ax.plot([1,len(df_enc.columns)],[len(df_enc.columns),len(df_enc.columns)],\n",
    "                color='k',lw=1.5)\n",
    "        # Identify blocks of similar features:\n",
    "        main_name = [feat.split('_')[0] for feat in list(df_enc.columns)]\n",
    "        index_counts = [(main_name.index(name),main_name.count(name))\n",
    "                        for name in sorted(set(main_name))]\n",
    "        for index, counts in index_counts:\n",
    "            if counts>1: \n",
    "                triangle = [[index, index],\n",
    "                            [index+counts, index+counts],\n",
    "                            [index, index+counts]]\n",
    "                ax.add_patch(patches.Polygon(triangle, edgecolor=\"k\",facecolor='none',ls=\"--\",lw=2))\n",
    "        ax.set_title(f\"Dataset Correlations\", size=15)\n",
    "        fig.tight_layout()\n",
    "        plt.show()    \n",
    "    \n",
    "    return df_enc"
   ]
  },
  {
   "cell_type": "code",
   "execution_count": 33,
   "id": "c5fcb3c1-aa00-43dc-952e-2c3e3eb4e55d",
   "metadata": {},
   "outputs": [],
   "source": [
    "# Train ML models and export the submission file:\n",
    "from sklearn.ensemble import (\n",
    "RandomForestClassifier,\n",
    "RandomForestRegressor,\n",
    "GradientBoostingClassifier,\n",
    "GradientBoostingRegressor\n",
    ")\n",
    "from sklearn.linear_model import LogisticRegression\n",
    "from xgboost import (XGBClassifier,XGBRegressor)\n",
    "from sklearn.neighbors import KNeighborsClassifier\n",
    "from sklearn.svm import LinearSVC\n",
    "\n",
    "def train_submit_ML(model,train_df,test_df):\n",
    "    \"\"\"\n",
    "    Trains a ML model, and saves the submission file.\n",
    "    --- Inputs ---\n",
    "    {model} [Machine Learning model]: ML model to be trained.\n",
    "    {train_df} [Dataframe]: Training dataset, it must contain the\n",
    "    columns \"PassengerId\" and \"Transported\".\n",
    "    {test_df} [Dataframe]: Testing dataset, it must contain the\n",
    "    column \"PassengerId\".\n",
    "    --- Outputs ---\n",
    "    {train_score} [Float]: Training score.\n",
    "    \"\"\"\n",
    "    # Extract PassengerId and Transported columns, if applicable:\n",
    "    passID_train = train_df['PassengerId']\n",
    "    passID_test = test_df['PassengerId']\n",
    "    y_train = train_df['Transported']\n",
    "    x_train = train_df.drop(['PassengerId','Transported'],axis=1)\n",
    "    x_test = test_df.drop('PassengerId',axis=1)\n",
    "    # Initialize model with fixed seed if possible:\n",
    "    if 'random_state' in dir(model):\n",
    "        model.random_state = 0 \n",
    "    # Train the model:\n",
    "    model.fit(x_train,y_train)\n",
    "    train_score = model.score(x_train,y_train) # Get training score\n",
    "    # Make submission:\n",
    "    preds = model.predict(x_test)\n",
    "    preds = preds.astype(bool) # Ensure the values are boolean\n",
    "    df_subm = pd.DataFrame({\n",
    "        \"PassengerId\": passID_test,\n",
    "        \"Transported\": preds\n",
    "    }).to_csv('submission.csv', index=False)\n",
    "    # Final output and message:\n",
    "    print(\"Training score:\", np.round(train_score,4))\n",
    "    print(\"Submission file ready.\")\n",
    "    return train_score, preds"
   ]
  },
  {
   "cell_type": "code",
   "execution_count": 62,
   "id": "283bf2a6-95e8-46db-8ecd-281910d7cadd",
   "metadata": {},
   "outputs": [],
   "source": [
    "# Prepare datasets for submission:\n",
    "# 1. Simple corrections.\n",
    "# 2. One-Hot encoding.\n",
    "# 3. Add the PassengerID column.\n",
    "df_train_submit = encode_and_correlation(\n",
    "    simple_data_correction(train_df_SF),plot_corr=False)\n",
    "df_train_submit['PassengerId'] = train_ID\n",
    "df_test_submit = encode_and_correlation(\n",
    "    simple_data_correction(test_df_SF),plot_corr=False)\n",
    "df_test_submit['PassengerId'] = test_ID\n",
    "\n",
    "# Some ML Options:\n",
    "# RandomForestClassifier(n_estimators=100, max_depth=5)\n",
    "# GradientBoostingClassifier(n_estimators=100, max_depth=3)\n",
    "# XGBClassifier(n_estimators=100, max_depth=3)\n",
    "\n",
    "# Define and train simple model:   \n",
    "model = XGBClassifier(n_estimators=100, max_depth=2)\n",
    "# Uncomment this line to train the model:\n",
    "# train_score, preds = train_submit_ML(model,df_train_submit,df_test_submit)"
   ]
  },
  {
   "cell_type": "markdown",
   "id": "da3d1286-fc23-4baa-998a-e63531f7c7a6",
   "metadata": {},
   "source": [
    "The following results have been obtained after submitting different solutions to the Kaggle competition:"
   ]
  },
  {
   "cell_type": "code",
   "execution_count": 35,
   "id": "ba032c84-90af-45e4-b91e-670fd6959651",
   "metadata": {},
   "outputs": [],
   "source": [
    "from matplotlib.pyplot import cm\n",
    "\n",
    "def plot_training_submission_scores(df_results,sort_by='Model',benchmark=None):\n",
    "    \"\"\"\n",
    "    Plots training vs submission scores, grouped by ML groups.\n",
    "    --- Inputs ---\n",
    "    {df_results} [DataFrame]: Results for all trained groups, \n",
    "    must include the following columns:\n",
    "    'Model','train_score','subm_score', and the {sort_by} feature.\n",
    "    {sort_by} [String]: Feature by which the results are grouped.\n",
    "    {benchmark} [Float or None]: benchmark score. Select None if there is none.\n",
    "    \"\"\"\n",
    "    # Identify groups:\n",
    "    groups = sorted(set(df_results[sort_by])) \n",
    "    \n",
    "    # Plot figures:\n",
    "    markers = [\"o\",\"<\",\"s\",\"d\",\"v\",\"p\",\"P\",\"^\",\"*\",\"D\",\">\"]\n",
    "    colors_groups = cm.turbo(np.linspace(0, 1, len(groups)))\n",
    "    fig, ax = plt.subplots(figsize=(7,4))\n",
    "    for j,group in enumerate(groups):\n",
    "        data = df_results[df_results[sort_by]==group]\n",
    "        ax.scatter(data['subm_score'],data['train_score'],\n",
    "                   marker=markers[(j) % len(markers)],\n",
    "                   s=70,edgecolor='k',color=colors_groups[j],\n",
    "                   alpha=0.7,label=sort_by+' '+group)    \n",
    "    range_subm_score = [min(df_results['subm_score'])*0.995,\n",
    "                        max(df_results['subm_score'])*1.005]\n",
    "    if benchmark is not None:\n",
    "        ax.axvline(benchmark,ls=':',lw=1.5,color='b',\n",
    "                   label='Benchmark',alpha=0.8)\n",
    "    ax.plot(range_subm_score,range_subm_score,'--k',alpha=0.5,\n",
    "            label='Ideal training')\n",
    "    ax.set(xlabel=\"Submission Score\",ylabel=\"Training score\")\n",
    "    ax.legend(ncol=1,loc='upper left')\n",
    "    fig.tight_layout()\n",
    "    plt.show()"
   ]
  },
  {
   "cell_type": "code",
   "execution_count": 52,
   "id": "58c6e6ae-3d7e-4479-bf49-60e5da656cef",
   "metadata": {},
   "outputs": [
    {
     "name": "stdout",
     "output_type": "stream",
     "text": [
      "Top 3 models:\n"
     ]
    },
    {
     "data": {
      "text/html": [
       "<div>\n",
       "<style scoped>\n",
       "    .dataframe tbody tr th:only-of-type {\n",
       "        vertical-align: middle;\n",
       "    }\n",
       "\n",
       "    .dataframe tbody tr th {\n",
       "        vertical-align: top;\n",
       "    }\n",
       "\n",
       "    .dataframe thead th {\n",
       "        text-align: right;\n",
       "    }\n",
       "</style>\n",
       "<table border=\"1\" class=\"dataframe\">\n",
       "  <thead>\n",
       "    <tr style=\"text-align: right;\">\n",
       "      <th></th>\n",
       "      <th>Model</th>\n",
       "      <th>max_depth</th>\n",
       "      <th>n_estimators</th>\n",
       "      <th>subm_score</th>\n",
       "      <th>train_score</th>\n",
       "    </tr>\n",
       "  </thead>\n",
       "  <tbody>\n",
       "    <tr>\n",
       "      <th>9</th>\n",
       "      <td>GradientBoostingClassifier</td>\n",
       "      <td>5</td>\n",
       "      <td>90</td>\n",
       "      <td>0.80687</td>\n",
       "      <td>0.8743</td>\n",
       "    </tr>\n",
       "    <tr>\n",
       "      <th>3</th>\n",
       "      <td>GradientBoostingClassifier</td>\n",
       "      <td>5</td>\n",
       "      <td>100</td>\n",
       "      <td>0.80617</td>\n",
       "      <td>0.8779</td>\n",
       "    </tr>\n",
       "    <tr>\n",
       "      <th>10</th>\n",
       "      <td>GradientBoostingClassifier</td>\n",
       "      <td>5</td>\n",
       "      <td>110</td>\n",
       "      <td>0.80617</td>\n",
       "      <td>0.8808</td>\n",
       "    </tr>\n",
       "  </tbody>\n",
       "</table>\n",
       "</div>"
      ],
      "text/plain": [
       "                         Model  max_depth  n_estimators  subm_score  \\\n",
       "9   GradientBoostingClassifier          5            90     0.80687   \n",
       "3   GradientBoostingClassifier          5           100     0.80617   \n",
       "10  GradientBoostingClassifier          5           110     0.80617   \n",
       "\n",
       "    train_score  \n",
       "9        0.8743  \n",
       "3        0.8779  \n",
       "10       0.8808  "
      ]
     },
     "metadata": {},
     "output_type": "display_data"
    },
    {
     "name": "stdout",
     "output_type": "stream",
     "text": [
      "Training vs Submission scores for all models:\n"
     ]
    },
    {
     "data": {
      "image/png": "[encoded data removed]",
      "text/plain": [
       "<Figure size 700x400 with 1 Axes>"
      ]
     },
     "metadata": {},
     "output_type": "display_data"
    }
   ],
   "source": [
    "# Load pre-trained results:\n",
    "df_results = pd.read_csv('kaggle/Training_results/03_Data_imputation_submissions_only_manual_corrections.csv')\n",
    "# Display table with 5 best models:\n",
    "print('Top 3 models:')\n",
    "display(df_results[\n",
    "    [\"Model\",\"max_depth\",\"n_estimators\",\"subm_score\",\"train_score\"]\n",
    "].sort_values([\"subm_score\"],ascending=False).head(3))\n",
    "# Plot training vs submission scores:\n",
    "print('Training vs Submission scores for all models:')\n",
    "plot_training_submission_scores(df_results,sort_by='Model',\n",
    "                                benchmark=0.80336)"
   ]
  },
  {
   "cell_type": "markdown",
   "id": "508d909c-3534-4d6b-b38c-e80ed81cc6e9",
   "metadata": {},
   "source": [
    "Good news: **after the manual data edition**, the submission score has already improved compared to the previous benchmark, reaching a **new best submission score of 0.80687**."
   ]
  },
  {
   "cell_type": "markdown",
   "id": "c0d83909-5edc-4816-afee-991818080644",
   "metadata": {},
   "source": [
    "<a id=\"ML_data_imputation\"></a>\n",
    "# <span style=\"color:teal;font-weight:bold;\">ML data imputation</span>\n",
    "\n",
    "Let's begin with the challenge of designing a Machine Learning data imputation method. Following the same spirit of this competition, which is to predict the **Transported** feature of a passenger based on the other features, the idea is to correct the missing values for each row based on the known values of the remaining features.\n",
    "\n",
    "My ML data imputation is designed for each feature separately (namely the target feature), and has two stages:\n",
    "\n",
    "1. Optimization using a reduced dataset of complete rows, without any missing values, which are split in a training and testing dataset. The most accurate ML model along with its hyperparameters are chosen.\n",
    "2. Train the ML model using all rows without missing values in the target feature, and then predict the missing values and impute those values in the dataset.\n",
    "\n",
    "I consider the following scores for the ML models, depending on the classification or regression task:\n",
    "\n",
    "- **Accuracy**, for classification. Defined as the number of correct predicted values divided by the total number of predictions.\n",
    "- **Mean Absolute Error (MAE)**, for regression. Defined as the average value for the absolute difference between the predicted values and the ground truth.\n",
    "\n",
    "It is important to note that features that have an object type are trained with classification ML models, except for boolean features, such as **CryoSleep**. These features, along with all numeric-type features, are trained with regression ML models. For boolean features, however, predictions are converted from continuous numbers to boolean values by applying a threshold criterion: all values equal or smaller than 0.5 are turned into False, values greater than 0.5 to True. The scoring method for boolean feature is then Accuracy, the same as for classification methods.\n",
    "\n",
    "The ML model for data imputation will be trained with all the features, including original and engineered, but it will correct only the following ones:\n",
    "\n",
    "**HomePlanet**, **CryoSleep**, **Destination**, **Age**, **VIP**, **ExpRS**, **ExpFC**, **ExpSM**, **ExpSpa**, **ExpVR**, **Cabin_Deck**, **Cabin_num**, **Cabin_isPort**.\n",
    "\n",
    "The features **ExpTotal** and **Exp_zero** will be calculated again based on the corrected expenses features.\n",
    "\n",
    "The features **IDgroup** and **GroupMembers** are already complete, so there is no need for data imputation.\n",
    "\n",
    "The features **Name_Last** and **Ocurrence_LastName** will be dropped after the ML imputation process."
   ]
  },
  {
   "cell_type": "markdown",
   "id": "76dba71b-6902-4953-8912-3286eac9f4cf",
   "metadata": {},
   "source": [
    "<a id=\"ML_data_imputation_first_stage\"></a>\n",
    "## <span style=\"color:teal;font-weight:bold;\">First stage: ML optimization</span>\n",
    "\n",
    "The following lines define the optimization function, which is in fact a manual grid search. I only consider Random Forest Estimator and Gradient Boosting ML models, in their classification and regression versions, and variations for the hyperparameters \"n_estimators\" and \"max_depth\". Of course, a larger search with more options can be implemented, users are very welcome to adapt my method.\n",
    "\n",
    "Because optimization can take a long time, I just summarize my results and avoid running the function. However, the users can just uncomment the lines and try by themselves."
   ]
  },
  {
   "cell_type": "code",
   "execution_count": 37,
   "id": "8a048743-dd4f-4b10-a62b-be056f5fbbc8",
   "metadata": {},
   "outputs": [],
   "source": [
    "from sklearn.model_selection import train_test_split\n",
    "\n",
    "def ML_data_imp_optim(dfs,target_feat,n_est_options=[50,100],\n",
    "                      max_d_options=[3,5,7],\n",
    "                      drop_feats=['Name_Last','IDgroup','Transported']):\n",
    "    \"\"\"\n",
    "    Optimize Machine Learning model for imputing missing values for a target feature, \n",
    "    using the known values of the other features.\n",
    "    --- Inputs ---\n",
    "    {dfs} [List]: Each element is a pandas dataframe that will be considered for the\n",
    "    univocal correlation and then corrected.\n",
    "    {target_feat} [String]: Name of the target feature.\n",
    "    {n_est_options} [List]: Options for number of estimators, common to all ML models.\n",
    "    {mad_d_options} [List]: Options for maximum depth, common to all ML models.\n",
    "    {drop_feats} [List]: Each element is a feature from the input datasets that\n",
    "    will be dropped, then it will not participate in the data imputation process.\n",
    "    \"\"\"\n",
    "    # Initiate variables, concatenate datasets and drop selected features:\n",
    "    df_all = pd.concat(dfs) # Combine datasets\n",
    "    df_all = df_all.drop(drop_feats,axis=1)\n",
    "    # One-Hot Encode object features (other than the target feature):\n",
    "    feats_enc = [feat for feat in df_all.columns if \n",
    "                 df_all[feat].dtype=='object' and feat!=target_feat]\n",
    "    data_enc = pd.get_dummies(df_all[feats_enc])\n",
    "    df_all = pd.concat([df_all, data_enc], axis=1)\n",
    "    # Drop source-encoded features: \n",
    "    df_all = df_all.drop(feats_enc,axis=1)   \n",
    "\n",
    "    # Prepare training and testing datasets to select ML model:  \n",
    "    df_all_full = df_all[~df_all.isnull().any(axis=1)] # Identify complete rows    \n",
    "    df_train, df_test = train_test_split(df_all_full, test_size=0.25) # Split train/test datasets\n",
    "    x_train = df_train.drop([target_feat],axis=1)\n",
    "    y_train = df_train[target_feat]\n",
    "    x_test = df_test.drop(target_feat,axis=1)\n",
    "    y_test = df_test[target_feat]\n",
    "\n",
    "    # Identify if feature's type is 'object' or not:\n",
    "    is_object = True if df_all[target_feat].dtype=='object' else False\n",
    "    # If not object, then check if it is in fact boolean:\n",
    "    is_boolean = True if len(set(df_all_full[target_feat]))==2 and not is_object else False\n",
    "    is_numeric = True if (not is_object and not is_boolean) else False\n",
    "    \n",
    "    # Prepare ML models according to classification task:\n",
    "    if is_object:\n",
    "        models = {'Random Forest Classifier':RandomForestClassifier(),\n",
    "                  'Gradient Boosting Classifier':GradientBoostingClassifier()}\n",
    "    else:\n",
    "        models = {'Random Forest Regressor':RandomForestRegressor(),\n",
    "                  'Gradient Boosting Regressor':GradientBoostingRegressor()}\n",
    "    # Train and test ML models and keep the best:\n",
    "    n_est_best, max_d_best, best_model, best_score = 'None','None','None',0 # Initiate\n",
    "    best_score = 0 if not is_numeric else 1e6\n",
    "    for model in models:\n",
    "        ML_model = models[model]\n",
    "        for n_est in n_est_options:\n",
    "            for max_d in max_d_options:\n",
    "                # Prepare ML model:\n",
    "                ML_model.random_state = 0 # Set random seed\n",
    "                ML_model.n_estimators = n_est # Set number of estimators\n",
    "                ML_model.max_depth = max_d # Set maximum depth\n",
    "                # Train the model, predict target feature:\n",
    "                ML_model.fit(x_train,y_train) # Train the model\n",
    "                preds = ML_model.predict(x_test) # Predict target feature\n",
    "                # If target feature is boolean, transform to 0/1:\n",
    "                if is_boolean:\n",
    "                    preds = (preds > .5).astype(float)\n",
    "                # Assign score:\n",
    "                if is_object or is_boolean: # Classification, accuracy score\n",
    "                    score = sum(preds==y_test)/len(preds)\n",
    "                else: # Regression, average error score:\n",
    "                    score = np.mean(np.abs(preds-y_test))\n",
    "                # Update best model and benchmaks:\n",
    "                if (score > best_score and not is_numeric) or (score < best_score and is_numeric):\n",
    "                    best_score = score\n",
    "                    best_model = model\n",
    "                    n_est_best = n_est\n",
    "                    max_d_best = max_d\n",
    "    print('Best model for',colored(target_feat,attrs=['bold']),':')\n",
    "    print(f'{best_model}, {n_est_best} estimators, max depth {max_d_best}')\n",
    "    if is_object or is_boolean:\n",
    "        print(f'Accuracy score (classification): {best_score:.4f}.\\n')\n",
    "    else:\n",
    "        print(f'Average error (regression): {best_score:.2f} (mean value {np.mean(df_all_full[target_feat]):.2f}).\\n')"
   ]
  },
  {
   "cell_type": "code",
   "execution_count": 38,
   "id": "d15556a3-3df5-418f-93be-0433fb6eb503",
   "metadata": {},
   "outputs": [],
   "source": [
    "# Initiate new dataset variables:\n",
    "target_feats = ['HomePlanet', 'CryoSleep', 'Destination', 'Age', 'VIP',\n",
    "                'ExpRS', 'ExpFC', 'ExpSM', 'ExpSpa', 'ExpVR', 'Cabin_Deck',\n",
    "                'Cabin_num', 'Cabin_isPort']\n",
    "# The following options for hyperparameters are examples from my last fine tuning:\n",
    "hyps_dict = {\n",
    "    'HomePlanet': {'n_est_opts': [250,300,350], 'max_d_opts': [6,7,8]},\n",
    "    'CryoSleep': {'n_est_opts': [400,500,600], 'max_d_opts': [4,5,6]},\n",
    "    'Destination': {'n_est_opts': [75,100,125], 'max_d_opts': [2,3,4]},\n",
    "    'Age': {'n_est_opts': [30,50,70], 'max_d_opts': [4,5,6]},\n",
    "    'VIP': {'n_est_opts': [30,50,70], 'max_d_opts': [8,9,10]},\n",
    "    'ExpRS': {'n_est_opts': [400,500,600], 'max_d_opts': [4,5,6]},\n",
    "    'ExpFC': {'n_est_opts': [400,500,600], 'max_d_opts': [2,3,4]},\n",
    "    'ExpSM': {'n_est_opts': [400,500,600], 'max_d_opts': [4,5,6]},\n",
    "    'ExpSpa': {'n_est_opts': [400,500,600], 'max_d_opts': [2,3,4]},\n",
    "    'ExpVR': {'n_est_opts': [400,500,600], 'max_d_opts': [2,3,4]},\n",
    "    'Cabin_Deck': {'n_est_opts': [200,300,400], 'max_d_opts': [8,9,10]},\n",
    "    'Cabin_num': {'n_est_opts': [150,200,250], 'max_d_opts': [6,7,8]},\n",
    "    'Cabin_isPort': {'n_est_opts': [250,300,350], 'max_d_opts': [8,9,10]},\n",
    "}\n",
    "\n",
    "# Uncomment the following lines if you want to run the ML optimization process:\n",
    "# Impute missing values using ML:\n",
    "# for feat in target_feats:\n",
    "#     # Correct missing values on single feature for both training and testing datasets:\n",
    "#     n_est_options = hyps_dict[feat]['n_est_opts']\n",
    "#     max_d_options = hyps_dict[feat]['max_d_opts']\n",
    "#     ML_data_imp_optim([train_df_SF,test_df_SF],feat,\n",
    "#                       n_est_options=n_est_options,max_d_options=max_d_options)"
   ]
  },
  {
   "cell_type": "markdown",
   "id": "2ddbecee-2023-4074-b673-3427febf47b7",
   "metadata": {},
   "source": [
    "In the following table, GBC means Gradient Boosting Classifier, GBR means Gradient Boosting Regressor, RFC means Random Forest Classifier and RFE means Random Forest Regressor. The scores are provided according to the classification (Cla.) or regression (Reg.) task of the ML model. To have a reference for the MAE score, the mean value of the feature in the training dataset is included."
   ]
  },
  {
   "cell_type": "markdown",
   "id": "6acdade6-cfcf-4dbd-921f-1f88652fb19a",
   "metadata": {},
   "source": [
    "| Feature | ML model | n_estimators | max_depth | Accuracy (Cla.) | MEA (Reg.) | Mean value (Reg.) |\n",
    "| :---: | :---: | :---: | :---: | :---: | :---: | :---: |\n",
    "| **HomePlanet** | GBC | 300 | 6 | **0.9707** | - | - |\n",
    "| **CryoSleep** | RFR | 400 | 5 | **0.9556** | - | - |\n",
    "| **Destination** | GBC | 100 | 3 | **0.7006** | - | - |\n",
    "| **Age** | GBR | 50 | 5 | - | **9.74** | 28.64 |\n",
    "| **VIP** | RFR | 50 | 9 | **0.9823** | - | - |\n",
    "| **ExpRS** | GBR | 500 | 5 | - | **61.28** | 212.26 |\n",
    "| **ExpFC** | GBR | 600 | 3 | - | **59.70** | 439.83 |\n",
    "| **ExpSM** | GBR | 500 | 5 | - | **60.22** | 169.16 |\n",
    "| **ExpSpa** | GBR | 600 | 4 | - | **71.01** | 296.41 |\n",
    "| **ExpVR** | GBR | 500 | 3 | - | **64.85** | 288.30 |\n",
    "| **Cabin_Deck** | GBC | 300 | 9 | **0.8273** | - | - |\n",
    "| **Cabin_num** | RFR | 200 | 8 | - | **299.97** | 604.68 |\n",
    "| **Cabin_isPort** | GBR | 300 | 9 | **0.5437** | - | - |"
   ]
  },
  {
   "cell_type": "markdown",
   "id": "0113a238-b2de-485d-95b2-1db5fcf1ea90",
   "metadata": {},
   "source": [
    "In general, the ML performance is pretty good for the different features, much better than a random choice. For example, guessing a random value for a missing value in the **Destination** feature has a 33% success chance, but the ML prediction has a 70% success rate.\n",
    "\n",
    "For the **Age** and expenses numerical features, the MAE is low compared to the mean value, which is a good indicator. The prediction for **Cabin_num** does not look very good, as the cabin number is in average confused by 300 units.\n",
    "\n",
    "Lastly, the ML performance on the **Cabin_isPort** feature is very poor, just above 50%, which is almost equivalent to a random choice."
   ]
  },
  {
   "cell_type": "markdown",
   "id": "8ca6b4c3-b246-44a1-8067-b5bf7a834125",
   "metadata": {},
   "source": [
    "<a id=\"ML_data_imputation_second_stage\"></a>\n",
    "## <span style=\"color:teal;font-weight:bold;\">Second stage: Data imputation</span>\n",
    "\n",
    "So far, I have optimized a Machine Learning model for each target feature (**HomePlanet**, **CryoSleep**, **Destination**, **Age**, **VIP**, **ExpRS**, **ExpFC**, **ExpSM**, **ExpSpa**, **ExpVR**, **Cabin_Deck**, **Cabin_num**, **Cabin_isPort**) based on the full rows of the combined training and testing datasets.\n",
    "\n",
    "The next step is to impute values for the missing rows of each feature. The process will be iterative, meaning that once a feature is corrected, the training and testing datasets will be updated and there won't be any missing values in that feature. \n",
    "\n",
    "While in the optimization process I used a restricted dataset with only full rows to train the ML model, now I have to deal with missing values for predictions! Remember that each ML model takes as input all values in a single row except for the target feature, which has to be predicted. Then, for those rows with multiple missing values, I need to somehow correct those values other than the target feature. My strategy is the following:\n",
    "\n",
    "1. **Order features by missing values, in ascending order**. As the imputation process updates the datasets for each corrected feature, I will minimize the impact of imputed features by correcting the features with less missing values first.\n",
    "2. **For each target feature, set the training dataset** for the ML imputation model as the combination of the training and testing datasets, excluding the rows with missing values for the target feature.\n",
    "3. **Virtually correct the training dataset** using the average value for numerical features and the mode value for non-numerical features.\n",
    "4. **Train the ML imputation model using the previously optimized hyperparameters**.\n",
    "5. **Predict the missing values for the target feature**.\n",
    "6. **Update the training and testing datasets** with the predicted values for the **target feature**. Note that the virtual corrections on all other missing values corresponding to other features will not be included.\n",
    "7. **Repeat steps 2-6 with the remaining target features**, until all target features have been corrected."
   ]
  },
  {
   "cell_type": "code",
   "execution_count": 39,
   "id": "5378f881-53ef-4b06-b96a-4a0199580b86",
   "metadata": {},
   "outputs": [],
   "source": [
    "def simple_correction_feat(df,feat):\n",
    "    \"\"\"\n",
    "    Correct a single feature in the dataset using the average value for a numerical feature\n",
    "    or the most frequent value for a non-numerical feature.\n",
    "    --- Inputs ---\n",
    "    {df} [Dataframe]: Dataframe to be corrected.\n",
    "    {feat} [String]: Target column in the dataframe that will be corrected.\n",
    "    --- Outputs ---\n",
    "    {df_corrected} [Dataframe]: Corrected Dataframe.\n",
    "    \"\"\"\n",
    "    df_corrected = df.copy() # Initiate corrected dataset\n",
    "    # Determine feature type:\n",
    "    feat_num = True if df[feat].dtypes != 'object' else False\n",
    "    # Correct feature:\n",
    "    if feat_num:\n",
    "        df_corrected[feat] = df[feat].fillna(value=df[feat].mean())\n",
    "    else:\n",
    "        most_freq = df[feat].value_counts(sort=True).index[0]\n",
    "        df_corrected[feat] = df[feat].fillna(value=most_freq)\n",
    "        \n",
    "    return df_corrected"
   ]
  },
  {
   "cell_type": "code",
   "execution_count": 40,
   "id": "387efb89-6936-4c19-b234-e234b8a4d42a",
   "metadata": {},
   "outputs": [],
   "source": [
    "from sklearn.model_selection import train_test_split\n",
    "\n",
    "def ML_data_imp_correct(dfs,target_feat,ML_model):\n",
    "    \"\"\"\n",
    "    Impute missing values for a target value using a Machine Learning algorithm, based\n",
    "    on the known values of the other features.\n",
    "    --- Inputs ---\n",
    "    {dfs} [List]: Each element is a pandas dataframe that will be considered for the\n",
    "    univocal correlation and then corrected.\n",
    "    {target_feat} [String]: Name of the target feature.\n",
    "    {ML_model} [sklearn ML model]: Machine Learning object with defined hyperparameters. \n",
    "    --- Returns ---\n",
    "    {y_test_list} [List]: Each element is a pandas series for the imputed target features,\n",
    "    including the original non-NaN values and the corrected ones, correlated with the input datasets.\n",
    "    \"\"\"\n",
    "    # 0. Prepare variables:\n",
    "    feat_imps = [] # Initiate imputed features for each input dataset\n",
    "    input_feats = [feat for feat in dfs[0] if feat!=target_feat]\n",
    "    index_nan = [df[target_feat].isna() for df in dfs] # Identify NaN indexes\n",
    "    # Combine datasets for training purposes, only rows which are not nan:\n",
    "    x_train = pd.concat([dfs[i].loc[~index_nan[i]][input_feats] for i in range(len(dfs))])\n",
    "    y_train = pd.concat([dfs[i].loc[~index_nan[i]][target_feat] for i in range(len(dfs))])\n",
    "    # Identify target column:\n",
    "    y_test_list = [df[target_feat] for df in dfs]\n",
    "    \n",
    "    # 1.A Fill missing values with average/mode for all features except target, in training datasets:\n",
    "    for feat in x_train:\n",
    "        x_train = simple_correction_feat(x_train,feat)\n",
    "    # One-Hot Encode object features:\n",
    "    feats_enc = [feat for feat in x_train if x_train[feat].dtype=='object']\n",
    "    data_enc = pd.get_dummies(x_train[feats_enc])\n",
    "    x_train = pd.concat([x_train, data_enc], axis=1)\n",
    "    # Drop source-encoded features: \n",
    "    x_train = x_train.drop(feats_enc,axis=1)\n",
    "\n",
    "    # 1.B Fill missing values with average/mode for all features except target, in testing datasets:\n",
    "    dfs_test = [] # Initiate list with all testing datasets\n",
    "    for i in range(len(dfs)):\n",
    "        # Make simple corrections:\n",
    "        for feat in dfs[i]:\n",
    "            if dfs[i][feat].isna().sum()>0:\n",
    "                dfs[i] = simple_correction_feat(dfs[i],feat)\n",
    "        # Identify rows with missing values of the target feature:\n",
    "        x_test = dfs[i].loc[index_nan[i]][input_feats] \n",
    "        # One-Hot Encode object features:\n",
    "        feats_enc = [feat for feat in x_test if x_test[feat].dtype=='object']\n",
    "        data_enc = pd.get_dummies(x_test[feats_enc])\n",
    "        x_test = pd.concat([x_test, data_enc], axis=1)\n",
    "        # Drop source-encoded features: \n",
    "        x_test = x_test.drop(feats_enc,axis=1)\n",
    "        # Add testing dataset to the list:\n",
    "        dfs_test.append(x_test)\n",
    "    \n",
    "    # 1.C Only keep features which are common to all datasets:\n",
    "    common_cols = set([col for col in x_train]) # Initiate list with all features in training dataset\n",
    "    for df in dfs_test:\n",
    "        common_cols = common_cols.intersection(set([col for col in df]))\n",
    "    common_cols = list(common_cols) # Convert into list to fix order\n",
    "    x_train = x_train[common_cols]\n",
    "    for i in range(len(dfs_test)):\n",
    "        dfs_test[i] = dfs_test[i][common_cols]\n",
    "        \n",
    "    # 2. Train the ML model\n",
    "    ML_model.fit(x_train,y_train) # Train the model\n",
    "    print(f'Target feature: {target_feat}.')\n",
    "    print(f'ML model trained with {len(x_train)} rows.')\n",
    "    N_nan = int(sum(np.array([len(df) for df in dfs_test])))\n",
    "    print(f'Number of missing values to be corrected: {N_nan}.\\n')\n",
    "\n",
    "    # 3. Predict target feature\n",
    "    is_boolean = True if (y_train.dtype!='object' and len(set(y_train))==2) else False # Check if target is boolean\n",
    "    for i in range(len(dfs_test)):\n",
    "        # Make predictions:\n",
    "        preds = ML_model.predict(dfs_test[i]) # Predict target feature\n",
    "        # If target is boolean, convert to True/False and then to target feature's format\n",
    "        if is_boolean:\n",
    "            preds = (preds > .5).astype(float)\n",
    "            preds = preds.astype(y_train.dtype)\n",
    "        feat_imps.append(preds)\n",
    "\n",
    "    # Correct target column for each dataset in dfs:\n",
    "    for i_df in range(len(dfs_test)):\n",
    "        for j_idx in range(len(dfs_test[i_df])):\n",
    "            idx = dfs_test[i_df].index[j_idx]\n",
    "            y_test_list[i_df].at[idx] = feat_imps[i_df][j_idx]\n",
    "    \n",
    "    return y_test_list"
   ]
  },
  {
   "cell_type": "code",
   "execution_count": 41,
   "id": "859dab0c-25f6-4a4a-b0d6-822eb9b794fb",
   "metadata": {},
   "outputs": [],
   "source": [
    "best_hyps = {\n",
    "    'HomePlanet': {'ML_model':'GBC','n_est': 300, 'max_d': 6},\n",
    "    'CryoSleep': {'ML_model':'RFR','n_est': 400, 'max_d': 5},\n",
    "    'Destination': {'ML_model':'GBC','n_est': 100, 'max_d': 3},\n",
    "    'Age': {'ML_model':'GBR','n_est': 50, 'max_d': 5},\n",
    "    'VIP': {'ML_model':'RFR','n_est': 50, 'max_d': 9},\n",
    "    'ExpRS': {'ML_model':'GBR','n_est': 500, 'max_d': 5},\n",
    "    'ExpFC': {'ML_model':'GBR','n_est': 600, 'max_d': 3},\n",
    "    'ExpSM': {'ML_model':'GBR','n_est': 500, 'max_d': 5},\n",
    "    'ExpSpa': {'ML_model':'GBR','n_est': 600, 'max_d': 4},\n",
    "    'ExpVR': {'ML_model':'GBR','n_est': 500, 'max_d': 3},\n",
    "    'Cabin_Deck': {'ML_model':'GBC','n_est': 300, 'max_d': 9},\n",
    "    'Cabin_num': {'ML_model':'RFR','n_est': 200, 'max_d': 8},\n",
    "    'Cabin_isPort': {'ML_model':'GBR','n_est': 300, 'max_d': 9},    \n",
    "}"
   ]
  },
  {
   "cell_type": "code",
   "execution_count": 43,
   "id": "426b04be-d504-4d9f-9f5b-fcb3c303dd8f",
   "metadata": {},
   "outputs": [],
   "source": [
    "def sort_features(df,target_feats):\n",
    "    \"\"\"\n",
    "    Sort features in a dataset according to the number of NaN values, from lower to higher.\n",
    "    --- Inputs ---\n",
    "    {df} [DataFrame]: Dataframe for which the features will be sorted.\n",
    "    {target_feats} [List]: Each element is a feature that will be sorted.\n",
    "    --- Returns ---\n",
    "    {sorted_feats} [List]: Sorted features, in ascending order of NaN values.\n",
    "    \"\"\"\n",
    "    # Generate dictionary with number of NaN values for each target feature:\n",
    "    N_nan = {feat: 0 for feat in target_feats} # Initiate counter for NaN values\n",
    "    for feat in target_feats:\n",
    "        N_nan[feat] = int(df[feat].isna().sum())\n",
    "    # Sort features by number of NaN values in ascending order:\n",
    "    sorted_feats = [feat_N[0] for feat_N in sorted(N_nan.items(), key=lambda item: item[1])]\n",
    "    \n",
    "    return sorted_feats"
   ]
  },
  {
   "cell_type": "markdown",
   "id": "67c865f1-9a6c-4526-9822-18a2316193b7",
   "metadata": {},
   "source": [
    "Before running the complete ML data imputation process, I've analyzed the corrected missing values feature by feature, and checked that the corrections make sense from my previous conclusions in the manual correction sections. Here are some highlights corrected values:\n",
    "\n",
    "- **HomePlanet**: imputed values do not contradict the forbidding rules for **Cabin_Deck**-**HomePlanet** correlation, meaning, for example, that passengers with **Cabin_Deck**=D where either assigned to **HomePlanet**=Europa or Mars.\n",
    "- **VIP**: all imputed values are 0, which agrees with the fact that more than 97% of the passengers are non-VIP.\n",
    "- **Expenses**: all imputed values are within the original dataset's range. There are some negative values, which will be corrected as 0 later.\n",
    "- **Cabin_Deck**: all imputed values are either E, F or G, which agrees with the original distribution for the combined training and testing datasets, in which those cabins are the leading values: 33% for F, 29% for G and 10% for E. All other cabins have less than 10% each.\n",
    "- **Cabin_num**: imputed values are either around 150 $\\pm$ 50, or around 900 $\\pm$ 200 (the complete range in the original dataset is from 0 to 1900). Although I don't have a clear interpretation for these results, I think that the ML model is choosing averages values, either for the complete range (1900/2=950) or the first interval (0,300), which represents 40% of the total distribution.\n",
    "- **Cabin_isPort**: imputed values are distributed 45% for 1 (meaning Port) and 55% for 0, which roughly follows the original proportion in the combined datasets: 49% for 1, 50% for 0 (the rest are missing values).\n",
    "\n",
    "The full imputation process takes some time, because ML models must be trained for each individual feature, then I have saved the corrected dataset and simply load it. If you want to run the function and correct the dataset yourself, just follow the instructions for commenting and uncommenting the lines in the code."
   ]
  },
  {
   "cell_type": "code",
   "execution_count": 44,
   "id": "ece2fe0f-784d-485d-ad48-be35072e4422",
   "metadata": {},
   "outputs": [],
   "source": [
    "# If you want to run the imputation process, choose run_imputation = True\n",
    "run_imputation = False\n",
    "\n",
    "if run_imputation:\n",
    "    # Prepare new datasets for imputed data:\n",
    "    train_df_SF_imp = train_df_SF[target_feats].copy()\n",
    "    test_df_SF_imp = test_df_SF[target_feats].copy()\n",
    "    \n",
    "    # Sort features (imputation process updates the input datasets for each feature):\n",
    "    sorted_feats = sort_features(pd.concat([train_df_SF_imp,test_df_SF_imp]),target_feats)\n",
    "    \n",
    "    # Data imputation:\n",
    "    for feat in target_feats:\n",
    "        # Define ML model:\n",
    "        if best_hyps[feat]['ML_model']=='RFC':\n",
    "            ML_model = RandomForestClassifier()\n",
    "        elif best_hyps[feat]['ML_model']=='RFR':\n",
    "            ML_model = RandomForestRegressor()\n",
    "        elif best_hyps[feat]['ML_model']=='GBC':\n",
    "            ML_model = GradientBoostingClassifier()\n",
    "        elif best_hyps[feat]['ML_model']=='GBR':\n",
    "            ML_model = GradientBoostingRegressor()\n",
    "        # Set hyperparameters:\n",
    "        ML_model.random_state = 0 # Random seed\n",
    "        ML_model.n_estimators = best_hyps[feat]['n_est'] # Number of estimators\n",
    "        ML_model.max_depth = best_hyps[feat]['max_d'] # Maximum depth\n",
    "        # Obtain imputed feature (all values):\n",
    "        feat_imps = ML_data_imp_correct([train_df_SF_imp,test_df_SF_imp],feat,ML_model)\n",
    "        # Update datasets:\n",
    "        train_df_SF_imp[feat], test_df_SF_imp[feat] = feat_imps[0], feat_imps[1]\n",
    "        \n",
    "    # Additional corrections: \n",
    "    for df in [train_df_SF_imp,test_df_SF_imp]:\n",
    "        # Cabin_num must be an integer:\n",
    "        df['Cabin_num'] = df['Cabin_num'].astype(int)\n",
    "        # Expenses must be positive:\n",
    "        exp_features = ['ExpRS','ExpFC','ExpSM','ExpSpa','ExpVR']\n",
    "        for expense in exp_features:\n",
    "            df[expense] = df[expense].apply(lambda x: 0 if x<0 else x).astype(int)\n",
    "        # Generate the 'ExpTotal' and 'Exp_zero' features:\n",
    "        df['ExpTotal'] = df[exp_features].sum(axis=\"columns\")\n",
    "        df['Exp_zero'] = True # Initiate\n",
    "        df.loc[df['ExpTotal']>0,'Exp_zero'] = False # Compute False values\n",
    "        # Age must be a positive integer:\n",
    "        df['Age'] = df['Age'].apply(lambda x: 1 if x<0 else x).astype(int)\n",
    "    \n",
    "    # Complete imputed datasets with remaining features:\n",
    "    rem_feats = ['IDgroup','GroupMembers','Name_Last','Ocurrence_LastName']\n",
    "    train_df_SF_imp = pd.concat([train_df_SF[rem_feats],train_df_SF_imp,train_df_SF['Transported']],axis=1)\n",
    "    test_df_SF_imp = pd.concat([test_df_SF[rem_feats],test_df_SF_imp],axis=1)\n",
    "\n",
    "    # Save corrected datasets:\n",
    "    train_df_SF_imp.to_csv('kaggle/Imputed_data/train_imputed.csv',index=False)\n",
    "    test_df_SF_imp.to_csv('kaggle/Imputed_data/test_imputed.csv',index=False)\n",
    "else:\n",
    "    # Just load the imputed datasets:\n",
    "    train_df_SF_imp = pd.read_csv('kaggle/Imputed_data/train_imputed.csv') # Training dataset\n",
    "    test_df_SF_imp = pd.read_csv('kaggle/Imputed_data/test_imputed.csv') # Testing dataset"
   ]
  },
  {
   "cell_type": "code",
   "execution_count": 45,
   "id": "7870df0d-7b5a-4bfb-bc66-f77d01802d5f",
   "metadata": {},
   "outputs": [
    {
     "name": "stdout",
     "output_type": "stream",
     "text": [
      "\n",
      "Missing values in train/test datasets:\n",
      "\n",
      "IDgroup:                 \u001b[32m0 (0.0%)\u001b[0m / \u001b[32m0 (0.0%)\u001b[0m\n",
      "GroupMembers:            \u001b[32m0 (0.0%)\u001b[0m / \u001b[32m0 (0.0%)\u001b[0m\n",
      "Name_Last:            \u001b[31m200 (2.3%)\u001b[0m / \u001b[31m94 (2.2%)\u001b[0m\n",
      "Ocurrence_LastName:   \u001b[31m200 (2.3%)\u001b[0m / \u001b[31m94 (2.2%)\u001b[0m\n",
      "HomePlanet:              \u001b[32m0 (0.0%)\u001b[0m / \u001b[32m0 (0.0%)\u001b[0m\n",
      "CryoSleep:               \u001b[32m0 (0.0%)\u001b[0m / \u001b[32m0 (0.0%)\u001b[0m\n",
      "Destination:             \u001b[32m0 (0.0%)\u001b[0m / \u001b[32m0 (0.0%)\u001b[0m\n",
      "Age:                     \u001b[32m0 (0.0%)\u001b[0m / \u001b[32m0 (0.0%)\u001b[0m\n",
      "VIP:                     \u001b[32m0 (0.0%)\u001b[0m / \u001b[32m0 (0.0%)\u001b[0m\n",
      "ExpRS:                   \u001b[32m0 (0.0%)\u001b[0m / \u001b[32m0 (0.0%)\u001b[0m\n",
      "ExpFC:                   \u001b[32m0 (0.0%)\u001b[0m / \u001b[32m0 (0.0%)\u001b[0m\n",
      "ExpSM:                   \u001b[32m0 (0.0%)\u001b[0m / \u001b[32m0 (0.0%)\u001b[0m\n",
      "ExpSpa:                  \u001b[32m0 (0.0%)\u001b[0m / \u001b[32m0 (0.0%)\u001b[0m\n",
      "ExpVR:                   \u001b[32m0 (0.0%)\u001b[0m / \u001b[32m0 (0.0%)\u001b[0m\n",
      "Cabin_Deck:              \u001b[32m0 (0.0%)\u001b[0m / \u001b[32m0 (0.0%)\u001b[0m\n",
      "Cabin_num:               \u001b[32m0 (0.0%)\u001b[0m / \u001b[32m0 (0.0%)\u001b[0m\n",
      "Cabin_isPort:            \u001b[32m0 (0.0%)\u001b[0m / \u001b[32m0 (0.0%)\u001b[0m\n",
      "ExpTotal:                \u001b[32m0 (0.0%)\u001b[0m / \u001b[32m0 (0.0%)\u001b[0m\n",
      "Exp_zero:                \u001b[32m0 (0.0%)\u001b[0m / \u001b[32m0 (0.0%)\u001b[0m\n",
      "\n",
      "Number of rows with 0 missing values: 8493/4183\n",
      "Number of rows with 2 missing values: 200/94\n"
     ]
    }
   ],
   "source": [
    "# Then, check that there are no missing values after the ML data imputation process.\n",
    "compute_missing_values(train_df_SF_imp,test_df_SF_imp)"
   ]
  },
  {
   "cell_type": "markdown",
   "id": "949e7f8a-2659-4f87-a18c-cf6ee9345df4",
   "metadata": {},
   "source": [
    "As expected, all missing values have been corrected except for **Name_Last**, which was not a target feature, and the correlated **Ocurrence_LastName**. Remember that these features will not participate in the final prediction process.\n",
    "\n",
    "As a final check, let's make sure that the imputed process did only alter the missing values:"
   ]
  },
  {
   "cell_type": "code",
   "execution_count": 48,
   "id": "f860210d-bb20-4232-90f3-1875cc2d0a7e",
   "metadata": {},
   "outputs": [
    {
     "data": {
      "text/plain": [
       "HomePlanet              5\n",
       "CryoSleep             111\n",
       "Destination           182\n",
       "Age                   179\n",
       "VIP                   137\n",
       "ExpRS                 107\n",
       "ExpFC                 106\n",
       "ExpSM                 103\n",
       "ExpSpa                114\n",
       "ExpVR                 107\n",
       "Transported             0\n",
       "IDgroup                 0\n",
       "GroupMembers            0\n",
       "Cabin_Deck            199\n",
       "Cabin_num             199\n",
       "Cabin_isPort           99\n",
       "Name_Last             200\n",
       "Ocurrence_LastName    200\n",
       "ExpTotal              518\n",
       "Exp_zero              518\n",
       "dtype: int64"
      ]
     },
     "execution_count": 48,
     "metadata": {},
     "output_type": "execute_result"
    }
   ],
   "source": [
    "((train_df_SF_imp[train_df_SF.columns] == train_df_SF)==False).sum()"
   ]
  },
  {
   "cell_type": "code",
   "execution_count": 49,
   "id": "5e3fe233-f2e2-47fe-b61a-3f3c4bcdee8b",
   "metadata": {},
   "outputs": [
    {
     "data": {
      "text/plain": [
       "HomePlanet              5\n",
       "CryoSleep              42\n",
       "Destination            92\n",
       "Age                    91\n",
       "VIP                    71\n",
       "ExpRS                  55\n",
       "ExpFC                  65\n",
       "ExpSM                  60\n",
       "ExpSpa                 52\n",
       "ExpVR                  43\n",
       "IDgroup                 0\n",
       "GroupMembers            0\n",
       "Cabin_Deck            100\n",
       "Cabin_num             100\n",
       "Cabin_isPort           63\n",
       "Name_Last              94\n",
       "Ocurrence_LastName     94\n",
       "ExpTotal              267\n",
       "Exp_zero              267\n",
       "dtype: int64"
      ]
     },
     "execution_count": 49,
     "metadata": {},
     "output_type": "execute_result"
    }
   ],
   "source": [
    "((test_df_SF_imp[test_df_SF.columns] == test_df_SF)==False).sum()"
   ]
  },
  {
   "cell_type": "markdown",
   "id": "160dce66-beab-4b39-9928-ff256d382b36",
   "metadata": {},
   "source": [
    "The previous lists count the number of elements per feature that are not exactly equal when comparing the datasets before and after the imputation process. These numbers match the missing values for both the training and testing datasets (see the previous Checkpoint), indicating that the imputation did not modify any non-missing value. "
   ]
  },
  {
   "cell_type": "markdown",
   "id": "9cd146d0-2a19-4b1a-8b5b-d4f58b520ba7",
   "metadata": {},
   "source": [
    "<a id=\"Submission_results\"></a>\n",
    "# <span style=\"color:teal;font-weight:bold;\">Submission results</span>\n",
    "\n",
    "It's time to evaluate the submission results using the imputed datasets, and I will compare them with the previous results from the [Preliminary submission results] section, in which I used the manual corrected dataset and standard corrections for the missing values. Notice that for the imputed datasets, there are no missing values, so no additional corrections are needed, but I still need to encode the object-type features."
   ]
  },
  {
   "cell_type": "code",
   "execution_count": 58,
   "id": "ae7e4ab1-c259-48d7-b474-a204b0ecdc12",
   "metadata": {},
   "outputs": [
    {
     "name": "stdout",
     "output_type": "stream",
     "text": [
      "Training score: 0.8471\n",
      "Submission file ready.\n"
     ]
    }
   ],
   "source": [
    "# Prepare datasets for submission:\n",
    "# 1. One-Hot encoding.\n",
    "# 2. Add the PassengerID column.\n",
    "df_train_submit = encode_and_correlation(\n",
    "    simple_data_correction(train_df_SF_imp),plot_corr=False)\n",
    "df_train_submit['PassengerId'] = train_ID\n",
    "df_test_submit = encode_and_correlation(\n",
    "    simple_data_correction(test_df_SF_imp),plot_corr=False)\n",
    "df_test_submit['PassengerId'] = test_ID\n",
    "\n",
    "# Some ML Options:\n",
    "# RandomForestClassifier(n_estimators=100, max_depth=5)\n",
    "# GradientBoostingClassifier(n_estimators=100, max_depth=3)\n",
    "# XGBClassifier(n_estimators=100, max_depth=3)\n",
    "\n",
    "# Define and train simple model:   \n",
    "model = XGBClassifier(n_estimators=100, max_depth=3)\n",
    "# Uncomment this line to train the model:\n",
    "train_score, preds = train_submit_ML(model,df_train_submit,df_test_submit)"
   ]
  },
  {
   "cell_type": "code",
   "execution_count": null,
   "id": "78583a4b-6917-4966-aee0-a547ac2e608a",
   "metadata": {},
   "outputs": [],
   "source": [
    "# Load pre-trained results:\n",
    "df_results = pd.read_csv('kaggle/Training_results/03_only_manual_correction.csv')\n",
    "# Display table with 5 best models:\n",
    "print('Top 3 models:')\n",
    "display(df_results[\n",
    "    [\"Model\",\"max_depth\",\"n_estimators\",\"subm_score\",\"train_score\"]\n",
    "].sort_values([\"subm_score\"],ascending=False).head(3))\n",
    "# Plot training vs submission scores:\n",
    "print('Training vs Submission scores for all models:')\n",
    "plot_training_submission_scores(df_results,sort_by='Model',\n",
    "                                benchmark=0.80336)"
   ]
  },
  {
   "cell_type": "markdown",
   "id": "9acc735a-f6f7-4ca2-9b52-fb61bf34b424",
   "metadata": {},
   "source": [
    "<a id=\"Conclusions\"></a>\n",
    "# <span style=\"color:teal;font-weight:bold;\">Conclusions</span>\n",
    "\n",
    "Xxxx"
   ]
  },
  {
   "cell_type": "code",
   "execution_count": null,
   "id": "bf21a66a-bcbe-45b1-b104-78336f3b31ee",
   "metadata": {},
   "outputs": [],
   "source": []
  }
 ],
 "metadata": {
  "kernelspec": {
   "display_name": "Python 3 (ipykernel)",
   "language": "python",
   "name": "python3"
  },
  "language_info": {
   "codemirror_mode": {
    "name": "ipython",
    "version": 3
   },
   "file_extension": ".py",
   "mimetype": "text/x-python",
   "name": "python",
   "nbconvert_exporter": "python",
   "pygments_lexer": "ipython3",
   "version": "3.12.7"
  }
 },
 "nbformat": 4,
 "nbformat_minor": 5
}
