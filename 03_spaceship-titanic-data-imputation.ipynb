{
 "cells": [
  {
   "cell_type": "markdown",
   "id": "a7d4b3aa-1f7d-4c3c-93a4-4568b513bbbd",
   "metadata": {
    "jp-MarkdownHeadingCollapsed": true
   },
   "source": [
    "<a id=\"Title\"></a>\n",
    "# <span style=\"color:teal;font-weight:bold;\">Spaceship Titanic 🩹 Data imputation</span>\n",
    "\n",
    "This notebook is the third part of my <span style=\"font-weight:bold;color:green\">Spaceship Titanic series</span>, focused on data correction and imputation techniques, which have significantly improved my model's performance.\n",
    "\n",
    "📘 Series Overview\n",
    "\n",
    "1. <a href=\"https://www.kaggle.com/code/fertmeneses/spaceship-titanic-getting-familiar\">Spaceship Titanic 🏁 Getting familiar</a>.\n",
    "My first approach using the raw dataset, resulting in a submission score of **0.79635**, placing me in the **top 40% scores**.\n",
    "2. <a href=\"https://www.kaggle.com/code/fertmeneses/spaceship-titanic-feature-engineering\">Spaceship Titanic 💡 Feature engineering.</a> By feature engineering (still without fixing missing data), my score improved up to **0.80336**, climbing into the **top 16% scores**.\n",
    "3. <span style=\"font-weight:bold\">Spaceship Titanic 🩹 Data imputation.</span> (You're here!)\n",
    "\n",
    "<div style=\"color:white;\n",
    "    display:fill;\n",
    "    border-radius:15px;\n",
    "    margin-left: 70px;\n",
    "    margin-right: 70px;\n",
    "    background-color:lightblue;\n",
    "    font-size:115%;\n",
    "    font-family:Verdana;\n",
    "    letter-spacing:0.5px\">\n",
    "\n",
    "<p style=\"padding: 20px;color:black;text-align:center;\">\n",
    "In <span style=\"color:green;font-weight:bold;\">this episode</span>, I focus on <span style=\"font-weight:bold;\">data correction techniques, including Machine Learning imputation</span>, getting a <span style=\"color:green;font-weight:bold;\">submission score of 0.80757</span>, among the <span style=\"color:green;font-weight:bold;\">top 5% scores in the LB ranking</span>!\n",
    "\n",
    "</p>\n",
    "</div>\n",
    "\n",
    "📊 Visual Summary of the Journey\n",
    "\n",
    "To help you visualize the progression, here's a snapshot of my leaderboard scores as of 2025-04-16, with 2186 competitors:\n",
    "\n",
    "🟥 First version: Raw data, decent start (~60th percentile).\n",
    "\n",
    "🟫 Second version: Feature engineering kicks in (~top 16%).\n",
    "\n",
    "🟩 Current version: Data imputation pushes the score to 0.80757, entering the top 5%!\n",
    "\n",
    "![Summary_episodes](https://github.com/Fertmeneses/titanic-spaceship-kaggle/blob/main/assets/Summary_LB.png?raw=true)\n",
    "\n",
    "Throughout this notebook, I’ll walk you through the steps and ideas behind my data correction process, explain my choices, and show how it improved model performance.\n",
    "\n",
    "Let’s dive in 👇\n",
    "\n",
    "<hr>"
   ]
  },
  {
   "attachments": {},
   "cell_type": "markdown",
   "id": "92087346-b763-486d-9ec7-73c774358411",
   "metadata": {},
   "source": [
    "# <font color='teal'>Outline</font> <a class=\"anchor\"  id=\"Outline\"></a>\n",
    "\n",
    "[**Load data and preprocess**](#Load-data-and-preprocess)\n",
    "\n",
    "  - [Load original data](#Load-original_data)\n",
    "\n",
    "  - [Basic feature engineering](#Basic-feature-engineering)\n",
    "\n",
    "[**Machine learning data imputation**](#ML-data-imputation)\n",
    "\n",
    "  - [Hyperparameters optimization](#Hyperparameters-optimization)\n",
    "\n",
    "  - [Data imputation in action](#Data-imputation-in-action)\n",
    "\n",
    "  - [MLI submission performance](#MLI-Submission-performance)\n",
    "\n",
    "[**Manual data correction**](#Manual-data-correction)\n",
    "\n",
    "  - [Expense-related features](#Expense-related-features)\n",
    "\n",
    "  - [Cryosleep feature](#Cryosleep-feature)\n",
    "\n",
    "  - [HomePlanet feature](#HomePlanet-feature)\n",
    "\n",
    "  - [VIP feature](#VIP-feature)\n",
    "\n",
    "  - [Cabin_isPort feature](#Cabin-isPort-feature)\n",
    "\n",
    "  - [Checkpoint: MC completed](#Checkpoint-MC-completed)\n",
    "\n",
    "  - [FE+MC+SC submission performance](#FE-MC-SC-submission-performance)\n",
    "\n",
    "[**Manual correction + ML Imputation**](#MC-plus-MLI)\n",
    "\n",
    "  - [Optimization and imputation](#Optimization-and-imputation)\n",
    "\n",
    "  - [FE+MC+MLI submission performance](#FE-MC-MLI-submission-performance)\n",
    " \n",
    "[**Conclusions**](#Conclusions)"
   ]
  },
  {
   "cell_type": "markdown",
   "id": "324337ff-eb9c-4e10-af5a-24be73de43ea",
   "metadata": {},
   "source": [
    "<a id=\"Load-data-and-preprocess\"></a>\n",
    "# <span style=\"color:teal;font-weight:bold;\">Load data and preprocess</span>\n",
    "\n",
    "In this section, I start by loading the original dataset and performing **basic feature engineering**. \n",
    "\n",
    "At this stage, I focus only on **simple transformations** such as renaming columns and extracting information from individual features. More advanced techniques that involve interactions between multiple features will be introduced in later steps."
   ]
  },
  {
   "cell_type": "code",
   "execution_count": 1,
   "id": "482f75e3-3a65-4038-92c8-cf08094ccc25",
   "metadata": {},
   "outputs": [
    {
     "name": "stdout",
     "output_type": "stream",
     "text": [
      "Notebook last run (end-to-end): 2025-04-26 14:34:40.002789\n"
     ]
    }
   ],
   "source": [
    "import datetime\n",
    "print(f\"Notebook last run (end-to-end): {datetime.datetime.now()}\")"
   ]
  },
  {
   "cell_type": "markdown",
   "id": "7915230d-b4f6-415e-8e6a-5ce2ed8f16b8",
   "metadata": {},
   "source": [
    "<a id=\"Load-original-data\"></a>\n",
    "## <span style=\"color:teal;font-weight:bold;\">Load original data</span>\n",
    "\n",
    "In the following steps, I load the original training and test datasets and extract some **key information** to get a sense of the data:\n",
    "\n",
    "- Display 10 random rows from the training set as a quick preview.\n",
    "\n",
    "- Show the number of rows in both the training and test sets.\n",
    "\n",
    "- List the feature names along with their data types.\n",
    "\n",
    "- Calculate the number of missing values per feature and per row in each dataset."
   ]
  },
  {
   "cell_type": "code",
   "execution_count": 2,
   "id": "9e5cf416-cac1-45f4-be71-e957ad7212d5",
   "metadata": {},
   "outputs": [
    {
     "data": {
      "text/html": [
       "<div>\n",
       "<style scoped>\n",
       "    .dataframe tbody tr th:only-of-type {\n",
       "        vertical-align: middle;\n",
       "    }\n",
       "\n",
       "    .dataframe tbody tr th {\n",
       "        vertical-align: top;\n",
       "    }\n",
       "\n",
       "    .dataframe thead th {\n",
       "        text-align: right;\n",
       "    }\n",
       "</style>\n",
       "<table border=\"1\" class=\"dataframe\">\n",
       "  <thead>\n",
       "    <tr style=\"text-align: right;\">\n",
       "      <th></th>\n",
       "      <th>PassengerId</th>\n",
       "      <th>HomePlanet</th>\n",
       "      <th>CryoSleep</th>\n",
       "      <th>Cabin</th>\n",
       "      <th>Destination</th>\n",
       "      <th>Age</th>\n",
       "      <th>VIP</th>\n",
       "      <th>RoomService</th>\n",
       "      <th>FoodCourt</th>\n",
       "      <th>ShoppingMall</th>\n",
       "      <th>Spa</th>\n",
       "      <th>VRDeck</th>\n",
       "      <th>Name</th>\n",
       "      <th>Transported</th>\n",
       "    </tr>\n",
       "  </thead>\n",
       "  <tbody>\n",
       "    <tr>\n",
       "      <th>1454</th>\n",
       "      <td>1539_01</td>\n",
       "      <td>Europa</td>\n",
       "      <td>NaN</td>\n",
       "      <td>A/17/S</td>\n",
       "      <td>55 Cancri e</td>\n",
       "      <td>32.0</td>\n",
       "      <td>False</td>\n",
       "      <td>54.0</td>\n",
       "      <td>3782.0</td>\n",
       "      <td>0.0</td>\n",
       "      <td>21.0</td>\n",
       "      <td>5.0</td>\n",
       "      <td>Alyadum Barmant</td>\n",
       "      <td>True</td>\n",
       "    </tr>\n",
       "    <tr>\n",
       "      <th>218</th>\n",
       "      <td>0232_01</td>\n",
       "      <td>Earth</td>\n",
       "      <td>True</td>\n",
       "      <td>G/36/S</td>\n",
       "      <td>PSO J318.5-22</td>\n",
       "      <td>27.0</td>\n",
       "      <td>False</td>\n",
       "      <td>0.0</td>\n",
       "      <td>NaN</td>\n",
       "      <td>0.0</td>\n",
       "      <td>0.0</td>\n",
       "      <td>0.0</td>\n",
       "      <td>Nica Bakerrison</td>\n",
       "      <td>False</td>\n",
       "    </tr>\n",
       "    <tr>\n",
       "      <th>7866</th>\n",
       "      <td>8392_01</td>\n",
       "      <td>Earth</td>\n",
       "      <td>False</td>\n",
       "      <td>F/1610/S</td>\n",
       "      <td>PSO J318.5-22</td>\n",
       "      <td>24.0</td>\n",
       "      <td>False</td>\n",
       "      <td>86.0</td>\n",
       "      <td>669.0</td>\n",
       "      <td>1.0</td>\n",
       "      <td>0.0</td>\n",
       "      <td>0.0</td>\n",
       "      <td>Therly Brightez</td>\n",
       "      <td>False</td>\n",
       "    </tr>\n",
       "    <tr>\n",
       "      <th>7622</th>\n",
       "      <td>8141_01</td>\n",
       "      <td>Earth</td>\n",
       "      <td>True</td>\n",
       "      <td>G/1310/S</td>\n",
       "      <td>TRAPPIST-1e</td>\n",
       "      <td>38.0</td>\n",
       "      <td>False</td>\n",
       "      <td>0.0</td>\n",
       "      <td>0.0</td>\n",
       "      <td>0.0</td>\n",
       "      <td>0.0</td>\n",
       "      <td>0.0</td>\n",
       "      <td>Stenny Belley</td>\n",
       "      <td>True</td>\n",
       "    </tr>\n",
       "    <tr>\n",
       "      <th>4108</th>\n",
       "      <td>4387_01</td>\n",
       "      <td>Mars</td>\n",
       "      <td>False</td>\n",
       "      <td>F/902/P</td>\n",
       "      <td>PSO J318.5-22</td>\n",
       "      <td>32.0</td>\n",
       "      <td>False</td>\n",
       "      <td>192.0</td>\n",
       "      <td>0.0</td>\n",
       "      <td>441.0</td>\n",
       "      <td>18.0</td>\n",
       "      <td>0.0</td>\n",
       "      <td>Apix Wala</td>\n",
       "      <td>False</td>\n",
       "    </tr>\n",
       "    <tr>\n",
       "      <th>4363</th>\n",
       "      <td>4645_01</td>\n",
       "      <td>Europa</td>\n",
       "      <td>False</td>\n",
       "      <td>B/184/S</td>\n",
       "      <td>TRAPPIST-1e</td>\n",
       "      <td>48.0</td>\n",
       "      <td>False</td>\n",
       "      <td>0.0</td>\n",
       "      <td>9633.0</td>\n",
       "      <td>0.0</td>\n",
       "      <td>1.0</td>\n",
       "      <td>2.0</td>\n",
       "      <td>Aton Bacistion</td>\n",
       "      <td>True</td>\n",
       "    </tr>\n",
       "    <tr>\n",
       "      <th>343</th>\n",
       "      <td>0379_01</td>\n",
       "      <td>Earth</td>\n",
       "      <td>False</td>\n",
       "      <td>G/63/P</td>\n",
       "      <td>TRAPPIST-1e</td>\n",
       "      <td>31.0</td>\n",
       "      <td>False</td>\n",
       "      <td>198.0</td>\n",
       "      <td>0.0</td>\n",
       "      <td>591.0</td>\n",
       "      <td>0.0</td>\n",
       "      <td>164.0</td>\n",
       "      <td>Brita Moodson</td>\n",
       "      <td>True</td>\n",
       "    </tr>\n",
       "    <tr>\n",
       "      <th>5966</th>\n",
       "      <td>6324_01</td>\n",
       "      <td>Earth</td>\n",
       "      <td>False</td>\n",
       "      <td>E/420/S</td>\n",
       "      <td>NaN</td>\n",
       "      <td>31.0</td>\n",
       "      <td>False</td>\n",
       "      <td>19.0</td>\n",
       "      <td>509.0</td>\n",
       "      <td>0.0</td>\n",
       "      <td>0.0</td>\n",
       "      <td>177.0</td>\n",
       "      <td>Lesley Hinetthews</td>\n",
       "      <td>False</td>\n",
       "    </tr>\n",
       "    <tr>\n",
       "      <th>669</th>\n",
       "      <td>0699_01</td>\n",
       "      <td>Mars</td>\n",
       "      <td>True</td>\n",
       "      <td>F/126/S</td>\n",
       "      <td>NaN</td>\n",
       "      <td>18.0</td>\n",
       "      <td>False</td>\n",
       "      <td>0.0</td>\n",
       "      <td>0.0</td>\n",
       "      <td>0.0</td>\n",
       "      <td>0.0</td>\n",
       "      <td>0.0</td>\n",
       "      <td>Roswal Sha</td>\n",
       "      <td>True</td>\n",
       "    </tr>\n",
       "    <tr>\n",
       "      <th>6506</th>\n",
       "      <td>6865_01</td>\n",
       "      <td>Europa</td>\n",
       "      <td>False</td>\n",
       "      <td>D/208/S</td>\n",
       "      <td>TRAPPIST-1e</td>\n",
       "      <td>27.0</td>\n",
       "      <td>NaN</td>\n",
       "      <td>69.0</td>\n",
       "      <td>2878.0</td>\n",
       "      <td>0.0</td>\n",
       "      <td>4232.0</td>\n",
       "      <td>3798.0</td>\n",
       "      <td>Thabih Peducting</td>\n",
       "      <td>False</td>\n",
       "    </tr>\n",
       "  </tbody>\n",
       "</table>\n",
       "</div>"
      ],
      "text/plain": [
       "     PassengerId HomePlanet CryoSleep     Cabin    Destination   Age    VIP  \\\n",
       "1454     1539_01     Europa       NaN    A/17/S    55 Cancri e  32.0  False   \n",
       "218      0232_01      Earth      True    G/36/S  PSO J318.5-22  27.0  False   \n",
       "7866     8392_01      Earth     False  F/1610/S  PSO J318.5-22  24.0  False   \n",
       "7622     8141_01      Earth      True  G/1310/S    TRAPPIST-1e  38.0  False   \n",
       "4108     4387_01       Mars     False   F/902/P  PSO J318.5-22  32.0  False   \n",
       "4363     4645_01     Europa     False   B/184/S    TRAPPIST-1e  48.0  False   \n",
       "343      0379_01      Earth     False    G/63/P    TRAPPIST-1e  31.0  False   \n",
       "5966     6324_01      Earth     False   E/420/S            NaN  31.0  False   \n",
       "669      0699_01       Mars      True   F/126/S            NaN  18.0  False   \n",
       "6506     6865_01     Europa     False   D/208/S    TRAPPIST-1e  27.0    NaN   \n",
       "\n",
       "      RoomService  FoodCourt  ShoppingMall     Spa  VRDeck               Name  \\\n",
       "1454         54.0     3782.0           0.0    21.0     5.0    Alyadum Barmant   \n",
       "218           0.0        NaN           0.0     0.0     0.0    Nica Bakerrison   \n",
       "7866         86.0      669.0           1.0     0.0     0.0    Therly Brightez   \n",
       "7622          0.0        0.0           0.0     0.0     0.0      Stenny Belley   \n",
       "4108        192.0        0.0         441.0    18.0     0.0          Apix Wala   \n",
       "4363          0.0     9633.0           0.0     1.0     2.0     Aton Bacistion   \n",
       "343         198.0        0.0         591.0     0.0   164.0      Brita Moodson   \n",
       "5966         19.0      509.0           0.0     0.0   177.0  Lesley Hinetthews   \n",
       "669           0.0        0.0           0.0     0.0     0.0         Roswal Sha   \n",
       "6506         69.0     2878.0           0.0  4232.0  3798.0   Thabih Peducting   \n",
       "\n",
       "      Transported  \n",
       "1454         True  \n",
       "218         False  \n",
       "7866        False  \n",
       "7622         True  \n",
       "4108        False  \n",
       "4363         True  \n",
       "343          True  \n",
       "5966        False  \n",
       "669          True  \n",
       "6506        False  "
      ]
     },
     "metadata": {},
     "output_type": "display_data"
    },
    {
     "name": "stdout",
     "output_type": "stream",
     "text": [
      "\n",
      "Number of rows in train/test datasets:\n",
      "\n",
      "8693 / 4277\n",
      "\n",
      "Features: names and data types:\n",
      "\n",
      "PassengerId      object\n",
      "HomePlanet       object\n",
      "CryoSleep        object\n",
      "Cabin            object\n",
      "Destination      object\n",
      "Age             float64\n",
      "VIP              object\n",
      "RoomService     float64\n",
      "FoodCourt       float64\n",
      "ShoppingMall    float64\n",
      "Spa             float64\n",
      "VRDeck          float64\n",
      "Name             object\n",
      "Transported        bool\n",
      "dtype: object\n"
     ]
    }
   ],
   "source": [
    "import pandas as pd\n",
    "import numpy as np\n",
    "from termcolor import colored\n",
    "\n",
    "# Set the reference benchmark for submission score, from previous episode:\n",
    "benchmark_1 = 0.80336\n",
    "\n",
    "# Load original datasets:\n",
    "train_df = pd.read_csv('kaggle/input/spaceship-titanic/train.csv') # Training dataset\n",
    "test_df = pd.read_csv('kaggle/input/spaceship-titanic/test.csv') # Testing dataset\n",
    "# Keep the passengerID features separately:\n",
    "train_ID = train_df['PassengerId']\n",
    "test_ID = test_df['PassengerId']\n",
    "# Display a 10 random examples:\n",
    "np.random.seed(1) # Ensure reproducitibility\n",
    "samples = np.random.choice(range(len(train_df)), 10, replace=False)\n",
    "display(train_df.iloc[samples]) # Examples\n",
    "# Print global information:\n",
    "print('\\nNumber of rows in train/test datasets:\\n')\n",
    "print(len(train_df),'/',len(test_df))\n",
    "print('\\nFeatures: names and data types:\\n')\n",
    "print(train_df.dtypes)"
   ]
  },
  {
   "cell_type": "code",
   "execution_count": 3,
   "id": "0b28df7d-6c70-46a2-86cf-6e5331e651b4",
   "metadata": {},
   "outputs": [],
   "source": [
    "def compute_missing_values(train_df,test_df):\n",
    "    \"\"\"\n",
    "    Analyzes the missing values in each feature listed in the testing\n",
    "    dataset, for both training and testing datasets.\n",
    "    --- Inputs ---\n",
    "    {train_df, test_df} [Dataframes]: Training and testing datasets.\n",
    "    \"\"\"\n",
    "    print('\\nMissing values in train/test datasets:\\n')\n",
    "    for col in test_df.columns:\n",
    "        # Count missing values and obtain percentages:\n",
    "        N_train = train_df[col].isna().sum() \n",
    "        N_test = test_df[col].isna().sum()\n",
    "        p_train = N_train/len(train_df)*100 # [%]\n",
    "        p_test = N_test/len(test_df)*100 # [%]\n",
    "        # Print results:\n",
    "        color_train = 'red' if N_train else 'green'\n",
    "        color_test = 'red' if N_test else 'green'\n",
    "        rmargin = 60-len(col)\n",
    "        text_train = colored(f'{N_train} ({p_train:.1f}%)', color_train)\n",
    "        text_test = colored(f'{N_test} ({p_test:.1f}%)', color_test)\n",
    "        print(f'{col}:',f'{text_train} / {text_test}'.rjust(rmargin))\n",
    "    # Count missing values in each row:\n",
    "    N_nan_train = train_df.apply(lambda x: x.isna().sum(), axis=1)\n",
    "    N_nan_test = test_df.apply(lambda x: x.isna().sum(), axis=1) \n",
    "    # Print number of rows with N missing values:\n",
    "    print('')\n",
    "    for n in set(N_nan_train).union(set(N_nan_test)):\n",
    "        print(f'Number of rows with {n} missing values: {sum(N_nan_train==n)}/{sum(N_nan_test==n)}')"
   ]
  },
  {
   "cell_type": "code",
   "execution_count": 4,
   "id": "f69cd7c4-44d8-47d1-871a-c28131b09f65",
   "metadata": {},
   "outputs": [
    {
     "name": "stdout",
     "output_type": "stream",
     "text": [
      "\n",
      "Missing values in train/test datasets:\n",
      "\n",
      "PassengerId:             \u001b[32m0 (0.0%)\u001b[0m / \u001b[32m0 (0.0%)\u001b[0m\n",
      "HomePlanet:           \u001b[31m201 (2.3%)\u001b[0m / \u001b[31m87 (2.0%)\u001b[0m\n",
      "CryoSleep:            \u001b[31m217 (2.5%)\u001b[0m / \u001b[31m93 (2.2%)\u001b[0m\n",
      "Cabin:               \u001b[31m199 (2.3%)\u001b[0m / \u001b[31m100 (2.3%)\u001b[0m\n",
      "Destination:          \u001b[31m182 (2.1%)\u001b[0m / \u001b[31m92 (2.2%)\u001b[0m\n",
      "Age:                  \u001b[31m179 (2.1%)\u001b[0m / \u001b[31m91 (2.1%)\u001b[0m\n",
      "VIP:                  \u001b[31m203 (2.3%)\u001b[0m / \u001b[31m93 (2.2%)\u001b[0m\n",
      "RoomService:          \u001b[31m181 (2.1%)\u001b[0m / \u001b[31m82 (1.9%)\u001b[0m\n",
      "FoodCourt:           \u001b[31m183 (2.1%)\u001b[0m / \u001b[31m106 (2.5%)\u001b[0m\n",
      "ShoppingMall:         \u001b[31m208 (2.4%)\u001b[0m / \u001b[31m98 (2.3%)\u001b[0m\n",
      "Spa:                 \u001b[31m183 (2.1%)\u001b[0m / \u001b[31m101 (2.4%)\u001b[0m\n",
      "VRDeck:               \u001b[31m188 (2.2%)\u001b[0m / \u001b[31m80 (1.9%)\u001b[0m\n",
      "Name:                 \u001b[31m200 (2.3%)\u001b[0m / \u001b[31m94 (2.2%)\u001b[0m\n",
      "\n",
      "Number of rows with 0 missing values: 6606/3281\n",
      "Number of rows with 1 missing values: 1867/879\n",
      "Number of rows with 2 missing values: 203/113\n",
      "Number of rows with 3 missing values: 17/4\n"
     ]
    }
   ],
   "source": [
    "compute_missing_values(train_df,test_df)"
   ]
  },
  {
   "cell_type": "markdown",
   "id": "4942b2ca-9a94-41bf-a758-6b8eb4ad9b14",
   "metadata": {},
   "source": [
    "For more comments about the nature and interpretation of each feature, please visit <a href=\"https://www.kaggle.com/code/fertmeneses/spaceship-titanic-feature-engineering\">Spaceship Titanic 💡 Feature engineering.</a>"
   ]
  },
  {
   "cell_type": "markdown",
   "id": "8db3f715-6231-4bd6-8d98-fb2681996195",
   "metadata": {},
   "source": [
    "<a id=\"Basic-feature-engineering\"></a>\n",
    "## <span style=\"color:teal;font-weight:bold;\">Basic feature engineering</span>\n",
    "\n",
    "Except for the *PassengerID* feature, most features in both the training and test sets have around **2% missing values**. In order to correct them, I'll make some reasonable assumptions and deductions using the original information. \n",
    "\n",
    "In this **basic feature engineering** step, I avoid creating new features that combine multiple columns, since doing so could multiply the missing values. Instead, I focus on:\n",
    "\n",
    "- Extracting additional information from **individual features**.\n",
    "\n",
    "- Making simple transformations, such as **renaming** columns.\n",
    "\n",
    "For more details about the reasoning behind each transformation, feel free to check out my earlier notebook:\n",
    "\n",
    "<a href=\"https://www.kaggle.com/code/fertmeneses/spaceship-titanic-feature-engineering\">Spaceship Titanic 💡 Feature engineering.</a>\n",
    "\n",
    "In the following cells, I just apply that code to prepare the data."
   ]
  },
  {
   "cell_type": "code",
   "execution_count": 5,
   "id": "fdaa7353-a30a-4d28-83c0-3079de030e19",
   "metadata": {},
   "outputs": [],
   "source": [
    "# First generate the corrected datasets:\n",
    "train_df_FE = train_df.copy()\n",
    "test_df_FE = test_df.copy()\n",
    "\n",
    "# # # \"PassengerId\": new features \"IDgroup\" and \"GroupMembers\" # # #\n",
    "\n",
    "train_df_FE['IDgroup'] = train_df['PassengerId'].apply(\n",
    "    lambda x: int(x.split('_')[0]))\n",
    "test_df_FE['IDgroup'] = test_df['PassengerId'].apply(\n",
    "    lambda x: int(x.split('_')[0]))\n",
    "# Identify ocurrences for every unique value in IDgroup:\n",
    "ocurrences = pd.concat([train_df_FE['IDgroup'], test_df_FE['IDgroup']]).value_counts().to_dict()\n",
    "for dataset in [train_df_FE,test_df_FE]:\n",
    "    dataset['GroupMembers'] = dataset['IDgroup'].apply(lambda x: ocurrences[x])\n",
    "# Drop unnecessary feature:\n",
    "train_df_FE = train_df_FE.drop('PassengerId',axis=1)\n",
    "test_df_FE = test_df_FE.drop('PassengerId',axis=1)\n",
    "\n",
    "# # # \"CryoSleep\": make numeric # # #\n",
    "\n",
    "for dataset in [train_df_FE,test_df_FE]:\n",
    "    dataset['CryoSleep'] = dataset['CryoSleep'].apply(\n",
    "        lambda x: np.nan if x!=x else (1 if x else 0))\n",
    "\n",
    "# # # \"VIP\": make numeric # # #\n",
    "\n",
    "for dataset in [train_df_FE,test_df_FE]:\n",
    "    dataset['VIP'] = dataset['VIP'].apply(\n",
    "        lambda x: np.nan if x!=x else (1 if x else 0))\n",
    "\n",
    "# # # \"Cabin\": new features \"Cabin_Deck\", \"Cabin_num\" and \"Cabin_isPort\" # # #\n",
    "\n",
    "# Generate list of unique values:\n",
    "cabin = list(train_df['Cabin'].loc[~train_df['Cabin'].isna()].values)+\\\n",
    "        list(test_df['Cabin'].loc[~test_df['Cabin'].isna()].values)\n",
    "# Separate \"Cabin\" into three parts:\n",
    "cabin_X = ['Cabin_Deck','Cabin_num','Cabin_Side']\n",
    "for i,cabin in enumerate(cabin_X):\n",
    "    train_df_FE[cabin] = train_df['Cabin'].apply(\n",
    "        lambda x: np.nan if x!=x else (\n",
    "            x.split('/')[i]))\n",
    "    test_df_FE[cabin] = test_df['Cabin'].apply(\n",
    "        lambda x: np.nan if x!=x else (\n",
    "            x.split('/')[i]))\n",
    "# Make 'Cabin_num' numeric:\n",
    "for dataset in [train_df_FE,test_df_FE]:\n",
    "    dataset['Cabin_num'] = pd.to_numeric(dataset['Cabin_num'], errors='coerce')\n",
    "\n",
    "# Change 'Cabin_Side' to 'Cabin_isPort' and make it boolean/numeric:\n",
    "train_df_FE['Cabin_isPort'] = train_df_FE['Cabin_Side'].apply(\n",
    "    lambda x: np.nan if x!=x else (1 if x=='P' else 0))\n",
    "test_df_FE['Cabin_isPort'] = test_df_FE['Cabin_Side'].apply(\n",
    "    lambda x: np.nan if x!=x else (1 if x=='P' else 0))\n",
    "# Drop unnecesary features:\n",
    "for feature in ['Cabin','Cabin_Side']:\n",
    "    train_df_FE = train_df_FE.drop(feature,axis=1)\n",
    "    test_df_FE = test_df_FE.drop(feature,axis=1)\n",
    "\n",
    "# # # \"Destination\" redefinition # # #\n",
    "\n",
    "train_df_FE[\"Destination\"] = train_df[\"Destination\"].apply(\n",
    "    lambda x: np.nan if x!=x else (\n",
    "    \"Cancri\" if x==\"55 Cancri e\" else (\n",
    "        \"PSO\" if x==\"PSO J318.5-22\" else \"Trappist\"))\n",
    ")\n",
    "test_df_FE[\"Destination\"] = test_df[\"Destination\"].apply(\n",
    "    lambda x: np.nan if x!=x else (\n",
    "    \"Cancri\" if x==\"55 Cancri e\" else (\n",
    "        \"PSO\" if x==\"PSO J318.5-22\" else \"Trappist\"))\n",
    ")\n",
    "\n",
    "# # # Expense-features redefinition # # #\n",
    "\n",
    "for dataset in [train_df_FE, test_df_FE]:\n",
    "    dataset.rename(columns={\n",
    "        'RoomService': 'ExpRS',\n",
    "        'FoodCourt': 'ExpFC',\n",
    "        'ShoppingMall': 'ExpSM',\n",
    "        'Spa': 'ExpSpa',\n",
    "        'VRDeck': 'ExpVR'\n",
    "        }, inplace=True)\n",
    "\n",
    "# # # \"Name\" feature: new features \"Name_Last\" and \"Ocurrence_LastName\" # # #\n",
    "\n",
    "# Training dataset:\n",
    "train_df_FE['Name_Last'] = train_df['Name'].apply(\n",
    "    lambda x: np.nan if x!=x else (\n",
    "        x.split(' ')[-1]))\n",
    "# Testing dataset:\n",
    "test_df_FE['Name_Last'] = test_df['Name'].apply(\n",
    "    lambda x: np.nan if x!=x else (\n",
    "        x.split(' ')[-1]))\n",
    "# Identify ocurrences for every unique value in Name_Last:\n",
    "ocurrences = pd.concat([train_df_FE['Name_Last'], test_df_FE['Name_Last']]).value_counts().to_dict()\n",
    "for dataset in [train_df_FE,test_df_FE]:\n",
    "    dataset['Ocurrence_LastName'] = dataset['Name_Last'].apply(\n",
    "        lambda x: np.nan if x!=x else ocurrences[x])\n",
    "# Drop unnecessary features:\n",
    "train_df_FE = train_df_FE.drop('Name',axis=1)\n",
    "test_df_FE = test_df_FE.drop('Name',axis=1)"
   ]
  },
  {
   "cell_type": "markdown",
   "id": "e268a000-cb75-406d-abb3-43ee80f7d3cb",
   "metadata": {},
   "source": [
    "🧾 **Summary of Features After Basic Engineering**\n",
    "\n",
    "Below is a summary of all the features created or refined during the basic feature engineering step:\n",
    "\n",
    "| Feature | Definition |\n",
    "| :---: | :--- |\n",
    "| *IDgroup* | Identifier for the group a passenger is traveling with. Group members are often (but not always) family. |\n",
    "| *GroupMembers* | Number of passengers sharing the same *IDgroup* (including self). |\n",
    "| *Name_Last* | Last name of the passenger. |\n",
    "| *Ocurrence_LastName* | Number of passengers sharing the same last name (including self). |\n",
    "| *HomePlanet* | The planet the passenger departed from, typically their planet of permanent residence. |\n",
    "| *CryoSleep* | Indicates whether the passenger elected for cryogenic sleep during the voyage. Those in cryosleep are confined to their cabins. |\n",
    "| *Destination* | The planet the passenger is expected to disembark. |\n",
    "| *Age* | Passenger's age. |\n",
    "| *VIP* | Indicates if the passenger paid for VIP service. |\n",
    "| *Cabin_Deck* | The deck where the passenger’s cabin is located. |\n",
    "| *Cabin_num* | Numeric identifier of the passenger's cabin. |\n",
    "| *Cabin_isPort* | Indicates the side of the ship: 1 for Port, 0 for Starboard. |\n",
    "| *ExpRS* | Expenditure at the Room Service luxury amenity. |\n",
    "| *ExpFC* | Expenditure at the Food Court luxury amenity. |\n",
    "| *ExpSM* | Expenditure at the Shopping Mall luxury amenity. |\n",
    "| *ExpSpa* | Expenditure at the Spa luxury amenity. |\n",
    "| *ExpVR* | Expenditure at the VR Deck luxury amenity. |"
   ]
  },
  {
   "cell_type": "markdown",
   "id": "e7de9aaf-49cf-4094-b055-f0d368a57d45",
   "metadata": {},
   "source": [
    "<a id=\"ML-data-imputation\"></a>\n",
    "# <span style=\"color:teal;font-weight:bold;\">Machine learning data imputation</span>\n",
    "\n",
    "Now it's time to correct the missing data... Normally, one might start by first **analyzing feature correlations** and applying **manual corrections** where possible, and then fill any remanining missing values based on standard defaults, such as mean values. \n",
    "\n",
    "However, in this notebook I take a different route and implement a **Machine Learning data imputation method**. Following the same spirit of this competition, which is to predict the *Transported* feature based on all other features, the idea is to **predict missing values of any feature** using the known values of the remaining features, excluding the *Transported* feature.\n",
    "\n",
    "Machine Learning imputation (MLI) can be applied in two different stages:\n",
    "- **Before** manual corrections (quicker and more automated).\n",
    "- **After** manual corrections (likely more precise).\n",
    "\n",
    "In this notebook, I **explore both approaches** and compare their impact on the final submission performance.\n",
    "\n",
    "🧠 **My MLI Method: Step-by-Step**\n",
    "\n",
    "The imputation strategy is applied feature-by-feature, and each target feature is treated independently. Here's how it works:\n",
    "\n",
    "1. **Combine training and testing datasets** into a single dataset $W$, excluding the *Transported* feature.\n",
    "\n",
    "2. **Select the relevant predictor features**.\n",
    "> For example, I exclude the *Name_Last* feature as a predictor,since it has too many unique values and would probably confuse the ML model. Non-relevant features are dropped from $W$ at this stage.\n",
    "\n",
    "3. **Select a subset $W_c$ that only includes complete rows**, without missing values in any feature.\n",
    "\n",
    "4. **Split $W_c$ into training $W_{c,train}$ and testing $W_{c,test}$ sets** using a 75/25 ratio..\n",
    "\n",
    "5. **Optimize and choose the ML hyperparameters**.\n",
    "> The ML model is trained in the the $W_{c,train}$ dataset and evaluated in the $W_{c,test}$ dataset. This step defines the final ML model $M$ for the target feature.\n",
    "\n",
    "6. **Retrain the $M$ model** on the full $W_c$ dataset.\n",
    "> Evaluation metrics:\n",
    "> - Classification tasks (non-numeric target feature): either [**accuracy**](https://scikit-learn.org/stable/modules/generated/sklearn.metrics.accuracy_score.html) or [**F1-score**](https://scikit-learn.org/stable/modules/generated/sklearn.metrics.f1_score.html).\n",
    "> - Regression tasks (numeric target feature), either [**Mean Absolute Error (MAE)**](https://scikit-learn.org/stable/modules/generated/sklearn.metrics.mean_absolute_error.html) or [**Root Mean Squared Error (RMSE)**](https://scikit-learn.org/stable/modules/generated/sklearn.metrics.root_mean_squared_error.html).\n",
    "\n",
    "7. **Make a dataset $W_{target}$** with all rows from $W$ where the target feature is missing.\n",
    "\n",
    "8. **Temporarily fill missing values in the predictors** in the $W_{target}$ dataset, using mean (for numerical) or mode (for non-numeric) values from the full $W$ dataset.\n",
    "> This correction is only for model input, these temporary values won't be stored in the final data.\n",
    "\n",
    "9. Use the trained model $M$ to **predict the mising values from the target feature** in $W_{target}$.\n",
    "\n",
    "10. **Update the $W$ dataset** with the predicted values for the target feature.\n",
    "> Other missing values (from the predictor features) remain untouched.\n",
    "\n",
    "11. **Separate the imputed $W$ dataset** back into training and testing datasets."
   ]
  },
  {
   "cell_type": "markdown",
   "id": "14d6eaec-8963-4d2b-be07-3b137384c22e",
   "metadata": {},
   "source": [
    "<a id=\"Hyperparameters-optimization\"></a>\n",
    "## <span style=\"color:teal;font-weight:bold;\">Hyperparameters optimization</span>\n",
    "\n",
    "The following section defines the hyperparameter optimization function, which essentially performs a **manual grid search**.\n",
    "\n",
    "I focus on **two model families**:\n",
    "\n",
    "- Random Forest (Classifier & Regressor)\n",
    "- Gradient Boosting (Classifier & Regressor)\n",
    "\n",
    "The grid search explores variations of the following hyperparameters:\n",
    "\n",
    "- n_estimators (number of trees)\n",
    "- max_depth (maximum depth of each tree)\n",
    "\n",
    "⚙️ Note: This is a simplified search strategy designed to balance performance and execution time.\n",
    "Users are very welcome to extend or adapt this method to their own needs."
   ]
  },
  {
   "cell_type": "code",
   "execution_count": 6,
   "id": "01aa4324-8d9a-49db-9927-c3320af61fd2",
   "metadata": {},
   "outputs": [],
   "source": [
    "from sklearn.model_selection import train_test_split\n",
    "from sklearn.metrics import f1_score\n",
    "from sklearn.metrics import accuracy_score\n",
    "from sklearn.metrics import mean_absolute_error\n",
    "from sklearn.metrics import root_mean_squared_error\n",
    "from sklearn.ensemble import (RandomForestClassifier,\n",
    "RandomForestRegressor,\n",
    "GradientBoostingClassifier,\n",
    "GradientBoostingRegressor\n",
    ")\n",
    "\n",
    "\n",
    "def ML_data_imp_optim(dfs,target_feat,n_est_options=[50,100],\n",
    "                      max_d_options=[3,5,7],\n",
    "                      drop_feats=['Name_Last','IDgroup','Transported'],\n",
    "                      reg_error='RMSE',cla_error='F1'):\n",
    "    \"\"\"\n",
    "    Optimize Machine Learning model for imputing missing values for a target feature, \n",
    "    using the known values of the other features.\n",
    "    --- Inputs ---\n",
    "    {dfs} [List]: Each element is a pandas dataframe that will be considered for the\n",
    "    univocal correlation and then corrected.\n",
    "    {target_feat} [String]: Name of the target feature.\n",
    "    {n_est_options} [List]: Options for number of estimators, common to all ML models.\n",
    "    {mad_d_options} [List]: Options for maximum depth, common to all ML models.\n",
    "    {drop_feats} [List]: Each element is a feature from the input datasets that\n",
    "    will be dropped, then it will not participate in the data imputation process.\n",
    "    {reg_error} ['RMSE' or 'MAE']: Type of error to evaluate regression results. \n",
    "    'RMSE' means Root Mean Squared Error, 'MAE' means Mean Absolute Error.\n",
    "    {cla_error} ['F1' or 'Acc']: Type of error to evaluate classification results. 'F1'\n",
    "    means F1-score (involves recall and precision), 'Acc' means Accuracy error. \n",
    "    Note: F1 only works on binary features, for multiclass feature the error will\n",
    "    always be 'Acc'.\n",
    "    \"\"\"\n",
    "    # Initiate variables, concatenate datasets and drop selected features:\n",
    "    df_all = pd.concat(dfs) # Combine datasets\n",
    "    df_all = df_all.drop(drop_feats,axis=1)\n",
    "    # One-Hot Encode object features (other than the target feature):\n",
    "    feats_enc = [feat for feat in df_all.columns if \n",
    "                 df_all[feat].dtype=='object' and feat!=target_feat]\n",
    "    if len(feats_enc)>0:\n",
    "        data_enc = pd.get_dummies(df_all[feats_enc])\n",
    "        df_all = pd.concat([df_all, data_enc], axis=1)\n",
    "        # Drop source-encoded features: \n",
    "        df_all = df_all.drop(feats_enc,axis=1)   \n",
    "\n",
    "    # Prepare training and testing datasets to select ML model:  \n",
    "    df_all_full = df_all[~df_all.isnull().any(axis=1)] # Identify complete rows    \n",
    "    df_train, df_test = train_test_split(df_all_full, test_size=0.25) # Split train/test datasets\n",
    "    x_train = df_train.drop([target_feat],axis=1)\n",
    "    y_train = df_train[target_feat]\n",
    "    x_test = df_test.drop(target_feat,axis=1)\n",
    "    y_test = df_test[target_feat]\n",
    "\n",
    "    # Identify if feature's type is 'object' or not:\n",
    "    is_object = True if df_all[target_feat].dtype=='object' else False\n",
    "    # If not object, then check if it is in fact boolean:\n",
    "    is_boolean = True if len(set(df_all_full[target_feat]))==2 and not is_object else False\n",
    "    is_numeric = True if (not is_object and not is_boolean) else False\n",
    "    \n",
    "    # Prepare ML models according to classification task:\n",
    "    if is_object:\n",
    "        models = {'Random Forest Classifier':RandomForestClassifier(),\n",
    "                  'Gradient Boosting Classifier':GradientBoostingClassifier()}\n",
    "    else:\n",
    "        models = {'Random Forest Regressor':RandomForestRegressor(),\n",
    "                  'Gradient Boosting Regressor':GradientBoostingRegressor()}\n",
    "    # Train and test ML models and keep the best:\n",
    "    n_est_best, max_d_best, best_model, best_score = 'None','None','None',0 # Initiate\n",
    "    best_score = 0 if not is_numeric else 1e6\n",
    "    for model in models:\n",
    "        ML_model = models[model]\n",
    "        for n_est in n_est_options:\n",
    "            for max_d in max_d_options:\n",
    "                # Prepare ML model:\n",
    "                ML_model.random_state = 0 # Set random seed\n",
    "                ML_model.n_estimators = n_est # Set number of estimators\n",
    "                ML_model.max_depth = max_d # Set maximum depth\n",
    "                # Train the model, predict target feature:\n",
    "                ML_model.fit(x_train,y_train) # Train the model\n",
    "                preds = ML_model.predict(x_test) # Predict target feature\n",
    "                # If target feature is boolean, transform to 0/1:\n",
    "                if is_boolean:\n",
    "                    preds = (preds > .5).astype(float)\n",
    "                # Assign score:\n",
    "                if is_object or is_boolean: # Classification\n",
    "                    if cla_error == 'F1' and len(set(y_test))<3:\n",
    "                        score = f1_score(y_test,preds)\n",
    "                        metrics = 'F1-score'\n",
    "                    elif cla_error == 'Acc' or len(set(y_test))>2:\n",
    "                        score = accuracy_score(y_test,preds)\n",
    "                        metrics = 'Accuracy score'\n",
    "                else: # Regression\n",
    "                    if reg_error == 'RMSE':\n",
    "                        score = root_mean_squared_error(y_test,preds)\n",
    "                    elif reg_error == 'MAE':\n",
    "                        score = mean_absolute_error(y_test,preds)\n",
    "                # Update best model and benchmaks:\n",
    "                if (score > best_score and not is_numeric) or (score < best_score and is_numeric):\n",
    "                    best_score = score\n",
    "                    best_model = model\n",
    "                    n_est_best = n_est\n",
    "                    max_d_best = max_d\n",
    "    print('Best model for',colored(target_feat,attrs=['bold']),':')\n",
    "    print(f'{best_model}, {n_est_best} estimators, max depth {max_d_best}')\n",
    "    if is_object or is_boolean:\n",
    "        print(f'{metrics} (classification): {best_score:.4f}.\\n')\n",
    "    else:\n",
    "        print(f'{reg_error} (regression): {best_score:.2f} (mean value {np.mean(df_all_full[target_feat]):.2f}).\\n')"
   ]
  },
  {
   "cell_type": "markdown",
   "id": "b936e88e-c78c-4b2f-983b-466c893dcd85",
   "metadata": {},
   "source": [
    "Below, I show some options during my exploration for hyperparameters optimization. The **target features** are implicitely defined as all those features appearing in the search. \n",
    "\n",
    "📝 Note: Because hyperparameter optimization can be time-consuming, I’ve avoided running it during this notebook execution. If you’d like to experiment with the optimization process yourself, simply set: *optimize_hyps*=True."
   ]
  },
  {
   "cell_type": "code",
   "execution_count": 7,
   "id": "3c5633e2-07db-4e57-bfd1-d32e7d277761",
   "metadata": {},
   "outputs": [],
   "source": [
    "# The following options for hyperparameters are examples from my last fine tuning:   \n",
    "hyps_dict = {\n",
    "    'HomePlanet': {'n_est_opts': [300,400,500], 'max_d_opts': [3,4,5]},\n",
    "    'CryoSleep': {'n_est_opts': [100,125,150], 'max_d_opts': [3,4,5]},\n",
    "    'Destination': {'n_est_opts': [75,100,125], 'max_d_opts': [2,3,4]},\n",
    "    'Age': {'n_est_opts': [10,30,50], 'max_d_opts': [3,4,5]},\n",
    "    'VIP': {'n_est_opts': [75,100,125], 'max_d_opts': [5,6,7]},\n",
    "    'ExpRS': {'n_est_opts': [800,1200,1500], 'max_d_opts': [1,2,3]},\n",
    "    'ExpFC': {'n_est_opts': [800,1200,1500], 'max_d_opts': [1,2,3,4]},\n",
    "    'ExpSM': {'n_est_opts': [800,1000,1200], 'max_d_opts': [3,4,5]},\n",
    "    'ExpSpa': {'n_est_opts': [800,1200,1500], 'max_d_opts': [1,2,3,4]},\n",
    "    'ExpVR': {'n_est_opts': [1000,1200,1400], 'max_d_opts': [3,4,5]},\n",
    "    'Cabin_Deck': {'n_est_opts': [300,500,700], 'max_d_opts': [4,5,6]},\n",
    "    'Cabin_num': {'n_est_opts': [75,100,125], 'max_d_opts': [2,3,4]},\n",
    "    'Cabin_isPort': {'n_est_opts': [300,500,700], 'max_d_opts': [4,5,6]},\n",
    "}\n",
    "\n",
    "# Choose optimize_hyps=True if you want to run the ML optimization process:\n",
    "optimize_hyps = False\n",
    "if optimize_hyps:\n",
    "    # Impute missing values using ML:\n",
    "    for feat in hyps_dict:\n",
    "        # Correct missing values on single feature for both training and testing datasets:\n",
    "        n_est_options = hyps_dict[feat]['n_est_opts']\n",
    "        max_d_options = hyps_dict[feat]['max_d_opts']\n",
    "        ML_data_imp_optim([train_df_FE,test_df_FE],feat,\n",
    "                          n_est_options=n_est_options,max_d_options=max_d_options,\n",
    "                          reg_error='RMSE',cla_error='F1')"
   ]
  },
  {
   "cell_type": "markdown",
   "id": "1bb6aa4f-28f4-4006-ad12-6207a05b4634",
   "metadata": {},
   "source": [
    "The results of my search are summarized in the next table, in which:\n",
    "\n",
    "- GBC stands for Gradient Boosting Classifier.\n",
    "- GBR stands for Gradient Boosting Regressor.\n",
    "- RFC stands for Random Forest Classifier.\n",
    "- RFR stands for Random Forest Regressor.\n",
    "\n",
    "To help interpret the regression results, the mean value of each feature in the training set is also included as a reference point."
   ]
  },
  {
   "cell_type": "markdown",
   "id": "3936f3b4-a3e3-4784-9a8c-59f92a26a7b3",
   "metadata": {},
   "source": [
    "<!-- Scoring: F1/Accuracy (classification), RMSE (regression) -->\n",
    "| Feature | ML model | n_estimators | max_depth | F1-score | RMSE score | Mean value (Reg.) |\n",
    "| :---: | :---: | :---: | :---: | :---: | :---: | :---: |\n",
    "| **HomePlanet** | GBC | 500 | 5 | **0.9521** | - | - |\n",
    "| **CryoSleep** | GBR | 100 | 3 | **0.9351** | - | - |\n",
    "| **Destination** | RFC | 75 | 2 | **0.7011** | - | - |\n",
    "| **Age** | GBR | 30 | 5 | - | **12.75** | 28.81 |\n",
    "| **VIP** | GBR | 75 | 7 | **0.1795** | - | - |\n",
    "| **ExpRS** | GBR | 1200 | 2 | - | **538.00** | 221.44 |\n",
    "| **ExpFC** | RFR | 1200 | 3 | - | **1297.17** | 459.85 |\n",
    "| **ExpSM** | RFR | 1000 | 4 | - | **502.27** | 177.15 |\n",
    "| **ExpSpa** | RFR | 1200 | 3 | - | **1131.54** | 308.05 |\n",
    "| **ExpVR** | RFR | 1200 | 4 | - | **914.60** | 302.65 |\n",
    "| **Cabin_Deck** | GBC | 300 | 6 | **0.6823** | - | - |\n",
    "| **Cabin_num** | GBR | 75 | 4 | - | **393.70** | 604.99 |\n",
    "| **Cabin_isPort** | GBR | 300 | 6 | **0.5239** | - | - |"
   ]
  },
  {
   "cell_type": "markdown",
   "id": "1a9c498d-b94c-490a-b75e-1aa63f1125db",
   "metadata": {},
   "source": [
    "📊 **ML Imputation Performance Summary**\n",
    "\n",
    "Overall, the ML models **perform remarkably well** across most features, although it has limitations as well. Here’s a breakdown by feature:\n",
    "\n",
    "- For example, imputing the ***Destination*** feature by random chance would yield ~33% accuracy, but the ML model achieves **~70% accuracy**.\n",
    "\n",
    "- For the ***HomePlanet*** and ***CryoSleep*** features, the predictions are very reliable, reaching **F1-scores above 90%**.\n",
    "\n",
    "- For the ***Age*** feature, the RMSE score is relatively low compared to their mean values, indicating **reliable predictions**.\n",
    "\n",
    "- Conversely, for the **expense fields** the RMSE score is relatively high compared to their mean values, suggesting that **predictions are not precise**.\n",
    "\n",
    "- The ***VIP*** predictions are very limited too, achieving a **poor 0.1795 F1-score**.\n",
    "\n",
    "- For the ***Cabin_Deck*** feature, which has 8 unique values, the **~70% F1-score** is much larger than the ~12% chance of randomly guessing the right category.\n",
    "\n",
    "- For the ***Cabin_num*** feature, the ~400 RMSE score is below the 600 average value, but this feature should have precision in the order of units, so the **results may not be reliable**.\n",
    "\n",
    "- Finally, ML performance on ***Cabin_isPort*** is just slightly better than random guessing (~50%), implying that **this feature may not be strongly correlated with the available predictors**.\n",
    "\n",
    "📌 These results highlight both the strengths and limitations of ML-based imputation and can help guide decisions about which features may still require manual refinement."
   ]
  },
  {
   "cell_type": "markdown",
   "id": "fe4b8164-5d8c-42a2-bcef-9a6fec45eb70",
   "metadata": {},
   "source": [
    "<a id=\"Data-imputation-in-action\"></a>\n",
    "## <span style=\"color:teal;font-weight:bold;\">Data imputation in action</span>\n",
    "\n",
    "So far, I have already optimized a Machine Learning model for each target feature. The next step is to apply these models to impute the missing data. There are two possible strategies:\n",
    "\n",
    "- **Constructive imputation**:\n",
    "Each feature is imputed sequentially, and the training/testing datasets are updated immediately after each prediction.\n",
    "> In this case, target features are sorted according to the number of missing values (ascending). This ensures that features with fewer gaps are corrected first, improving the quality of predictors for the remaining features.\n",
    "\n",
    "- **Parallel imputation**:\n",
    "All features are imputed independently, and updates to the datasets are applied only after the entire imputation process finishes.\n",
    "\n",
    "Below, I load the **best hyperparameters** that I obtained during the optimization process and then **impute the datasets**.\n",
    "\n",
    "📝 Note: Because the imputation process can be time-consuming, I’ve avoided running it during this notebook execution. Instead, I load the corrected datasets that I previously saved. If you’d like to experiment with the imputation process yourself and generate your own corrected datasets, simply set: *run_imputation*=True."
   ]
  },
  {
   "cell_type": "code",
   "execution_count": 8,
   "id": "b99b1878-26ce-4b54-84e8-6041259be6a2",
   "metadata": {},
   "outputs": [],
   "source": [
    "def sort_features(df,target_feats):\n",
    "    \"\"\"\n",
    "    Sort features in a dataset according to the number of NaN values, from lower to higher.\n",
    "    --- Inputs ---\n",
    "    {df} [DataFrame]: Dataframe for which the features will be sorted.\n",
    "    {target_feats} [List]: Each element is a feature that will be sorted.\n",
    "    --- Returns ---\n",
    "    {sorted_feats} [List]: Sorted features, in ascending order of NaN values.\n",
    "    \"\"\"\n",
    "    # Generate dictionary with number of NaN values for each target feature:\n",
    "    N_nan = {feat: 0 for feat in target_feats} # Initiate counter for NaN values\n",
    "    for feat in target_feats:\n",
    "        N_nan[feat] = int(df[feat].isna().sum())\n",
    "    # Sort features by number of NaN values in ascending order:\n",
    "    sorted_feats = [feat_N[0] for feat_N in sorted(N_nan.items(), key=lambda item: item[1])]\n",
    "    \n",
    "    return sorted_feats\n",
    "\n",
    "from sklearn.model_selection import train_test_split\n",
    "\n",
    "def ML_data_imp_correct(dfs,target_feat,ML_model):\n",
    "    \"\"\"\n",
    "    Impute missing values for a target value using a Machine Learning algorithm, based\n",
    "    on the known values of the other features.\n",
    "    --- Inputs ---\n",
    "    {dfs} [List]: Each element is a pandas dataframe that will be considered for the\n",
    "    univocal correlation and then corrected.\n",
    "    {target_feat} [String]: Name of the target feature.\n",
    "    {ML_model} [sklearn ML model]: Machine Learning object with defined hyperparameters. \n",
    "    --- Returns ---\n",
    "    {y_test_list} [List]: Each element is a pandas series for the imputed target features,\n",
    "    including the original non-NaN values and the corrected ones, correlated with the input datasets.\n",
    "    \"\"\"\n",
    "    # 0. Prepare variables:\n",
    "    feat_imps = [] # Initiate imputed features for each input dataset\n",
    "    input_feats = [feat for feat in dfs[0] if feat!=target_feat]\n",
    "    index_nan = [df[target_feat].isna() for df in dfs] # Identify NaN indexes\n",
    "\n",
    "    # Combine datasets for training purposes, only rows which are not nan:\n",
    "    x_train = pd.concat([dfs[i].loc[~index_nan[i]][input_feats] for i in range(len(dfs))])\n",
    "    y_train = pd.concat([dfs[i].loc[~index_nan[i]][target_feat] for i in range(len(dfs))])\n",
    "    # Identify target column:\n",
    "    y_test_list = [df[target_feat] for df in dfs]\n",
    "\n",
    "    # 1.A Fill missing values with average/mode for all features except target, in training datasets:\n",
    "    for feat in x_train:\n",
    "        x_train = simple_correction_feat(x_train,feat)\n",
    "    # One-Hot Encode object features:\n",
    "    feats_enc = [feat for feat in x_train if x_train[feat].dtype=='object']\n",
    "    if len(feats_enc)>0:\n",
    "        data_enc = pd.get_dummies(x_train[feats_enc])\n",
    "        x_train = pd.concat([x_train, data_enc], axis=1)\n",
    "        # Drop source-encoded features: \n",
    "        x_train = x_train.drop(feats_enc,axis=1)\n",
    "\n",
    "    # 1.B Fill missing values with average/mode for all features except target, in testing datasets:\n",
    "    dfs_test = [] # Initiate list with all testing datasets\n",
    "    dfs_aux = [df.copy() for df in dfs] # Auxiliar copy of original datasets\n",
    "    for i in range(len(dfs_aux)):\n",
    "        # Make simple corrections:\n",
    "        for feat in dfs_aux[i]:\n",
    "            if dfs_aux[i][feat].isna().sum()>0:\n",
    "                dfs_aux[i] = simple_correction_feat(dfs_aux[i],feat)\n",
    "        # Identify rows with missing values of the target feature:\n",
    "        x_test = dfs_aux[i].loc[index_nan[i]][input_feats] \n",
    "        # One-Hot Encode object features:\n",
    "        feats_enc = [feat for feat in x_test if x_test[feat].dtype=='object']\n",
    "        if len(feats_enc)>0:\n",
    "            data_enc = pd.get_dummies(x_test[feats_enc])\n",
    "            x_test = pd.concat([x_test, data_enc], axis=1)\n",
    "            # Drop source-encoded features: \n",
    "            x_test = x_test.drop(feats_enc,axis=1)\n",
    "        # Add testing dataset to the list:\n",
    "        dfs_test.append(x_test)\n",
    "\n",
    "    # 1.C Only keep features which are common to all datasets:\n",
    "    common_cols = set([col for col in x_train]) # Initiate list with all features in training dataset\n",
    "    for df in dfs_test:\n",
    "        common_cols = common_cols.intersection(set([col for col in df]))\n",
    "    common_cols = list(common_cols) # Convert into list to fix order\n",
    "    x_train = x_train[common_cols]\n",
    "    for i in range(len(dfs_test)):\n",
    "        dfs_test[i] = dfs_test[i][common_cols]\n",
    "      \n",
    "    # 2. Train the ML model\n",
    "    ML_model.fit(x_train,y_train) # Train the model\n",
    "    print(f'Target feature: {target_feat}.')\n",
    "    print(f'ML model trained with {len(x_train)} rows.')\n",
    "    N_nan = int(sum(np.array([len(df) for df in dfs_test])))\n",
    "    print(f'Number of missing values to be corrected: {N_nan}.\\n')\n",
    "\n",
    "    # 3. Predict target feature\n",
    "    is_boolean = True if (y_train.dtype!='object' and len(set(y_train))==2) else False # Check if target is boolean\n",
    "    for i in range(len(dfs_test)):\n",
    "        # Make predictions:\n",
    "        preds = ML_model.predict(dfs_test[i]) # Predict target feature\n",
    "        # If target is boolean, convert to True/False and then to target feature's format\n",
    "        if is_boolean:\n",
    "            preds = (preds > .5).astype(float)\n",
    "            preds = preds.astype(y_train.dtype)\n",
    "        feat_imps.append(preds)\n",
    "\n",
    "    # Correct target column for each dataset in dfs:\n",
    "    for i_df in range(len(dfs_test)):\n",
    "        for j_idx in range(len(dfs_test[i_df])):\n",
    "            idx = dfs_test[i_df].index[j_idx]\n",
    "            y_test_list[i_df].at[idx] = feat_imps[i_df][j_idx]\n",
    "\n",
    "    return y_test_list\n",
    "\n",
    "def simple_correction_feat(df,feat):\n",
    "    \"\"\"\n",
    "    Correct a single feature in the dataset using the average value for a numerical feature\n",
    "    or the most frequent value for a non-numerical feature.\n",
    "    --- Inputs ---\n",
    "    {df} [Dataframe]: Dataframe to be corrected.\n",
    "    {feat} [String]: Target column in the dataframe that will be corrected.\n",
    "    --- Outputs ---\n",
    "    {df_corrected} [Dataframe]: Corrected Dataframe.\n",
    "    \"\"\"\n",
    "    df_corrected = df.copy() # Initiate corrected dataset\n",
    "    # Determine feature type:\n",
    "    feat_num = True if df[feat].dtypes != 'object' else False\n",
    "    # Correct feature:\n",
    "    if feat_num:\n",
    "        df_corrected[feat] = df[feat].fillna(value=df[feat].mean())\n",
    "    else:\n",
    "        most_freq = df[feat].value_counts(sort=True).index[0]\n",
    "        df_corrected[feat] = df[feat].fillna(value=most_freq)\n",
    "        \n",
    "    return df_corrected\n",
    "    \n",
    "def ML_impute_complete_dataset(dfs_input,ML_hyps,constructive=False,save_path='./'):\n",
    "    \"\"\"\n",
    "    Impute the missing values for the complete dataset, using a ML model for each feature.\n",
    "    --- Inputs ---\n",
    "    {dfs_input} [List]: Each element is a pandas dataframe that will be considered for the\n",
    "    univocal correlation and then corrected.\n",
    "    {ML_hyps} [Dictionary]: Machine Learning hyperparameters for each target feature. Each\n",
    "    key is a target feature that will be imputed, the value is a dictionary that must include\n",
    "    the following keys and values:\n",
    "    -Key: 'ML_model'. Value: Choose between 'RFC' (Random Forest Classifier), 'RFR' (Random\n",
    "    Forest Regressor), 'GBC' (Gradient Boosting Classifier) and 'GBR' (Gradient Boosting Regressor).\n",
    "    -Key: 'n_est'. Value: Number of estimators, e.g. 500.\n",
    "    -Key: 'max_d'. Value: Maximum depth for the model, e.g. 5.\n",
    "    {Constructive} [Boolean]: If True, each imputed feature is updated in the datasets, then\n",
    "    the ML corrected values are used to correct the remaining features.\n",
    "    {save_path} [String]: Path to save the datasets.\n",
    "    --- Returns ---\n",
    "    {dfs_MLI} [List]: Each element is a pandas series for the ML imputed datasets, correlated\n",
    "    with the input datasets.\n",
    "    In addition, save all imputed datasets in the {save_path} directory with names 'X_MLI', where\n",
    "    X is the order in the input datasets {dfs_input}.\n",
    "    \"\"\"\n",
    "    # Define target features (to be imputed):\n",
    "    target_feats = [feat for feat in ML_hyps]    \n",
    "    # Prepare new datasets for imputed data:\n",
    "    dfs_MLI = []\n",
    "    for df in dfs_input:\n",
    "        dfs_MLI.append(df[target_feats].copy())\n",
    "    if not constructive:\n",
    "        dfs_MLI_aux = [] # Auxiliar datasets will be needed to store imputed data\n",
    "        for df in dfs_MLI: \n",
    "            dfs_MLI_aux.append(df.copy())\n",
    "    \n",
    "    # Sort features (only relevant if {constructive}==True):\n",
    "    sorted_feats = sort_features(pd.concat(dfs_MLI),target_feats)\n",
    "    \n",
    "    # Data imputation:\n",
    "    for feat in target_feats:\n",
    "        # Define ML model:\n",
    "        if ML_hyps[feat]['ML_model']=='RFC':\n",
    "            ML_model = RandomForestClassifier()\n",
    "        elif ML_hyps[feat]['ML_model']=='RFR':\n",
    "            ML_model = RandomForestRegressor()\n",
    "        elif ML_hyps[feat]['ML_model']=='GBC':\n",
    "            ML_model = GradientBoostingClassifier()\n",
    "        elif ML_hyps[feat]['ML_model']=='GBR':\n",
    "            ML_model = GradientBoostingRegressor()\n",
    "        # Set hyperparameters:\n",
    "        ML_model.random_state = 0 # Random seed\n",
    "        ML_model.n_estimators = ML_hyps[feat]['n_est'] # Number of estimators\n",
    "        ML_model.max_depth = ML_hyps[feat]['max_d'] # Maximum depth\n",
    "        # Obtain imputed feature (all values):\n",
    "        feat_imps = ML_data_imp_correct(dfs_MLI,feat,ML_model)\n",
    "        # Update datasets:\n",
    "        for i in range(len(dfs_MLI)):\n",
    "            if constructive:            \n",
    "                dfs_MLI[i][feat] = feat_imps[i]\n",
    "            else:\n",
    "                dfs_MLI_aux[i][feat] = feat_imps[i]\n",
    "\n",
    "    # If the process is not constructive, then update the final imputed datasets:\n",
    "    if not constructive:\n",
    "        for i in range(len(dfs_MLI_aux)):\n",
    "            dfs_MLI[i] = dfs_MLI_aux[i].copy()\n",
    "    \n",
    "    # Additional corrections and final integration with any remaining features: \n",
    "    for i in range(len(dfs_MLI)):\n",
    "        if 'Cabin_num' in dfs_MLI[i]:\n",
    "            # Cabin_num must be an integer:\n",
    "            dfs_MLI[i]['Cabin_num'] = dfs_MLI[i]['Cabin_num'].astype(int)\n",
    "        # Expenses must be positive:\n",
    "        exp_features = ['ExpRS','ExpFC','ExpSM','ExpSpa','ExpVR']\n",
    "        for expense in exp_features:\n",
    "            if expense in dfs_MLI[i]:\n",
    "                dfs_MLI[i][expense] = dfs_MLI[i][expense].apply(lambda x: 0 if x<0 else x).astype(int)\n",
    "        # Age must be a positive integer:\n",
    "        if 'Age' in dfs_MLI[i]:\n",
    "            dfs_MLI[i]['Age'] = dfs_MLI[i]['Age'].apply(lambda x: 1 if x<0 else x).astype(int)\n",
    "        # Integrate any remaining features from the original dataset:\n",
    "        rem_feats = [feat for feat in dfs_input[i] if feat not in dfs_MLI[i]] \n",
    "        dfs_MLI[i] = pd.concat([dfs_input[i][rem_feats],dfs_MLI[i]],axis=1)\n",
    "        # Save imputed dataset:\n",
    "        dfs_MLI[i].to_csv(f'{save_path}/dataset_MLI_{i+1}.csv',index=False)\n",
    "\n",
    "    return dfs_MLI"
   ]
  },
  {
   "cell_type": "code",
   "execution_count": 9,
   "id": "42ab1af6-f5d0-404a-97cb-3c7a21644f75",
   "metadata": {},
   "outputs": [],
   "source": [
    "# Optimization gave the following results:\n",
    "best_hyps_FE = {\n",
    "    'HomePlanet': {'ML_model':'GBC','n_est': 500, 'max_d': 5},\n",
    "    'CryoSleep': {'ML_model':'RFR','n_est': 100, 'max_d': 3},\n",
    "    'Destination': {'ML_model':'GBC','n_est': 75, 'max_d': 2},\n",
    "    'Age': {'ML_model':'GBR','n_est': 30, 'max_d': 5},\n",
    "    'VIP': {'ML_model':'RFR','n_est': 75, 'max_d': 7},\n",
    "    'ExpRS': {'ML_model':'GBR','n_est': 1200, 'max_d': 2},\n",
    "    'ExpFC': {'ML_model':'RFR','n_est': 1200, 'max_d': 3},\n",
    "    'ExpSM': {'ML_model':'RFR','n_est': 1000, 'max_d': 4},\n",
    "    'ExpSpa': {'ML_model':'RFR','n_est': 1200, 'max_d': 3},\n",
    "    'ExpVR': {'ML_model':'RFR','n_est': 1200, 'max_d': 4},\n",
    "    'Cabin_Deck': {'ML_model':'GBC','n_est': 300, 'max_d': 6},\n",
    "    'Cabin_num': {'ML_model':'GBR','n_est': 75, 'max_d': 4},\n",
    "    'Cabin_isPort': {'ML_model':'GBR','n_est': 300, 'max_d': 6},    \n",
    "}"
   ]
  },
  {
   "cell_type": "code",
   "execution_count": 10,
   "id": "66cc3142-f642-4187-85c1-10260e176e91",
   "metadata": {},
   "outputs": [],
   "source": [
    "# Prepare parameters for data imputation\n",
    "run_imputation = False # Choose whether to run the data imputation or just load previous results\n",
    "best_hyps = best_hyps_FE # ML hyperparameters\n",
    "dfs_input = [train_df_FE,test_df_FE] # Input datasets\n",
    "if run_imputation:\n",
    "    # Run ML imputation:\n",
    "    train_df_FE_MLI, test_df_FE_MLI = ML_impute_complete_dataset(\n",
    "        dfs_input,best_hyps,constructive=False,save_path='./')   \n",
    "else:\n",
    "    # Load previous results:\n",
    "    train_df_FE_MLI = pd.read_csv('kaggle/Imputed_data/train_FE_MLI_round_G.csv') # Training dataset\n",
    "    test_df_FE_MLI = pd.read_csv('kaggle/Imputed_data/test_FE_MLI_round_G.csv') # Testing dataset"
   ]
  },
  {
   "cell_type": "markdown",
   "id": "8df13f69-d0c5-4cef-927c-9525d7e9a1d3",
   "metadata": {},
   "source": [
    "Once all features has been imputed, I generate two new features related to expenses:\n",
    "\n",
    "- *ExpTotal* [float]: combined expenses.\n",
    "- *Exp_zero* [boolean]: True if *ExpTotal*=0, else False."
   ]
  },
  {
   "cell_type": "code",
   "execution_count": 11,
   "id": "b9770099-35e8-4a7a-ac74-9197b5c88277",
   "metadata": {},
   "outputs": [],
   "source": [
    "def add_ExpTotal_Exp_zero(df):\n",
    "    \"\"\"\n",
    "    Generate 'ExpTotal' and 'Exp_zero' features for the input datasets, if not there yet.\n",
    "    * 'ExpTotal' is the combined sum all expense features with names 'ExpRS','ExpFC','ExpSM',\n",
    "    'ExpSpa' or 'ExpVR'.\n",
    "    * 'Exp_zero' is True if 'ExpTotal'==0, else False.\n",
    "    --- Inputs ---\n",
    "    {df} [DataFrame]: Input dataframe.\n",
    "    --- Returns ---\n",
    "    The input dataframe {df} is updated.\n",
    "    \"\"\"\n",
    "    if 'ExpTotal' not in df:\n",
    "        exp_features = ['ExpRS','ExpFC','ExpSM','ExpSpa','ExpVR'] # Expense features\n",
    "        df['ExpTotal'] = df[exp_features].sum(axis=\"columns\") # Add total expenses\n",
    "    if 'Exp_zero' not in df:\n",
    "        df['Exp_zero'] = True # Initiate boolean variable with True values\n",
    "        df.loc[df['ExpTotal']>0,'Exp_zero'] = False # Compute False values "
   ]
  },
  {
   "cell_type": "code",
   "execution_count": 12,
   "id": "5eba7feb-d22e-4dc6-8120-9b73e3664391",
   "metadata": {},
   "outputs": [],
   "source": [
    "# Generate 'ExpTotal' and 'Exp_zero' features:\n",
    "for df in [train_df_FE_MLI, test_df_FE_MLI]:\n",
    "    add_ExpTotal_Exp_zero(df)"
   ]
  },
  {
   "cell_type": "markdown",
   "id": "fa8172dc-4aa9-44b9-a37d-581bf4106b03",
   "metadata": {},
   "source": [
    "✅ **Final Check: Integrity of Imputation**\n",
    "\n",
    "As I show in the next lines, all missing values have been successfully imputed for the target features. In addition, I check that only the previously missing values were modified, while all non-missing values remained unchanged:"
   ]
  },
  {
   "cell_type": "code",
   "execution_count": 13,
   "id": "9ec9d245-9bbf-4189-b303-308bd1ad8947",
   "metadata": {},
   "outputs": [
    {
     "name": "stdout",
     "output_type": "stream",
     "text": [
      "\n",
      "Missing values in train/test datasets:\n",
      "\n",
      "HomePlanet:              \u001b[32m0 (0.0%)\u001b[0m / \u001b[32m0 (0.0%)\u001b[0m\n",
      "CryoSleep:               \u001b[32m0 (0.0%)\u001b[0m / \u001b[32m0 (0.0%)\u001b[0m\n",
      "Destination:             \u001b[32m0 (0.0%)\u001b[0m / \u001b[32m0 (0.0%)\u001b[0m\n",
      "Age:                     \u001b[32m0 (0.0%)\u001b[0m / \u001b[32m0 (0.0%)\u001b[0m\n",
      "VIP:                     \u001b[32m0 (0.0%)\u001b[0m / \u001b[32m0 (0.0%)\u001b[0m\n",
      "ExpRS:                   \u001b[32m0 (0.0%)\u001b[0m / \u001b[32m0 (0.0%)\u001b[0m\n",
      "ExpFC:                   \u001b[32m0 (0.0%)\u001b[0m / \u001b[32m0 (0.0%)\u001b[0m\n",
      "ExpSM:                   \u001b[32m0 (0.0%)\u001b[0m / \u001b[32m0 (0.0%)\u001b[0m\n",
      "ExpSpa:                  \u001b[32m0 (0.0%)\u001b[0m / \u001b[32m0 (0.0%)\u001b[0m\n",
      "ExpVR:                   \u001b[32m0 (0.0%)\u001b[0m / \u001b[32m0 (0.0%)\u001b[0m\n",
      "Cabin_Deck:              \u001b[32m0 (0.0%)\u001b[0m / \u001b[32m0 (0.0%)\u001b[0m\n",
      "Cabin_num:               \u001b[32m0 (0.0%)\u001b[0m / \u001b[32m0 (0.0%)\u001b[0m\n",
      "Cabin_isPort:            \u001b[32m0 (0.0%)\u001b[0m / \u001b[32m0 (0.0%)\u001b[0m\n",
      "\n",
      "Number of rows with 0 missing values: 8693/4277\n"
     ]
    }
   ],
   "source": [
    "# Check missing values:\n",
    "target_feats = [feat for feat in best_hyps_FE] # Target features\n",
    "compute_missing_values(train_df_FE_MLI[target_feats], test_df_FE_MLI[target_feats])"
   ]
  },
  {
   "cell_type": "markdown",
   "id": "f299a9c7-a910-4f2e-9163-2fddb225e4bf",
   "metadata": {},
   "source": [
    "<a id=\"MLI-Submission-performance\"></a>\n",
    "## <span style=\"color:teal;font-weight:bold;\">MLI submission performance</span>\n",
    "\n",
    "At this stage, I've completed the **Machine Learning Imputation (MLI) process** to correct all missing values, rather than using standard correction methods such as filling with mean or mode values. Now it's time to use the imputed dataset with some basic options of Machine Learning models and evaluate the performance in the competition.\n",
    "\n",
    "♟️ **Prediction Strategy**\n",
    "\n",
    "To generate predictions for the target feature *Transported*, I use all the imputed features along with the engineered *ExpTotal* and *Exp_zero* columns. I drop the *Name_Last* feature, because of its very high cardinality, and its associated *Ocurrence_LastName* feature.\n",
    "\n",
    "🤖 **Modeling and Submission**\n",
    "\n",
    "The following lines train a simple ML model, XGBClassifier in this case, predict the *Transported* values in the testing dataset and export the predictions file, ready for submission. "
   ]
  },
  {
   "cell_type": "code",
   "execution_count": 14,
   "id": "143583ff-bf6a-4462-8679-477dab1f8b3e",
   "metadata": {},
   "outputs": [],
   "source": [
    "def train_submit_ML(model,train_df,test_df,ID_test):\n",
    "    \"\"\"\n",
    "    Trains a Machine Learning model, predicts the Transported feature in the testing\n",
    "    dataset and saves the submission file.\n",
    "    --- Inputs ---\n",
    "    {model} [Machine Learning model]: ML model to be trained.\n",
    "    {train_df} [Dataframe]: Training dataset, it must contain the column \"Transported\".\n",
    "    {test_df} [Dataframe]: Testing dataset.\n",
    "    {ID_test} [Dataframe]: Single-column dataset containing the 'PassengerId' feature,\n",
    "    correlated with {test_df}.\n",
    "    Note: all object features with more than 10 unique values will be dropped from the\n",
    "    training and testing datasets.\n",
    "    --- Outputs ---\n",
    "    {train_score} [Float]: Training score.\n",
    "    Also, produces the file 'submission.csv' with the 'Transported' predictions for the \n",
    "    testing dataset, ready to submit to the Kaggle competition.\n",
    "    \"\"\"\n",
    "    # Extract Transported target feature in training dataset:\n",
    "    y_train = train_df['Transported']\n",
    "    x_train = train_df.drop(['Transported'],axis=1)\n",
    "    # Drop non-suitable features:\n",
    "    feat_not_enc = [feat for feat in x_train.columns if\n",
    "                    x_train[feat].dtype == 'object' and # Object-type\n",
    "                    x_train[feat].nunique()>10] # More than 10 unique values\n",
    "    x_train = x_train.drop(feat_not_enc,axis=1) \n",
    "    x_test = test_df.drop(feat_not_enc,axis=1)\n",
    "    \n",
    "    # Identify object features to be OneHot-encoded:\n",
    "    feat_enc = [feat for feat in x_train.columns if \n",
    "                x_train[feat].dtype == 'object'] # No more than 10 unique values\n",
    "    # OneHot-Encode features:\n",
    "    if len(feat_enc)>0:\n",
    "        data_train_enc = pd.get_dummies(x_train[feat_enc])\n",
    "        data_test_enc = pd.get_dummies(x_test[feat_enc])\n",
    "        # Prepare dataframes having only numeric/encoded features:\n",
    "        x_train_enc = pd.concat([x_train, data_train_enc], axis=1)\n",
    "        x_test_enc = pd.concat([x_test, data_test_enc], axis=1)\n",
    "        # Drop source-encoded features: \n",
    "        x_train_enc = x_train_enc.drop(feat_enc,axis=1)\n",
    "        x_test_enc = x_test_enc.drop(feat_enc,axis=1)\n",
    "    else:\n",
    "        x_train_enc = x_train.copy()\n",
    "        x_test_enc = x_test.copy() \n",
    "    \n",
    "    # Initialize ML model with fixed seed if possible:\n",
    "    if 'random_state' in dir(model):\n",
    "        model.random_state = 0 \n",
    "        \n",
    "    # Train the ML model:\n",
    "    model.fit(x_train_enc,y_train)\n",
    "    train_score = model.score(x_train_enc,y_train) # Get training score\n",
    "    \n",
    "    # Make submission file:\n",
    "    preds = model.predict(x_test_enc)\n",
    "    preds = preds.astype(bool) # Ensure the values are boolean\n",
    "    df_subm = pd.DataFrame({\n",
    "        \"PassengerId\": ID_test,\n",
    "        \"Transported\": preds\n",
    "    }).to_csv('submission.csv', index=False)\n",
    "\n",
    "    # Final output and message:\n",
    "    print(\"Training score:\", np.round(train_score,4))\n",
    "    print(\"Submission file ready.\")\n",
    "    \n",
    "    return train_score, preds"
   ]
  },
  {
   "cell_type": "code",
   "execution_count": 15,
   "id": "7b03578b-2769-4dc4-a12c-45301641a09e",
   "metadata": {},
   "outputs": [
    {
     "name": "stdout",
     "output_type": "stream",
     "text": [
      "Training score: 0.843\n",
      "Submission file ready.\n"
     ]
    }
   ],
   "source": [
    "from xgboost import XGBClassifier\n",
    "\n",
    "# Define predictor features\n",
    "predictor_feats = ['HomePlanet','CryoSleep','Destination','Age','VIP',\n",
    "                   'ExpRS','ExpFC','ExpSM','ExpSpa','ExpVR','ExpTotal',\n",
    "                   'Exp_zero','Cabin_Deck','Cabin_num', 'Cabin_isPort']\n",
    "\n",
    "# Define the Machine Learning model:   \n",
    "ML_model = XGBClassifier(n_estimators=100, max_depth=3)\n",
    "\n",
    "# Train the model, predict on testing dataset and prepare the submission file:\n",
    "train_score, preds = train_submit_ML(ML_model,\n",
    "                                     train_df_FE_MLI[predictor_feats+['Transported']],\n",
    "                                     test_df_FE_MLI[predictor_feats],\n",
    "                                     test_ID)"
   ]
  },
  {
   "cell_type": "markdown",
   "id": "35dbd9bc-c385-40ec-82c5-f41b351128ed",
   "metadata": {},
   "source": [
    "Using the previous code, I've trained several Machine Learning models and submitted my predictions. I played with the following options:\n",
    "\n",
    "- **Model type**: XGBClassifier, GradientBoostingClassifier, RandomForestClassifier.\n",
    "\n",
    "- **n_estimators**: the number of trees in the model.\n",
    "\n",
    "- **max_depth**: the maximum depth of each tree.\n",
    "\n",
    "All results were recorded in a .csv file, which I import below. I also load the submission results from my previous notebooks. Then, I can compare the different **preprocessing strategies**:\n",
    "\n",
    "- Only original features + Standard corrections (**SC**) [<a href=\"https://www.kaggle.com/code/fertmeneses/spaceship-titanic-getting-familiar\">Spaceship Titanic 🏁 Getting familiar</a>].\n",
    "- Feature engineering + Standard corrections (**FE+SC**) [<a href=\"https://www.kaggle.com/code/fertmeneses/spaceship-titanic-feature-engineering\">Spaceship Titanic 💡 Feature engineering</a>].\n",
    "- Feature engineering + Machine Learning Imputation (**FE+MLI**)."
   ]
  },
  {
   "cell_type": "code",
   "execution_count": 16,
   "id": "f48ae80d-1d56-4ecf-a6cf-ae1149e1c66b",
   "metadata": {},
   "outputs": [],
   "source": [
    "import matplotlib.pyplot as plt\n",
    "from matplotlib.pyplot import cm\n",
    "\n",
    "def compare_submission_scores(results,benchmark=None,figsize=(8,4),\n",
    "                              x_min_filter=None,xlim=None,):\n",
    "    \"\"\"\n",
    "    Plots training vs submission scores, for different training results.\n",
    "    --- Inputs ---\n",
    "    {results} [Dictionary]: Each key is the name for the set of results, its value\n",
    "    a Dataframe with columns \"train_score\" (training) and \"subm_score\" submissions.\n",
    "    {benchmark} [Float or None]: Benchmark score. Select None if there is none.\n",
    "    {figsize} [Tuple]: Define the size for the figure, in the format (width,length).\n",
    "    {x_min_filter} [Float or None]: Minimum threshold for submission score. If provided\n",
    "    (not None), all rows in training results with submission score below the threshold\n",
    "    will be ignored.\n",
    "    {xlim} [List or None]: If a list [xmin,xmax] is provided, set the x limits.\n",
    "    \"\"\"   \n",
    "    # Filter results, if minimum threshold was provided:\n",
    "    results_final = {}\n",
    "    for name in results:\n",
    "        if x_min_filter is not None:\n",
    "            results_final[name] = results[name][results[name]['subm_score']>=x_min_filter]\n",
    "        else:\n",
    "            results_final[name] = results[name]\n",
    "    # Configure figure:\n",
    "    markers = [\"o\",\"<\",\"s\",\"d\",\"v\",\"p\",\"P\",\"^\",\"*\",\"D\",\">\"]\n",
    "    colors_groups = cm.turbo(np.linspace(0, 1, 2*len(results_final)+1))\n",
    "    fig, ax = plt.subplots(figsize=figsize)\n",
    "    # Plot submission results:\n",
    "    for j,name in enumerate(results_final):\n",
    "        ax.scatter(results_final[name]['subm_score'],results_final[name]['train_score'],\n",
    "                   marker=markers[(j) % len(markers)],\n",
    "                   s=50,edgecolor=colors_groups[2*j+1],color=colors_groups[2*j+2],\n",
    "                   alpha=0.7,label=name)\n",
    "    # Plot benchmark score (if any):\n",
    "    if benchmark is not None:\n",
    "        ax.axvline(benchmark,ls=':',lw=1.5,color='b',\n",
    "                   label='Benchmark',alpha=0.7)\n",
    "    # Plot ideal training line:\n",
    "    all_subm_results = pd.concat([results_final[name]['subm_score'] for name in results_final],axis=0)\n",
    "    range_subm_score = [min(all_subm_results)*0.997,\n",
    "                        max(all_subm_results)*1.003]\n",
    "    ax.plot(range_subm_score,range_subm_score,'--k',alpha=0.5,\n",
    "            label='Ideal training')\n",
    "    # Additional configuration:\n",
    "    ax.set(xlabel=\"Submission Score\",ylabel=\"Training score\")\n",
    "    ax.legend(ncol=1,loc='upper left')\n",
    "    if xlim is not None:\n",
    "        ax.set_xlim(xlim)\n",
    "    fig.tight_layout()"
   ]
  },
  {
   "cell_type": "code",
   "execution_count": 17,
   "id": "195b8ce5-1bb9-45a8-a7f6-636c59fdda27",
   "metadata": {},
   "outputs": [
    {
     "data": {
      "image/png": "[encoded data removed]",
      "text/plain": [
       "<Figure size 800x400 with 1 Axes>"
      ]
     },
     "metadata": {},
     "output_type": "display_data"
    }
   ],
   "source": [
    "# Load submission results:\n",
    "df_res_orig_avg = pd.read_csv('kaggle/Training_results/03_submissions_Original_Avg.csv')\n",
    "df_res_FE_avg = pd.read_csv('kaggle/Training_results/03_submissions_FE_Avg.csv')\n",
    "df_res_FE_MLI = pd.read_csv('kaggle/Training_results/03_submissions_FE_MLI_G.csv')\n",
    "# Prepare results and compare them:\n",
    "results_general = {\n",
    "    'SC': df_res_orig_avg,\n",
    "    'FE + SC': df_res_FE_avg,\n",
    "    'FE + MLI': df_res_FE_MLI,\n",
    "}\n",
    "compare_submission_scores(results_general,figsize=(8,4),x_min_filter=0.78)"
   ]
  },
  {
   "cell_type": "markdown",
   "id": "c603aeec-df2d-45fa-a098-7ad2dfc41538",
   "metadata": {},
   "source": [
    "📊 **Performance plot**\n",
    "\n",
    "The plot displays all **submission scores** (horizontal axis) and **training scores** (vertical axis) for many ML models, grouped by the **preprocessing strategies**. Here are some guides to read the plot:\n",
    "- The dashed diagonal line represents the ideal case where training and submission scores are equal (i.e., no overfitting).\n",
    "- In reality, most models overfit as they are above the ideal curve.\n",
    "- The **best models** are those **furthest to the right** (high submission score), regardless of their training performance.\n",
    "- Using **feature engineering (FE)** improves performance compared to just employing the **original information**.\n",
    "- The **Machine Learning Imputation (MLI)** method outperforms the **standard corrections (SC)**.\n",
    "\n",
    "In summary, the **MLI strategy** has proven to be an effective approach for handling missing data, **improving my previous benchmark from 0.80336 to 0.80476**. Furthermore, the MLI technique coded in this notebook can be **easily exported** to other workflows as a **general preprocessing strategy**. \n",
    "\n",
    "📌 **What's next**\n",
    "\n",
    "So far, I've demonstrated two preprocessing strategies, which can be applied straightforward to the datasets. However, there's still room for improvement! The next step is to **apply manual corrections first**, using reliable criteria that allow fixing some values with **100% confidence**. After this manual refinement, I will follow up with **Machine Learning Imputation**, which should lead to better submission results."
   ]
  },
  {
   "cell_type": "markdown",
   "id": "021e362d-214f-4292-b57c-4e460ec140ea",
   "metadata": {},
   "source": [
    "<a id=\"Manual-data-correction\"></a>\n",
    "# <span style=\"color:teal;font-weight:bold;\">Manual data correction</span>\n",
    "\n",
    "Let's come back to the engineered datasets and make a copy that will keep track of the **manual corrections**. Before proceeding, I perform a sanity check to confirm that the missing values are still present:"
   ]
  },
  {
   "cell_type": "code",
   "execution_count": 18,
   "id": "525eb418-1faf-4e21-b113-25a06b8abdbd",
   "metadata": {},
   "outputs": [
    {
     "name": "stdout",
     "output_type": "stream",
     "text": [
      "\n",
      "Missing values in train/test datasets:\n",
      "\n",
      "HomePlanet:           \u001b[31m201 (2.3%)\u001b[0m / \u001b[31m87 (2.0%)\u001b[0m\n",
      "CryoSleep:            \u001b[31m217 (2.5%)\u001b[0m / \u001b[31m93 (2.2%)\u001b[0m\n",
      "Destination:          \u001b[31m182 (2.1%)\u001b[0m / \u001b[31m92 (2.2%)\u001b[0m\n",
      "Age:                  \u001b[31m179 (2.1%)\u001b[0m / \u001b[31m91 (2.1%)\u001b[0m\n",
      "VIP:                  \u001b[31m203 (2.3%)\u001b[0m / \u001b[31m93 (2.2%)\u001b[0m\n",
      "ExpRS:                \u001b[31m181 (2.1%)\u001b[0m / \u001b[31m82 (1.9%)\u001b[0m\n",
      "ExpFC:               \u001b[31m183 (2.1%)\u001b[0m / \u001b[31m106 (2.5%)\u001b[0m\n",
      "ExpSM:                \u001b[31m208 (2.4%)\u001b[0m / \u001b[31m98 (2.3%)\u001b[0m\n",
      "ExpSpa:              \u001b[31m183 (2.1%)\u001b[0m / \u001b[31m101 (2.4%)\u001b[0m\n",
      "ExpVR:                \u001b[31m188 (2.2%)\u001b[0m / \u001b[31m80 (1.9%)\u001b[0m\n",
      "IDgroup:                 \u001b[32m0 (0.0%)\u001b[0m / \u001b[32m0 (0.0%)\u001b[0m\n",
      "GroupMembers:            \u001b[32m0 (0.0%)\u001b[0m / \u001b[32m0 (0.0%)\u001b[0m\n",
      "Cabin_Deck:          \u001b[31m199 (2.3%)\u001b[0m / \u001b[31m100 (2.3%)\u001b[0m\n",
      "Cabin_num:           \u001b[31m199 (2.3%)\u001b[0m / \u001b[31m100 (2.3%)\u001b[0m\n",
      "Cabin_isPort:        \u001b[31m199 (2.3%)\u001b[0m / \u001b[31m100 (2.3%)\u001b[0m\n",
      "Name_Last:            \u001b[31m200 (2.3%)\u001b[0m / \u001b[31m94 (2.2%)\u001b[0m\n",
      "Ocurrence_LastName:   \u001b[31m200 (2.3%)\u001b[0m / \u001b[31m94 (2.2%)\u001b[0m\n",
      "\n",
      "Number of rows with 0 missing values: 6606/3281\n",
      "Number of rows with 1 missing values: 1551/723\n",
      "Number of rows with 2 missing values: 289/152\n",
      "Number of rows with 3 missing values: 202/101\n",
      "Number of rows with 4 missing values: 39/19\n",
      "Number of rows with 5 missing values: 5/1\n",
      "Number of rows with 6 missing values: 1/0\n"
     ]
    }
   ],
   "source": [
    "# Make new datasets that will include manual corrections:\n",
    "train_df_FE_MC = train_df_FE.copy()\n",
    "test_df_FE_MC = test_df_FE.copy()\n",
    "# Compute missing values:\n",
    "compute_missing_values(train_df_FE_MC,test_df_FE_MC)"
   ]
  },
  {
   "cell_type": "markdown",
   "id": "ff35ebf7-0adc-4056-bf37-48b3ac7cbf88",
   "metadata": {},
   "source": [
    "In the following, I analyze each individual feature and complete those missing values that can be deducted with **100% confidence**."
   ]
  },
  {
   "cell_type": "markdown",
   "id": "c66cfbc4-4957-4da1-adbf-3eb4506887fd",
   "metadata": {},
   "source": [
    "<a id=\"Expense-related-features\"></a>\n",
    "## <span style=\"color:teal;font-weight:bold;\">Expense-related features</span>\n",
    "\n",
    "The expense-related features *ExpRS*, *ExpFC*, *ExpSM*, *ExpSpa* and *ExpVR* can be combined in a **total expenditure** feature called *ExpTotal*, which will be helpful to make correlations with other features. In addition, I define a new boolean feature named *Exp_zero*, which is True for passengers who **didn't spend anything** during the trip, else False."
   ]
  },
  {
   "cell_type": "code",
   "execution_count": 19,
   "id": "cc9f89cf-3feb-4f2a-b791-817d1dfbedef",
   "metadata": {},
   "outputs": [],
   "source": [
    "import warnings # <sns.kdeplot> gives a warning I couldn't fix, I avoid displaying it...\n",
    "warnings.simplefilter(action='ignore', category=FutureWarning)\n",
    "\n",
    "# Expense features:\n",
    "exp_features = ['ExpRS','ExpFC','ExpSM','ExpSpa','ExpVR']\n",
    "# Build ExpTotal and Exp_zero for each dataset:\n",
    "for dataset in [train_df_FE_MC, test_df_FE_MC]:\n",
    "    # Identify all rows in which the expenses information is complete:\n",
    "    idx = ((~dataset['ExpRS'].isna()) & \n",
    "           (~dataset['ExpFC'].isna()) & \n",
    "           (~dataset['ExpSM'].isna()) & \n",
    "           (~dataset['ExpSpa'].isna()) & \n",
    "           (~dataset['ExpVR'].isna())) # Relevant indexes\n",
    "    # Initiate ExpTotal as NaN, then complete valid values:\n",
    "    pd.options.mode.chained_assignment = None  # default='warn'\n",
    "    dataset['ExpTotal'] = np.nan\n",
    "    dataset['ExpTotal'][idx] = dataset[exp_features].sum(axis=\"columns\")[idx]\n",
    "    # Create 'Exp_zero' feature, that checks whether a passenger spent nothing (True) or something (False):\n",
    "    dataset['Exp_zero'] = np.nan # Initiate with NaN values\n",
    "    dataset.loc[dataset['ExpTotal']==0,'Exp_zero'] = True # Compute True values\n",
    "    dataset.loc[dataset['ExpTotal']>0,'Exp_zero'] = False # Compute False values"
   ]
  },
  {
   "cell_type": "markdown",
   "id": "a246e3d1-9954-4bd4-b3e7-d39cf8b458de",
   "metadata": {},
   "source": [
    "After exploring the correlation between *ExpTotal* and other features, I found a clear correlation with *Age*: **passengers aged 12 or younger always report zero expenses**! The following plot demonstrates this pattern:"
   ]
  },
  {
   "cell_type": "code",
   "execution_count": 20,
   "id": "e138c5a2-8f58-427c-8105-085ca7822abd",
   "metadata": {},
   "outputs": [
    {
     "data": {
      "image/png": "[encoded data removed]",
      "text/plain": [
       "<Figure size 1000x400 with 2 Axes>"
      ]
     },
     "metadata": {},
     "output_type": "display_data"
    }
   ],
   "source": [
    "# Merge training and testing datasets:\n",
    "all_df = pd.concat([train_df_FE_MC, test_df_FE_MC])\n",
    "# Set age condition:\n",
    "age_limit = 12 # Set age limit for zoomed-in plot\n",
    "cond_age = all_df[\"Age\"] <= age_limit\n",
    "\n",
    "# Plot expenses vs age:\n",
    "from mpl_toolkits.axes_grid1.inset_locator import zoomed_inset_axes\n",
    "from mpl_toolkits.axes_grid1.inset_locator import mark_inset\n",
    "\n",
    "fig, ax = plt.subplots(figsize=(10,4))\n",
    "ax.scatter(all_df[\"Age\"][~cond_age],all_df[\"ExpTotal\"][~cond_age],s=7,alpha=0.8,color='blue',label='Older than 12')\n",
    "ax.scatter(all_df[\"Age\"][cond_age],all_df[\"ExpTotal\"][cond_age],s=7,alpha=0.8,color='orange',label='12 or younger')\n",
    "ax.set_xlabel('Age',fontsize=12), ax.set_ylabel('ExpTotal',fontsize=12)\n",
    "ax.set_ylim(ax.get_ylim()[0], ax.get_ylim()[1]+15000)\n",
    "ax.legend(title='Age groups')\n",
    "# Zoomed-in image:\n",
    "axins = zoomed_inset_axes(ax, 4, loc=6, bbox_to_anchor=[180,280,50,50])\n",
    "axins.scatter(all_df[\"Age\"][cond_age],all_df[\"ExpTotal\"][cond_age],s=7,alpha=0.8,color='orange')\n",
    "axins.set_xlim(-0.5, age_limit+0.5), axins.set_ylim(-200, 2000)\n",
    "mark_inset(ax, axins, loc1=4, loc2=3, fc=\"none\", ec=\"0.4\") # Lines for inset image\n",
    "plt.show()"
   ]
  },
  {
   "cell_type": "markdown",
   "id": "4bbc687e-21ce-4aea-878a-ceb831e79ec1",
   "metadata": {},
   "source": [
    "Consequently, for **passengers featuring *Age*$\\leq$12**, I fill all missing values from **expense-related** features as zero."
   ]
  },
  {
   "cell_type": "code",
   "execution_count": 21,
   "id": "58e47666-27e7-4495-aa2e-3882672bf59c",
   "metadata": {},
   "outputs": [],
   "source": [
    "age_limit = 12 # Set age limit for zoomed-in plot\n",
    "for dataset in [train_df_FE_MC, test_df_FE_MC]:\n",
    "    idx = dataset[\"Age\"][dataset[\"Age\"] <= age_limit].index # Relevant indexes\n",
    "    for feat in exp_features:\n",
    "        dataset[feat].loc[idx] = 0 # Assign zero expenses for all categories\n",
    "        dataset['ExpTotal'].loc[idx] = 0 # Assign zero total expenses\n",
    "        dataset['Exp_zero'].loc[idx] = True # Assign Exp_zero"
   ]
  },
  {
   "cell_type": "markdown",
   "id": "5dd04ecc-857a-4f71-8be3-af17d55e37ec",
   "metadata": {},
   "source": [
    "After this process, **131 missing values were corrected**.\n",
    "\n",
    "*Note: You can always call the \"compute_missing_values\" function to monitor how many missing values remain at any stage of the manual corrections process.*\n",
    "\n",
    "Now, let's turn our attention to the **CryoSleeping passengers**, who most probably did not spend anything during the trip:"
   ]
  },
  {
   "cell_type": "code",
   "execution_count": 22,
   "id": "15a0cdf6-fb6c-4d90-888f-5b65b9377796",
   "metadata": {},
   "outputs": [],
   "source": [
    "# Define plotting functions:\n",
    "import matplotlib.pyplot as plt\n",
    "import seaborn as sns\n",
    "\n",
    "def make_two_feature_chart(df,feat1,feat2,figsize=(10,4)):\n",
    "    \"\"\"\n",
    "    Make a double entry chart, relating two features in the dataset.\n",
    "    --- Inputs ---\n",
    "    {df} [Dataframe]: Dataset that will be analyzed.\n",
    "    {feat1} [String]: Name of one the features to be compared.\n",
    "    {feat2} [String]: Name of the other feature to be compared.\n",
    "    {figsize} [Tuple]: Define the size for the figure, in the format (width,length).\n",
    "    \"\"\"\n",
    "    # Group one feature according to the other:\n",
    "    CDHP_gb = all_df.groupby([feat1,feat2])[feat2].size().unstack().fillna(0)\n",
    "    # Plot distribution:\n",
    "    plt.figure(figsize=figsize)\n",
    "    sns.heatmap(CDHP_gb.T, annot=True, fmt='g', cmap='coolwarm')\n",
    "    plt.show()"
   ]
  },
  {
   "cell_type": "code",
   "execution_count": 23,
   "id": "2b8cbf85-b016-4d9c-be62-c3de0dd5d61f",
   "metadata": {},
   "outputs": [
    {
     "data": {
      "image/png": "[encoded data removed]",
      "text/plain": [
       "<Figure size 800x300 with 2 Axes>"
      ]
     },
     "metadata": {},
     "output_type": "display_data"
    }
   ],
   "source": [
    "make_two_feature_chart(pd.concat([train_df_FE_MC, test_df_FE_MC]),'Exp_zero','CryoSleep',figsize=(8,3))"
   ]
  },
  {
   "cell_type": "markdown",
   "id": "c2aeb026-c4b7-4840-b570-9c1e0bf5820b",
   "metadata": {},
   "source": [
    "As expected, all passengers who were cryo-sleeping (**CryoSleep**=1) spent nothing (**Exp_zero**=True) during the trip. Based on this, I assign **zero expenses** to all missing expense-related values from **cryo-sleeping passengers**: "
   ]
  },
  {
   "cell_type": "code",
   "execution_count": 24,
   "id": "8ca34064-7576-48f7-85fa-5e4312f34ef3",
   "metadata": {},
   "outputs": [],
   "source": [
    "for dataset in [train_df_FE_MC, test_df_FE_MC]:\n",
    "    idx = dataset[\"CryoSleep\"][dataset[\"CryoSleep\"] == True].index # Relevant indexes\n",
    "    for feat in exp_features:\n",
    "        dataset[feat].loc[idx] = 0 # Assign zero expenses\n",
    "        dataset['ExpTotal'].loc[idx] = 0 # Assign zero total expenses\n",
    "        dataset['Exp_zero'].loc[idx] = True # Assign Exp_zero"
   ]
  },
  {
   "cell_type": "markdown",
   "id": "e0dc0aa9-1098-4ac1-8d51-b942b234ebc6",
   "metadata": {},
   "source": [
    "This time, **467 missing values were corrected**!\n",
    "\n",
    "At this point, I wrap up the manual corrections based on the **expense-related features**, as there **no other rules** that can be applied with complete certainty. \n",
    "\n",
    "Take the *VIP* feature, for example... it sounds like a good candidate for spending patterns, expecting that wealthy passengers have some expenses. However, although most VIP people spent something, there are some exceptions, then I cannot make any assumptions:"
   ]
  },
  {
   "cell_type": "code",
   "execution_count": 25,
   "id": "9637a35c-986a-4a88-bc8b-115afd02740a",
   "metadata": {},
   "outputs": [
    {
     "data": {
      "image/png": "[encoded data removed]",
      "text/plain": [
       "<Figure size 800x300 with 2 Axes>"
      ]
     },
     "metadata": {},
     "output_type": "display_data"
    }
   ],
   "source": [
    "make_two_feature_chart(pd.concat([train_df_FE_MC, test_df_FE_MC]),'Exp_zero','VIP',figsize=(8,3))"
   ]
  },
  {
   "cell_type": "markdown",
   "id": "c252420f-137c-4e45-b342-33f165b04a29",
   "metadata": {},
   "source": [
    "<a id=\"Cryosleep-feature\"></a>\n",
    "## <span style=\"color:teal;font-weight:bold;\">Cryosleep Feature</span>\n",
    "\n",
    "Before, I demonstrated that passengers who went to cryosleeping spent nothing during the trip. I used this logic to correct the missing expense-related values by assigning zero expenses to all sleeping passengers. \n",
    "\n",
    "Now I reverse the reasoning: for any missing *CryoSleep* value, **if the passenger spent something (*Exp_zero*=False), then they were not cryosleeping**. For those cases, I set *CryoSleep*=False."
   ]
  },
  {
   "cell_type": "code",
   "execution_count": 26,
   "id": "3fb79ae2-b7d8-445e-8577-3c5f826b2123",
   "metadata": {},
   "outputs": [],
   "source": [
    "for dataset in [train_df_FE_MC, test_df_FE_MC]:\n",
    "    # Correct missing values:\n",
    "    idx = (dataset['CryoSleep'].isna()) & (dataset['Exp_zero']==False) # Relevant indexes\n",
    "    dataset['CryoSleep'].loc[idx] = 0"
   ]
  },
  {
   "cell_type": "markdown",
   "id": "26d96adb-a761-4732-89ab-0b454a2b8db1",
   "metadata": {},
   "source": [
    "Let me summarize the progress made so far for the *CryoSleep* feature: \n",
    "* Initial missing values in train/test datasets: <span style=\"color:red\">217 (2.5%) / 93 (2.2%)</span>.\n",
    "* Current missing values in train/test datasets: <span style=\"color:red\">111 (1.3%) / 42 (1.0%)</span>."
   ]
  },
  {
   "cell_type": "markdown",
   "id": "ebafdb15-720d-47dd-b94c-5f2336a254ca",
   "metadata": {},
   "source": [
    "<a id=\"HomePlanet-feature\"></a>\n",
    "## <span style=\"color:teal;font-weight:bold;\">HomePlanet feature</span>\n",
    "\n",
    "Passengers are organized in **groups**, identified by the *IDgroup* feature. These groups share a **common Home planet**, as the next lines of code demonstrate:"
   ]
  },
  {
   "cell_type": "code",
   "execution_count": 27,
   "id": "3bda4d1e-6dc6-4ede-ab3e-d31c7602cfaa",
   "metadata": {},
   "outputs": [],
   "source": [
    "def check_group_correlation(df,group_feat,target_feat):\n",
    "    \"\"\"\n",
    "    Check if a target feature is univocally correlated with each unique value of\n",
    "    the grouping feature. \n",
    "    --- Inputs ---\n",
    "    {df} [Dataframe]: Dataset that will be analyzed.\n",
    "    {group_feat} [String]: Name of the grouping features, from which the unique values\n",
    "    will be considered.\n",
    "    {target_feat} [String]: Name of the target feature to evaluate correlation.\n",
    "    \"\"\"\n",
    "    n = 0 # Auxiliar counter\n",
    "    for unique_val in set(df[group_feat]):\n",
    "        # Make a set with all target values for the current grouping unique value (exclude NaN):\n",
    "        target_values = set([x for x in df[df[group_feat]==unique_val][target_feat] if x==x])\n",
    "        # If there is more than a single target value in the set, print on screen:\n",
    "        if len(target_values)>1:\n",
    "            n += 1\n",
    "    # Inform conclusion:\n",
    "    if n == 0:\n",
    "        print(colored(\n",
    "            f'{target_feat} is univocally correlated with each unique value of {group_feat}.','green'))\n",
    "    else:\n",
    "        print(colored(\n",
    "            f'{target_feat} is NOT univocally correlated with each unique value of {group_feat}.','red'))\n",
    "        print(f'There are {n} unique values in {group_feat} for which the univocally correlation is not valid.')"
   ]
  },
  {
   "cell_type": "code",
   "execution_count": 28,
   "id": "0e4a224f-7834-49df-a2e6-b4393d8264c4",
   "metadata": {},
   "outputs": [
    {
     "name": "stdout",
     "output_type": "stream",
     "text": [
      "\u001b[32mHomePlanet is univocally correlated with each unique value of IDgroup.\u001b[0m\n"
     ]
    }
   ],
   "source": [
    "check_group_correlation(pd.concat([train_df_FE_MC, test_df_FE_MC]),'IDgroup','HomePlanet')"
   ]
  },
  {
   "cell_type": "markdown",
   "id": "89edd833-0153-45cb-ad9a-3f9ddf08e2d9",
   "metadata": {},
   "source": [
    "Consequently, any missing values in *HomePlanet* can be filled with the **known destination of another passenger** with the same *IDgroup*."
   ]
  },
  {
   "cell_type": "code",
   "execution_count": 29,
   "id": "562d0308-8c1a-47ce-a3b1-363cca1dad3f",
   "metadata": {},
   "outputs": [],
   "source": [
    "def correct_values_for_univocal_group_corr(dfs,group_feat,target_feat):\n",
    "    \"\"\"\n",
    "    Correct missing values based for the target feature based on a univocal\n",
    "    correlation with unique values of a grouping feature.\n",
    "    --- Inputs ---\n",
    "    {dfs} [List]: Each element is a pandas dataframe that will be considered for the\n",
    "    univocal correlation and then corrected.\n",
    "    {group_feat} [String]: Name of the grouping features, from which the unique values\n",
    "    will be considered.\n",
    "    {target_feat} [String]: Name of the target feature to evaluate correlation.\n",
    "    \"\"\"\n",
    "    all_df = pd.concat(dfs) # Combine datasets\n",
    "    # Apply corrections for each individual dataset: \n",
    "    for df in dfs:\n",
    "        idx = df.loc[pd.isna(df[target_feat]), :].index # Relevant indexes (NaN values)\n",
    "        # For each missing value, identify a known value for the grouping feature and correct the target feature:\n",
    "        for i in idx:\n",
    "            known_group_val = list(set(\n",
    "                [x for x in all_df[all_df[group_feat]==df[group_feat][i]][target_feat] if x==x]))\n",
    "            # Only proceed if there is a known grouping value (rather than only NaN):\n",
    "            if len(known_group_val)>0:\n",
    "                df[target_feat].loc[i] = known_group_val[0]"
   ]
  },
  {
   "cell_type": "code",
   "execution_count": 30,
   "id": "f0126f22-be3e-44d3-ae3c-b55d3a47fb0a",
   "metadata": {},
   "outputs": [],
   "source": [
    "correct_values_for_univocal_group_corr(\n",
    "    [train_df_FE_MC, test_df_FE_MC],\"IDgroup\",\"HomePlanet\")"
   ]
  },
  {
   "cell_type": "markdown",
   "id": "2ddd0820-3f9c-4e33-bb7d-552328b937fa",
   "metadata": {},
   "source": [
    "As there are still missing values in the *HomePlanet* feature, I explore its correlation with the *Cabin_Deck* feature, since I previously demonstrated that they are highly correlated (see <a href=\"https://www.kaggle.com/code/fertmeneses/spaceship-titanic-feature-engineering\">Spaceship Titanic 💡 Feature engineering.</a>)."
   ]
  },
  {
   "cell_type": "code",
   "execution_count": 31,
   "id": "37dbdde8-388f-44f0-8e70-9ed34e134b14",
   "metadata": {},
   "outputs": [
    {
     "data": {
      "image/png": "[encoded data removed]",
      "text/plain": [
       "<Figure size 1000x400 with 2 Axes>"
      ]
     },
     "metadata": {},
     "output_type": "display_data"
    }
   ],
   "source": [
    "make_two_feature_chart(pd.concat([train_df_FE_MC, test_df_FE_MC]),'Cabin_Deck','HomePlanet',figsize=(10,4))"
   ]
  },
  {
   "cell_type": "markdown",
   "id": "76e3b7d6-726c-4840-9951-0ae218e9daf9",
   "metadata": {},
   "source": [
    "From this **distribution plot**, I can conclude the following:\n",
    "- Passengers in *Cabin_Deck* **A,B,C,T** are associated with the *HomePlanet* **Europa**.\n",
    "- Passengers in *Cabin_Deck* **G** are associated with the *HomePlanet* **Earth**.\n",
    "- Passengers in *Cabin_Deck* **D,E,F** cannot be clearly assigned to **any** specific *HomePlanet*."
   ]
  },
  {
   "cell_type": "code",
   "execution_count": 32,
   "id": "0f9c5cd9-e3a8-4b7e-8372-ff1114e51e65",
   "metadata": {},
   "outputs": [],
   "source": [
    "# Assign HomePlanet values based on Cabin:\n",
    "for dataset in [train_df_FE_MC, test_df_FE_MC]:\n",
    "    # Cabins A,B,C,T, associated to Europa:\n",
    "    cond_ABCT = ((dataset[\"Cabin_Deck\"]==\"A\") |\n",
    "                 (dataset[\"Cabin_Deck\"]==\"B\") |\n",
    "                 (dataset[\"Cabin_Deck\"]==\"C\") |\n",
    "                 (dataset[\"Cabin_Deck\"]==\"T\")) # Define condition\n",
    "    dataset[\"HomePlanet\"].loc[cond_ABCT] = \"Europa\" # Apply changes\n",
    "    # Cabins G, associated to Earth:\n",
    "    cond_G = dataset[\"Cabin_Deck\"]==\"G\" # Define condition\n",
    "    dataset[\"HomePlanet\"].loc[cond_G] = \"Earth\" # Apply changes"
   ]
  },
  {
   "cell_type": "markdown",
   "id": "22e4dff7-4dfe-49b6-958e-50618b90fe34",
   "metadata": {},
   "source": [
    "Let's summarize the progress so far for the **HomePlanet** feature: \n",
    "* Initial missing values in train/test datasets: <span style=\"color:red\">201 (2.3%) / 87 (2.0%)</span>.\n",
    "* Current missing values in train/test datasets: <span style=\"color:red\">63 (0.7%) / 31 (0.7%)</span>.\n",
    "\n",
    "Let's continue the analysis by considering one more correlated feature: *Name_Last*. Similar to the *IDgroup* analysis, I demonstrate that **all passengers sharing the same surname have the same *HomePlanet***:"
   ]
  },
  {
   "cell_type": "code",
   "execution_count": 33,
   "id": "b7f6096f-c3ee-460e-85ba-c22829d6d9f6",
   "metadata": {},
   "outputs": [
    {
     "name": "stdout",
     "output_type": "stream",
     "text": [
      "\u001b[32mHomePlanet is univocally correlated with each unique value of Name_Last.\u001b[0m\n"
     ]
    }
   ],
   "source": [
    "check_group_correlation(pd.concat([train_df_FE_MC, test_df_FE_MC]),'Name_Last','HomePlanet')"
   ]
  },
  {
   "cell_type": "markdown",
   "id": "2bc6d2c1-c6c0-4c35-8d69-79cf62a1a984",
   "metadata": {},
   "source": [
    "Consequently, any missing values in *HomePlanet* can be filled with the **known home planet of another passenger** with the same *Name_Last*."
   ]
  },
  {
   "cell_type": "code",
   "execution_count": 34,
   "id": "f320c664-5dc2-4a4d-886d-f838933c94eb",
   "metadata": {},
   "outputs": [],
   "source": [
    "correct_values_for_univocal_group_corr(\n",
    "    [train_df_FE_MC, test_df_FE_MC],\"Name_Last\",\"HomePlanet\")"
   ]
  },
  {
   "cell_type": "markdown",
   "id": "16e1082e-8af6-48de-9621-bf0aa6ab1ca0",
   "metadata": {},
   "source": [
    "Excellent news, now the **HomePlanet** feature has only a few remaining missing values! \n",
    "* Current missing values in train/test datasets: <span style=\"color:red\">5 (0.1%) / 5 (0.1%)</span>."
   ]
  },
  {
   "cell_type": "markdown",
   "id": "41931a34-15a5-4c78-89af-c9d9334d4a81",
   "metadata": {},
   "source": [
    "<a id=\"VIP-feature\"></a>\n",
    "## <span style=\"color:teal;font-weight:bold;\">VIP feature</span>\n",
    "\n",
    "The behavior of Very Important Passengers (*VIP*=True) varies accross differente features, including expenses! However, I did find a **pattern** regarding their **cabin location** and **surname popularity**.\n",
    "\n",
    "Let's begin by analyzing the *Cabin_Deck* correlations:"
   ]
  },
  {
   "cell_type": "code",
   "execution_count": 35,
   "id": "1217799f-f6b5-4195-8091-ca683f2168fc",
   "metadata": {},
   "outputs": [
    {
     "data": {
      "image/png": "[encoded data removed]",
      "text/plain": [
       "<Figure size 1000x400 with 2 Axes>"
      ]
     },
     "metadata": {},
     "output_type": "display_data"
    }
   ],
   "source": [
    "make_two_feature_chart(pd.concat([train_df_FE_MC, test_df_FE_MC]),'VIP','Cabin_Deck',figsize=(10,4))"
   ]
  },
  {
   "cell_type": "markdown",
   "id": "f02c1a9a-bbee-4744-971d-3bb7b657c05b",
   "metadata": {},
   "source": [
    "From this chart, we can conclude that **VIP passengers (*VIP*=1) do not stay in *Cabin_Deck* G or T** (although the latter case is not very reliable, as there are only 10 values). Let's check how many missing values for the *VIP* feature correspond to these cabin decks:"
   ]
  },
  {
   "cell_type": "code",
   "execution_count": 36,
   "id": "18986021-de1e-409e-83e2-7e7fd69dbb7e",
   "metadata": {},
   "outputs": [
    {
     "data": {
      "text/plain": [
       "Cabin_Deck\n",
       "G    88\n",
       "T     1\n",
       "Name: count, dtype: int64"
      ]
     },
     "execution_count": 36,
     "metadata": {},
     "output_type": "execute_result"
    }
   ],
   "source": [
    "# Combine datasets and prepare condition:\n",
    "all_df = pd.concat([train_df_FE_MC, test_df_FE_MC])\n",
    "cond_cabin = ((all_df['VIP'].isna()) &\n",
    "    ((all_df['Cabin_Deck']=='G') | (all_df['Cabin_Deck']=='T')))\n",
    "# Count the number of ocurrences for each \"Cabin_Deck\" for NaN VIP values:\n",
    "all_df[['VIP','Cabin_Deck']].loc[cond_cabin]['Cabin_Deck'].value_counts()"
   ]
  },
  {
   "cell_type": "markdown",
   "id": "10e2374d-f4fa-4759-b3bc-03d667cde5a9",
   "metadata": {},
   "source": [
    "Given that the 'T' deck has very few instances, I do not correct the *VIP* missing for that single passenger in the 'T' cabin.\n",
    "\n",
    "On the other hand, **I do assign *VIP*=0** (then non-VIP condition) to all those **passengers in deck 'G'**:"
   ]
  },
  {
   "cell_type": "code",
   "execution_count": 37,
   "id": "1ba3b124-55b2-4fb7-a910-56e0fffc1301",
   "metadata": {},
   "outputs": [],
   "source": [
    "for dataset in [train_df_FE_MC, test_df_FE_MC]:\n",
    "    # Correct missing values:\n",
    "    idx = (dataset['VIP'].isna()) & (dataset['Cabin_Deck']=='G') # Relevant indexes\n",
    "    dataset['VIP'].loc[idx] = 0"
   ]
  },
  {
   "cell_type": "markdown",
   "id": "9113f715-2352-4648-b298-34bb1815d0c0",
   "metadata": {},
   "source": [
    "Lastly, I observe a suggestive correlation between the *VIP* and *Ocurrence_LastName* features, which implies that **VIP passengers are less likely to have very common last names**..."
   ]
  },
  {
   "cell_type": "code",
   "execution_count": 38,
   "id": "caf29fc6-2a56-421d-bb8a-ddf63b2099b3",
   "metadata": {},
   "outputs": [
    {
     "data": {
      "image/png": "[encoded data removed]",
      "text/plain": [
       "<Figure size 1000x400 with 2 Axes>"
      ]
     },
     "metadata": {},
     "output_type": "display_data"
    }
   ],
   "source": [
    "make_two_feature_chart(pd.concat([train_df_FE_MC, test_df_FE_MC]),'VIP','Ocurrence_LastName',figsize=(10,4))"
   ]
  },
  {
   "cell_type": "markdown",
   "id": "8a1a961b-48f8-4a82-986a-b7043e0174d3",
   "metadata": {},
   "source": [
    "It seems that *Ocurrence_LastName* values greater than 14 implies *VIP*=0. However, **this rule may be misleading**, as the number of *VIP*=1 values is very scarce, making **statistics less reliable**. For example, for *Ocurrence_LastName*=14 and 12, the *VIP*=1 rates are around 0.013 and 0.012, which are very low but not zero. Therefore, finding a *VIP*=1 value for very high *Ocurrence_LastName* value is **very rare, but still possible**.\n",
    "\n",
    "For this manual correction process, where I'm applyting **rules with 100% confidence**, I have decided **not to use the *Ocurrence_LastName* feature to correct the missing *VIP* values**. And anyway, the number of missing *VIP* values that could be corrected is very small, making this step less impactful:"
   ]
  },
  {
   "cell_type": "code",
   "execution_count": 39,
   "id": "c87409bf-647a-4442-ad7a-91af5fe1da13",
   "metadata": {},
   "outputs": [
    {
     "data": {
      "text/plain": [
       "Ocurrence_LastName\n",
       "16.0    4\n",
       "15.0    2\n",
       "Name: count, dtype: int64"
      ]
     },
     "execution_count": 39,
     "metadata": {},
     "output_type": "execute_result"
    }
   ],
   "source": [
    "# Combine datasets and prepare condition:\n",
    "all_df = pd.concat([train_df_FE_MC, test_df_FE_MC])\n",
    "cond_cabin = ((all_df['VIP'].isna()) &\n",
    "    ((all_df['Ocurrence_LastName']>14)))\n",
    "# Count the number of ocurrences for each \"Ocurrence_LastName\" for NaN VIP values:\n",
    "all_df[['VIP','Ocurrence_LastName']].loc[cond_cabin]['Ocurrence_LastName'].value_counts()"
   ]
  },
  {
   "cell_type": "markdown",
   "id": "a7da6d07-53e9-423f-a401-ddc07604633b",
   "metadata": {},
   "source": [
    "<a id=\"Cabin-isPort-feature\"></a>\n",
    "## <span style=\"color:teal;font-weight:bold;\">Cabin_isPort feature</span>\n",
    "\n",
    "Similar to the *HomePlanet* and *IDgroup* correlation, I observed **passengers who share the same *IDgroup* are located in the same *Cabin_isPort***:"
   ]
  },
  {
   "cell_type": "code",
   "execution_count": 40,
   "id": "df1f8574-8002-475d-8087-d08921613d0a",
   "metadata": {},
   "outputs": [
    {
     "name": "stdout",
     "output_type": "stream",
     "text": [
      "\u001b[32mCabin_isPort is univocally correlated with each unique value of IDgroup.\u001b[0m\n"
     ]
    }
   ],
   "source": [
    "check_group_correlation(pd.concat([train_df_FE_MC, test_df_FE_MC]),'IDgroup','Cabin_isPort')"
   ]
  },
  {
   "cell_type": "markdown",
   "id": "6389f314-4f90-4eac-b124-da438e2f9bbe",
   "metadata": {},
   "source": [
    "Then, I will fill any *Cabin_isPort* missing values with a **known port value** from the same *IDgroup*:"
   ]
  },
  {
   "cell_type": "code",
   "execution_count": 41,
   "id": "4e18eaab-8aed-4c38-8628-620923506d74",
   "metadata": {},
   "outputs": [],
   "source": [
    "correct_values_for_univocal_group_corr(\n",
    "    [train_df_FE_MC, test_df_FE_MC],\"IDgroup\",\"Cabin_isPort\")"
   ]
  },
  {
   "cell_type": "markdown",
   "id": "d27084e3-83d8-46bf-bc4f-dbf6f3a30ac4",
   "metadata": {},
   "source": [
    "In this way, **137 missing *Cabin_isPort* values** were corrected."
   ]
  },
  {
   "cell_type": "markdown",
   "id": "f348fd46-a368-48e8-a20f-6d089f0b9f98",
   "metadata": {},
   "source": [
    "<a id=\"Checkpoint-MC-completed\"></a>\n",
    "## <span style=\"color:teal;font-weight:bold;\">Checkpoint: MC completed</span>\n",
    "\n",
    "Manual corrections are finished! Using **completely certain correlations**, I have corrected missing values accross many features. As a result, the **fraction of missing data dropping from about 2% to just 1%** in every corrected feature, as shown below:"
   ]
  },
  {
   "cell_type": "code",
   "execution_count": 42,
   "id": "6a2e298c-9ed0-4cb6-b6db-85041dc680da",
   "metadata": {},
   "outputs": [
    {
     "name": "stdout",
     "output_type": "stream",
     "text": [
      "\n",
      "Missing values in train/test datasets:\n",
      "\n",
      "HomePlanet:              \u001b[31m5 (0.1%)\u001b[0m / \u001b[31m5 (0.1%)\u001b[0m\n",
      "CryoSleep:            \u001b[31m111 (1.3%)\u001b[0m / \u001b[31m42 (1.0%)\u001b[0m\n",
      "Destination:          \u001b[31m182 (2.1%)\u001b[0m / \u001b[31m92 (2.2%)\u001b[0m\n",
      "Age:                  \u001b[31m179 (2.1%)\u001b[0m / \u001b[31m91 (2.1%)\u001b[0m\n",
      "VIP:                  \u001b[31m137 (1.6%)\u001b[0m / \u001b[31m71 (1.7%)\u001b[0m\n",
      "ExpRS:                \u001b[31m107 (1.2%)\u001b[0m / \u001b[31m55 (1.3%)\u001b[0m\n",
      "ExpFC:                \u001b[31m106 (1.2%)\u001b[0m / \u001b[31m65 (1.5%)\u001b[0m\n",
      "ExpSM:                \u001b[31m103 (1.2%)\u001b[0m / \u001b[31m60 (1.4%)\u001b[0m\n",
      "ExpSpa:               \u001b[31m114 (1.3%)\u001b[0m / \u001b[31m52 (1.2%)\u001b[0m\n",
      "ExpVR:                \u001b[31m107 (1.2%)\u001b[0m / \u001b[31m43 (1.0%)\u001b[0m\n",
      "IDgroup:                 \u001b[32m0 (0.0%)\u001b[0m / \u001b[32m0 (0.0%)\u001b[0m\n",
      "GroupMembers:            \u001b[32m0 (0.0%)\u001b[0m / \u001b[32m0 (0.0%)\u001b[0m\n",
      "Cabin_Deck:          \u001b[31m199 (2.3%)\u001b[0m / \u001b[31m100 (2.3%)\u001b[0m\n",
      "Cabin_num:           \u001b[31m199 (2.3%)\u001b[0m / \u001b[31m100 (2.3%)\u001b[0m\n",
      "Cabin_isPort:          \u001b[31m99 (1.1%)\u001b[0m / \u001b[31m63 (1.5%)\u001b[0m\n",
      "Name_Last:            \u001b[31m200 (2.3%)\u001b[0m / \u001b[31m94 (2.2%)\u001b[0m\n",
      "Ocurrence_LastName:   \u001b[31m200 (2.3%)\u001b[0m / \u001b[31m94 (2.2%)\u001b[0m\n",
      "ExpTotal:            \u001b[31m518 (6.0%)\u001b[0m / \u001b[31m267 (6.2%)\u001b[0m\n",
      "Exp_zero:            \u001b[31m518 (6.0%)\u001b[0m / \u001b[31m267 (6.2%)\u001b[0m\n",
      "\n",
      "Number of rows with 0 missing values: 7259/3572\n",
      "Number of rows with 1 missing values: 523/243\n",
      "Number of rows with 2 missing values: 277/133\n",
      "Number of rows with 3 missing values: 557/281\n",
      "Number of rows with 4 missing values: 57/35\n",
      "Number of rows with 5 missing values: 14/9\n",
      "Number of rows with 6 missing values: 4/4\n",
      "Number of rows with 7 missing values: 2/0\n"
     ]
    }
   ],
   "source": [
    "compute_missing_values(train_df_FE_MC,test_df_FE_MC)"
   ]
  },
  {
   "cell_type": "markdown",
   "id": "63cea7cd-fdfa-4ea4-8703-b37dfb43b052",
   "metadata": {},
   "source": [
    "*Note*: It's important to highlight that the *ExpTotal* and *Exp_zero* features show a relatively large fraction of missing values, about 6%. This is because these features are built using the expense-related features *ExpRS*, *ExpFC*, *ExpSM*, *ExpSpa* and *ExpVR*, and **any one of these features reporting a missing value translates into a missing value for both *ExpTotal* and *Exp_zero***. The missing rates for the *ExpTotal* and *Exp_zero* features roughly corresponds to the sum of the individual missing fractions in each expense-related feature."
   ]
  },
  {
   "attachments": {},
   "cell_type": "markdown",
   "id": "87402998-6995-48df-96e2-28e73f9acaac",
   "metadata": {},
   "source": [
    "<a id=\"FE-MC-SC-submission-performance\"></a>\n",
    "## <span style=\"color:teal;font-weight:bold;\">FE+MC+SC submission performance</span>\n",
    "\n",
    "Having corrected approximately half of the missing values with complete certainty, I now expect to surpass my previous benchmark. I first employ **standard corrections (SC)** to the **feature-engineered (FE)** and **manually-corrected (MC)** datasets, Machine Learning Imputation (MLI) will come later. In the following lines, I import my submission results and visualize them, comparing the new scores against the **earlier 0.80476 benchmark**."
   ]
  },
  {
   "cell_type": "code",
   "execution_count": 43,
   "id": "f80d7729-f7f4-452f-90ad-68f7e96e3c9f",
   "metadata": {},
   "outputs": [],
   "source": [
    "def standard_corrections(df):\n",
    "    \"\"\"\n",
    "    Correct all missing values in a dataset using the mean value for numerical features\n",
    "    and the mode value for non-numerical features.\n",
    "    --- Inputs ---\n",
    "    {df} [Dataframe]: Dataframe to be corrected.\n",
    "    --- Outputs ---\n",
    "    {df_corrected} [Dataframe]: Corrected Dataframe.\n",
    "    \"\"\"\n",
    "    # Make a copy of the original dataset:\n",
    "    df_corrected = df.copy()\n",
    "    # Correct each feature:\n",
    "    for feat in df:\n",
    "        df_corrected = simple_correction_feat(df_corrected,feat)\n",
    "        \n",
    "    return df_corrected"
   ]
  },
  {
   "cell_type": "code",
   "execution_count": 44,
   "id": "f688c300-9265-40ad-8512-7f36f6753955",
   "metadata": {},
   "outputs": [
    {
     "name": "stdout",
     "output_type": "stream",
     "text": [
      "Training score: 0.8407\n",
      "Submission file ready.\n"
     ]
    }
   ],
   "source": [
    "# Standard corrections (SC) to FE+MC datasets:\n",
    "train_df_FE_MC_SC = standard_corrections(train_df_FE_MC)\n",
    "test_df_FE_MC_SC = standard_corrections(test_df_FE_MC)\n",
    "\n",
    "# Train a ML model and generate a submission file:\n",
    "predictor_feats = ['HomePlanet','CryoSleep','Destination','Age','VIP',\n",
    "                   'ExpRS','ExpFC','ExpSM','ExpSpa','ExpVR','ExpTotal',\n",
    "                   'Exp_zero','Cabin_Deck','Cabin_num', 'Cabin_isPort']\n",
    "ML_model = XGBClassifier(n_estimators=100, max_depth=3)\n",
    "train_score, preds = train_submit_ML(ML_model,\n",
    "                                     train_df_FE_MC_SC[predictor_feats+['Transported']],\n",
    "                                     test_df_FE_MC_SC[predictor_feats],\n",
    "                                     test_ID)"
   ]
  },
  {
   "cell_type": "code",
   "execution_count": 45,
   "id": "09995573-5521-48ac-8953-abf73e9b1597",
   "metadata": {},
   "outputs": [
    {
     "data": {
      "image/png": "[encoded data removed]",
      "text/plain": [
       "<Figure size 800x400 with 1 Axes>"
      ]
     },
     "metadata": {},
     "output_type": "display_data"
    }
   ],
   "source": [
    "# Import submission results:\n",
    "df_res_FE_MC_SC = pd.read_csv('kaggle/Training_results/03_submissions_FE_MC_Avg.csv')\n",
    "# Prepare results and compare them:\n",
    "results_FE_MC_SC = {\n",
    "    'FE + MC + SC': df_res_FE_MC_SC,\n",
    "}\n",
    "compare_submission_scores(results_FE_MC_SC,figsize=(8,4),benchmark=0.80476)"
   ]
  },
  {
   "cell_type": "markdown",
   "id": "20e252ea-3240-403f-9a78-57d0a417d650",
   "metadata": {},
   "source": [
    "Excellent news: the **new best score is 0.80687**! Can I go even further? In the previous experience, without manual corrections, MLI worked slightly better than SC, so I expect that **applying MLI on top of the FE+MC datasets** can push my score a little ahead."
   ]
  },
  {
   "cell_type": "markdown",
   "id": "c74f40b0-d488-418b-9bf1-764dfcfb7225",
   "metadata": {},
   "source": [
    "<a id=\"MC-plus-MLI\"></a>\n",
    "# <span style=\"color:teal;font-weight:bold;\">Manual corrections + ML imputation</span>\n",
    "\n",
    "In this section, I apply **Machine Learning Imputation to the feature-engineered and manually-corrected datasets**. The full process involves first optimizing the ML hyperparameters, and then performing the imputation itself.\n",
    "\n",
    "To get started, I go back to the FE+MC datasets, and make sure that the missing values are still there:"
   ]
  },
  {
   "cell_type": "code",
   "execution_count": 46,
   "id": "ff3b239f-d8be-4681-b604-52a06d0869d7",
   "metadata": {
    "scrolled": true
   },
   "outputs": [
    {
     "name": "stdout",
     "output_type": "stream",
     "text": [
      "\n",
      "Missing values in train/test datasets:\n",
      "\n",
      "HomePlanet:              \u001b[31m5 (0.1%)\u001b[0m / \u001b[31m5 (0.1%)\u001b[0m\n",
      "CryoSleep:            \u001b[31m111 (1.3%)\u001b[0m / \u001b[31m42 (1.0%)\u001b[0m\n",
      "Destination:          \u001b[31m182 (2.1%)\u001b[0m / \u001b[31m92 (2.2%)\u001b[0m\n",
      "Age:                  \u001b[31m179 (2.1%)\u001b[0m / \u001b[31m91 (2.1%)\u001b[0m\n",
      "VIP:                  \u001b[31m137 (1.6%)\u001b[0m / \u001b[31m71 (1.7%)\u001b[0m\n",
      "ExpRS:                \u001b[31m107 (1.2%)\u001b[0m / \u001b[31m55 (1.3%)\u001b[0m\n",
      "ExpFC:                \u001b[31m106 (1.2%)\u001b[0m / \u001b[31m65 (1.5%)\u001b[0m\n",
      "ExpSM:                \u001b[31m103 (1.2%)\u001b[0m / \u001b[31m60 (1.4%)\u001b[0m\n",
      "ExpSpa:               \u001b[31m114 (1.3%)\u001b[0m / \u001b[31m52 (1.2%)\u001b[0m\n",
      "ExpVR:                \u001b[31m107 (1.2%)\u001b[0m / \u001b[31m43 (1.0%)\u001b[0m\n",
      "IDgroup:                 \u001b[32m0 (0.0%)\u001b[0m / \u001b[32m0 (0.0%)\u001b[0m\n",
      "GroupMembers:            \u001b[32m0 (0.0%)\u001b[0m / \u001b[32m0 (0.0%)\u001b[0m\n",
      "Cabin_Deck:          \u001b[31m199 (2.3%)\u001b[0m / \u001b[31m100 (2.3%)\u001b[0m\n",
      "Cabin_num:           \u001b[31m199 (2.3%)\u001b[0m / \u001b[31m100 (2.3%)\u001b[0m\n",
      "Cabin_isPort:          \u001b[31m99 (1.1%)\u001b[0m / \u001b[31m63 (1.5%)\u001b[0m\n",
      "Name_Last:            \u001b[31m200 (2.3%)\u001b[0m / \u001b[31m94 (2.2%)\u001b[0m\n",
      "Ocurrence_LastName:   \u001b[31m200 (2.3%)\u001b[0m / \u001b[31m94 (2.2%)\u001b[0m\n",
      "ExpTotal:            \u001b[31m518 (6.0%)\u001b[0m / \u001b[31m267 (6.2%)\u001b[0m\n",
      "Exp_zero:            \u001b[31m518 (6.0%)\u001b[0m / \u001b[31m267 (6.2%)\u001b[0m\n",
      "\n",
      "Number of rows with 0 missing values: 7259/3572\n",
      "Number of rows with 1 missing values: 523/243\n",
      "Number of rows with 2 missing values: 277/133\n",
      "Number of rows with 3 missing values: 557/281\n",
      "Number of rows with 4 missing values: 57/35\n",
      "Number of rows with 5 missing values: 14/9\n",
      "Number of rows with 6 missing values: 4/4\n",
      "Number of rows with 7 missing values: 2/0\n"
     ]
    }
   ],
   "source": [
    "# Check missing values:\n",
    "compute_missing_values(train_df_FE_MC,test_df_FE_MC)"
   ]
  },
  {
   "cell_type": "markdown",
   "id": "1b594100-e2d3-4518-b799-3b7801d0c95d",
   "metadata": {},
   "source": [
    "<a id=\"Optimization-and-imputation\"></a>\n",
    "## <span style=\"color:teal;font-weight:bold;\">Optimization and imputation</span>\n",
    "\n",
    "For these FE+MC datasets, I performed several versions of the **hyperparameters optimization, ML imputation and competition submissions**, which will be summarized in the performance section.\n",
    "\n",
    "Below, I show a **reasoning example** for the configuration that delivered the best results: "
   ]
  },
  {
   "cell_type": "code",
   "execution_count": 47,
   "id": "6806ac72-6e73-4850-be39-5febe72f7844",
   "metadata": {},
   "outputs": [],
   "source": [
    "# Some options for hyperparameters exploration:   \n",
    "hyps_dict = {\n",
    "    'HomePlanet': {'n_est_opts': [300,400,500], 'max_d_opts': [3,4,5]},\n",
    "    'CryoSleep': {'n_est_opts': [100,125,150], 'max_d_opts': [3,4,5]},\n",
    "    'Destination': {'n_est_opts': [75,100,125], 'max_d_opts': [2,3,4]},\n",
    "    'Age': {'n_est_opts': [10,30,50], 'max_d_opts': [3,4,5]},\n",
    "    'VIP': {'n_est_opts': [75,100,125], 'max_d_opts': [5,6,7]},\n",
    "    'ExpRS': {'n_est_opts': [1250,1500,1750], 'max_d_opts': [1,2,3]},\n",
    "    'ExpFC': {'n_est_opts': [1250,1500,1750], 'max_d_opts': [1,2,3]},\n",
    "    'ExpSM': {'n_est_opts': [800,1000,1200], 'max_d_opts': [2,3,4]},\n",
    "    'ExpSpa': {'n_est_opts': [1250,1500,1750], 'max_d_opts': [1,2,3]},\n",
    "    'ExpVR': {'n_est_opts': [800,1000,1200], 'max_d_opts': [2,3,4]},\n",
    "    'Cabin_Deck': {'n_est_opts': [300,500,700], 'max_d_opts': [4,5,6]},\n",
    "    'Cabin_num': {'n_est_opts': [75,100,125], 'max_d_opts': [2,3,4]},\n",
    "    'Cabin_isPort': {'n_est_opts': [300,500,700], 'max_d_opts': [4,5,6]},\n",
    "}\n",
    "\n",
    "# Choose optimize_hyps=True if you want to run the ML optimization process:\n",
    "optimize_hyps = False\n",
    "if optimize_hyps:\n",
    "    # Impute missing values using ML:\n",
    "    for feat in hyps_dict:\n",
    "        # Correct missing values on single feature for both training and testing datasets:\n",
    "        n_est_options = hyps_dict[feat]['n_est_opts']\n",
    "        max_d_options = hyps_dict[feat]['max_d_opts']\n",
    "        ML_data_imp_optim([train_df_FE_MC,test_df_FE_MC],feat,\n",
    "                          n_est_options=n_est_options,max_d_options=max_d_options,\n",
    "                          reg_error='RMSE',cla_error='F1')"
   ]
  },
  {
   "cell_type": "markdown",
   "id": "a1372629-cdfc-4808-8622-bab1a7c1ea12",
   "metadata": {},
   "source": [
    "After the exploration process, I was able to select the **optimal hyperparameters** and summarize them in the following table:"
   ]
  },
  {
   "cell_type": "markdown",
   "id": "7603adb6-b61b-4507-878c-e5cfd6f7265c",
   "metadata": {},
   "source": [
    "| Feature | ML model | n_estimators | max_depth | Class. score | Reg. score | Mean value (Reg.) |\n",
    "| :---: | :---: | :---: | :---: | :---: | :---: | :---: |\n",
    "| **HomePlanet** | GBC | 400 | 4 | **0.9686** | - | - |\n",
    "| **CryoSleep** | GBR | 125 | 4 | **0.9325** | - | - |\n",
    "| **Destination** | GBC | 100 | 3 | **0.7006** | - | - |\n",
    "| **Age** | GBR | 30 | 4 | - | **12.33** | 28.64 |\n",
    "| **VIP** | GBR | 100 | 6 | **0.1724** | - | - |\n",
    "| **ExpRS** | GBR | 1500 | 2 | - | **172.51** | 212.26 |\n",
    "| **ExpFC** | GBR | 1500 | 1 | - | **184.34** | 439.83 |\n",
    "| **ExpSM** | GBR | 1000 | 3 | - | **188.61** | 169.16 |\n",
    "| **ExpSpa** | GBR | 1500 | 2 | - | **238.66** | 296.41 |\n",
    "| **ExpVR** | GBR | 1000 | 3 | - | **215.14** | 288.30 |\n",
    "| **Cabin_Deck** | GBC | 500 | 5 | **0.8237** | - | - |\n",
    "| **Cabin_num** | GBR | 100 | 3 | - | **394.22** | 604.68 |\n",
    "| **Cabin_isPort** | GBR | 500 | 5 | **0.5080** | - | - |"
   ]
  },
  {
   "cell_type": "markdown",
   "id": "28feb13d-e432-490b-9ba5-be0aa5b3dfce",
   "metadata": {},
   "source": [
    "In the previous [Hyperparameters optimization](#Hyperparameters-optimization) section, I obtained a similar table for the feature-engineered datasets, without manual corrections. After incorporating the manual corrections, the **current optimization outperforms the previous one**, showing better scores for some features while mantaining similar performance for others.\n",
    "\n",
    "The features that keep the same performance compared to the earlier version include: *HomePlanet*, *CryoSleep*, *Destination*, *Age*, *VIP*, *Cabin_num*, *Cabin_isPort*.\n",
    "\n",
    "⬆️ **Features that show better performance after manual correction**:\n",
    "\n",
    "- All **expense-related features** (*ExpRS*, *ExpFC*, *ExpSM*, *ExpSpa*, *ExpVR*) **reduced the RMSE score notoriously**, from values above 500 (and above 1,000 in some cases) to around 200.\n",
    "\n",
    "- ***Cabin_Deck* predictions improved the F1-score** from 0.6823 to 0.8237."
   ]
  },
  {
   "cell_type": "code",
   "execution_count": 48,
   "id": "071e2fc1-875b-4bf8-88ba-572ba78ac1dc",
   "metadata": {},
   "outputs": [],
   "source": [
    "# Optimization gave the following results:\n",
    "best_hyps_FE_MC = {\n",
    "    'HomePlanet': {'ML_model':'GBC','n_est': 400, 'max_d': 4},\n",
    "    'CryoSleep': {'ML_model':'GBR','n_est': 125, 'max_d': 4},\n",
    "    'Destination': {'ML_model':'GBC','n_est': 100, 'max_d': 3},\n",
    "    'Age': {'ML_model':'GBR','n_est': 30, 'max_d': 4},\n",
    "    'VIP': {'ML_model':'GBR','n_est': 100, 'max_d': 6},    \n",
    "    'ExpRS': {'ML_model':'GBR','n_est': 1500, 'max_d': 2},\n",
    "    'ExpFC': {'ML_model':'GBR','n_est': 1500, 'max_d': 1},\n",
    "    'ExpSM': {'ML_model':'GBR','n_est': 1000, 'max_d': 3},\n",
    "    'ExpSpa': {'ML_model':'GBR','n_est': 1500, 'max_d': 2},\n",
    "    'ExpVR': {'ML_model':'GBR','n_est': 1000, 'max_d': 3},    \n",
    "    'Cabin_Deck': {'ML_model':'GBC','n_est': 500, 'max_d': 5},\n",
    "    'Cabin_num': {'ML_model':'RFR','n_est': 100, 'max_d': 3},\n",
    "    'Cabin_isPort': {'ML_model':'GBR','n_est': 500, 'max_d': 5},    \n",
    "}"
   ]
  },
  {
   "cell_type": "markdown",
   "id": "e067f850-cc57-4ab3-8037-d6fd72209c61",
   "metadata": {},
   "source": [
    "The next lines allow to impute the FE+MC datasets and **generate the ML imputed datasets: FE+MC+MLI**. \n",
    "\n",
    "Since the imputation process can be quite time-consuming task, I instead load a previously saved dataset, which was generated using the **hyperparameters defined above and a parallel imputation process** (constructive=False)."
   ]
  },
  {
   "cell_type": "code",
   "execution_count": 49,
   "id": "57e60aa2-667b-491e-a145-8a6b23262a10",
   "metadata": {},
   "outputs": [],
   "source": [
    "# Prepare parameters for data imputation\n",
    "run_imputation = False # Choose whether to run the data imputation or just load previous results\n",
    "best_hyps = best_hyps_FE_MC # ML hyperparameters\n",
    "dfs_input = [train_df_FE_MC,test_df_FE_MC] # Input datasets\n",
    "if run_imputation:\n",
    "    # Run ML imputation:\n",
    "    train_df_FE_MC_MLI, test_df_FE_MC_MLI = ML_impute_complete_dataset(\n",
    "        dfs_input,best_hyps,constructive=False,save_path='./')\n",
    "    # Generate 'ExpTotal' and 'Exp_zero' features:\n",
    "    for df in [train_df_FE_MC_MLI, test_df_FE_MC_MLI]:\n",
    "        add_ExpTotal_Exp_zero(df)\n",
    "else:\n",
    "    # Load previous results:\n",
    "    train_df_FE_MC_MLI = pd.read_csv('kaggle/Imputed_data/train_FE_MC_MLI_round_D.csv') # Training dataset\n",
    "    test_df_FE_MC_MLI = pd.read_csv('kaggle/Imputed_data/test_FE_MC_MLI_round_D.csv') # Testing dataset"
   ]
  },
  {
   "cell_type": "markdown",
   "id": "45870dd5-4dfb-43b9-8a5d-5dc6bf24efd5",
   "metadata": {},
   "source": [
    "Let's make a final check and see if the **missing values were corrected for all target features**:"
   ]
  },
  {
   "cell_type": "code",
   "execution_count": 50,
   "id": "a22a2a55-8c9e-4859-988d-d7fa2a0ef2c6",
   "metadata": {},
   "outputs": [
    {
     "name": "stdout",
     "output_type": "stream",
     "text": [
      "\n",
      "Missing values in train/test datasets:\n",
      "\n",
      "HomePlanet:              \u001b[32m0 (0.0%)\u001b[0m / \u001b[32m0 (0.0%)\u001b[0m\n",
      "CryoSleep:               \u001b[32m0 (0.0%)\u001b[0m / \u001b[32m0 (0.0%)\u001b[0m\n",
      "Destination:             \u001b[32m0 (0.0%)\u001b[0m / \u001b[32m0 (0.0%)\u001b[0m\n",
      "Age:                     \u001b[32m0 (0.0%)\u001b[0m / \u001b[32m0 (0.0%)\u001b[0m\n",
      "VIP:                     \u001b[32m0 (0.0%)\u001b[0m / \u001b[32m0 (0.0%)\u001b[0m\n",
      "ExpRS:                   \u001b[32m0 (0.0%)\u001b[0m / \u001b[32m0 (0.0%)\u001b[0m\n",
      "ExpFC:                   \u001b[32m0 (0.0%)\u001b[0m / \u001b[32m0 (0.0%)\u001b[0m\n",
      "ExpSM:                   \u001b[32m0 (0.0%)\u001b[0m / \u001b[32m0 (0.0%)\u001b[0m\n",
      "ExpSpa:                  \u001b[32m0 (0.0%)\u001b[0m / \u001b[32m0 (0.0%)\u001b[0m\n",
      "ExpVR:                   \u001b[32m0 (0.0%)\u001b[0m / \u001b[32m0 (0.0%)\u001b[0m\n",
      "Cabin_Deck:              \u001b[32m0 (0.0%)\u001b[0m / \u001b[32m0 (0.0%)\u001b[0m\n",
      "Cabin_num:               \u001b[32m0 (0.0%)\u001b[0m / \u001b[32m0 (0.0%)\u001b[0m\n",
      "Cabin_isPort:            \u001b[32m0 (0.0%)\u001b[0m / \u001b[32m0 (0.0%)\u001b[0m\n",
      "\n",
      "Number of rows with 0 missing values: 8693/4277\n"
     ]
    }
   ],
   "source": [
    "# Check missing values:\n",
    "target_feats = [feat for feat in best_hyps_FE_MC] # Target features\n",
    "compute_missing_values(train_df_FE_MC_MLI[target_feats], test_df_FE_MC_MLI[target_feats])"
   ]
  },
  {
   "cell_type": "markdown",
   "id": "620b2e87-579d-4cf1-ac23-4c7fea237024",
   "metadata": {},
   "source": [
    "<a id=\"FE-MC-MLI-submission-performance\"></a>\n",
    "## <span style=\"color:teal;font-weight:bold;\">FE+MC+MLI submission performance</span>\n",
    "\n",
    "We've finally reached the last step in this notebook! In the following, I evaluate the submission performance using the **full data edition workflow**, which includes:\n",
    "\n",
    "- **Feature engineering (FE)**\n",
    "- **Manual corrections (MC)**\n",
    "- **Machine learning imputation (MLI)**\n",
    "\n",
    "The code below allows to train a ML model, predict the *Transported* feature for the test dataset, and export a submission file."
   ]
  },
  {
   "cell_type": "code",
   "execution_count": 51,
   "id": "e0c6d7b5-e06c-4ec1-aa7d-58e253870384",
   "metadata": {},
   "outputs": [
    {
     "name": "stdout",
     "output_type": "stream",
     "text": [
      "Training score: 0.8444\n",
      "Submission file ready.\n"
     ]
    }
   ],
   "source": [
    "# Train a ML model and generate a submission file:\n",
    "predictor_feats = ['HomePlanet','CryoSleep','Destination','Age','VIP',\n",
    "                   'ExpRS','ExpFC','ExpSM','ExpSpa','ExpVR','ExpTotal',\n",
    "                   'Exp_zero','Cabin_Deck','Cabin_num', 'Cabin_isPort']\n",
    "ML_model = XGBClassifier(n_estimators=100, max_depth=3)\n",
    "train_score, preds = train_submit_ML(ML_model,\n",
    "                                     train_df_FE_MC_MLI[predictor_feats+['Transported']],\n",
    "                                     test_df_FE_MC_MLI[predictor_feats],\n",
    "                                     test_ID)"
   ]
  },
  {
   "cell_type": "markdown",
   "id": "a945436c-82d8-439f-bd8c-3908637358fc",
   "metadata": {},
   "source": [
    "Next, I **import my submission results** obtained from different Machine Learning models and compare with the **last benchmark 0.80687**."
   ]
  },
  {
   "cell_type": "code",
   "execution_count": 52,
   "id": "c50500a5-f2b6-4691-95e8-64a294b0c468",
   "metadata": {},
   "outputs": [
    {
     "data": {
      "image/png": "[encoded data removed]",
      "text/plain": [
       "<Figure size 800x400 with 1 Axes>"
      ]
     },
     "metadata": {},
     "output_type": "display_data"
    }
   ],
   "source": [
    "# Import submission results:\n",
    "df_res_FE_MC_MLI = pd.read_csv('kaggle/Training_results/03_submissions_FE_MC_MLI_D.csv')\n",
    "# Prepare results and compare them:\n",
    "results_FE_MC_MLI = {\n",
    "    'FE + MC + MLI': df_res_FE_MC_MLI,\n",
    "}\n",
    "compare_submission_scores(results_FE_MC_MLI,figsize=(8,4),benchmark=0.80687)"
   ]
  },
  {
   "cell_type": "markdown",
   "id": "89117c52-837d-4cbf-a3bb-d243a43c5a5c",
   "metadata": {},
   "source": [
    "🎉 Wonderful!! The **best score is now 0.80757**! When I first submitted this result on 2025-04-16, I broke into the **Top 100 Leaderboard positions**, out of around 2,000 competitors, meaning that my submission was **among the top 5% public results**. Using that Leaderboard data, I can reproduce the summary plot introduced at the beginning of this notebook:"
   ]
  },
  {
   "cell_type": "code",
   "execution_count": 53,
   "id": "85a9ba81-6a4f-4d0d-9f1e-5d8f7f310468",
   "metadata": {},
   "outputs": [
    {
     "data": {
      "image/png": "[encoded data removed]",
      "text/plain": [
       "<Figure size 900x500 with 2 Axes>"
      ]
     },
     "metadata": {},
     "output_type": "display_data"
    }
   ],
   "source": [
    "# Load leaderboard scores:\n",
    "LB_file = \"kaggle/Leaderboard/spaceship-titanic-publicleaderboard-2025-04-16.csv\"\n",
    "LB_scores = pd.read_csv(LB_file)['Score'].sort_values() # Scores (fractions from 0 to 1)\n",
    "# Determine cumulative scores:\n",
    "cum_scores = np.array([sum(LB_scores<=score) for score in LB_scores])/len(LB_scores)*100 # [%]\n",
    "# Determine my best score in this notebook and my position among the best scores:\n",
    "my_best_score = max(df_res_FE_MC_MLI['subm_score'])\n",
    "top_position = -int(sum(LB_scores<=my_best_score)/len(LB_scores)*100-100)+1 # [%]\n",
    "# Determine my position according to my previous scores:\n",
    "score_1 = 0.79635\n",
    "top_position_1 = -int(sum(LB_scores<=score_1)/len(LB_scores)*100-100)+1 # [%]\n",
    "score_2 = 0.80336\n",
    "top_position_2 = -int(sum(LB_scores<=score_2)/len(LB_scores)*100-100)+1 # [%]\n",
    "\n",
    "# Create figure with two axes (double Y-plot)\n",
    "fig, ax1 = plt.subplots(figsize=(9,5))\n",
    "ax2 = ax1.twinx()\n",
    "\n",
    "# Plot scoring histogram with zoomed-in region:\n",
    "hist = LB_scores.hist(bins=len(LB_scores)//3,alpha=0.3,grid=False,color='blue',edgecolor='blue',\n",
    "                      ax=ax1,label='Submission scores')\n",
    "\n",
    "# Plot cumulative scoring by number of users and my position:\n",
    "ax2.plot(LB_scores,cum_scores,label='Cumulative distribution',lw=2,color='orange',zorder=1)\n",
    "ax2.scatter(my_best_score,sum(LB_scores<=my_best_score)/len(LB_scores)*100,\n",
    "            marker='*',color='g',edgecolor='darkgreen',s=100,zorder=2,alpha=1,\n",
    "            label=f'This episode: top {top_position}%')\n",
    "ax2.scatter(score_2,sum(LB_scores<=score_2)/len(LB_scores)*100,\n",
    "            marker='s',color='olive',edgecolor='y',s=70,zorder=2,alpha=1,\n",
    "            label='Second episode')\n",
    "ax2.scatter(score_1,sum(LB_scores<=score_1)/len(LB_scores)*100,\n",
    "            marker='o',color='brown',edgecolor='darkred',s=70,zorder=2,alpha=1,\n",
    "            label='First episode')\n",
    "\n",
    "# Title and axes configuration:\n",
    "ax1.set_xlabel('Submission Score',fontsize=12)\n",
    "ax1.set_ylabel('Number of users',fontsize=12,color='blue')\n",
    "ax2.set_ylabel('Cumulative users [%]',fontsize=12,color='orange')\n",
    "plt.xlim([0.7,LB_scores.max()*1.01])\n",
    "ax1.tick_params(axis='y', colors='blue')\n",
    "ax2.tick_params(axis='y', colors='orange')\n",
    "for spin in ['bottom','top','right','left']:\n",
    "    for ax in [ax1,ax2]:\n",
    "        ax.spines[spin].set_color('#cccccc')\n",
    "\n",
    "# Legend configuration:\n",
    "lines1, labels1 = ax1.get_legend_handles_labels()\n",
    "lines2, labels2 = ax2.get_legend_handles_labels()\n",
    "ax1.legend(lines1 + lines2, labels1 + labels2, title=f'Total number of users: {len(LB_scores)}')\n",
    "\n",
    "fig.tight_layout()"
   ]
  },
  {
   "cell_type": "markdown",
   "id": "fab74bd1-b447-4c23-8355-9e4c65847e58",
   "metadata": {},
   "source": [
    "<a id=\"Conclusions\"></a>\n",
    "## <span style=\"color:teal;font-weight:bold;\">Conclusions</span>\n",
    "\n",
    "This notebook was focused on **data correction techniques**, using engineered features and combining **manual corrections** and **Machine Learning imputation** to boost the competition submission scores. And I succeeded in that goal! My best score improved from the initial **0.80336** benchmark to **0.80757**, ranking in the 5% top scores on the Leaderboard.\n",
    "\n",
    "The gradual progress is summarized in the figure below, highlighting that **Machine Learning imputation** outperformed standard correction for filling missing values. Also, I demonstrate here that the greatest contribution came from the 100% confident **manual corrections**. The **combination of both techniques** ultimately led to achieving the **best score** of 0.80757.\n",
    "\n",
    "[<img src=\"https://github.com/Fertmeneses/titanic-spaceship-kaggle/blob/main/assets/03_summary_progression.png?raw=true\" width=600>](Summary_progression)"
   ]
  },
  {
   "cell_type": "markdown",
   "id": "f68d7886-9310-4679-9706-726f2dab1b44",
   "metadata": {},
   "source": [
    "**Thanks a lot for reading my notebook!** It's a great pleasure to share my thoughts and results with the community, and I would love to hear any feedback you may have. Please feel free to leave any comments! 😁"
   ]
  },
  {
   "cell_type": "code",
   "execution_count": 54,
   "id": "9b37fa27-e32d-4795-94b6-7feabcf8e1ec",
   "metadata": {},
   "outputs": [],
   "source": [
    "# # Best submission result for each data+ML model:\n",
    "# all_results = results_general | results_FE_MC_SC | results_FE_MC_MLI\n",
    "# best_subm_scores = {x:max(all_results[x]['subm_score']) for x in all_results}\n",
    "# fig = plt.figure(figsize=(8,5))\n",
    "# plt.bar(range(len(best_subm_scores)),\n",
    "#         list(best_subm_scores.values()), \n",
    "#         tick_label=list(best_subm_scores.keys()))\n",
    "# plt.xticks(rotation=30)\n",
    "# plt.ylim([0.793,0.81])\n",
    "# plt.xlabel('Data corrections')\n",
    "# plt.ylabel('Submission score')\n",
    "# fig.tight_layout()\n",
    "# plt.savefig('assets/03_summary_Methods_results.svg',transparent=True,format=\"svg\")"
   ]
  },
  {
   "cell_type": "code",
   "execution_count": null,
   "id": "b97e16e7-3fca-4fa4-83b2-616c764f0a41",
   "metadata": {},
   "outputs": [],
   "source": []
  }
 ],
 "metadata": {
  "kernelspec": {
   "display_name": "Python 3 (ipykernel)",
   "language": "python",
   "name": "python3"
  },
  "language_info": {
   "codemirror_mode": {
    "name": "ipython",
    "version": 3
   },
   "file_extension": ".py",
   "mimetype": "text/x-python",
   "name": "python",
   "nbconvert_exporter": "python",
   "pygments_lexer": "ipython3",
   "version": "3.12.7"
  }
 },
 "nbformat": 4,
 "nbformat_minor": 5
}
