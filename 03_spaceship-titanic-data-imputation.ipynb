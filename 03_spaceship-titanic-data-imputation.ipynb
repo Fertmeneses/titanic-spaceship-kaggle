{
 "cells": [
  {
   "cell_type": "markdown",
   "id": "a7d4b3aa-1f7d-4c3c-93a4-4568b513bbbd",
   "metadata": {},
   "source": [
    "<a id=\"Title\"></a>\n",
    "# <span style=\"color:teal;font-weight:bold;\">Spaceship Titanic 🩹 Data imputation</span>\n",
    "\n",
    "This notebook is the third part of my <span style=\"font-weight:bold;color:green\">Spaceship Titanic series</span>:\n",
    "\n",
    "1. <a href=\"https://www.kaggle.com/code/fertmeneses/spaceship-titanic-getting-familiar\">Spaceship Titanic 🏁 Getting familiar</a>.\n",
    "2. <a href=\"https://www.kaggle.com/code/fertmeneses/spaceship-titanic-feature-engineering\">Spaceship Titanic 💡 Feature engineering.</a>\n",
    "3. <span style=\"font-weight:bold\">Spaceship Titanic 🩹 Data imputation.</span> [This notebook]\n",
    "4. Spaceship Titanic 🖥️ Model optimization. (Coming soon)\n",
    "5. Spaceship Titanic 🔭 Integrated analysis. (Coming soon)\n",
    "\n",
    "In the <span style=\"color:orangered;font-weight:bold;\">first episode</span>, I studied the Leaderboard (LB) and tried simple Machine Learning models with the original dataset, getting a <span style=\"color:orangered;font-weight:bold;\">submission score of 0.79635</span>. \n",
    "\n",
    "From that experience, I learned that **$\\approx$75% of the submissions in the LB are below a 0.80 score, while only $\\approx$5% are above 0.81**.\n",
    "\n",
    "In the <span style=\"color:orange;font-weight:bold;\">second episode</span>, I performed feature engineering on the original dataset (without any data correction), getting a <span style=\"color:orange;font-weight:bold;\">submission score of 0.80336</span>.\n",
    "\n",
    "<div style=\"color:white;\n",
    "    display:fill;\n",
    "    border-radius:15px;\n",
    "    margin-left: 100px;\n",
    "    margin-right: 100px;\n",
    "    background-color:lightblue;\n",
    "    font-size:105%;\n",
    "    font-family:Verdana;\n",
    "    letter-spacing:0.5px\">\n",
    "\n",
    "<p style=\"padding: 20px;color:black;text-align:center;\">\n",
    "In this <span style=\"color:green;font-weight:bold;\">notebook</span>, I use my previously engineered features and focus on <span style=\"font-weight:bold;\">data imputation</span> employing my own Machine Learning methods, getting a <span style=\"color:green;font-weight:bold;\">submission score of X</span>.\n",
    "\n",
    "</p>\n",
    "</div>\n",
    "\n",
    "\n",
    "\n",
    "In the future notebooks, I'll optimize the Machine Learning model and finally make an integrated analysis based on my results and a deep study of other kagglers' contributions.\n",
    "\n",
    "<hr>"
   ]
  },
  {
   "cell_type": "markdown",
   "id": "92087346-b763-486d-9ec7-73c774358411",
   "metadata": {},
   "source": [
    "# <font color='teal'>Outline</font> <a class=\"anchor\"  id=\"Outline\"></a>\n",
    "\n",
    "[**Load data and preprocess**](#Load_data_and_preprocess)\n",
    "\n",
    "  - [Load original data](#Load_original_data)\n",
    "\n",
    "  - [Basic feature engineering](#Basic_feature_engineering)\n",
    "\n",
    "[**Manual data correction**](#Manual_data_correction)\n",
    "\n",
    "  - [Expenses features](#Manual_data_correction_Expenses_Features)\n",
    "\n",
    "  - [Cryosleep feature](#Manual_data_correction_Cryosleep_Feature)\n",
    "\n",
    "  - [HomePlanet feature](#Manual_data_correction_HomePlanet_Feature)\n",
    "\n",
    "[**ML data imputation**](#ML_data_imputation)\n",
    "\n",
    "  - [Method description](#Method_description)\n",
    "\n",
    "  - [Data selection](#Data_selection)\n",
    "\n",
    "  - [Model tests](#Model_tests)\n",
    "\n",
    "  - [Data imputation](#Data_imputation)\n",
    "\n",
    "    - [Feature_X](#Data_imputation_Feature_X)\n",
    "  \n",
    "[**Feature engineering**](#Feature_engineering)\n",
    "\n",
    "  - [Engineer features](#Engineer_features)\n",
    "   \n",
    "  - [Correlations](#Correlations)\n",
    "   \n",
    "  - [Combined features](#Feature_engineering_combined)\n",
    "   \n",
    "[**Submission results**](#Submission_results)\n",
    "\n",
    "  - [Try models](#Try_models)\n",
    "    \n",
    "  - [Analyze results](#Analyze_results)\n",
    "  \n",
    "[**Conclusions**](#Conclusions)"
   ]
  },
  {
   "cell_type": "markdown",
   "id": "324337ff-eb9c-4e10-af5a-24be73de43ea",
   "metadata": {},
   "source": [
    "<a id=\"Load_data_and_preprocess\"></a>\n",
    "# <span style=\"color:teal;font-weight:bold;\">Load data and preprocess</span>\n",
    "\n",
    "In this section, I load the original data and make basic feature engineering, in which I only extract information from single variables or change names. Other feature engineering processes that relate two or more features will come later."
   ]
  },
  {
   "cell_type": "code",
   "execution_count": 1,
   "id": "482f75e3-3a65-4038-92c8-cf08094ccc25",
   "metadata": {},
   "outputs": [
    {
     "name": "stdout",
     "output_type": "stream",
     "text": [
      "Notebook last run (end-to-end): 2025-02-24 19:12:53.235239\n"
     ]
    }
   ],
   "source": [
    "import datetime\n",
    "print(f\"Notebook last run (end-to-end): {datetime.datetime.now()}\")"
   ]
  },
  {
   "cell_type": "markdown",
   "id": "7915230d-b4f6-415e-8e6a-5ce2ed8f16b8",
   "metadata": {},
   "source": [
    "<a id=\"Load_original_data\"></a>\n",
    "## <span style=\"color:teal;font-weight:bold;\">Load original data</span>\n",
    "\n",
    "In the following lines, I load the original datasets and get this information:\n",
    "\n",
    "- Example for 10 random rows in training dataset.\n",
    "\n",
    "- Number of rows in both datasets.\n",
    "\n",
    "- Features' names and data types.\n",
    "\n",
    "- Number of missing values in both datasets, per feature and per row."
   ]
  },
  {
   "cell_type": "code",
   "execution_count": 2,
   "id": "9e5cf416-cac1-45f4-be71-e957ad7212d5",
   "metadata": {},
   "outputs": [
    {
     "data": {
      "text/html": [
       "<div>\n",
       "<style scoped>\n",
       "    .dataframe tbody tr th:only-of-type {\n",
       "        vertical-align: middle;\n",
       "    }\n",
       "\n",
       "    .dataframe tbody tr th {\n",
       "        vertical-align: top;\n",
       "    }\n",
       "\n",
       "    .dataframe thead th {\n",
       "        text-align: right;\n",
       "    }\n",
       "</style>\n",
       "<table border=\"1\" class=\"dataframe\">\n",
       "  <thead>\n",
       "    <tr style=\"text-align: right;\">\n",
       "      <th></th>\n",
       "      <th>PassengerId</th>\n",
       "      <th>HomePlanet</th>\n",
       "      <th>CryoSleep</th>\n",
       "      <th>Cabin</th>\n",
       "      <th>Destination</th>\n",
       "      <th>Age</th>\n",
       "      <th>VIP</th>\n",
       "      <th>RoomService</th>\n",
       "      <th>FoodCourt</th>\n",
       "      <th>ShoppingMall</th>\n",
       "      <th>Spa</th>\n",
       "      <th>VRDeck</th>\n",
       "      <th>Name</th>\n",
       "      <th>Transported</th>\n",
       "    </tr>\n",
       "  </thead>\n",
       "  <tbody>\n",
       "    <tr>\n",
       "      <th>1454</th>\n",
       "      <td>1539_01</td>\n",
       "      <td>Europa</td>\n",
       "      <td>NaN</td>\n",
       "      <td>A/17/S</td>\n",
       "      <td>55 Cancri e</td>\n",
       "      <td>32.0</td>\n",
       "      <td>False</td>\n",
       "      <td>54.0</td>\n",
       "      <td>3782.0</td>\n",
       "      <td>0.0</td>\n",
       "      <td>21.0</td>\n",
       "      <td>5.0</td>\n",
       "      <td>Alyadum Barmant</td>\n",
       "      <td>True</td>\n",
       "    </tr>\n",
       "    <tr>\n",
       "      <th>218</th>\n",
       "      <td>0232_01</td>\n",
       "      <td>Earth</td>\n",
       "      <td>True</td>\n",
       "      <td>G/36/S</td>\n",
       "      <td>PSO J318.5-22</td>\n",
       "      <td>27.0</td>\n",
       "      <td>False</td>\n",
       "      <td>0.0</td>\n",
       "      <td>NaN</td>\n",
       "      <td>0.0</td>\n",
       "      <td>0.0</td>\n",
       "      <td>0.0</td>\n",
       "      <td>Nica Bakerrison</td>\n",
       "      <td>False</td>\n",
       "    </tr>\n",
       "    <tr>\n",
       "      <th>7866</th>\n",
       "      <td>8392_01</td>\n",
       "      <td>Earth</td>\n",
       "      <td>False</td>\n",
       "      <td>F/1610/S</td>\n",
       "      <td>PSO J318.5-22</td>\n",
       "      <td>24.0</td>\n",
       "      <td>False</td>\n",
       "      <td>86.0</td>\n",
       "      <td>669.0</td>\n",
       "      <td>1.0</td>\n",
       "      <td>0.0</td>\n",
       "      <td>0.0</td>\n",
       "      <td>Therly Brightez</td>\n",
       "      <td>False</td>\n",
       "    </tr>\n",
       "    <tr>\n",
       "      <th>7622</th>\n",
       "      <td>8141_01</td>\n",
       "      <td>Earth</td>\n",
       "      <td>True</td>\n",
       "      <td>G/1310/S</td>\n",
       "      <td>TRAPPIST-1e</td>\n",
       "      <td>38.0</td>\n",
       "      <td>False</td>\n",
       "      <td>0.0</td>\n",
       "      <td>0.0</td>\n",
       "      <td>0.0</td>\n",
       "      <td>0.0</td>\n",
       "      <td>0.0</td>\n",
       "      <td>Stenny Belley</td>\n",
       "      <td>True</td>\n",
       "    </tr>\n",
       "    <tr>\n",
       "      <th>4108</th>\n",
       "      <td>4387_01</td>\n",
       "      <td>Mars</td>\n",
       "      <td>False</td>\n",
       "      <td>F/902/P</td>\n",
       "      <td>PSO J318.5-22</td>\n",
       "      <td>32.0</td>\n",
       "      <td>False</td>\n",
       "      <td>192.0</td>\n",
       "      <td>0.0</td>\n",
       "      <td>441.0</td>\n",
       "      <td>18.0</td>\n",
       "      <td>0.0</td>\n",
       "      <td>Apix Wala</td>\n",
       "      <td>False</td>\n",
       "    </tr>\n",
       "    <tr>\n",
       "      <th>4363</th>\n",
       "      <td>4645_01</td>\n",
       "      <td>Europa</td>\n",
       "      <td>False</td>\n",
       "      <td>B/184/S</td>\n",
       "      <td>TRAPPIST-1e</td>\n",
       "      <td>48.0</td>\n",
       "      <td>False</td>\n",
       "      <td>0.0</td>\n",
       "      <td>9633.0</td>\n",
       "      <td>0.0</td>\n",
       "      <td>1.0</td>\n",
       "      <td>2.0</td>\n",
       "      <td>Aton Bacistion</td>\n",
       "      <td>True</td>\n",
       "    </tr>\n",
       "    <tr>\n",
       "      <th>343</th>\n",
       "      <td>0379_01</td>\n",
       "      <td>Earth</td>\n",
       "      <td>False</td>\n",
       "      <td>G/63/P</td>\n",
       "      <td>TRAPPIST-1e</td>\n",
       "      <td>31.0</td>\n",
       "      <td>False</td>\n",
       "      <td>198.0</td>\n",
       "      <td>0.0</td>\n",
       "      <td>591.0</td>\n",
       "      <td>0.0</td>\n",
       "      <td>164.0</td>\n",
       "      <td>Brita Moodson</td>\n",
       "      <td>True</td>\n",
       "    </tr>\n",
       "    <tr>\n",
       "      <th>5966</th>\n",
       "      <td>6324_01</td>\n",
       "      <td>Earth</td>\n",
       "      <td>False</td>\n",
       "      <td>E/420/S</td>\n",
       "      <td>NaN</td>\n",
       "      <td>31.0</td>\n",
       "      <td>False</td>\n",
       "      <td>19.0</td>\n",
       "      <td>509.0</td>\n",
       "      <td>0.0</td>\n",
       "      <td>0.0</td>\n",
       "      <td>177.0</td>\n",
       "      <td>Lesley Hinetthews</td>\n",
       "      <td>False</td>\n",
       "    </tr>\n",
       "    <tr>\n",
       "      <th>669</th>\n",
       "      <td>0699_01</td>\n",
       "      <td>Mars</td>\n",
       "      <td>True</td>\n",
       "      <td>F/126/S</td>\n",
       "      <td>NaN</td>\n",
       "      <td>18.0</td>\n",
       "      <td>False</td>\n",
       "      <td>0.0</td>\n",
       "      <td>0.0</td>\n",
       "      <td>0.0</td>\n",
       "      <td>0.0</td>\n",
       "      <td>0.0</td>\n",
       "      <td>Roswal Sha</td>\n",
       "      <td>True</td>\n",
       "    </tr>\n",
       "    <tr>\n",
       "      <th>6506</th>\n",
       "      <td>6865_01</td>\n",
       "      <td>Europa</td>\n",
       "      <td>False</td>\n",
       "      <td>D/208/S</td>\n",
       "      <td>TRAPPIST-1e</td>\n",
       "      <td>27.0</td>\n",
       "      <td>NaN</td>\n",
       "      <td>69.0</td>\n",
       "      <td>2878.0</td>\n",
       "      <td>0.0</td>\n",
       "      <td>4232.0</td>\n",
       "      <td>3798.0</td>\n",
       "      <td>Thabih Peducting</td>\n",
       "      <td>False</td>\n",
       "    </tr>\n",
       "  </tbody>\n",
       "</table>\n",
       "</div>"
      ],
      "text/plain": [
       "     PassengerId HomePlanet CryoSleep     Cabin    Destination   Age    VIP  \\\n",
       "1454     1539_01     Europa       NaN    A/17/S    55 Cancri e  32.0  False   \n",
       "218      0232_01      Earth      True    G/36/S  PSO J318.5-22  27.0  False   \n",
       "7866     8392_01      Earth     False  F/1610/S  PSO J318.5-22  24.0  False   \n",
       "7622     8141_01      Earth      True  G/1310/S    TRAPPIST-1e  38.0  False   \n",
       "4108     4387_01       Mars     False   F/902/P  PSO J318.5-22  32.0  False   \n",
       "4363     4645_01     Europa     False   B/184/S    TRAPPIST-1e  48.0  False   \n",
       "343      0379_01      Earth     False    G/63/P    TRAPPIST-1e  31.0  False   \n",
       "5966     6324_01      Earth     False   E/420/S            NaN  31.0  False   \n",
       "669      0699_01       Mars      True   F/126/S            NaN  18.0  False   \n",
       "6506     6865_01     Europa     False   D/208/S    TRAPPIST-1e  27.0    NaN   \n",
       "\n",
       "      RoomService  FoodCourt  ShoppingMall     Spa  VRDeck               Name  \\\n",
       "1454         54.0     3782.0           0.0    21.0     5.0    Alyadum Barmant   \n",
       "218           0.0        NaN           0.0     0.0     0.0    Nica Bakerrison   \n",
       "7866         86.0      669.0           1.0     0.0     0.0    Therly Brightez   \n",
       "7622          0.0        0.0           0.0     0.0     0.0      Stenny Belley   \n",
       "4108        192.0        0.0         441.0    18.0     0.0          Apix Wala   \n",
       "4363          0.0     9633.0           0.0     1.0     2.0     Aton Bacistion   \n",
       "343         198.0        0.0         591.0     0.0   164.0      Brita Moodson   \n",
       "5966         19.0      509.0           0.0     0.0   177.0  Lesley Hinetthews   \n",
       "669           0.0        0.0           0.0     0.0     0.0         Roswal Sha   \n",
       "6506         69.0     2878.0           0.0  4232.0  3798.0   Thabih Peducting   \n",
       "\n",
       "      Transported  \n",
       "1454         True  \n",
       "218         False  \n",
       "7866        False  \n",
       "7622         True  \n",
       "4108        False  \n",
       "4363         True  \n",
       "343          True  \n",
       "5966        False  \n",
       "669          True  \n",
       "6506        False  "
      ]
     },
     "metadata": {},
     "output_type": "display_data"
    },
    {
     "name": "stdout",
     "output_type": "stream",
     "text": [
      "\n",
      "Number of rows in train/test datasets:\n",
      "\n",
      "8693 / 4277\n",
      "\n",
      "Features: names and data types:\n",
      "\n",
      "PassengerId      object\n",
      "HomePlanet       object\n",
      "CryoSleep        object\n",
      "Cabin            object\n",
      "Destination      object\n",
      "Age             float64\n",
      "VIP              object\n",
      "RoomService     float64\n",
      "FoodCourt       float64\n",
      "ShoppingMall    float64\n",
      "Spa             float64\n",
      "VRDeck          float64\n",
      "Name             object\n",
      "Transported        bool\n",
      "dtype: object\n"
     ]
    }
   ],
   "source": [
    "import pandas as pd\n",
    "import numpy as np\n",
    "from termcolor import colored\n",
    "\n",
    "# Load original datasets:\n",
    "train_df = pd.read_csv('kaggle/input/spaceship-titanic/train.csv') # Training dataset\n",
    "test_df = pd.read_csv('kaggle/input/spaceship-titanic/test.csv') # Testing dataset\n",
    "# Keep the passengerID features separately:\n",
    "train_ID = train_df['PassengerId']\n",
    "test_ID = test_df['PassengerId']\n",
    "# Display a 10 random examples:\n",
    "np.random.seed(1) # Ensure reproducitibility\n",
    "samples = np.random.choice(range(len(train_df)), 10, replace=False)\n",
    "display(train_df.iloc[samples]) # Examples\n",
    "# Print global information:\n",
    "print('\\nNumber of rows in train/test datasets:\\n')\n",
    "print(len(train_df),'/',len(test_df))\n",
    "print('\\nFeatures: names and data types:\\n')\n",
    "print(train_df.dtypes)"
   ]
  },
  {
   "cell_type": "code",
   "execution_count": 3,
   "id": "0b28df7d-6c70-46a2-86cf-6e5331e651b4",
   "metadata": {},
   "outputs": [],
   "source": [
    "def compute_missing_values(train_df,test_df):\n",
    "    \"\"\"\n",
    "    Analyzes the missing values in each feature listed in the testing\n",
    "    dataset, for both training and testing datasets.\n",
    "    --- Inputs ---\n",
    "    {train_df, test_df} [Dataframes]: Training and testing datasets.\n",
    "    \"\"\"\n",
    "    print('\\nMissing values in train/test datasets:\\n')\n",
    "    for col in test_df.columns:\n",
    "        # Count missing values and obtain percentages:\n",
    "        N_train = train_df[col].isna().sum() \n",
    "        N_test = test_df[col].isna().sum()\n",
    "        p_train = N_train/len(train_df)*100 # [%]\n",
    "        p_test = N_test/len(test_df)*100 # [%]\n",
    "        # Print results:\n",
    "        color_train = 'red' if N_train else 'green'\n",
    "        color_test = 'red' if N_test else 'green'\n",
    "        rmargin = 60-len(col)\n",
    "        text_train = colored(f'{N_train} ({p_train:.1f}%)', color_train)\n",
    "        text_test = colored(f'{N_test} ({p_test:.1f}%)', color_test)\n",
    "        print(f'{col}:',f'{text_train} / {text_test}'.rjust(rmargin))\n",
    "    # Count missing values in each row:\n",
    "    N_nan_train = train_df.apply(lambda x: x.isna().sum(), axis=1)\n",
    "    N_nan_test = test_df.apply(lambda x: x.isna().sum(), axis=1) \n",
    "    # Print number of rows with N missing values:\n",
    "    print('')\n",
    "    for n in set(N_nan_train).union(set(N_nan_test)):\n",
    "        print(f'Number of rows with {n} missing values: {sum(N_nan_train==n)}/{sum(N_nan_test==n)}')"
   ]
  },
  {
   "cell_type": "code",
   "execution_count": 4,
   "id": "f69cd7c4-44d8-47d1-871a-c28131b09f65",
   "metadata": {},
   "outputs": [
    {
     "name": "stdout",
     "output_type": "stream",
     "text": [
      "\n",
      "Missing values in train/test datasets:\n",
      "\n",
      "PassengerId:             \u001b[32m0 (0.0%)\u001b[0m / \u001b[32m0 (0.0%)\u001b[0m\n",
      "HomePlanet:           \u001b[31m201 (2.3%)\u001b[0m / \u001b[31m87 (2.0%)\u001b[0m\n",
      "CryoSleep:            \u001b[31m217 (2.5%)\u001b[0m / \u001b[31m93 (2.2%)\u001b[0m\n",
      "Cabin:               \u001b[31m199 (2.3%)\u001b[0m / \u001b[31m100 (2.3%)\u001b[0m\n",
      "Destination:          \u001b[31m182 (2.1%)\u001b[0m / \u001b[31m92 (2.2%)\u001b[0m\n",
      "Age:                  \u001b[31m179 (2.1%)\u001b[0m / \u001b[31m91 (2.1%)\u001b[0m\n",
      "VIP:                  \u001b[31m203 (2.3%)\u001b[0m / \u001b[31m93 (2.2%)\u001b[0m\n",
      "RoomService:          \u001b[31m181 (2.1%)\u001b[0m / \u001b[31m82 (1.9%)\u001b[0m\n",
      "FoodCourt:           \u001b[31m183 (2.1%)\u001b[0m / \u001b[31m106 (2.5%)\u001b[0m\n",
      "ShoppingMall:         \u001b[31m208 (2.4%)\u001b[0m / \u001b[31m98 (2.3%)\u001b[0m\n",
      "Spa:                 \u001b[31m183 (2.1%)\u001b[0m / \u001b[31m101 (2.4%)\u001b[0m\n",
      "VRDeck:               \u001b[31m188 (2.2%)\u001b[0m / \u001b[31m80 (1.9%)\u001b[0m\n",
      "Name:                 \u001b[31m200 (2.3%)\u001b[0m / \u001b[31m94 (2.2%)\u001b[0m\n",
      "\n",
      "Number of rows with 0 missing values: 6606/3281\n",
      "Number of rows with 1 missing values: 1867/879\n",
      "Number of rows with 2 missing values: 203/113\n",
      "Number of rows with 3 missing values: 17/4\n"
     ]
    }
   ],
   "source": [
    "compute_missing_values(train_df,test_df)"
   ]
  },
  {
   "cell_type": "markdown",
   "id": "4942b2ca-9a94-41bf-a758-6b8eb4ad9b14",
   "metadata": {},
   "source": [
    "For more comments, please visit <a href=\"https://www.kaggle.com/code/fertmeneses/spaceship-titanic-feature-engineering\">Spaceship Titanic 💡 Feature engineering.</a>"
   ]
  },
  {
   "cell_type": "markdown",
   "id": "8db3f715-6231-4bd6-8d98-fb2681996195",
   "metadata": {},
   "source": [
    "<a id=\"Basic_feature_engineering\"></a>\n",
    "## <span style=\"color:teal;font-weight:bold;\">Basic feature engineering</span>\n",
    "\n",
    "Except for the **PassengerID** feature, there are around 2% missing values in each feature of both training and testing datasets. In order to correct them, I'll make some fair assumptions and deductions using the original information. \n",
    "\n",
    "Then, **in this Basic feature engineering process I won't generate new features that involve two or more features, because that would multiply the missing values**. Instead, I will just extract information from the original features or make simple changes such as changing the feature name.\n",
    "\n",
    "You can check my previous notebook <a href=\"https://www.kaggle.com/code/fertmeneses/spaceship-titanic-feature-engineering\">Spaceship Titanic 💡 Feature engineering.</a> for details about the engineering of single features. In the following, I just apply that code."
   ]
  },
  {
   "cell_type": "code",
   "execution_count": 25,
   "id": "fdaa7353-a30a-4d28-83c0-3079de030e19",
   "metadata": {},
   "outputs": [],
   "source": [
    "# First generate the corrected datasets:\n",
    "train_df_SF = train_df.copy()\n",
    "test_df_SF = test_df.copy()\n",
    "\n",
    "# # # \"PassengerId\": new features \"IDgroup\" and \"GroupMembers\" # # #\n",
    "\n",
    "train_df_SF['IDgroup'] = train_df['PassengerId'].apply(\n",
    "    lambda x: int(x.split('_')[0]))\n",
    "test_df_SF['IDgroup'] = test_df['PassengerId'].apply(\n",
    "    lambda x: int(x.split('_')[0]))\n",
    "# Identify ocurrences for every unique value in IDgroup:\n",
    "ocurrences = pd.concat([train_df_SF['IDgroup'], test_df_SF['IDgroup']]).value_counts().to_dict()\n",
    "for dataset in [train_df_SF,test_df_SF]:\n",
    "    dataset['GroupMembers'] = dataset['IDgroup'].apply(lambda x: ocurrences[x])\n",
    "# Drop unnecessary feature:\n",
    "train_df_SF = train_df_SF.drop('PassengerId',axis=1)\n",
    "test_df_SF = test_df_SF.drop('PassengerId',axis=1)\n",
    "\n",
    "# # # \"CryoSleep\": make boolean/numeric # # #\n",
    "\n",
    "for dataset in [train_df_SF,test_df_SF]:\n",
    "    dataset['CryoSleep'] = dataset['CryoSleep'].apply(\n",
    "        lambda x: np.nan if x!=x else (1 if x else 0))\n",
    "\n",
    "# # # \"Cabin\": new features \"Cabin_Deck\", \"Cabin_num\" and \"Cabin_isPort\" # # #\n",
    "\n",
    "# Generate list of unique values:\n",
    "cabin = list(train_df['Cabin'].loc[~train_df['Cabin'].isna()].values)+\\\n",
    "        list(test_df['Cabin'].loc[~test_df['Cabin'].isna()].values)\n",
    "# Separate \"Cabin\" into three parts:\n",
    "cabin_X = ['Cabin_Deck','Cabin_num','Cabin_Side']\n",
    "for i,cabin in enumerate(cabin_X):\n",
    "    train_df_SF[cabin] = train_df['Cabin'].apply(\n",
    "        lambda x: np.nan if x!=x else (\n",
    "            x.split('/')[i]))\n",
    "    test_df_SF[cabin] = test_df['Cabin'].apply(\n",
    "        lambda x: np.nan if x!=x else (\n",
    "            x.split('/')[i]))\n",
    "# Make 'Cabin_num' numeric:\n",
    "for dataset in [train_df_SF,test_df_SF]:\n",
    "    dataset['Cabin_num'] = pd.to_numeric(dataset['Cabin_num'], errors='coerce').astype(int)\n",
    "\n",
    "# Change 'Cabin_Side' to 'Cabin_isPort' and make it boolean/numeric:\n",
    "train_df_SF['Cabin_isPort'] = train_df_SF['Cabin_Side'].apply(\n",
    "    lambda x: np.nan if x!=x else (1 if x=='P' else 0))\n",
    "test_df_SF['Cabin_isPort'] = test_df_SF['Cabin_Side'].apply(\n",
    "    lambda x: np.nan if x!=x else (1 if x=='P' else 0))\n",
    "# Drop unnecesary features:\n",
    "for feature in ['Cabin','Cabin_Side']:\n",
    "    train_df_SF = train_df_SF.drop(feature,axis=1)\n",
    "    test_df_SF = test_df_SF.drop(feature,axis=1)\n",
    "\n",
    "# # # \"Destination\" redefinition # # #\n",
    "\n",
    "train_df_SF[\"Destination\"] = train_df[\"Destination\"].apply(\n",
    "    lambda x: np.nan if x!=x else (\n",
    "    \"Cancri\" if x==\"55 Cancri e\" else (\n",
    "        \"PSO\" if x==\"PSO J318.5-22\" else \"Trappist\"))\n",
    ")\n",
    "test_df_SF[\"Destination\"] = test_df[\"Destination\"].apply(\n",
    "    lambda x: np.nan if x!=x else (\n",
    "    \"Cancri\" if x==\"55 Cancri e\" else (\n",
    "        \"PSO\" if x==\"PSO J318.5-22\" else \"Trappist\"))\n",
    ")\n",
    "\n",
    "# # # Expense-features redefinition # # #\n",
    "\n",
    "for dataset in [train_df_SF, test_df_SF]:\n",
    "    dataset.rename(columns={\n",
    "        'RoomService': 'ExpRS',\n",
    "        'FoodCourt': 'ExpFC',\n",
    "        'ShoppingMall': 'ExpSM',\n",
    "        'Spa': 'ExpSpa',\n",
    "        'VRDeck': 'ExpVR'\n",
    "        }, inplace=True)\n",
    "\n",
    "# # # \"Name\" feature: new features \"Name_Last\" and \"Ocurrence_LastName\" # # #\n",
    "\n",
    "# Training dataset:\n",
    "train_df_SF['Name_Last'] = train_df['Name'].apply(\n",
    "    lambda x: np.nan if x!=x else (\n",
    "        x.split(' ')[-1]))\n",
    "# Testing dataset:\n",
    "test_df_SF['Name_Last'] = test_df['Name'].apply(\n",
    "    lambda x: np.nan if x!=x else (\n",
    "        x.split(' ')[-1]))\n",
    "# Identify ocurrences for every unique value in Name_Last:\n",
    "ocurrences = pd.concat([train_df_SF['Name_Last'], test_df_SF['Name_Last']]).value_counts().to_dict()\n",
    "for dataset in [train_df_SF,test_df_SF]:\n",
    "    dataset['Ocurrence_LastName'] = dataset['Name_Last'].apply(\n",
    "        lambda x: np.nan if x!=x else ocurrences[x])\n",
    "# Drop unnecessary feature:\n",
    "train_df_SF = train_df_SF.drop('Name',axis=1)\n",
    "test_df_SF = test_df_SF.drop('Name',axis=1)"
   ]
  },
  {
   "cell_type": "code",
   "execution_count": 26,
   "id": "50f83818-e5eb-4ee6-9ce9-91db36039558",
   "metadata": {},
   "outputs": [
    {
     "data": {
      "text/plain": [
       "0          0.0\n",
       "1          0.0\n",
       "2          0.0\n",
       "3          0.0\n",
       "4          1.0\n",
       "         ...  \n",
       "8688      98.0\n",
       "8689    1499.0\n",
       "8690    1500.0\n",
       "8691     608.0\n",
       "8692     608.0\n",
       "Name: Cabin_num, Length: 8693, dtype: float64"
      ]
     },
     "execution_count": 26,
     "metadata": {},
     "output_type": "execute_result"
    }
   ],
   "source": [
    "train_df_SF['Cabin_num']"
   ]
  },
  {
   "cell_type": "markdown",
   "id": "e268a000-cb75-406d-abb3-43ee80f7d3cb",
   "metadata": {},
   "source": [
    "Below, I summarize all **features after the basic engineering process**:\n",
    "\n",
    "| Feature | Definition |\n",
    "| :---: | :--- |\n",
    "| **IDgroup** | Indicates the group with which the passenger is travelling with. People in a group are often family members, but not always. |\n",
    "| **GroupMembers** | Number of passengers sharing the same **IDgroup** (including self). |\n",
    "| **Name_Last** | Last name of the passenger. |\n",
    "| **Ocurrence_LastName** | Number of passengers sharing the same last name (including self). |\n",
    "| **HomePlanet** | The planet the passenger departed from, typically their planet of permanent residence. |\n",
    "| **CryoSleep** | Indicates whether the passenger elected to be put into suspended animation for the duration of the voyage. Passengers in cryosleep are confined to their cabins. |\n",
    "| **Destination** | The planet the passenger will be debarking to. |\n",
    "| **Age** | The age of the passenger. |\n",
    "| **VIP** | Whether the passenger has paid for special VIP service during the voyage. |\n",
    "| **Cabin_Deck** | Designation of the Deck in which the passenger's cabin is located |\n",
    "| **Cabin_num** | Passenger's cabin number |\n",
    "| **Cabin_isPort** | Side of the starship in which the passenger's cabin is located: a value 1 means Port, 0 means Starboard. |\n",
    "| **ExpRS** | Amount the passenger has billed at the Room Service luxury amenity |\n",
    "| **ExpFC** | Amount the passenger has billed at the Food Court luxury amenity |\n",
    "| **ExpSM** | Amount the passenger has billed at the Shopping Mall luxury amenity |\n",
    "| **ExpSpa** | Amount the passenger has billed at the Spa luxury amenity |\n",
    "| **ExpVR** | Amount the passenger has billed at the VRDeck luxury amenity |"
   ]
  },
  {
   "cell_type": "markdown",
   "id": "021e362d-214f-4292-b57c-4e460ec140ea",
   "metadata": {},
   "source": [
    "<a id=\"Manual_data_correction\"></a>\n",
    "# <span style=\"color:teal;font-weight:bold;\">Manual data correction</span>\n",
    "\n",
    "As the original features have changed their names and expanded into a new set, I compute again the missing values:"
   ]
  },
  {
   "cell_type": "code",
   "execution_count": 7,
   "id": "524b0c6b-8174-4911-8ef2-c8b7bbfbb3b6",
   "metadata": {},
   "outputs": [
    {
     "name": "stdout",
     "output_type": "stream",
     "text": [
      "\n",
      "Missing values in train/test datasets:\n",
      "\n",
      "HomePlanet:           \u001b[31m201 (2.3%)\u001b[0m / \u001b[31m87 (2.0%)\u001b[0m\n",
      "CryoSleep:            \u001b[31m217 (2.5%)\u001b[0m / \u001b[31m93 (2.2%)\u001b[0m\n",
      "Destination:          \u001b[31m182 (2.1%)\u001b[0m / \u001b[31m92 (2.2%)\u001b[0m\n",
      "Age:                  \u001b[31m179 (2.1%)\u001b[0m / \u001b[31m91 (2.1%)\u001b[0m\n",
      "VIP:                  \u001b[31m203 (2.3%)\u001b[0m / \u001b[31m93 (2.2%)\u001b[0m\n",
      "ExpRS:                \u001b[31m181 (2.1%)\u001b[0m / \u001b[31m82 (1.9%)\u001b[0m\n",
      "ExpFC:               \u001b[31m183 (2.1%)\u001b[0m / \u001b[31m106 (2.5%)\u001b[0m\n",
      "ExpSM:                \u001b[31m208 (2.4%)\u001b[0m / \u001b[31m98 (2.3%)\u001b[0m\n",
      "ExpSpa:              \u001b[31m183 (2.1%)\u001b[0m / \u001b[31m101 (2.4%)\u001b[0m\n",
      "ExpVR:                \u001b[31m188 (2.2%)\u001b[0m / \u001b[31m80 (1.9%)\u001b[0m\n",
      "IDgroup:                 \u001b[32m0 (0.0%)\u001b[0m / \u001b[32m0 (0.0%)\u001b[0m\n",
      "GroupMembers:            \u001b[32m0 (0.0%)\u001b[0m / \u001b[32m0 (0.0%)\u001b[0m\n",
      "Cabin_Deck:          \u001b[31m199 (2.3%)\u001b[0m / \u001b[31m100 (2.3%)\u001b[0m\n",
      "Cabin_num:           \u001b[31m199 (2.3%)\u001b[0m / \u001b[31m100 (2.3%)\u001b[0m\n",
      "Cabin_isPort:        \u001b[31m199 (2.3%)\u001b[0m / \u001b[31m100 (2.3%)\u001b[0m\n",
      "Name_Last:            \u001b[31m200 (2.3%)\u001b[0m / \u001b[31m94 (2.2%)\u001b[0m\n",
      "Ocurrence_LastName:   \u001b[31m200 (2.3%)\u001b[0m / \u001b[31m94 (2.2%)\u001b[0m\n",
      "\n",
      "Number of rows with 0 missing values: 6606/3281\n",
      "Number of rows with 1 missing values: 1551/723\n",
      "Number of rows with 2 missing values: 289/152\n",
      "Number of rows with 3 missing values: 202/101\n",
      "Number of rows with 4 missing values: 39/19\n",
      "Number of rows with 5 missing values: 5/1\n",
      "Number of rows with 6 missing values: 1/0\n"
     ]
    }
   ],
   "source": [
    "compute_missing_values(train_df_SF,test_df_SF)"
   ]
  },
  {
   "cell_type": "markdown",
   "id": "ff35ebf7-0adc-4056-bf37-48b3ac7cbf88",
   "metadata": {},
   "source": [
    "Again, about 2% of the values are missing in each feature, and now that the features have been divided into multiple subfeatures (such as **Cabin** into **Cabin_Deck**, **Cabin_num** and **Cabin_isPort**), now some rows have up to 5 or 6 missing values.\n",
    "\n",
    "In the following, I analyze the single features and complete those missing values that can be deducted by reasonable assumptions."
   ]
  },
  {
   "cell_type": "code",
   "execution_count": 8,
   "id": "15a0cdf6-fb6c-4d90-888f-5b65b9377796",
   "metadata": {},
   "outputs": [],
   "source": [
    "# Define plotting functions:\n",
    "import matplotlib.pyplot as plt\n",
    "import seaborn as sns\n",
    "\n",
    "def plot_swarm(df,feat,axis,ref_feat='Transported',\n",
    "               xlabels_off=False,seed=42):\n",
    "    \"\"\"\n",
    "    Plots a swarm plot ordered by the transported rate from a \n",
    "    single feature within the dataset.\n",
    "    --- Inputs ---\n",
    "    {df} [Dataframe]: Dataset, must include the columns with \n",
    "    names {feat} and {ref_feat}.\n",
    "    {feat} [String]: Name of the column (feature) to be analyzed.\n",
    "    {ref_feat} [String]: Name of the column (feature) by which {feat} will\n",
    "    be analyzed. This feature must be binary with values 0 and 1.\n",
    "    {axis} [matplotlib axis object]: Axis for the current subplot.\n",
    "    {xlabels_off} [Boolean]: If True, remove the x-labels.\n",
    "    {seed} [Integer]: Seed for random scattering in swarm plots.\n",
    "    \"\"\"\n",
    "    # Identify data, count frequency per variable and sort it alphabetically:\n",
    "    data = df[feat] # Training dataset    \n",
    "    data_counts = data.value_counts().sort_index()\n",
    "    # For each variable, identify the transported rate and build the swarm plot:\n",
    "    np.random.seed(seed) # Random seed for swarm plots\n",
    "    for i, var in enumerate(data_counts.keys()):\n",
    "        # Determine points' location:\n",
    "        ref_rate = df.groupby([feat]).mean(numeric_only=True)[ref_feat].loc[var] # Reference rate\n",
    "        pp_pos = int(len(df[(df[feat]==var)])*ref_rate) # Positive reference values\n",
    "        pp_neg = int(len(df[(df[feat]==var)])*(1-ref_rate)) # Negative reference values\n",
    "        var_pos = np.random.uniform(0, ref_rate,pp_pos) # Randomly assign locations for \"positive\" points\n",
    "        var_neg = np.random.uniform(ref_rate,1,pp_neg) # Randomly assign locations for \"negative\" points              \n",
    "        # Allocate all points in plot:\n",
    "        color = np.array(sns.color_palette('tab20')[i])\n",
    "        axis.scatter(i+np.random.uniform(-0.3, 0.3, len(var_neg)), var_neg,s=10,\n",
    "                     color=color, edgecolor=np.append(color,0.2),\n",
    "                     alpha=0.1, label=f'{var}({ref_feat}=0)')\n",
    "        axis.scatter(i+np.random.uniform(-0.3, 0.3, len(var_pos)), var_pos,s=10,\n",
    "                     color=color, edgecolor=np.append(color,0.2),\n",
    "                     label=f'{var}({ref_feat}=1)')\n",
    "        axis.plot([i-0.3,i+0.3],[ref_rate,ref_rate],ls='--',color='k',lw=1)\n",
    "    # Ticks and limits:\n",
    "    axis.set_xlim(-0.5, len(data_counts)-0.5)\n",
    "    axis.set_ylim(-0.03, 1.1)\n",
    "    if xlabels_off:\n",
    "        axis.set_xticks([])\n",
    "        axis.set_xticklabels([])\n",
    "    else:\n",
    "        axis.set_xticks(np.linspace(0,len(data_counts.keys())-1,len(data_counts.keys())))\n",
    "        axis.set_xticklabels(data_counts.keys(), fontsize=10)\n",
    "    axis.set_yticks([], minor=False)\n",
    "    axis.set_ylabel('')\n",
    "    # Spines, legend and title:\n",
    "    for s in [\"top\",\"right\",\"left\", 'bottom']:\n",
    "        axis.spines[s].set_visible(False)\n",
    "    axis.legend([0,1],title=ref_feat,loc=(0.8, 0.7), edgecolor='k')\n",
    "    axis.set_title(f'Feature bars: {feat}; feature points: {ref_feat}')\n",
    "\n",
    "import warnings # <sns.kdeplot> gives a warning I couldn't fix, I avoid displaying it...\n",
    "warnings.simplefilter(action='ignore', category=FutureWarning)\n",
    "\n",
    "def plot_KDE(df,feat,axis,ref_feat):\n",
    "    \"\"\"\n",
    "    Plots a kernel density estimate (KDE) plot ordered by the \n",
    "    reference rate from a single feature within the dataset.\n",
    "    --- Inputs ---\n",
    "    {df} [Dataframe]: Training dataset, must include the columns with\n",
    "    names {feat} and {ref_feat}.\n",
    "    {feat} [String]: Name of the column (feature) to be analyzed.\n",
    "    {ref_feat} [String]: Name of the column (feature) by which {feat} will\n",
    "    be analyzed. This feature must be binary with values 0 and 1.\n",
    "    {axis} [matplotlib axis object]: Axis for the current subplot.\n",
    "    \"\"\"    \n",
    "    # Plot KDE:\n",
    "    sns.kdeplot(x=feat, data=df, ax=axis, fill=True,cut=0,\n",
    "                bw_method=0.15, lw=1.4, edgecolor='lightgray', hue=ref_feat,\n",
    "                multiple=\"stack\", palette='PuBu', alpha=0.8)\n",
    "    axis.set_yticks([], minor=False)\n",
    "    axis.set_ylabel('Density')\n",
    "    axis.set_title(f'{feat}: \"{ref_feat}\" rate')\n",
    "    for s in [\"top\",\"right\",\"left\", 'bottom']: # Remove spins\n",
    "        axis.spines[s].set_visible(False)  \n",
    "\n",
    "def single_feat_corr(df,feat_targ,feat_rel):\n",
    "    \"\"\"\n",
    "    Plots the KDE distribution of values for a target feature within\n",
    "    a single dataset, grouped by a relative feature.\n",
    "    --- Inputs ---\n",
    "    {df} [Dataframe]: Dataset that will be analyzed, must include the\n",
    "    target {feat_targ} and relative {feat_rel} features.\n",
    "    {feat_targ} [String]: Target feature.\n",
    "    {feat_rel} [String]: Relative feature.\n",
    "    \"\"\"\n",
    "    # First clean the dataset from the NaN values in the {feat_rel} feature:\n",
    "    df_copy = df[[feat_targ,feat_rel]].copy()\n",
    "    df_copy = df_copy.dropna()\n",
    "    print(\"Number of known values:\", df_copy[feat_targ].notna().sum())\n",
    "    fig, ax = plt.subplots(figsize=(8,3)) # Start figure\n",
    "    if df[feat_targ].dtype == 'object': # Non-numerical features:\n",
    "        plot_swarm(df_copy,feat_targ,ax,ref_feat=feat_rel)    \n",
    "    else: # Numerical features:\n",
    "        plot_KDE(df_copy,feat_targ,ax,ref_feat=feat_rel)\n",
    "    fig.tight_layout()\n",
    "\n",
    "def make_two_feature_chart(df,feat1,feat2,figsize=(10,4)):\n",
    "    \"\"\"\n",
    "    Make a double entry chart, relating two features in the dataset.\n",
    "    --- Inputs ---\n",
    "    {df} [Dataframe]: Dataset that will be analyzed, must include the\n",
    "    {feat1} [String]: Name of one the features to be compared.\n",
    "    {feat2} [String]: Name of the other feature to be compared.\n",
    "    {figsize} [Tuple]: Define the size for the figure, in the format (width,length).\n",
    "    \"\"\"\n",
    "    # Group one feature according to the other:\n",
    "    CDHP_gb = all_df.groupby([feat1,feat2])[feat2].size().unstack().fillna(0)\n",
    "    # Plot distribution:\n",
    "    plt.figure(figsize=figsize)\n",
    "    sns.heatmap(CDHP_gb.T, annot=True, fmt='g', cmap='coolwarm')\n",
    "    plt.show()"
   ]
  },
  {
   "cell_type": "markdown",
   "id": "c66cfbc4-4957-4da1-adbf-3eb4506887fd",
   "metadata": {},
   "source": [
    "<a id=\"Manual_data_correction_Expenses_Features\"></a>\n",
    "## <span style=\"color:teal;font-weight:bold;\">Expenses features</span>\n",
    "\n",
    "The expenses features **ExpRS**, **ExpFC**, **ExpSM**, **ExpSpa** and **ExpVR** can be combined in a total expenditure feature, namely **ExpTotal**, which will be helpful to make correlations with the other features. In addition, I will define a boolean feature **Exp_zero**, which takes the value True for those passengers who spent nothing during the trip, else False."
   ]
  },
  {
   "cell_type": "code",
   "execution_count": 9,
   "id": "cc9f89cf-3feb-4f2a-b791-817d1dfbedef",
   "metadata": {},
   "outputs": [],
   "source": [
    "# Expense features:\n",
    "exp_features = ['ExpRS','ExpFC','ExpSM','ExpSpa','ExpVR']\n",
    "# Build ExpTotal and Exp_zero for each dataset:\n",
    "for dataset in [train_df_SF, test_df_SF]:\n",
    "    # Identify all rows in which the expenses information is complete:\n",
    "    idx = ((~dataset['ExpRS'].isna()) & \n",
    "           (~dataset['ExpFC'].isna()) & \n",
    "           (~dataset['ExpSM'].isna()) & \n",
    "           (~dataset['ExpSpa'].isna()) & \n",
    "           (~dataset['ExpVR'].isna())) # Relevant indexes\n",
    "    # Initiate ExpTotal as NaN, then complete valid values:\n",
    "    pd.options.mode.chained_assignment = None  # default='warn'\n",
    "    dataset['ExpTotal'] = np.nan\n",
    "    dataset['ExpTotal'][idx] = dataset[exp_features].sum(axis=\"columns\")[idx]\n",
    "    # Create 'Exp_zero' feature, that checks whether a passenger spent nothing (True) or something (False):\n",
    "    dataset['Exp_zero'] = np.nan # Initiate with NaN values\n",
    "    dataset.loc[dataset['ExpTotal']==0,'Exp_zero'] = True # Compute True values\n",
    "    dataset.loc[dataset['ExpTotal']>0,'Exp_zero'] = False # Compute False values"
   ]
  },
  {
   "cell_type": "markdown",
   "id": "a246e3d1-9954-4bd4-b3e7-d39cf8b458de",
   "metadata": {},
   "source": [
    "After exploring the correlation between **ExpTotal** and other features, I observed a clear correlation with the **Age** feature: passengers who are 12 or younger do not expend! The following plot demonstrates this pattern:"
   ]
  },
  {
   "cell_type": "code",
   "execution_count": 10,
   "id": "e138c5a2-8f58-427c-8105-085ca7822abd",
   "metadata": {},
   "outputs": [
    {
     "data": {
      "image/png": "[encoded data removed]",
      "text/plain": [
       "<Figure size 1000x400 with 2 Axes>"
      ]
     },
     "metadata": {},
     "output_type": "display_data"
    }
   ],
   "source": [
    "# Merge training and testing datasets:\n",
    "all_df = pd.concat([train_df_SF, test_df_SF])\n",
    "# Set age condition:\n",
    "age_limit = 12 # Set age limit for zoomed-in plot\n",
    "cond_age = all_df[\"Age\"] <= age_limit\n",
    "\n",
    "# Plot expenses vs age:\n",
    "from mpl_toolkits.axes_grid1.inset_locator import zoomed_inset_axes\n",
    "from mpl_toolkits.axes_grid1.inset_locator import mark_inset\n",
    "\n",
    "fig, ax = plt.subplots(figsize=(10,4))\n",
    "ax.scatter(all_df[\"Age\"][~cond_age],all_df[\"ExpTotal\"][~cond_age],s=7,alpha=0.8,color='blue',label='<=12')\n",
    "ax.scatter(all_df[\"Age\"][cond_age],all_df[\"ExpTotal\"][cond_age],s=7,alpha=0.8,color='orange',label='>12')\n",
    "ax.set_xlabel('Age',fontsize=12), ax.set_ylabel('ExpTotal',fontsize=12)\n",
    "ax.set_ylim(ax.get_ylim()[0], ax.get_ylim()[1]+15000)\n",
    "ax.legend(title='Age groups')\n",
    "# Zoomed-in image:\n",
    "axins = zoomed_inset_axes(ax, 4, loc=6, bbox_to_anchor=[180,280,50,50])\n",
    "axins.scatter(all_df[\"Age\"][cond_age],all_df[\"ExpTotal\"][cond_age],s=7,alpha=0.8,color='orange')\n",
    "axins.set_xlim(-0.5, age_limit+0.5), axins.set_ylim(-200, 2000)\n",
    "mark_inset(ax, axins, loc1=4, loc2=3, fc=\"none\", ec=\"0.4\") # Lines for inset image\n",
    "plt.show()"
   ]
  },
  {
   "cell_type": "markdown",
   "id": "4bbc687e-21ce-4aea-878a-ceb831e79ec1",
   "metadata": {},
   "source": [
    "Consequently, for passengers with feature **Age**<12, I will fill all expenses missing values as zero."
   ]
  },
  {
   "cell_type": "code",
   "execution_count": 11,
   "id": "58e47666-27e7-4495-aa2e-3882672bf59c",
   "metadata": {},
   "outputs": [],
   "source": [
    "age_limit = 12 # Set age limit for zoomed-in plot\n",
    "for dataset in [train_df_SF, test_df_SF]:\n",
    "    idx = dataset[\"Age\"][dataset[\"Age\"] <= age_limit].index # Relevant indexes\n",
    "    for feat in exp_features:\n",
    "        dataset[feat].loc[idx] = 0 # Assign zero expenses"
   ]
  },
  {
   "cell_type": "markdown",
   "id": "5dd04ecc-857a-4f71-8be3-af17d55e37ec",
   "metadata": {},
   "source": [
    "After this process, **131 missing values were corrected**.\n",
    "\n",
    "(Remember you can call the function \"compute_missing_values\" at any step to see the number of missing values)\n",
    "\n",
    "Now, let's turn the attention to the CryoSleeping passengers, who most probably could not spend anything during the trip:"
   ]
  },
  {
   "cell_type": "code",
   "execution_count": 12,
   "id": "2b8cbf85-b016-4d9c-be62-c3de0dd5d61f",
   "metadata": {},
   "outputs": [
    {
     "data": {
      "image/png": "[encoded data removed]",
      "text/plain": [
       "<Figure size 800x300 with 2 Axes>"
      ]
     },
     "metadata": {},
     "output_type": "display_data"
    }
   ],
   "source": [
    "make_two_feature_chart(pd.concat([train_df_SF, test_df_SF]),'Exp_zero','CryoSleep',figsize=(8,3))"
   ]
  },
  {
   "cell_type": "markdown",
   "id": "c2aeb026-c4b7-4840-b570-9c1e0bf5820b",
   "metadata": {},
   "source": [
    "As expected, all those passengers who were cryo-sleeping (**CryoSleep**=1) spent nothing (**Exp_zero**=True) during the trip. Then, let's assign zero expenses to all those missing expenses values from sleeping passengers: "
   ]
  },
  {
   "cell_type": "code",
   "execution_count": 13,
   "id": "8ca34064-7576-48f7-85fa-5e4312f34ef3",
   "metadata": {},
   "outputs": [],
   "source": [
    "for dataset in [train_df_SF, test_df_SF]:\n",
    "    idx = dataset[\"CryoSleep\"][dataset[\"CryoSleep\"] == True].index # Relevant indexes\n",
    "    for feat in exp_features:\n",
    "        dataset[feat].loc[idx] = 0 # Assign zero expenses"
   ]
  },
  {
   "cell_type": "markdown",
   "id": "e0dc0aa9-1098-4ac1-8d51-b942b234ebc6",
   "metadata": {},
   "source": [
    "This time, **467 missing values were corrected**!\n",
    "\n",
    "And I have to stop here, as there no other certain rules for the other features. The **VIP** feature sounds like a good candidate for spending patterns, expecting that the wealthy passengers have some expenses. However, although most VIP people spent something, there are some exceptions, then I cannot make any assumptions:"
   ]
  },
  {
   "cell_type": "code",
   "execution_count": 14,
   "id": "9637a35c-986a-4a88-bc8b-115afd02740a",
   "metadata": {},
   "outputs": [
    {
     "data": {
      "image/png": "[encoded data removed]",
      "text/plain": [
       "<Figure size 800x300 with 2 Axes>"
      ]
     },
     "metadata": {},
     "output_type": "display_data"
    }
   ],
   "source": [
    "make_two_feature_chart(pd.concat([train_df_SF, test_df_SF]),'Exp_zero','VIP',figsize=(8,3))"
   ]
  },
  {
   "cell_type": "markdown",
   "id": "c252420f-137c-4e45-b342-33f165b04a29",
   "metadata": {},
   "source": [
    "<a id=\"Manual_data_correction_Cryosleep_Feature\"></a>\n",
    "## <span style=\"color:teal;font-weight:bold;\">Cryosleep Feature</span>\n",
    "\n",
    "As I demonstrated before, passengets who went to cryosleeping spent nothing during the trip.\n",
    "\n",
    "Before, I corrected the missing expenses values by assigning zero expenses to all sleeping passengers. Now I'll do the converse operation: for any missing **CryoSleep** value, if the passenger spent something (**Exp_zero**=False), then that passenger was not cryosleeping, then **CryoSleep**=False."
   ]
  },
  {
   "cell_type": "code",
   "execution_count": 15,
   "id": "3fb79ae2-b7d8-445e-8577-3c5f826b2123",
   "metadata": {},
   "outputs": [],
   "source": [
    "for dataset in [train_df_SF, test_df_SF]:\n",
    "    # Correct missing values:\n",
    "    idx = (dataset['CryoSleep'].isna()) & (dataset['Exp_zero']==False) # Relevant indexes\n",
    "    dataset['CryoSleep'].loc[idx] = 0"
   ]
  },
  {
   "cell_type": "markdown",
   "id": "26d96adb-a761-4732-89ab-0b454a2b8db1",
   "metadata": {},
   "source": [
    "*Note*: in this process, the new feature **ExpTotal** sums all individual expenditures, including the NaN values! The NaN values are counted as 0. Although I did not analyze any of the expense features yet, I will tolerate this assumption for the **CryoSleep** analysis.\n",
    "\n",
    "Let me summarize the progress so far for the **CryoSleep** feature: \n",
    "* Initial missing values: <span style=\"color:red\">217 (2.5%) / 93 (2.2%)</span>.\n",
    "* Current missing values: <span style=\"color:red\">111 (1.3%) / 42 (1.0%)</span>."
   ]
  },
  {
   "cell_type": "markdown",
   "id": "ebafdb15-720d-47dd-b94c-5f2336a254ca",
   "metadata": {},
   "source": [
    "<a id=\"Manual_data_correction_HomePlanet_Feature\"></a>\n",
    "## <span style=\"color:teal;font-weight:bold;\">HomePlanet feature</span>\n",
    "\n",
    "Passengers are organized in groups, identified by **IDgroup**. These groups have a common Home planet, as the next lines of code demonstrate:"
   ]
  },
  {
   "cell_type": "code",
   "execution_count": 16,
   "id": "925e76d2-fac4-4c2c-9cf9-433b0f476aef",
   "metadata": {},
   "outputs": [],
   "source": [
    "for i in set(all_df['IDgroup']):\n",
    "    # Make a set with all Home planets for the current group (exclude NaN):\n",
    "    homes = set([x for x in all_df[all_df['IDgroup']==i]['HomePlanet'] if x==x])\n",
    "    # If there is more than a single home planet in the group, print on screen:\n",
    "    if len(homes)>1:\n",
    "        print(i,all_df[all_df['IDgroup']==i]['HomePlanet'])"
   ]
  },
  {
   "cell_type": "markdown",
   "id": "89edd833-0153-45cb-ad9a-3f9ddf08e2d9",
   "metadata": {},
   "source": [
    "Consequently, any missing values in **HomePlanet** can be filled with the known destination of another passenger with the same **IDgroup**."
   ]
  },
  {
   "cell_type": "code",
   "execution_count": 17,
   "id": "9fa2f57d-f6ef-4d98-9cac-ba1836fa295b",
   "metadata": {},
   "outputs": [],
   "source": [
    "for dataset in [train_df_SF, test_df_SF]:\n",
    "    idx = dataset.loc[pd.isna(dataset[\"HomePlanet\"]), :].index # Relevant indexes\n",
    "    for i in idx:\n",
    "        homes = list(set([x for x in all_df[all_df['IDgroup']==dataset['IDgroup'][i]]['HomePlanet'] if x==x]))\n",
    "        if len(homes)>0:\n",
    "            dataset[\"HomePlanet\"].loc[i] = homes[0]"
   ]
  },
  {
   "cell_type": "markdown",
   "id": "2ddd0820-3f9c-4e33-bb7d-552328b937fa",
   "metadata": {},
   "source": [
    "As there are still missing values in **HomePlanet**, I turn my attention to the correlation with the **Cabin_Deck** feature, as they are highly correlated (see section Correlations II in <a href=\"https://www.kaggle.com/code/fertmeneses/spaceship-titanic-feature-engineering\">Spaceship Titanic 💡 Feature engineering.</a>)."
   ]
  },
  {
   "cell_type": "code",
   "execution_count": 18,
   "id": "37dbdde8-388f-44f0-8e70-9ed34e134b14",
   "metadata": {},
   "outputs": [
    {
     "data": {
      "image/png": "[encoded data removed]",
      "text/plain": [
       "<Figure size 1000x400 with 2 Axes>"
      ]
     },
     "metadata": {},
     "output_type": "display_data"
    }
   ],
   "source": [
    "make_two_feature_chart(pd.concat([train_df_SF, test_df_SF]),'Cabin_Deck','HomePlanet',figsize=(10,4))"
   ]
  },
  {
   "cell_type": "markdown",
   "id": "76e3b7d6-726c-4840-9951-0ae218e9daf9",
   "metadata": {},
   "source": [
    "From this distribution plot, I can conclude the following:\n",
    "- Passengers in **Cabin_Deck** A,B,C,T are associated with the **HomePlanet** Europa.\n",
    "- Passengers in **Cabin_Deck** G are associated with the **HomePlanet** Earth.\n",
    "- Passengers in **Cabin_Deck** D,E,F cannot be clearly assigned to a **HomePlanet**."
   ]
  },
  {
   "cell_type": "code",
   "execution_count": 19,
   "id": "0f9c5cd9-e3a8-4b7e-8372-ff1114e51e65",
   "metadata": {},
   "outputs": [],
   "source": [
    "# Assign HomePlanet values based on Cabin:\n",
    "for dataset in [train_df_SF, test_df_SF]:\n",
    "    # Cabins A,B,C,T, associated to Europa:\n",
    "    cond_ABCT = ((dataset[\"Cabin_Deck\"]==\"A\") |\n",
    "                 (dataset[\"Cabin_Deck\"]==\"B\") |\n",
    "                 (dataset[\"Cabin_Deck\"]==\"C\") |\n",
    "                 (dataset[\"Cabin_Deck\"]==\"T\")) # Define condition\n",
    "    dataset[\"HomePlanet\"].loc[cond_ABCT] = \"Europa\" # Apply changes\n",
    "    # Cabins G, associated to Earth:\n",
    "    cond_G = dataset[\"Cabin_Deck\"]==\"G\" # Define condition\n",
    "    dataset[\"HomePlanet\"].loc[cond_G] = \"Earth\" # Apply changes"
   ]
  },
  {
   "cell_type": "markdown",
   "id": "22e4dff7-4dfe-49b6-958e-50618b90fe34",
   "metadata": {},
   "source": [
    "Let's summarize the progress so far for the **HomePlanet** feature: \n",
    "* Initial missing values: <span style=\"color:red\">201 (2.3%) / 87 (2.0%)</span>.\n",
    "* Current missing values: <span style=\"color:red\">63 (0.7%) / 31 (0.7%)</span>.\n",
    "\n",
    "I have one last resource! Before, I grouped the passengers according to their **IDgroup** and correlated their **HomePlanet**. I will do the same with the **Name_Last** feature, and show that all passengers sharing the same surname belong to the same **HomePlanet**:"
   ]
  },
  {
   "cell_type": "code",
   "execution_count": 20,
   "id": "5fdddd8c-4e77-4a08-952d-510e51f8b11c",
   "metadata": {},
   "outputs": [],
   "source": [
    "all_df = pd.concat([train_df_SF, test_df_SF])\n",
    "for surname in set(all_df[\"Name_Last\"]):\n",
    "    # Make a set with all Home planets for the current group (exclude NaN):\n",
    "    homes = set([x for x in all_df[all_df['Name_Last']==surname]['HomePlanet'] if x==x])\n",
    "    # If there is more than a single home planet in the group, print on screen:\n",
    "    if len(homes)>1:\n",
    "        print(surname,all_df[all_df['Name_Last']==surname]['HomePlanet'])"
   ]
  },
  {
   "cell_type": "markdown",
   "id": "2bc6d2c1-c6c0-4c35-8d69-79cf62a1a984",
   "metadata": {},
   "source": [
    "Consequently, any missing values in **HomePlanet** can be filled with the known destination of another passenger with the same **Name_Last**."
   ]
  },
  {
   "cell_type": "code",
   "execution_count": 21,
   "id": "e2ef0e11-6fc9-4df8-b9b0-375a960faa35",
   "metadata": {},
   "outputs": [],
   "source": [
    "for dataset in [train_df_SF, test_df_SF]:\n",
    "    idx = dataset.loc[pd.isna(dataset[\"HomePlanet\"]), :].index # Relevant indexes\n",
    "    for i in idx:\n",
    "        homes = list(set([x for x in all_df[all_df['Name_Last']==dataset['Name_Last'][i]]['HomePlanet'] if x==x]))\n",
    "        if len(homes)>0:\n",
    "            dataset[\"HomePlanet\"].loc[i] = homes[0]"
   ]
  },
  {
   "cell_type": "markdown",
   "id": "16e1082e-8af6-48de-9621-bf0aa6ab1ca0",
   "metadata": {},
   "source": [
    "Excellent news, now the **HomePlanet** feature presents only a few missing values! \n",
    "* Current missing values: <span style=\"color:red\">5 (0.1%) / 5 (0.1%)</span>."
   ]
  },
  {
   "cell_type": "code",
   "execution_count": 22,
   "id": "abeefd4f-f2b5-43b1-9eeb-602d9cd15cec",
   "metadata": {},
   "outputs": [
    {
     "data": {
      "text/plain": [
       "Index(['HomePlanet', 'CryoSleep', 'Destination', 'Age', 'VIP', 'ExpRS',\n",
       "       'ExpFC', 'ExpSM', 'ExpSpa', 'ExpVR', 'Transported', 'IDgroup',\n",
       "       'GroupMembers', 'Cabin_Deck', 'Cabin_num', 'Cabin_isPort', 'Name_Last',\n",
       "       'Ocurrence_LastName', 'ExpTotal', 'Exp_zero'],\n",
       "      dtype='object')"
      ]
     },
     "execution_count": 22,
     "metadata": {},
     "output_type": "execute_result"
    }
   ],
   "source": [
    "train_df_SF.columns"
   ]
  },
  {
   "cell_type": "code",
   "execution_count": 23,
   "id": "3cd21302-6802-4e70-9adb-88bd5a4dcf0b",
   "metadata": {},
   "outputs": [
    {
     "data": {
      "text/plain": [
       "0          0.0\n",
       "1          0.0\n",
       "2          0.0\n",
       "3          0.0\n",
       "4          1.0\n",
       "         ...  \n",
       "4272    1496.0\n",
       "4273       NaN\n",
       "4274     296.0\n",
       "4275     297.0\n",
       "4276    1498.0\n",
       "Name: Cabin_num, Length: 12970, dtype: float64"
      ]
     },
     "execution_count": 23,
     "metadata": {},
     "output_type": "execute_result"
    }
   ],
   "source": [
    "all_df['Cabin_num']"
   ]
  },
  {
   "cell_type": "code",
   "execution_count": 24,
   "id": "8e984b1e-4e2d-441f-b1ff-5d9c350309d7",
   "metadata": {},
   "outputs": [
    {
     "ename": "TypeError",
     "evalue": "'value' must be an instance of str or bytes, not a float",
     "output_type": "error",
     "traceback": [
      "\u001b[0;31m---------------------------------------------------------------------------\u001b[0m",
      "\u001b[0;31mTypeError\u001b[0m                                 Traceback (most recent call last)",
      "Cell \u001b[0;32mIn[24], line 3\u001b[0m\n\u001b[1;32m      1\u001b[0m \u001b[38;5;66;03m# all_df = pd.concat([train_df_SF, test_df_SF])\u001b[39;00m\n\u001b[1;32m      2\u001b[0m \u001b[38;5;66;03m# a = pd.to_numeric(all_df['Cabin_num'], errors='coerce')\u001b[39;00m\n\u001b[0;32m----> 3\u001b[0m \u001b[43mplt\u001b[49m\u001b[38;5;241;43m.\u001b[39;49m\u001b[43mplot\u001b[49m\u001b[43m(\u001b[49m\u001b[43mall_df\u001b[49m\u001b[43m[\u001b[49m\u001b[38;5;124;43m'\u001b[39;49m\u001b[38;5;124;43mDestination\u001b[39;49m\u001b[38;5;124;43m'\u001b[39;49m\u001b[43m]\u001b[49m\u001b[43m,\u001b[49m\u001b[43mall_df\u001b[49m\u001b[43m[\u001b[49m\u001b[38;5;124;43m'\u001b[39;49m\u001b[38;5;124;43mCabin_num\u001b[39;49m\u001b[38;5;124;43m'\u001b[39;49m\u001b[43m]\u001b[49m\u001b[43m)\u001b[49m\n",
      "File \u001b[0;32m~/miniconda3/envs/py12/lib/python3.12/site-packages/matplotlib/pyplot.py:3794\u001b[0m, in \u001b[0;36mplot\u001b[0;34m(scalex, scaley, data, *args, **kwargs)\u001b[0m\n\u001b[1;32m   3786\u001b[0m \u001b[38;5;129m@_copy_docstring_and_deprecators\u001b[39m(Axes\u001b[38;5;241m.\u001b[39mplot)\n\u001b[1;32m   3787\u001b[0m \u001b[38;5;28;01mdef\u001b[39;00m \u001b[38;5;21mplot\u001b[39m(\n\u001b[1;32m   3788\u001b[0m     \u001b[38;5;241m*\u001b[39margs: \u001b[38;5;28mfloat\u001b[39m \u001b[38;5;241m|\u001b[39m ArrayLike \u001b[38;5;241m|\u001b[39m \u001b[38;5;28mstr\u001b[39m,\n\u001b[0;32m   (...)\u001b[0m\n\u001b[1;32m   3792\u001b[0m     \u001b[38;5;241m*\u001b[39m\u001b[38;5;241m*\u001b[39mkwargs,\n\u001b[1;32m   3793\u001b[0m ) \u001b[38;5;241m-\u001b[39m\u001b[38;5;241m>\u001b[39m \u001b[38;5;28mlist\u001b[39m[Line2D]:\n\u001b[0;32m-> 3794\u001b[0m     \u001b[38;5;28;01mreturn\u001b[39;00m \u001b[43mgca\u001b[49m\u001b[43m(\u001b[49m\u001b[43m)\u001b[49m\u001b[38;5;241;43m.\u001b[39;49m\u001b[43mplot\u001b[49m\u001b[43m(\u001b[49m\n\u001b[1;32m   3795\u001b[0m \u001b[43m        \u001b[49m\u001b[38;5;241;43m*\u001b[39;49m\u001b[43margs\u001b[49m\u001b[43m,\u001b[49m\n\u001b[1;32m   3796\u001b[0m \u001b[43m        \u001b[49m\u001b[43mscalex\u001b[49m\u001b[38;5;241;43m=\u001b[39;49m\u001b[43mscalex\u001b[49m\u001b[43m,\u001b[49m\n\u001b[1;32m   3797\u001b[0m \u001b[43m        \u001b[49m\u001b[43mscaley\u001b[49m\u001b[38;5;241;43m=\u001b[39;49m\u001b[43mscaley\u001b[49m\u001b[43m,\u001b[49m\n\u001b[1;32m   3798\u001b[0m \u001b[43m        \u001b[49m\u001b[38;5;241;43m*\u001b[39;49m\u001b[38;5;241;43m*\u001b[39;49m\u001b[43m(\u001b[49m\u001b[43m{\u001b[49m\u001b[38;5;124;43m\"\u001b[39;49m\u001b[38;5;124;43mdata\u001b[39;49m\u001b[38;5;124;43m\"\u001b[39;49m\u001b[43m:\u001b[49m\u001b[43m \u001b[49m\u001b[43mdata\u001b[49m\u001b[43m}\u001b[49m\u001b[43m \u001b[49m\u001b[38;5;28;43;01mif\u001b[39;49;00m\u001b[43m \u001b[49m\u001b[43mdata\u001b[49m\u001b[43m \u001b[49m\u001b[38;5;129;43;01mis\u001b[39;49;00m\u001b[43m \u001b[49m\u001b[38;5;129;43;01mnot\u001b[39;49;00m\u001b[43m \u001b[49m\u001b[38;5;28;43;01mNone\u001b[39;49;00m\u001b[43m \u001b[49m\u001b[38;5;28;43;01melse\u001b[39;49;00m\u001b[43m \u001b[49m\u001b[43m{\u001b[49m\u001b[43m}\u001b[49m\u001b[43m)\u001b[49m\u001b[43m,\u001b[49m\n\u001b[1;32m   3799\u001b[0m \u001b[43m        \u001b[49m\u001b[38;5;241;43m*\u001b[39;49m\u001b[38;5;241;43m*\u001b[39;49m\u001b[43mkwargs\u001b[49m\u001b[43m,\u001b[49m\n\u001b[1;32m   3800\u001b[0m \u001b[43m    \u001b[49m\u001b[43m)\u001b[49m\n",
      "File \u001b[0;32m~/miniconda3/envs/py12/lib/python3.12/site-packages/matplotlib/axes/_axes.py:1779\u001b[0m, in \u001b[0;36mAxes.plot\u001b[0;34m(self, scalex, scaley, data, *args, **kwargs)\u001b[0m\n\u001b[1;32m   1536\u001b[0m \u001b[38;5;250m\u001b[39m\u001b[38;5;124;03m\"\"\"\u001b[39;00m\n\u001b[1;32m   1537\u001b[0m \u001b[38;5;124;03mPlot y versus x as lines and/or markers.\u001b[39;00m\n\u001b[1;32m   1538\u001b[0m \n\u001b[0;32m   (...)\u001b[0m\n\u001b[1;32m   1776\u001b[0m \u001b[38;5;124;03m(``'green'``) or hex strings (``'#008000'``).\u001b[39;00m\n\u001b[1;32m   1777\u001b[0m \u001b[38;5;124;03m\"\"\"\u001b[39;00m\n\u001b[1;32m   1778\u001b[0m kwargs \u001b[38;5;241m=\u001b[39m cbook\u001b[38;5;241m.\u001b[39mnormalize_kwargs(kwargs, mlines\u001b[38;5;241m.\u001b[39mLine2D)\n\u001b[0;32m-> 1779\u001b[0m lines \u001b[38;5;241m=\u001b[39m [\u001b[38;5;241m*\u001b[39m\u001b[38;5;28mself\u001b[39m\u001b[38;5;241m.\u001b[39m_get_lines(\u001b[38;5;28mself\u001b[39m, \u001b[38;5;241m*\u001b[39margs, data\u001b[38;5;241m=\u001b[39mdata, \u001b[38;5;241m*\u001b[39m\u001b[38;5;241m*\u001b[39mkwargs)]\n\u001b[1;32m   1780\u001b[0m \u001b[38;5;28;01mfor\u001b[39;00m line \u001b[38;5;129;01min\u001b[39;00m lines:\n\u001b[1;32m   1781\u001b[0m     \u001b[38;5;28mself\u001b[39m\u001b[38;5;241m.\u001b[39madd_line(line)\n",
      "File \u001b[0;32m~/miniconda3/envs/py12/lib/python3.12/site-packages/matplotlib/axes/_base.py:296\u001b[0m, in \u001b[0;36m_process_plot_var_args.__call__\u001b[0;34m(self, axes, data, *args, **kwargs)\u001b[0m\n\u001b[1;32m    294\u001b[0m     this \u001b[38;5;241m+\u001b[39m\u001b[38;5;241m=\u001b[39m args[\u001b[38;5;241m0\u001b[39m],\n\u001b[1;32m    295\u001b[0m     args \u001b[38;5;241m=\u001b[39m args[\u001b[38;5;241m1\u001b[39m:]\n\u001b[0;32m--> 296\u001b[0m \u001b[38;5;28;01myield from\u001b[39;00m \u001b[38;5;28;43mself\u001b[39;49m\u001b[38;5;241;43m.\u001b[39;49m\u001b[43m_plot_args\u001b[49m\u001b[43m(\u001b[49m\n\u001b[1;32m    297\u001b[0m \u001b[43m    \u001b[49m\u001b[43maxes\u001b[49m\u001b[43m,\u001b[49m\u001b[43m \u001b[49m\u001b[43mthis\u001b[49m\u001b[43m,\u001b[49m\u001b[43m \u001b[49m\u001b[43mkwargs\u001b[49m\u001b[43m,\u001b[49m\u001b[43m \u001b[49m\u001b[43mambiguous_fmt_datakey\u001b[49m\u001b[38;5;241;43m=\u001b[39;49m\u001b[43mambiguous_fmt_datakey\u001b[49m\u001b[43m)\u001b[49m\n",
      "File \u001b[0;32m~/miniconda3/envs/py12/lib/python3.12/site-packages/matplotlib/axes/_base.py:481\u001b[0m, in \u001b[0;36m_process_plot_var_args._plot_args\u001b[0;34m(self, axes, tup, kwargs, return_kwargs, ambiguous_fmt_datakey)\u001b[0m\n\u001b[1;32m    478\u001b[0m     x, y \u001b[38;5;241m=\u001b[39m index_of(xy[\u001b[38;5;241m-\u001b[39m\u001b[38;5;241m1\u001b[39m])\n\u001b[1;32m    480\u001b[0m \u001b[38;5;28;01mif\u001b[39;00m axes\u001b[38;5;241m.\u001b[39mxaxis \u001b[38;5;129;01mis\u001b[39;00m \u001b[38;5;129;01mnot\u001b[39;00m \u001b[38;5;28;01mNone\u001b[39;00m:\n\u001b[0;32m--> 481\u001b[0m     \u001b[43maxes\u001b[49m\u001b[38;5;241;43m.\u001b[39;49m\u001b[43mxaxis\u001b[49m\u001b[38;5;241;43m.\u001b[39;49m\u001b[43mupdate_units\u001b[49m\u001b[43m(\u001b[49m\u001b[43mx\u001b[49m\u001b[43m)\u001b[49m\n\u001b[1;32m    482\u001b[0m \u001b[38;5;28;01mif\u001b[39;00m axes\u001b[38;5;241m.\u001b[39myaxis \u001b[38;5;129;01mis\u001b[39;00m \u001b[38;5;129;01mnot\u001b[39;00m \u001b[38;5;28;01mNone\u001b[39;00m:\n\u001b[1;32m    483\u001b[0m     axes\u001b[38;5;241m.\u001b[39myaxis\u001b[38;5;241m.\u001b[39mupdate_units(y)\n",
      "File \u001b[0;32m~/miniconda3/envs/py12/lib/python3.12/site-packages/matplotlib/axis.py:1756\u001b[0m, in \u001b[0;36mAxis.update_units\u001b[0;34m(self, data)\u001b[0m\n\u001b[1;32m   1754\u001b[0m neednew \u001b[38;5;241m=\u001b[39m \u001b[38;5;28mself\u001b[39m\u001b[38;5;241m.\u001b[39mconverter \u001b[38;5;241m!=\u001b[39m converter\n\u001b[1;32m   1755\u001b[0m \u001b[38;5;28mself\u001b[39m\u001b[38;5;241m.\u001b[39mconverter \u001b[38;5;241m=\u001b[39m converter\n\u001b[0;32m-> 1756\u001b[0m default \u001b[38;5;241m=\u001b[39m \u001b[38;5;28;43mself\u001b[39;49m\u001b[38;5;241;43m.\u001b[39;49m\u001b[43mconverter\u001b[49m\u001b[38;5;241;43m.\u001b[39;49m\u001b[43mdefault_units\u001b[49m\u001b[43m(\u001b[49m\u001b[43mdata\u001b[49m\u001b[43m,\u001b[49m\u001b[43m \u001b[49m\u001b[38;5;28;43mself\u001b[39;49m\u001b[43m)\u001b[49m\n\u001b[1;32m   1757\u001b[0m \u001b[38;5;28;01mif\u001b[39;00m default \u001b[38;5;129;01mis\u001b[39;00m \u001b[38;5;129;01mnot\u001b[39;00m \u001b[38;5;28;01mNone\u001b[39;00m \u001b[38;5;129;01mand\u001b[39;00m \u001b[38;5;28mself\u001b[39m\u001b[38;5;241m.\u001b[39munits \u001b[38;5;129;01mis\u001b[39;00m \u001b[38;5;28;01mNone\u001b[39;00m:\n\u001b[1;32m   1758\u001b[0m     \u001b[38;5;28mself\u001b[39m\u001b[38;5;241m.\u001b[39mset_units(default)\n",
      "File \u001b[0;32m~/miniconda3/envs/py12/lib/python3.12/site-packages/matplotlib/category.py:105\u001b[0m, in \u001b[0;36mStrCategoryConverter.default_units\u001b[0;34m(data, axis)\u001b[0m\n\u001b[1;32m    103\u001b[0m \u001b[38;5;66;03m# the conversion call stack is default_units -> axis_info -> convert\u001b[39;00m\n\u001b[1;32m    104\u001b[0m \u001b[38;5;28;01mif\u001b[39;00m axis\u001b[38;5;241m.\u001b[39munits \u001b[38;5;129;01mis\u001b[39;00m \u001b[38;5;28;01mNone\u001b[39;00m:\n\u001b[0;32m--> 105\u001b[0m     axis\u001b[38;5;241m.\u001b[39mset_units(\u001b[43mUnitData\u001b[49m\u001b[43m(\u001b[49m\u001b[43mdata\u001b[49m\u001b[43m)\u001b[49m)\n\u001b[1;32m    106\u001b[0m \u001b[38;5;28;01melse\u001b[39;00m:\n\u001b[1;32m    107\u001b[0m     axis\u001b[38;5;241m.\u001b[39munits\u001b[38;5;241m.\u001b[39mupdate(data)\n",
      "File \u001b[0;32m~/miniconda3/envs/py12/lib/python3.12/site-packages/matplotlib/category.py:181\u001b[0m, in \u001b[0;36mUnitData.__init__\u001b[0;34m(self, data)\u001b[0m\n\u001b[1;32m    179\u001b[0m \u001b[38;5;28mself\u001b[39m\u001b[38;5;241m.\u001b[39m_counter \u001b[38;5;241m=\u001b[39m itertools\u001b[38;5;241m.\u001b[39mcount()\n\u001b[1;32m    180\u001b[0m \u001b[38;5;28;01mif\u001b[39;00m data \u001b[38;5;129;01mis\u001b[39;00m \u001b[38;5;129;01mnot\u001b[39;00m \u001b[38;5;28;01mNone\u001b[39;00m:\n\u001b[0;32m--> 181\u001b[0m     \u001b[38;5;28;43mself\u001b[39;49m\u001b[38;5;241;43m.\u001b[39;49m\u001b[43mupdate\u001b[49m\u001b[43m(\u001b[49m\u001b[43mdata\u001b[49m\u001b[43m)\u001b[49m\n",
      "File \u001b[0;32m~/miniconda3/envs/py12/lib/python3.12/site-packages/matplotlib/category.py:216\u001b[0m, in \u001b[0;36mUnitData.update\u001b[0;34m(self, data)\u001b[0m\n\u001b[1;32m    213\u001b[0m convertible \u001b[38;5;241m=\u001b[39m \u001b[38;5;28;01mTrue\u001b[39;00m\n\u001b[1;32m    214\u001b[0m \u001b[38;5;28;01mfor\u001b[39;00m val \u001b[38;5;129;01min\u001b[39;00m OrderedDict\u001b[38;5;241m.\u001b[39mfromkeys(data):\n\u001b[1;32m    215\u001b[0m     \u001b[38;5;66;03m# OrderedDict just iterates over unique values in data.\u001b[39;00m\n\u001b[0;32m--> 216\u001b[0m     \u001b[43m_api\u001b[49m\u001b[38;5;241;43m.\u001b[39;49m\u001b[43mcheck_isinstance\u001b[49m\u001b[43m(\u001b[49m\u001b[43m(\u001b[49m\u001b[38;5;28;43mstr\u001b[39;49m\u001b[43m,\u001b[49m\u001b[43m \u001b[49m\u001b[38;5;28;43mbytes\u001b[39;49m\u001b[43m)\u001b[49m\u001b[43m,\u001b[49m\u001b[43m \u001b[49m\u001b[43mvalue\u001b[49m\u001b[38;5;241;43m=\u001b[39;49m\u001b[43mval\u001b[49m\u001b[43m)\u001b[49m\n\u001b[1;32m    217\u001b[0m     \u001b[38;5;28;01mif\u001b[39;00m convertible:\n\u001b[1;32m    218\u001b[0m         \u001b[38;5;66;03m# this will only be called so long as convertible is True.\u001b[39;00m\n\u001b[1;32m    219\u001b[0m         convertible \u001b[38;5;241m=\u001b[39m \u001b[38;5;28mself\u001b[39m\u001b[38;5;241m.\u001b[39m_str_is_convertible(val)\n",
      "File \u001b[0;32m~/miniconda3/envs/py12/lib/python3.12/site-packages/matplotlib/_api/__init__.py:91\u001b[0m, in \u001b[0;36mcheck_isinstance\u001b[0;34m(types, **kwargs)\u001b[0m\n\u001b[1;32m     89\u001b[0m     names\u001b[38;5;241m.\u001b[39mremove(\u001b[38;5;124m\"\u001b[39m\u001b[38;5;124mNone\u001b[39m\u001b[38;5;124m\"\u001b[39m)\n\u001b[1;32m     90\u001b[0m     names\u001b[38;5;241m.\u001b[39mappend(\u001b[38;5;124m\"\u001b[39m\u001b[38;5;124mNone\u001b[39m\u001b[38;5;124m\"\u001b[39m)\n\u001b[0;32m---> 91\u001b[0m \u001b[38;5;28;01mraise\u001b[39;00m \u001b[38;5;167;01mTypeError\u001b[39;00m(\n\u001b[1;32m     92\u001b[0m     \u001b[38;5;124m\"\u001b[39m\u001b[38;5;132;01m{!r}\u001b[39;00m\u001b[38;5;124m must be an instance of \u001b[39m\u001b[38;5;132;01m{}\u001b[39;00m\u001b[38;5;124m, not a \u001b[39m\u001b[38;5;132;01m{}\u001b[39;00m\u001b[38;5;124m\"\u001b[39m\u001b[38;5;241m.\u001b[39mformat(\n\u001b[1;32m     93\u001b[0m         k,\n\u001b[1;32m     94\u001b[0m         \u001b[38;5;124m\"\u001b[39m\u001b[38;5;124m, \u001b[39m\u001b[38;5;124m\"\u001b[39m\u001b[38;5;241m.\u001b[39mjoin(names[:\u001b[38;5;241m-\u001b[39m\u001b[38;5;241m1\u001b[39m]) \u001b[38;5;241m+\u001b[39m \u001b[38;5;124m\"\u001b[39m\u001b[38;5;124m or \u001b[39m\u001b[38;5;124m\"\u001b[39m \u001b[38;5;241m+\u001b[39m names[\u001b[38;5;241m-\u001b[39m\u001b[38;5;241m1\u001b[39m]\n\u001b[1;32m     95\u001b[0m         \u001b[38;5;28;01mif\u001b[39;00m \u001b[38;5;28mlen\u001b[39m(names) \u001b[38;5;241m>\u001b[39m \u001b[38;5;241m1\u001b[39m \u001b[38;5;28;01melse\u001b[39;00m names[\u001b[38;5;241m0\u001b[39m],\n\u001b[1;32m     96\u001b[0m         type_name(\u001b[38;5;28mtype\u001b[39m(v))))\n",
      "\u001b[0;31mTypeError\u001b[0m: 'value' must be an instance of str or bytes, not a float"
     ]
    },
    {
     "data": {
      "image/png": "[encoded data removed]",
      "text/plain": [
       "<Figure size 640x480 with 1 Axes>"
      ]
     },
     "metadata": {},
     "output_type": "display_data"
    }
   ],
   "source": [
    "# all_df = pd.concat([train_df_SF, test_df_SF])\n",
    "# a = pd.to_numeric(all_df['Cabin_num'], errors='coerce')\n",
    "plt.plot(all_df['Destination'],all_df['Cabin_num'])"
   ]
  },
  {
   "cell_type": "code",
   "execution_count": null,
   "id": "dce232bb-ca08-41d3-b62c-192e46753446",
   "metadata": {},
   "outputs": [],
   "source": [
    "make_two_feature_chart(pd.concat([train_df_SF, test_df_SF]),'Destination','Exp_zero',figsize=(10,4))"
   ]
  },
  {
   "cell_type": "code",
   "execution_count": null,
   "id": "dae79871-fc38-471a-8498-e3789269bd38",
   "metadata": {},
   "outputs": [],
   "source": []
  },
  {
   "cell_type": "code",
   "execution_count": null,
   "id": "e63365b2-d9bf-44ab-8d96-200c89458b6f",
   "metadata": {},
   "outputs": [],
   "source": []
  },
  {
   "cell_type": "code",
   "execution_count": null,
   "id": "58c6e6ae-3d7e-4479-bf49-60e5da656cef",
   "metadata": {},
   "outputs": [],
   "source": []
  },
  {
   "cell_type": "markdown",
   "id": "c0d83909-5edc-4816-afee-991818080644",
   "metadata": {},
   "source": [
    "<a id=\"ML_data_imputation\"></a>\n",
    "# <span style=\"color:teal;font-weight:bold;\">ML data imputation</span>\n",
    "\n",
    "Xxxx"
   ]
  },
  {
   "cell_type": "markdown",
   "id": "7c9dadd5-c6dd-4d35-a1d5-e678b6a081a5",
   "metadata": {},
   "source": [
    "<a id=\"Feature_engineering\"></a>\n",
    "# <span style=\"color:teal;font-weight:bold;\">Feature engineering</span>\n",
    "\n",
    "Xxxx"
   ]
  },
  {
   "cell_type": "code",
   "execution_count": null,
   "id": "1c9d04df-56fe-4e94-8adb-837032c6e5d3",
   "metadata": {},
   "outputs": [],
   "source": []
  },
  {
   "cell_type": "markdown",
   "id": "9cd146d0-2a19-4b1a-8b5b-d4f58b520ba7",
   "metadata": {},
   "source": [
    "<a id=\"Submission_results\"></a>\n",
    "# <span style=\"color:teal;font-weight:bold;\">Submission results</span>\n",
    "\n",
    "Xxxx"
   ]
  },
  {
   "cell_type": "markdown",
   "id": "9acc735a-f6f7-4ca2-9b52-fb61bf34b424",
   "metadata": {},
   "source": [
    "<a id=\"Conclusions\"></a>\n",
    "# <span style=\"color:teal;font-weight:bold;\">Conclusions</span>\n",
    "\n",
    "Xxxx"
   ]
  },
  {
   "cell_type": "code",
   "execution_count": null,
   "id": "bf21a66a-bcbe-45b1-b104-78336f3b31ee",
   "metadata": {},
   "outputs": [],
   "source": []
  }
 ],
 "metadata": {
  "kernelspec": {
   "display_name": "Python 3 (ipykernel)",
   "language": "python",
   "name": "python3"
  },
  "language_info": {
   "codemirror_mode": {
    "name": "ipython",
    "version": 3
   },
   "file_extension": ".py",
   "mimetype": "text/x-python",
   "name": "python",
   "nbconvert_exporter": "python",
   "pygments_lexer": "ipython3",
   "version": "3.12.7"
  }
 },
 "nbformat": 4,
 "nbformat_minor": 5
}
