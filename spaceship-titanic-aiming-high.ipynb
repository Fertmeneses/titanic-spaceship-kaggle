{
 "cells": [
  {
   "cell_type": "markdown",
   "metadata": {},
   "source": [
    "<a id=\"Title\"></a>\n",
    "# <span style=\"color:teal;font-weight:bold;\">Spaceship Titanic 💡 Feature engineering</span>\n",
    "\n",
    "This notebook is the second part of my <span style=\"font-weight:bold;color:green\">Spaceship Titanic series</span>:\n",
    "\n",
    "1. <a href=\"https://www.kaggle.com/code/fertmeneses/spaceship-titanic-getting-familiar/edit/run/191353629\">Spaceship Titanic 🏁 Getting familiar</a>.\n",
    "2. <span style=\"font-weight:bold\">Spaceship Titanic 💡 Feature engineering.</span> [This notebook]\n",
    "3. Spaceship Titanic 🩹 Data imputation. (Coming soon)\n",
    "4. Spaceship Titanic 🖥️ Model optimization. (Coming soon)\n",
    "5. Spaceship Titanic 🔭 Integrated analysis. (Coming soon)\n",
    "\n",
    "Previously, I got a clear picture of the scoring expectation for this competition by studying the LeaderBoard and trying simple Machine Learning models with minimally edited data. From that experience, I learned that scoring above 0.80 are pretty good, but <span style=\"font-weight:bold;\">my aim is getting a score above 0.81, looking for a place among the top 5% submissions</span>.\n",
    "\n",
    "<span style=\"font-weight:bold;\">In this notebook, I focus on feature engineering and see the scoring improvement using simple models.</span> \n",
    "\n",
    "In the future notebooks, I'll fix the missing values with data imputation techniques, optimize the Machine Learning model and finally make an integrated analysis based on my results and a deep study of other kagglers' contributions.\n",
    "\n",
    "The methodology of this work is based on my previous notebook <a href=\"https://www.kaggle.com/code/fertmeneses/titanic-kaggle-full-analysis\">Titanic/Kaggle -Full analysis</a> from the <span style=\"font-style:italic;\">Titanic - Machine Learning from Disaster</span> competition.\n",
    "\n",
    "<hr>"
   ]
  },
  {
   "cell_type": "markdown",
   "metadata": {},
   "source": [
    "# <font color='teal'>Outline</font> <a class=\"anchor\"  id=\"Outline\"></a>\n",
    "\n",
    "[**Data analysis**](#Data_analysis)\n",
    "\n",
    "  - [Load original data](#Data_analysis_load)\n",
    "  \n",
    "  - [Distribution of values and transported rates](#Data_analysis_values_rates)\n",
    "  \n",
    "  - [Correlations I (original data)](#Data_analysis_correlations)\n",
    "  \n",
    "[**Feature engineering**](#Feature_engineering)\n",
    "\n",
    "  - [Original single features](#Feature_engineering_single)\n",
    "\n",
    "    - [\"PassengerId\": new feature \"GroupMembers\"](#DA_FE_GroupMembers)\n",
    "   \n",
    "    - [\"CryoSleep\": make boolean](#DA_FE_CryoSleep)\n",
    "   \n",
    "    - [\"Cabin\": new features \"Cabin_1st\" and \"Cabin_isP\"](#DA_FE_Cabin)\n",
    "    \n",
    "    - [\"Destination\" redefinition](#DA_FE_Destination)\n",
    "   \n",
    "    - [\"VIP\": make boolean](#DA_FE_VIP)\n",
    "   \n",
    "    - [Expense features: new features \"X_Range\"](#DA_FE_Expense_Range)\n",
    "   \n",
    "    - [\"Name\" feature: new feature \"Ocurrence_LastName\"](#DA_FE_Name)\n",
    "   \n",
    "    - [Correlations II (engineered features)](#Feature_engineering_single_corr)\n",
    "   \n",
    "  - [Combined features](#Feature_engineering_combined)\n",
    "\n",
    "    - [\"FromTo\" new feature (from \"HomePlanet\" and \"Destination\")](#DA_FE_FromTo)\n",
    "  \n",
    "[**Conclusions**](#Conclusions)"
   ]
  },
  {
   "cell_type": "markdown",
   "metadata": {},
   "source": [
    "<a id=\"Data_analysis\"></a>\n",
    "# <span style=\"color:teal;font-weight:bold;\">Data analysis</span>\n",
    "\n",
    "In this section, I load the original data and analyze it without any edition. This is the workflow:\n",
    "\n",
    "- Load raw data.\n",
    "\n",
    "- Analyze distribution of values and <span style=\"font-weight:bold;\">Transported</span> rates.\n",
    "\n",
    "- Analyze correlations. <span style=\"font-style:italic;\">Note: for this step, I make a copy of the original dataset and One-Hot encode some features, but I don't use this copy for anything else.</span>\n",
    "\n",
    "<a id=\"Data_analysis_load\"></a>\n",
    "## <span style=\"color:teal;font-weight:bold;\">Load original data</span>\n",
    "\n",
    "In the following lines, I load the original datasets and get this information:\n",
    "\n",
    "- Example for 5 first rows in training dataset.\n",
    "\n",
    "- Number of rows in both datasets.\n",
    "\n",
    "- Features' names and data types.\n",
    "\n",
    "- Number of missing values in both datasets, per feature and per row."
   ]
  },
  {
   "cell_type": "code",
   "execution_count": 1,
   "metadata": {},
   "outputs": [
    {
     "ename": "FileNotFoundError",
     "evalue": "[Errno 2] No such file or directory: 'kaggle/input/spaceship-titanic/train.csv'",
     "output_type": "error",
     "traceback": [
      "\u001b[0;31m---------------------------------------------------------------------------\u001b[0m",
      "\u001b[0;31mFileNotFoundError\u001b[0m                         Traceback (most recent call last)",
      "Cell \u001b[0;32mIn[1], line 5\u001b[0m\n\u001b[1;32m      2\u001b[0m \u001b[38;5;28;01mfrom\u001b[39;00m \u001b[38;5;21;01mtermcolor\u001b[39;00m \u001b[38;5;28;01mimport\u001b[39;00m colored\n\u001b[1;32m      4\u001b[0m \u001b[38;5;66;03m# Load original datasets:\u001b[39;00m\n\u001b[0;32m----> 5\u001b[0m train_df \u001b[38;5;241m=\u001b[39m \u001b[43mpd\u001b[49m\u001b[38;5;241;43m.\u001b[39;49m\u001b[43mread_csv\u001b[49m\u001b[43m(\u001b[49m\u001b[38;5;124;43m'\u001b[39;49m\u001b[38;5;124;43mkaggle/input/spaceship-titanic/train.csv\u001b[39;49m\u001b[38;5;124;43m'\u001b[39;49m\u001b[43m)\u001b[49m \u001b[38;5;66;03m# Training dataset\u001b[39;00m\n\u001b[1;32m      6\u001b[0m test_df \u001b[38;5;241m=\u001b[39m pd\u001b[38;5;241m.\u001b[39mread_csv(\u001b[38;5;124m'\u001b[39m\u001b[38;5;124mkaggle/input/spaceship-titanic/test.csv\u001b[39m\u001b[38;5;124m'\u001b[39m) \u001b[38;5;66;03m# Testing dataset\u001b[39;00m\n\u001b[1;32m      7\u001b[0m \u001b[38;5;66;03m# Keep the passengerID features separately:\u001b[39;00m\n",
      "File \u001b[0;32m~/miniconda3/envs/py10/lib/python3.10/site-packages/pandas/io/parsers/readers.py:1026\u001b[0m, in \u001b[0;36mread_csv\u001b[0;34m(filepath_or_buffer, sep, delimiter, header, names, index_col, usecols, dtype, engine, converters, true_values, false_values, skipinitialspace, skiprows, skipfooter, nrows, na_values, keep_default_na, na_filter, verbose, skip_blank_lines, parse_dates, infer_datetime_format, keep_date_col, date_parser, date_format, dayfirst, cache_dates, iterator, chunksize, compression, thousands, decimal, lineterminator, quotechar, quoting, doublequote, escapechar, comment, encoding, encoding_errors, dialect, on_bad_lines, delim_whitespace, low_memory, memory_map, float_precision, storage_options, dtype_backend)\u001b[0m\n\u001b[1;32m   1013\u001b[0m kwds_defaults \u001b[38;5;241m=\u001b[39m _refine_defaults_read(\n\u001b[1;32m   1014\u001b[0m     dialect,\n\u001b[1;32m   1015\u001b[0m     delimiter,\n\u001b[0;32m   (...)\u001b[0m\n\u001b[1;32m   1022\u001b[0m     dtype_backend\u001b[38;5;241m=\u001b[39mdtype_backend,\n\u001b[1;32m   1023\u001b[0m )\n\u001b[1;32m   1024\u001b[0m kwds\u001b[38;5;241m.\u001b[39mupdate(kwds_defaults)\n\u001b[0;32m-> 1026\u001b[0m \u001b[38;5;28;01mreturn\u001b[39;00m \u001b[43m_read\u001b[49m\u001b[43m(\u001b[49m\u001b[43mfilepath_or_buffer\u001b[49m\u001b[43m,\u001b[49m\u001b[43m \u001b[49m\u001b[43mkwds\u001b[49m\u001b[43m)\u001b[49m\n",
      "File \u001b[0;32m~/miniconda3/envs/py10/lib/python3.10/site-packages/pandas/io/parsers/readers.py:620\u001b[0m, in \u001b[0;36m_read\u001b[0;34m(filepath_or_buffer, kwds)\u001b[0m\n\u001b[1;32m    617\u001b[0m _validate_names(kwds\u001b[38;5;241m.\u001b[39mget(\u001b[38;5;124m\"\u001b[39m\u001b[38;5;124mnames\u001b[39m\u001b[38;5;124m\"\u001b[39m, \u001b[38;5;28;01mNone\u001b[39;00m))\n\u001b[1;32m    619\u001b[0m \u001b[38;5;66;03m# Create the parser.\u001b[39;00m\n\u001b[0;32m--> 620\u001b[0m parser \u001b[38;5;241m=\u001b[39m \u001b[43mTextFileReader\u001b[49m\u001b[43m(\u001b[49m\u001b[43mfilepath_or_buffer\u001b[49m\u001b[43m,\u001b[49m\u001b[43m \u001b[49m\u001b[38;5;241;43m*\u001b[39;49m\u001b[38;5;241;43m*\u001b[39;49m\u001b[43mkwds\u001b[49m\u001b[43m)\u001b[49m\n\u001b[1;32m    622\u001b[0m \u001b[38;5;28;01mif\u001b[39;00m chunksize \u001b[38;5;129;01mor\u001b[39;00m iterator:\n\u001b[1;32m    623\u001b[0m     \u001b[38;5;28;01mreturn\u001b[39;00m parser\n",
      "File \u001b[0;32m~/miniconda3/envs/py10/lib/python3.10/site-packages/pandas/io/parsers/readers.py:1620\u001b[0m, in \u001b[0;36mTextFileReader.__init__\u001b[0;34m(self, f, engine, **kwds)\u001b[0m\n\u001b[1;32m   1617\u001b[0m     \u001b[38;5;28mself\u001b[39m\u001b[38;5;241m.\u001b[39moptions[\u001b[38;5;124m\"\u001b[39m\u001b[38;5;124mhas_index_names\u001b[39m\u001b[38;5;124m\"\u001b[39m] \u001b[38;5;241m=\u001b[39m kwds[\u001b[38;5;124m\"\u001b[39m\u001b[38;5;124mhas_index_names\u001b[39m\u001b[38;5;124m\"\u001b[39m]\n\u001b[1;32m   1619\u001b[0m \u001b[38;5;28mself\u001b[39m\u001b[38;5;241m.\u001b[39mhandles: IOHandles \u001b[38;5;241m|\u001b[39m \u001b[38;5;28;01mNone\u001b[39;00m \u001b[38;5;241m=\u001b[39m \u001b[38;5;28;01mNone\u001b[39;00m\n\u001b[0;32m-> 1620\u001b[0m \u001b[38;5;28mself\u001b[39m\u001b[38;5;241m.\u001b[39m_engine \u001b[38;5;241m=\u001b[39m \u001b[38;5;28;43mself\u001b[39;49m\u001b[38;5;241;43m.\u001b[39;49m\u001b[43m_make_engine\u001b[49m\u001b[43m(\u001b[49m\u001b[43mf\u001b[49m\u001b[43m,\u001b[49m\u001b[43m \u001b[49m\u001b[38;5;28;43mself\u001b[39;49m\u001b[38;5;241;43m.\u001b[39;49m\u001b[43mengine\u001b[49m\u001b[43m)\u001b[49m\n",
      "File \u001b[0;32m~/miniconda3/envs/py10/lib/python3.10/site-packages/pandas/io/parsers/readers.py:1880\u001b[0m, in \u001b[0;36mTextFileReader._make_engine\u001b[0;34m(self, f, engine)\u001b[0m\n\u001b[1;32m   1878\u001b[0m     \u001b[38;5;28;01mif\u001b[39;00m \u001b[38;5;124m\"\u001b[39m\u001b[38;5;124mb\u001b[39m\u001b[38;5;124m\"\u001b[39m \u001b[38;5;129;01mnot\u001b[39;00m \u001b[38;5;129;01min\u001b[39;00m mode:\n\u001b[1;32m   1879\u001b[0m         mode \u001b[38;5;241m+\u001b[39m\u001b[38;5;241m=\u001b[39m \u001b[38;5;124m\"\u001b[39m\u001b[38;5;124mb\u001b[39m\u001b[38;5;124m\"\u001b[39m\n\u001b[0;32m-> 1880\u001b[0m \u001b[38;5;28mself\u001b[39m\u001b[38;5;241m.\u001b[39mhandles \u001b[38;5;241m=\u001b[39m \u001b[43mget_handle\u001b[49m\u001b[43m(\u001b[49m\n\u001b[1;32m   1881\u001b[0m \u001b[43m    \u001b[49m\u001b[43mf\u001b[49m\u001b[43m,\u001b[49m\n\u001b[1;32m   1882\u001b[0m \u001b[43m    \u001b[49m\u001b[43mmode\u001b[49m\u001b[43m,\u001b[49m\n\u001b[1;32m   1883\u001b[0m \u001b[43m    \u001b[49m\u001b[43mencoding\u001b[49m\u001b[38;5;241;43m=\u001b[39;49m\u001b[38;5;28;43mself\u001b[39;49m\u001b[38;5;241;43m.\u001b[39;49m\u001b[43moptions\u001b[49m\u001b[38;5;241;43m.\u001b[39;49m\u001b[43mget\u001b[49m\u001b[43m(\u001b[49m\u001b[38;5;124;43m\"\u001b[39;49m\u001b[38;5;124;43mencoding\u001b[39;49m\u001b[38;5;124;43m\"\u001b[39;49m\u001b[43m,\u001b[49m\u001b[43m \u001b[49m\u001b[38;5;28;43;01mNone\u001b[39;49;00m\u001b[43m)\u001b[49m\u001b[43m,\u001b[49m\n\u001b[1;32m   1884\u001b[0m \u001b[43m    \u001b[49m\u001b[43mcompression\u001b[49m\u001b[38;5;241;43m=\u001b[39;49m\u001b[38;5;28;43mself\u001b[39;49m\u001b[38;5;241;43m.\u001b[39;49m\u001b[43moptions\u001b[49m\u001b[38;5;241;43m.\u001b[39;49m\u001b[43mget\u001b[49m\u001b[43m(\u001b[49m\u001b[38;5;124;43m\"\u001b[39;49m\u001b[38;5;124;43mcompression\u001b[39;49m\u001b[38;5;124;43m\"\u001b[39;49m\u001b[43m,\u001b[49m\u001b[43m \u001b[49m\u001b[38;5;28;43;01mNone\u001b[39;49;00m\u001b[43m)\u001b[49m\u001b[43m,\u001b[49m\n\u001b[1;32m   1885\u001b[0m \u001b[43m    \u001b[49m\u001b[43mmemory_map\u001b[49m\u001b[38;5;241;43m=\u001b[39;49m\u001b[38;5;28;43mself\u001b[39;49m\u001b[38;5;241;43m.\u001b[39;49m\u001b[43moptions\u001b[49m\u001b[38;5;241;43m.\u001b[39;49m\u001b[43mget\u001b[49m\u001b[43m(\u001b[49m\u001b[38;5;124;43m\"\u001b[39;49m\u001b[38;5;124;43mmemory_map\u001b[39;49m\u001b[38;5;124;43m\"\u001b[39;49m\u001b[43m,\u001b[49m\u001b[43m \u001b[49m\u001b[38;5;28;43;01mFalse\u001b[39;49;00m\u001b[43m)\u001b[49m\u001b[43m,\u001b[49m\n\u001b[1;32m   1886\u001b[0m \u001b[43m    \u001b[49m\u001b[43mis_text\u001b[49m\u001b[38;5;241;43m=\u001b[39;49m\u001b[43mis_text\u001b[49m\u001b[43m,\u001b[49m\n\u001b[1;32m   1887\u001b[0m \u001b[43m    \u001b[49m\u001b[43merrors\u001b[49m\u001b[38;5;241;43m=\u001b[39;49m\u001b[38;5;28;43mself\u001b[39;49m\u001b[38;5;241;43m.\u001b[39;49m\u001b[43moptions\u001b[49m\u001b[38;5;241;43m.\u001b[39;49m\u001b[43mget\u001b[49m\u001b[43m(\u001b[49m\u001b[38;5;124;43m\"\u001b[39;49m\u001b[38;5;124;43mencoding_errors\u001b[39;49m\u001b[38;5;124;43m\"\u001b[39;49m\u001b[43m,\u001b[49m\u001b[43m \u001b[49m\u001b[38;5;124;43m\"\u001b[39;49m\u001b[38;5;124;43mstrict\u001b[39;49m\u001b[38;5;124;43m\"\u001b[39;49m\u001b[43m)\u001b[49m\u001b[43m,\u001b[49m\n\u001b[1;32m   1888\u001b[0m \u001b[43m    \u001b[49m\u001b[43mstorage_options\u001b[49m\u001b[38;5;241;43m=\u001b[39;49m\u001b[38;5;28;43mself\u001b[39;49m\u001b[38;5;241;43m.\u001b[39;49m\u001b[43moptions\u001b[49m\u001b[38;5;241;43m.\u001b[39;49m\u001b[43mget\u001b[49m\u001b[43m(\u001b[49m\u001b[38;5;124;43m\"\u001b[39;49m\u001b[38;5;124;43mstorage_options\u001b[39;49m\u001b[38;5;124;43m\"\u001b[39;49m\u001b[43m,\u001b[49m\u001b[43m \u001b[49m\u001b[38;5;28;43;01mNone\u001b[39;49;00m\u001b[43m)\u001b[49m\u001b[43m,\u001b[49m\n\u001b[1;32m   1889\u001b[0m \u001b[43m\u001b[49m\u001b[43m)\u001b[49m\n\u001b[1;32m   1890\u001b[0m \u001b[38;5;28;01massert\u001b[39;00m \u001b[38;5;28mself\u001b[39m\u001b[38;5;241m.\u001b[39mhandles \u001b[38;5;129;01mis\u001b[39;00m \u001b[38;5;129;01mnot\u001b[39;00m \u001b[38;5;28;01mNone\u001b[39;00m\n\u001b[1;32m   1891\u001b[0m f \u001b[38;5;241m=\u001b[39m \u001b[38;5;28mself\u001b[39m\u001b[38;5;241m.\u001b[39mhandles\u001b[38;5;241m.\u001b[39mhandle\n",
      "File \u001b[0;32m~/miniconda3/envs/py10/lib/python3.10/site-packages/pandas/io/common.py:873\u001b[0m, in \u001b[0;36mget_handle\u001b[0;34m(path_or_buf, mode, encoding, compression, memory_map, is_text, errors, storage_options)\u001b[0m\n\u001b[1;32m    868\u001b[0m \u001b[38;5;28;01melif\u001b[39;00m \u001b[38;5;28misinstance\u001b[39m(handle, \u001b[38;5;28mstr\u001b[39m):\n\u001b[1;32m    869\u001b[0m     \u001b[38;5;66;03m# Check whether the filename is to be opened in binary mode.\u001b[39;00m\n\u001b[1;32m    870\u001b[0m     \u001b[38;5;66;03m# Binary mode does not support 'encoding' and 'newline'.\u001b[39;00m\n\u001b[1;32m    871\u001b[0m     \u001b[38;5;28;01mif\u001b[39;00m ioargs\u001b[38;5;241m.\u001b[39mencoding \u001b[38;5;129;01mand\u001b[39;00m \u001b[38;5;124m\"\u001b[39m\u001b[38;5;124mb\u001b[39m\u001b[38;5;124m\"\u001b[39m \u001b[38;5;129;01mnot\u001b[39;00m \u001b[38;5;129;01min\u001b[39;00m ioargs\u001b[38;5;241m.\u001b[39mmode:\n\u001b[1;32m    872\u001b[0m         \u001b[38;5;66;03m# Encoding\u001b[39;00m\n\u001b[0;32m--> 873\u001b[0m         handle \u001b[38;5;241m=\u001b[39m \u001b[38;5;28;43mopen\u001b[39;49m\u001b[43m(\u001b[49m\n\u001b[1;32m    874\u001b[0m \u001b[43m            \u001b[49m\u001b[43mhandle\u001b[49m\u001b[43m,\u001b[49m\n\u001b[1;32m    875\u001b[0m \u001b[43m            \u001b[49m\u001b[43mioargs\u001b[49m\u001b[38;5;241;43m.\u001b[39;49m\u001b[43mmode\u001b[49m\u001b[43m,\u001b[49m\n\u001b[1;32m    876\u001b[0m \u001b[43m            \u001b[49m\u001b[43mencoding\u001b[49m\u001b[38;5;241;43m=\u001b[39;49m\u001b[43mioargs\u001b[49m\u001b[38;5;241;43m.\u001b[39;49m\u001b[43mencoding\u001b[49m\u001b[43m,\u001b[49m\n\u001b[1;32m    877\u001b[0m \u001b[43m            \u001b[49m\u001b[43merrors\u001b[49m\u001b[38;5;241;43m=\u001b[39;49m\u001b[43merrors\u001b[49m\u001b[43m,\u001b[49m\n\u001b[1;32m    878\u001b[0m \u001b[43m            \u001b[49m\u001b[43mnewline\u001b[49m\u001b[38;5;241;43m=\u001b[39;49m\u001b[38;5;124;43m\"\u001b[39;49m\u001b[38;5;124;43m\"\u001b[39;49m\u001b[43m,\u001b[49m\n\u001b[1;32m    879\u001b[0m \u001b[43m        \u001b[49m\u001b[43m)\u001b[49m\n\u001b[1;32m    880\u001b[0m     \u001b[38;5;28;01melse\u001b[39;00m:\n\u001b[1;32m    881\u001b[0m         \u001b[38;5;66;03m# Binary mode\u001b[39;00m\n\u001b[1;32m    882\u001b[0m         handle \u001b[38;5;241m=\u001b[39m \u001b[38;5;28mopen\u001b[39m(handle, ioargs\u001b[38;5;241m.\u001b[39mmode)\n",
      "\u001b[0;31mFileNotFoundError\u001b[0m: [Errno 2] No such file or directory: 'kaggle/input/spaceship-titanic/train.csv'"
     ]
    }
   ],
   "source": [
    "import pandas as pd\n",
    "from termcolor import colored\n",
    "\n",
    "# Load original datasets:\n",
    "train_df = pd.read_csv('kaggle/input/spaceship-titanic/train.csv') # Training dataset\n",
    "test_df = pd.read_csv('kaggle/input/spaceship-titanic/test.csv') # Testing dataset\n",
    "# Keep the passengerID features separately:\n",
    "train_ID = train_df['PassengerId']\n",
    "test_ID = test_df['PassengerId']\n",
    "# Display a few examples:\n",
    "display(train_df.head(5)) # Examples\n",
    "# Print global information:\n",
    "print('\\nNumber of rows in train/test datasets:\\n')\n",
    "print(len(train_df),'/',len(test_df))\n",
    "print('\\nFeatures: names and data types:\\n')\n",
    "print(train_df.dtypes)\n",
    "# Print number of missing values per feature:\n",
    "print('\\nMissing values in train/test datasets:\\n')\n",
    "for col in test_df.columns:\n",
    "    # Count missing values:\n",
    "    N_train = train_df[col].isna().sum() \n",
    "    N_test = test_df[col].isna().sum()\n",
    "    # Print results:\n",
    "    color_train = 'red' if N_train else 'green'\n",
    "    color_test = 'red' if N_test else 'green'\n",
    "    rmargin = 40-len(col)\n",
    "    print(f'{col}:',f'{colored(N_train, color_train)}/{colored(N_test, color_test)}'.rjust(rmargin))\n",
    "# Count missing values in each row:\n",
    "N_nan_train = train_df.apply(lambda x: x.isna().sum(), axis=1)\n",
    "N_nan_test = test_df.apply(lambda x: x.isna().sum(), axis=1) \n",
    "# Print number of rows with N missing values:\n",
    "for n in set(N_nan_train).union(set(N_nan_test)):\n",
    "    print(f'Number of rows with {n} missing values: {sum(N_nan_train==n)}/{sum(N_nan_test==n)}')"
   ]
  },
  {
   "cell_type": "markdown",
   "metadata": {},
   "source": [
    "<a id=\"Data_analysis_values_rates\"></a>\n",
    "## <span style=\"color:teal;font-weight:bold;\">Distribution of values and Transported rates</span>\n",
    "\n",
    "For a better understanding of each feature, I <span style=\"font-weight:bold;\">plot the distribution of values (column 1) in both training and testing datasets; and the Transported rates for the training dataset (column 2)</span>. Those feature with more than 10 unique values are not included in the plots."
   ]
  },
  {
   "cell_type": "code",
   "execution_count": null,
   "metadata": {
    "_kg_hide-input": true
   },
   "outputs": [],
   "source": [
    "# Define plotting functions:\n",
    "import matplotlib.pyplot as plt\n",
    "import seaborn as sns\n",
    "import numpy as np\n",
    "\n",
    "def plot_dist_pie(df_train,df_test,feature,axis):\n",
    "    \"\"\"\n",
    "    Plots a pie chart for the distribution of values from a single\n",
    "    feature in both training and testing datasets.\n",
    "    --- Inputs ---\n",
    "    {df_train, df_test} [Dataframes]: Training and testing datasets.\n",
    "    Both datasets must include the column with the input name {feature}.\n",
    "    {feature} [String]: Name of the column (feature) to be analyzed.\n",
    "    {axis} [matplotlib axis object]: Axis for the current subplot.\n",
    "    \"\"\"\n",
    "    # Identify data, count frequency per variable and sort it alphabetically:\n",
    "    train_data, test_data = df_train[feature], df_test[feature]\n",
    "    train_counts = train_data.value_counts().sort_index()\n",
    "    test_counts = test_data.value_counts().sort_index()\n",
    "    # Plot pie chart, start with the outer ring:\n",
    "    axis.pie(train_counts, colors=sns.color_palette('tab20'),\n",
    "             labels=train_counts.keys(),labeldistance=0.8,\n",
    "             startangle=90,frame=True,explode=np.ones(len(train_counts))*0.01)\n",
    "    # Add white ring to separate training and testing pies:\n",
    "    axis.add_artist(plt.Circle((0,0),0.70,color='black', fc='white',linewidth=0))\n",
    "    # Testing inner pie:\n",
    "    axis.pie(test_counts, colors=sns.color_palette('tab20'),\n",
    "             labels=None,labeldistance=0.6,\n",
    "             radius=0.5,startangle=90,explode=np.ones(len(test_counts))*0.01)\n",
    "    # Add white central circle to complete the pie:\n",
    "    axis.add_artist(plt.Circle((0,0),0.25,color='black', fc='white',linewidth=0))\n",
    "    # Set title:\n",
    "    axis.set_title(f'{feature}: Distribution')\n",
    "    \n",
    "def plot_dist_hist(df_train,df_test,feature,axis,bin_step=None):\n",
    "    \"\"\"\n",
    "    Plots a histogram chart for the distribution of values from a\n",
    "    single feature in both training and testing datasets.\n",
    "    --- Inputs ---\n",
    "    {df_train, df_test} [Dataframes]: Training and testing datasets.\n",
    "    Both datasets must include the column with the input name {feature}.\n",
    "    {feature} [String]: Name of the column (feature) to be analyzed.\n",
    "    {axis} [matplotlib axis object]: Axis for the current subplot.\n",
    "    {bin_step} [Integer or None]: If provided, set the bins' \n",
    "    step-value for the histogram, otherwise automatically assigned.\n",
    "    \"\"\"\n",
    "    # Identify relevant data and calculate fraction of valid values:\n",
    "    train_data, test_data = df_train[feature], df_test[feature]\n",
    "    train_frac = np.round(train_data.count()/len(train_data)*100,1) # [%]\n",
    "    test_frac = np.round(test_data.count()/len(test_data)*100,1) # [%]\n",
    "    # Determine binning, uniform for both datasets:\n",
    "    min_range = min(min(train_data),min(test_data))\n",
    "    max_range = max(max(train_data),max(test_data))\n",
    "    if bin_step:\n",
    "        binning = np.arange(min_range,max_range+bin_step*2,bin_step)-bin_step/2\n",
    "    else:\n",
    "        binning = np.linspace(min_range,max_range,10)\n",
    "    # Bar plot:\n",
    "    train_data.plot(kind='hist', bins=binning, edgecolor='navy', color='teal',\n",
    "                    ax=axis, alpha=0.6)\n",
    "    test_data.plot(kind='hist', bins=binning, edgecolor='navy', color='orange',\n",
    "                   ax=axis, alpha=0.6, rwidth=0.7)\n",
    "    axis.legend(['Train','Test']) # Set legend   \n",
    "    axis.set_yticks([0,int(axis.get_ylim()[1])], minor=False)\n",
    "    axis.set_xlabel(feature)\n",
    "    axis.set_title(f'{feature}: Distribution')\n",
    "    for s in [\"top\",\"right\",\"left\", 'bottom']: # Remove spins\n",
    "        axis.spines[s].set_visible(False)\n",
    "\n",
    "def plot_swarm(df_train,feature,axis,ref_feature='Transported',\n",
    "               xlabels_off=False,seed=42):\n",
    "    \"\"\"\n",
    "    Plots a swarm plot ordered by the transported rate from a \n",
    "    single feature in the training dataset.\n",
    "    --- Inputs ---\n",
    "    {df_train} [Dataframe]: Training dataset, must include the\n",
    "    columns with names {feature} and {ref_feature}.\n",
    "    {feature} [String]: Name of the column (feature) to be analyzed.\n",
    "    {ref_feature} [String]: Name of the column (feature) by which {feature} will\n",
    "    be analyzed. This feature must be binary with values 0 and 1.\n",
    "    {axis} [matplotlib axis object]: Axis for the current subplot.\n",
    "    {xlabels_off} [Boolean]: If True, remove the x-labels.\n",
    "    {seed} [Integer]: Seed for random scattering in swarm plots.\n",
    "    \"\"\"\n",
    "    # Identify data, count frequency per variable and sort it alphabetically:\n",
    "    train_data = df_train[feature] # Training dataset    \n",
    "    train_counts = train_data.value_counts().sort_index()\n",
    "    # For each variable, identify the transported rate and build the swarm plot:\n",
    "    np.random.seed(seed) # Random seed for swarm plots\n",
    "    for i, var in enumerate(train_counts.keys()):\n",
    "        # Determine points' location:\n",
    "        surv_rate = df_train.groupby([feature]).mean(numeric_only=True)[ref_feature].loc[var] # Transported rate\n",
    "        pp_pos = int(len(df_train[(df_train[feature]==var)])*surv_rate) # Positive transported values\n",
    "        pp_neg = int(len(df_train[(df_train[feature]==var)])*(1-surv_rate)) # Negative transported values\n",
    "        var_pos = np.random.uniform(0, surv_rate,pp_pos) # Randomly assign locations for \"positive\" points\n",
    "        var_neg = np.random.uniform(surv_rate,1,pp_neg) # Randomly assign locations for \"negative\" points              \n",
    "        # Allocate all points in plot:\n",
    "        color = np.array(sns.color_palette('tab20')[i])\n",
    "        axis.scatter(i+np.random.uniform(-0.3, 0.3, len(var_neg)), var_neg,s=10,\n",
    "                     color=color, edgecolor=np.append(color,0.2),\n",
    "                     alpha=0.1, label=f'{var}({ref_feature}=0)')\n",
    "        axis.scatter(i+np.random.uniform(-0.3, 0.3, len(var_pos)), var_pos,s=10,\n",
    "                     color=color, edgecolor=np.append(color,0.2),\n",
    "                     label=f'{var}({ref_feature}=1)')\n",
    "        axis.plot([i-0.3,i+0.3],[surv_rate,surv_rate],ls='--',color='k',lw=1)\n",
    "    # Ticks and limits:\n",
    "    axis.set_xlim(-0.5, len(train_counts)-0.5)\n",
    "    axis.set_ylim(-0.03, 1.1)\n",
    "    if xlabels_off:\n",
    "        axis.set_xticks([])\n",
    "        axis.set_xticklabels([])\n",
    "    else:\n",
    "        axis.set_xticks(np.linspace(0,len(train_counts.keys())-1,len(train_counts.keys())))\n",
    "        axis.set_xticklabels(train_counts.keys(), fontsize=10)\n",
    "    axis.set_yticks([], minor=False)\n",
    "    axis.set_ylabel('')\n",
    "    # Spines, legend and title:\n",
    "    for s in [\"top\",\"right\",\"left\", 'bottom']:\n",
    "        axis.spines[s].set_visible(False)\n",
    "    axis.legend([0,1],title=ref_feature,loc=(0.8, 0.7), edgecolor='k')\n",
    "    axis.set_title(f'{feature}: \"{ref_feature}\" rate (Train)')\n",
    "\n",
    "import warnings # <sns.kdeplot> gives a warning I couldn't fix, I avoid displaying it...\n",
    "warnings.simplefilter(action='ignore', category=FutureWarning)\n",
    "\n",
    "def plot_KDE(df_train,feature,axis,ref_feature='Transported'):\n",
    "    \"\"\"\n",
    "    Plots a kernel density estimate (KDE) plot ordered by the \n",
    "    transported rate from a single feature in the training dataset.\n",
    "    --- Inputs ---\n",
    "    {df_train} [Dataframe]: Training dataset, must include the\n",
    "    columns with names {feature} and {ref_feature}.\n",
    "    {feature} [String]: Name of the column (feature) to be analyzed.\n",
    "    {ref_feature} [String]: Name of the column (feature) by which {feature} will\n",
    "    be analyzed. This feature must be binary with values 0 and 1.\n",
    "    {axis} [matplotlib axis object]: Axis for the current subplot.\n",
    "    \"\"\"    \n",
    "    train_data = df_train[feature] # Identify relevant data\n",
    "    # Plot KDE:\n",
    "    sns.kdeplot(x=feature, data=df_train, ax=axis, fill=True,cut=0,\n",
    "                bw_method=0.15, lw=1.4, edgecolor='lightgray', hue=ref_feature,\n",
    "                multiple=\"stack\", palette='PuBu', alpha=0.8)\n",
    "    axis.set_yticks([], minor=False)\n",
    "    axis.set_ylabel('Density [arb. units]')\n",
    "    axis.set_title(f'{feature}: \"{ref_feature}\" rate (Train)')\n",
    "    for s in [\"top\",\"right\",\"left\", 'bottom']: # Remove spins\n",
    "        axis.spines[s].set_visible(False)  \n",
    "\n",
    "def explain_stats(df_train,feature,unique_vals_max=10):\n",
    "    \"\"\"\n",
    "    Explains the distribution of values in a table format and the\n",
    "    transported rates for the training dataset.\n",
    "    --- Inputs ---\n",
    "    {df_train} [Dataframe]: Training dataset, must include the\n",
    "    columns with names {feature} and {ref_feature}.\n",
    "    {feature} [String] Name of the column (feature) to be analyzed.\n",
    "    {unique_vals_max} [Integer]: Maximum number of unique values \n",
    "    for the feature. If there are more than this limit, there \n",
    "    won't be any output table.\n",
    "    \"\"\"\n",
    "    # Check the unique_vals_max condition (avoid NaN):\n",
    "    unique_vals = {x for x in df_train[feature] if x == x} # Number of unique values\n",
    "    if len(unique_vals) > unique_vals_max:\n",
    "        print(f'There are {len(unique_vals)} unique values for this feature, more than the allowed limit ({unique_vals_max}).')\n",
    "        return None    \n",
    "    # Explained values:\n",
    "    df_expl = pd.DataFrame(columns=[f'{feature}','#Passengers','Transported_Rate[%]'])\n",
    "    df_expl[f'{feature}'] = sorted(unique_vals)\n",
    "    df_expl['#Passengers'] = [len(df_train[df_train[f'{feature}'] == x])\n",
    "                              for x in sorted(unique_vals)]\n",
    "    # Transported rates for each feature category:\n",
    "    df_expl['Transported_Rate[%]'] = [\n",
    "        len(df_train[(df_train[feature] == x) & # Select fare range\n",
    "            (df_train['Transported'] == 1)])/ # Passengers who were transported\n",
    "        len(df_train[(df_train[feature] == x)]) # Total passengers\n",
    "        for x in sorted(unique_vals) # Iterate through all feature categories\n",
    "    ]\n",
    "    df_expl['Transported_Rate[%]'] *=100 # Convert from fraction to [%]\n",
    "    print(f'Explained {feature} values and transported rates in training dataset:')\n",
    "    display(df_expl.style.hide())"
   ]
  },
  {
   "cell_type": "code",
   "execution_count": null,
   "metadata": {},
   "outputs": [],
   "source": [
    "# Select features to analyze:\n",
    "features = [feat for feat in test_df.columns if \n",
    "            test_df[feat].dtype != 'object' or # Numeric or...\n",
    "            test_df[feat].nunique()<10] # ...Few unique values\n",
    "\n",
    "# Plot distribution of values and Transported rates for each feature:\n",
    "for feature in features:\n",
    "    fig, (ax1,ax2) = plt.subplots(1, 2,figsize=(8, 3)) # Start figure\n",
    "    if train_df[feature].dtype == 'object': # Non-numerical features:\n",
    "        print('-'*10,f'{feature} | Outer:train, Inner:test','-'*10)\n",
    "        plot_dist_pie(train_df,test_df,feature,ax1)\n",
    "        plot_swarm(train_df,feature,ax2)    \n",
    "    else: # Numerical features:\n",
    "        print('-'*25,feature,'-'*25)\n",
    "        plot_dist_hist(train_df,test_df,feature,ax1)\n",
    "        plot_KDE(train_df,feature,ax2)\n",
    "    fig.tight_layout()\n",
    "    plt.show()\n",
    "    # Display explanatory table only if there are equal or less than 10 unique values:\n",
    "    if len(set(train_df[feature]))<=10:\n",
    "        explain_stats(train_df,feature)\n",
    "    else:\n",
    "        print('(Not suitable for a table)')"
   ]
  },
  {
   "cell_type": "markdown",
   "metadata": {},
   "source": [
    "Summary about the distribution of values and transported rates:\n",
    "\n",
    "| Feature | <font color=blue> Distribution </font> | <font color=green> Transported rates </font> |\n",
    "| :---: | :--- | :--- |\n",
    "| <span style=\"font-weight:bold;\">HomePlanet</span> | <font color=blue> Half of the passengers come from Earth, 1/4 from Europa and 1/4 from Mars  </font> | <font color=green> Europa has a slightly good rate (65%), Mars average (50%) and Earth slightly poor (40%) </font> |\n",
    "| <span style=\"font-weight:bold;\">CryoSleep</span> | <font color=blue> Only 1/3 of passengers were in CryoSleep  </font> | <font color=green> Excellent chances (80%) if Cryosleep, poor (30%) if not </font> |\n",
    "| <span style=\"font-weight:bold;\">Destination</span> | <font color=blue> 2/3 of passengers were going to Trappist, 1/4 to Cancri and 10% to PSO </font> | <font color=green> Those going to Cancri have good chances (60%), the rest average (50%) </font> |\n",
    "| <span style=\"font-weight:bold;\">Age</span> | <font color=blue> From 0 to 80, peak around 20-30 </font> | <font color=green> Good chances for the very young (less than 10 years old?), maybe average for the rest </font> |\n",
    "| <span style=\"font-weight:bold;\">VIP</span> | <font color=blue> Only 200 passengers are VIP </font> | <font color=green> VIP passengers have slightly bad chances (40%) </font> |\n",
    "| <span style=\"font-weight:bold;\">RoomService, FoodCourt, ShoppingMall, Spa, VRDeck</span> | <font color=blue> Only a few passengers spend more than a little money in services </font> | <font color=green> Can't tell from the plots </font> |"
   ]
  },
  {
   "cell_type": "markdown",
   "metadata": {},
   "source": [
    "<a id=\"Data_analysis_correlations\"></a>\n",
    "## <span style=\"color:teal;font-weight:bold;\">Correlations I (original data)</span>\n",
    "\n",
    "Next, I study the <span style=\"font-weight:bold;\">correlations in the original data, using the training dataset, only for those features analyzed in the previous section</span>. I build a correlation matrix with a 0.1 threshold correlation value, then only high correlations are painted.\n",
    "\n",
    "Note: the correlation matrix needs numerical or boolean features. For this purpose, I One-Hot encode the non-numerical features, and group family-encoded-features in dotted traingles within the correlation matrix (correlations there are irrelevant)."
   ]
  },
  {
   "cell_type": "code",
   "execution_count": null,
   "metadata": {},
   "outputs": [],
   "source": [
    "import matplotlib.patches as patches\n",
    "\n",
    "def encode_and_correlation(df,max_cats=10,target_col='Transported',\n",
    "                           c_thres=0.1):\n",
    "    \"\"\"\n",
    "    Encodes non-numeric features in a dataset and plots the correlation matrix.\n",
    "    --- Inputs ---\n",
    "    {df} [dataframe]: Dataframe to be encoded.\n",
    "    {max_cats} [int]: Maximum number of categories for a non-numeric\n",
    "    feature to be encoded. If the feature has more categories, it is ignored.\n",
    "    {ref_col} [string]: Target column, it won't be encoded.\n",
    "    {c_thres} [float]: Threshold correlation value, only exceeding values\n",
    "    will be painted in the correlation matrix.\n",
    "    --- Outputs ---\n",
    "    {df_enc} [dataframe]: Encoded dataframe.\n",
    "    \"\"\"\n",
    "    # ===== ENCODING ===== \n",
    "    # One-Hot encode non-numerical features with few unique values:\n",
    "    feat_enc = [feat for feat in df.columns if \n",
    "                df[feat].dtype == 'object' and # Numeric or...\n",
    "                df[feat].nunique()<=max_cats] # ...Few unique values\n",
    "\n",
    "    # Encode features:\n",
    "    data_enc = pd.get_dummies(df[feat_enc])\n",
    "    # Prepare dataframes having only numeric/boolean features:\n",
    "    df_enc = pd.concat([df, data_enc], axis=1)\n",
    "    # Sort columns alphabetically, but leave 'Transported' at the beggining in training dataset:\n",
    "    df_enc = df_enc.reindex(sorted(df_enc.columns), axis=1)\n",
    "    df_enc = df_enc[['Transported'] + [col for col in df_enc.columns\n",
    "                                                   if col != target_col ]]\n",
    "    # Drop source-encoded features: \n",
    "    df_enc = df_enc.drop(feat_enc,axis=1)\n",
    "    # Drop not suitable features:\n",
    "    feat_not_enc = [feat for feat in df.columns if\n",
    "                    df[feat].dtype == 'object' and # Numeric or...\n",
    "                    df[feat].nunique()>10] # ...Few unique values\n",
    "    df_enc = df_enc.drop(feat_not_enc,axis=1)\n",
    "    \n",
    "    # ===== CORRELATION MATRIX ===== \n",
    "    # Prepare data:\n",
    "    corr = df_enc.corr() # Obtain correlations\n",
    "    trimask = np.triu(np.ones_like(corr, dtype=bool)) # Mask upper triangle in correlations    \n",
    "    # Plot correlations in training dataset:\n",
    "    fig, ax = plt.subplots(figsize=(20, 10))\n",
    "    sns.heatmap(corr, ax=ax, square=True,cmap='coolwarm',\n",
    "                vmin=-1, vmax=1, linecolor='w',lw=0.5, \n",
    "                mask=trimask | (np.abs(corr) <= c_thres))\n",
    "    # Separate the target correlations:\n",
    "    ax.plot([1,1],[1,len(df_enc.columns)],color='k',lw=2)\n",
    "    # Draw the correlations' triangle:\n",
    "    ax.plot([1,len(df_enc.columns)],[1,len(df_enc.columns)],color='k',lw=0.5)\n",
    "    ax.plot([1,len(df_enc.columns)],[len(df_enc.columns),len(df_enc.columns)],\n",
    "            color='k',lw=1.5)\n",
    "    # Identify blocks of similar features:\n",
    "    main_name = [feat.split('_')[0] for feat in list(df_enc.columns)]\n",
    "    index_counts = [(main_name.index(name),main_name.count(name))\n",
    "                    for name in sorted(set(main_name))]\n",
    "    for index, counts in index_counts:\n",
    "        if counts>1: \n",
    "            triangle = [[index, index],\n",
    "                        [index+counts, index+counts],\n",
    "                        [index, index+counts]]\n",
    "            ax.add_patch(patches.Polygon(triangle, edgecolor=\"k\",facecolor='none',ls=\"--\",lw=2))\n",
    "    ax.set_title(f\"Dataset Correlations\", size=15)\n",
    "    fig.tight_layout()\n",
    "    plt.show()    \n",
    "    \n",
    "    return df_enc"
   ]
  },
  {
   "cell_type": "code",
   "execution_count": null,
   "metadata": {},
   "outputs": [],
   "source": [
    "train_df_enc = encode_and_correlation(train_df)"
   ]
  },
  {
   "cell_type": "code",
   "execution_count": null,
   "metadata": {
    "_kg_hide-input": true
   },
   "outputs": [],
   "source": [
    "# # One-Hot encode non-numerical features with few unique values:\n",
    "# feat_enc = [feat for feat in train_df.columns if \n",
    "#             train_df[feat].dtype == 'object' and # Numeric or...\n",
    "#             train_df[feat].nunique()<10] # ...Few unique values\n",
    "\n",
    "# # Encode features:\n",
    "# data_train_enc = pd.get_dummies(train_df[feat_enc])\n",
    "# # Prepare dataframes having only numeric/boolean features:\n",
    "# train_df_enc = pd.concat([train_df, data_train_enc], axis=1)\n",
    "# # Sort columns alphabetically, but leave 'Transported' at the beggining in training dataset:\n",
    "# train_df_enc = train_df_enc.reindex(sorted(train_df_enc.columns), axis=1)\n",
    "# train_df_enc = train_df_enc[['Transported'] + [col for col in train_df_enc.columns\n",
    "#                                                if col != 'Transported' ]]\n",
    "# # Drop source-encoded features: \n",
    "# train_df_enc = train_df_enc.drop(feat_enc,axis=1)\n",
    "# # Drop not suitable features:\n",
    "# feat_not_enc = [feat for feat in train_df.columns if\n",
    "#                 train_df[feat].dtype == 'object' and # Numeric or...\n",
    "#                 train_df[feat].nunique()>=10] # ...Few unique values\n",
    "# train_df_enc = train_df_enc.drop(feat_not_enc,axis=1)\n",
    "\n",
    "# import matplotlib.patches as patches\n",
    "\n",
    "# # Prepare data:\n",
    "# corr_train = train_df_enc.corr() # Obtain correlations\n",
    "# trimask = np.triu(np.ones_like(corr_train, dtype=bool)) # Mask upper triangle in correlations\n",
    "# c_thres = 0.1 # Threshold value to show correlations\n",
    "\n",
    "# fig, ax = plt.subplots(figsize=(20, 10))\n",
    "# # Plot correlations in training dataset:\n",
    "# sns.heatmap(corr_train, ax=ax, square=True, \n",
    "#             cmap='coolwarm', vmin=-1, vmax=1,\n",
    "#             linecolor='w',lw=0.5, \n",
    "#             mask=trimask | (np.abs(corr_train) <= c_thres))\n",
    "# # Separate the \"Survived\" correlations:\n",
    "# ax.plot([1,1],[1,len(train_df_enc.columns)],color='k',lw=2)\n",
    "# # Draw the correlations' triangle:\n",
    "# ax.plot([1,len(train_df_enc.columns)],[1,len(train_df_enc.columns)],color='k',lw=0.5)\n",
    "# ax.plot([1,len(train_df_enc.columns)],[len(train_df_enc.columns),len(train_df_enc.columns)],\n",
    "#         color='k',lw=1.5)\n",
    "# # Identify blocks of similar features:\n",
    "# main_name = [feat.split('_')[0] for feat in list(train_df_enc.columns)]\n",
    "# index_counts = [(main_name.index(name),main_name.count(name))\n",
    "#                 for name in sorted(set(main_name))]\n",
    "# for index, counts in index_counts:\n",
    "#     if counts>1: \n",
    "#         triangle = [[index, index],\n",
    "#                     [index+counts, index+counts],\n",
    "#                     [index, index+counts]]\n",
    "#         ax.add_patch(patches.Polygon(triangle, edgecolor=\"k\",facecolor='none',ls=\"--\",lw=2))\n",
    "# ax.set_title(f\"Training Dataset Correlations\", size=15)\n",
    "# fig.tight_layout()\n",
    "# plt.show()"
   ]
  },
  {
   "cell_type": "markdown",
   "metadata": {
    "execution": {
     "iopub.execute_input": "2024-08-07T08:54:31.420188Z",
     "iopub.status.busy": "2024-08-07T08:54:31.419691Z",
     "iopub.status.idle": "2024-08-07T08:54:32.254539Z",
     "shell.execute_reply": "2024-08-07T08:54:32.253400Z",
     "shell.execute_reply.started": "2024-08-07T08:54:31.420151Z"
    }
   },
   "source": [
    "I'm going to do a more detailed analysis later, but from this plot I highlight the following facts:\n",
    "\n",
    "<span style=\"font-weight:bold;\">Chances of transportation (first column):</span> \n",
    "- <span style=\"font-weight:bold;\">CryoSleep</span>: Cryo-sleeping (True) is better.\n",
    "- <span style=\"font-weight:bold;\">Destination</span>: going to Cancri is better.\n",
    "- <span style=\"font-weight:bold;\">HomePlanet</span>: being from Earth is worse, from Europa is better. \n",
    "- <span style=\"font-weight:bold;\">RoomService</span>: paying more is worse.\n",
    "- <span style=\"font-weight:bold;\">Spa</span>: paying more is worse.\n",
    "- <span style=\"font-weight:bold;\">VRDeck</span>: paying more is worse.\n",
    "\n",
    "<span style=\"font-style:italic;\">Note: the correlation matrix is strongly affected by the number of values with significant correlations, that's why the <span style=\"font-weight:bold;\">VIP</span> feature is not painted, even though being VIP is an important indicator for Transportation. </span>\n",
    "\n",
    "<span style=\"font-weight:bold;\">Other observations (main triangle):</span>\n",
    "\n",
    "- Cryo-sleeping passengers spend less in services \n",
    "(<span style=\"font-weight:bold;\">FoodCourt</span>\n",
    "<span style=\"font-weight:bold;\">RoomService</span>, \n",
    "<span style=\"font-weight:bold;\">ShoppingMall</span>,\n",
    "<span style=\"font-weight:bold;\">Spa</span>,\n",
    "<span style=\"font-weight:bold;\">VRDeck</span>).\n",
    "- The older the passenger, the more more likely is that they are from Europa. On the contrary, younger passengers are more likely to come from Earth.\n",
    "- The following origin-destinations are more frequent: Europa-Cancri, Earth-PSO, Mars-Trappist.\n",
    "- Passengers from Mars are more likely to spend more in RoomService and ShoppingMall.\n",
    "- Passengers from Europa are more likely to spend more in Spa and VRDeck."
   ]
  },
  {
   "cell_type": "markdown",
   "metadata": {},
   "source": [
    "<a id=\"Feature_engineering\"></a>\n",
    "# <span style=\"color:teal;font-weight:bold;\">Feature engineering</span>\n",
    "\n",
    "In this section, I first engineer single original features, extracting encoded information from then, and later I generate new variables based on combination of two or more features.\n",
    "\n",
    "By the end of the data engineering process, each feature in the dataset should be numeric, boolean, or non-numeric with a few unique values (so they can be easily encoded)."
   ]
  },
  {
   "cell_type": "code",
   "execution_count": null,
   "metadata": {},
   "outputs": [],
   "source": [
    "# First generate the corrected datasets:\n",
    "train_df_corr = train_df.copy()\n",
    "test_df_corr = test_df.copy()"
   ]
  },
  {
   "cell_type": "markdown",
   "metadata": {},
   "source": [
    "<a id=\"Feature_engineering_single\"></a>\n",
    "## <span style=\"color:teal;font-weight:bold;\">Original single features</span>\n",
    "\n",
    "The original features can contain encoded information that may be stored in new variables, or too complex information that could be simplified, or completely irrelevant information that could be deleted.\n",
    "\n",
    "I analyze the original features in the order given in the dataset:"
   ]
  },
  {
   "cell_type": "code",
   "execution_count": null,
   "metadata": {},
   "outputs": [],
   "source": [
    "print('Order in original features:\\n',[f for f in test_df.columns])"
   ]
  },
  {
   "cell_type": "markdown",
   "metadata": {},
   "source": [
    "<a id=\"DA_FE_GroupMembers\"></a>\n",
    "### <span style=\"color:teal;font-weight:bold;\">\"PassengerId\": new feature \"GroupMembers\"</span>\n",
    "\n",
    "I begin by studying the <span style=\"font-weight:bold;\">PassengerId</span> feature. According to the official definition:\n",
    "\n",
    "<span style=\"font-weight:bold;\">PassengerId</span> - A unique Id for each passenger. <span style=\"font-weight:bold;\">.Each Id takes the form gggg_pp where gggg indicates a group the passenger is travelling with and pp is their number within the group</span>. People in a group are often family members, but not always.\n",
    "\n",
    "I split <span style=\"font-weight:bold;\">PassengerId</span> into the new features <span style=\"font-weight:bold;\">IDgroup</span> (gggg) and <span style=\"font-weight:bold;\">IDnumber</span> (pp) and study their unique values:"
   ]
  },
  {
   "cell_type": "code",
   "execution_count": null,
   "metadata": {},
   "outputs": [],
   "source": [
    "# Training dataset:\n",
    "train_df_corr['IDgroup'] = train_df['PassengerId'].apply(\n",
    "    lambda x: int(x.split('_')[0]))\n",
    "train_df_corr['IDnumber'] = train_df['PassengerId'].apply(\n",
    "    lambda x: int(x.split('_')[1]))\n",
    "# Testing dataset:\n",
    "test_df_corr['IDgroup'] = test_df['PassengerId'].apply(\n",
    "    lambda x: int(x.split('_')[0]))\n",
    "test_df_corr['IDnumber'] = test_df['PassengerId'].apply(\n",
    "    lambda x: int(x.split('_')[1]))"
   ]
  },
  {
   "cell_type": "code",
   "execution_count": null,
   "metadata": {},
   "outputs": [],
   "source": [
    "print('Number of unique values in IDgroup (training dataset):', len(set(train_df_corr['IDgroup'])))\n",
    "print('Number of unique values in IDnumber (training dataset):', len(set(train_df_corr['IDnumber'])))"
   ]
  },
  {
   "cell_type": "markdown",
   "metadata": {},
   "source": [
    "There are too many groups, <span style=\"font-weight:bold;\">IDgroup</span> won't be useful for a Machine Learning model... However, identifying member's quantity in each group may help... The <span style=\"font-weight:bold;\">IDnumber</span> gives an idea of the minimum number of people within a group, but the whole picture is missing.\n",
    "\n",
    "I build the new feature <span style=\"font-weight:bold;\">GroupMembers</span>, which identifies for each passenger the number of people sharing their <span style=\"font-weight:bold;\">IDgroup</span>. In order to do that, I consider both training and testing datasets, with the following protocol:\n",
    "\n",
    "* Identify the ocurrences for each unique value in <span style=\"font-weight:bold;\">IDgroup</span>, in the total training+testing dataset.\n",
    "  \n",
    "* Assign the <span style=\"font-weight:bold;\">GroupMembers</span> in each training and testing dataset.\n",
    "\n",
    "* Drop features <span style=\"font-weight:bold;\">IDgroup</span> and <span style=\"font-weight:bold;\">IDnumber</span>."
   ]
  },
  {
   "cell_type": "code",
   "execution_count": null,
   "metadata": {},
   "outputs": [],
   "source": [
    "# Identify ocurrences for every unique value in IDgroup:\n",
    "ocurrences = pd.concat([train_df_corr['IDgroup'], test_df_corr['IDgroup']]).value_counts().to_dict()\n",
    "for dataset in [train_df_corr,test_df_corr]:\n",
    "    dataset['GroupMembers'] = dataset['IDgroup'].apply(lambda x: ocurrences[x])\n",
    "# Drop unnecessary features:\n",
    "for feature in ['PassengerId','IDgroup','IDnumber']:\n",
    "    if feature in train_df_corr: # Just in case feature is already dropped\n",
    "        train_df_corr = train_df_corr.drop(feature,axis=1)\n",
    "        test_df_corr = test_df_corr.drop(feature,axis=1)"
   ]
  },
  {
   "cell_type": "markdown",
   "metadata": {},
   "source": [
    "Let's see the distribution of values and Transported rates for <span style=\"font-weight:bold;\">GroupMembers</span>:"
   ]
  },
  {
   "cell_type": "code",
   "execution_count": null,
   "metadata": {},
   "outputs": [],
   "source": [
    "# Plot distribution of values and Transported rates:\n",
    "fig, (ax1,ax2) = plt.subplots(1, 2,figsize=(8, 3)) # Start figure\n",
    "plot_dist_hist(train_df_corr,test_df_corr,'GroupMembers',ax1,bin_step=1)\n",
    "plot_KDE(train_df_corr,'GroupMembers',ax2)\n",
    "fig.tight_layout()\n",
    "plt.show()\n",
    "# Display explanatory table:\n",
    "explain_stats(train_df_corr,'GroupMembers')"
   ]
  },
  {
   "cell_type": "markdown",
   "metadata": {},
   "source": [
    "<a id=\"DA_FE_CryoSleep\"></a>\n",
    "### <span style=\"color:teal;font-weight:bold;\">\"CryoSleep\": make boolean/numeric</span>\n",
    "\n",
    "<span style=\"font-weight:bold;\">CryoSleep</span> feature is very simple, with only True or False values. To make life easier for Machine Learning models, I will convert True to 1 and False to 0."
   ]
  },
  {
   "cell_type": "code",
   "execution_count": null,
   "metadata": {},
   "outputs": [],
   "source": [
    "for dataset in [train_df_corr,test_df_corr]:\n",
    "    dataset['CryoSleep'] = dataset['CryoSleep'].apply(\n",
    "        lambda x: np.nan if x!=x else (1 if x else 0))"
   ]
  },
  {
   "cell_type": "markdown",
   "metadata": {},
   "source": [
    "<a id=\"DA_FE_Cabin\"></a>\n",
    "### <span style=\"color:teal;font-weight:bold;\">\"Cabin\": new features \"Cabin_1st\" and \"Cabin_isP\"</span>\n",
    "\n",
    "The <span style=\"font-weight:bold;\">Cabin</span> feature has too many unique values and couldn't be analyzed properly. Let's look a few examples:"
   ]
  },
  {
   "cell_type": "code",
   "execution_count": null,
   "metadata": {},
   "outputs": [],
   "source": [
    "cabin = list(train_df['Cabin'].loc[~train_df['Cabin'].isna()].values)+\\\n",
    "        list(test_df['Cabin'].loc[~test_df['Cabin'].isna()].values)\n",
    "print(list(set(cabin))[:20])"
   ]
  },
  {
   "cell_type": "markdown",
   "metadata": {},
   "source": [
    "All values follow the same patter: 'Letter/Number/Letter'. I will generate 3 new features accounting for them: <span style=\"font-weight:bold;\">Cabin_1st</span>, <span style=\"font-weight:bold;\">Cabin_2nd</span> and <span style=\"font-weight:bold;\">Cabin_3rd</span>, respectively. Then, I will drop the original <span style=\"font-weight:bold;\">Cabin</span> feature."
   ]
  },
  {
   "cell_type": "code",
   "execution_count": null,
   "metadata": {},
   "outputs": [],
   "source": [
    "cabin_X = ['Cabin_1st','Cabin_2nd','Cabin_3rd']\n",
    "for i,cabin in enumerate(cabin_X):\n",
    "    if cabin not in train_df_corr: # In case faeture it's already created\n",
    "        # Training dataset:\n",
    "        train_df_corr[cabin] = train_df['Cabin'].apply(\n",
    "            lambda x: np.nan if x!=x else (\n",
    "                x.split('/')[i]))\n",
    "        # Testing dataset:\n",
    "        test_df_corr[cabin] = test_df['Cabin'].apply(\n",
    "            lambda x: np.nan if x!=x else (\n",
    "                x.split('/')[i]))\n",
    "# Summarize:\n",
    "for c in cabin_X:\n",
    "    print(f'Unique values in {c} (training/testing):',\n",
    "          len({x for x in train_df_corr[c] if x==x}),'/',\n",
    "          len({x for x in test_df_corr[c] if x==x}))"
   ]
  },
  {
   "cell_type": "markdown",
   "metadata": {},
   "source": [
    "Only <span style=\"font-weight:bold;\">Cabin_1st</span> and <span style=\"font-weight:bold;\">Cabin_3rd</span> are suitable for ML models, while <span style=\"font-weight:bold;\">Cabin_2nd</span> has too many unique values.\n",
    "\n",
    "I drop <span style=\"font-weight:bold;\">Cabin_2nd</span> and <span style=\"font-weight:bold;\">Cabin</span>, and then plot the distribution of values and Transported rates for the new features."
   ]
  },
  {
   "cell_type": "code",
   "execution_count": null,
   "metadata": {},
   "outputs": [],
   "source": [
    "# Drop unnecessary features:\n",
    "for feature in ['Cabin','Cabin_2nd']:\n",
    "    if feature in train_df_corr: # Just in case feature is already dropped\n",
    "        train_df_corr = train_df_corr.drop(feature,axis=1)\n",
    "        test_df_corr = test_df_corr.drop(feature,axis=1)\n",
    "# Plot distribution of values and Transported rates:\n",
    "for feature in ['Cabin_1st','Cabin_3rd']:\n",
    "    fig, (ax1,ax2) = plt.subplots(1, 2,figsize=(8, 3)) # Start figure\n",
    "    print('-'*10,f'{feature} | Outer:train, Inner:test','-'*10)\n",
    "    plot_dist_pie(train_df_corr,test_df_corr,feature,ax1)\n",
    "    plot_swarm(train_df_corr,feature,ax2)    \n",
    "    fig.tight_layout()\n",
    "    plt.show()\n",
    "    # Display explanatory table:\n",
    "    explain_stats(train_df_corr,feature)"
   ]
  },
  {
   "cell_type": "markdown",
   "metadata": {},
   "source": [
    "Excellent news! The old feature <span style=\"font-weight:bold;\">Cabin</span> encoded much information that was recovered in the new <span style=\"font-weight:bold;\">Cabin_1st</span> and <span style=\"font-weight:bold;\">Cabin_3rd</span> features.\n",
    "\n",
    "Lastly, because <span style=\"font-weight:bold;\">Cabin_3rd</span> is a binary feature (either 'S' or 'P'), I will redefine it as <span style=\"font-weight:bold;\">Cabin_isP</span>, with values equal to 1 (='P') or 0 (='S')."
   ]
  },
  {
   "cell_type": "code",
   "execution_count": null,
   "metadata": {},
   "outputs": [],
   "source": [
    "# Generate 'Cabin_isP':\n",
    "if 'Cabin_isP' not in train_df_corr: # In case faeture it's already created\n",
    "    # Training dataset:\n",
    "    train_df_corr['Cabin_isP'] = train_df_corr['Cabin_3rd'].apply(\n",
    "        lambda x: np.nan if x!=x else (1 if x=='P' else 0))\n",
    "    # Testing dataset:\n",
    "    test_df_corr['Cabin_isP'] = test_df_corr['Cabin_3rd'].apply(\n",
    "        lambda x: np.nan if x!=x else (1 if x=='P' else 0))\n",
    "# Drop 'Cabin_3rd':\n",
    "if 'Cabin_3rd' in train_df_corr: # Just in case feature is already dropped\n",
    "    train_df_corr = train_df_corr.drop('Cabin_3rd',axis=1)\n",
    "    test_df_corr = test_df_corr.drop('Cabin_3rd',axis=1)"
   ]
  },
  {
   "cell_type": "markdown",
   "metadata": {},
   "source": [
    "<a id=\"DA_FE_Destination\"></a>\n",
    "### <span style=\"color:teal;font-weight:bold;\">\"Destination\" redefinition</span>\n",
    "\n",
    "The current <span style=\"font-weight:bold;\">Destination</span> feature's unique values are hard to read: '55 Cancri e', 'PSO J318.5-22' and 'TRAPPIST-1e'. I redefine them as 'Cancri', 'PSO' and \"Trappist', respectively."
   ]
  },
  {
   "cell_type": "code",
   "execution_count": null,
   "metadata": {},
   "outputs": [],
   "source": [
    "train_df_corr[\"Destination\"] = train_df[\"Destination\"].apply(\n",
    "    lambda x: np.nan if x!=x else (\n",
    "    \"Cancri\" if x==\"55 Cancri e\" else (\n",
    "        \"PSO\" if x==\"PSO J318.5-22\" else \"Trappist\"))\n",
    ")\n",
    "test_df_corr[\"Destination\"] = test_df[\"Destination\"].apply(\n",
    "    lambda x: np.nan if x!=x else (\n",
    "    \"Cancri\" if x==\"55 Cancri e\" else (\n",
    "        \"PSO\" if x==\"PSO J318.5-22\" else \"Trappist\"))\n",
    ")"
   ]
  },
  {
   "cell_type": "markdown",
   "metadata": {},
   "source": [
    "<a id=\"DA_FE_VIP\"></a>\n",
    "### <span style=\"color:teal;font-weight:bold;\">\"VIP\": make boolean/numeric</span>\n",
    "\n",
    "I will apply to <span style=\"font-weight:bold;\">VIP</span> the same procedure as <span style=\"font-weight:bold;\">CryoSleep</span>: convert True to 1 and False to 0."
   ]
  },
  {
   "cell_type": "code",
   "execution_count": null,
   "metadata": {},
   "outputs": [],
   "source": [
    "for dataset in [train_df_corr,test_df_corr]:\n",
    "    dataset['VIP'] = dataset['VIP'].apply(\n",
    "        lambda x: np.nan if x!=x else (1 if x else 0))"
   ]
  },
  {
   "cell_type": "markdown",
   "metadata": {},
   "source": [
    "<a id=\"DA_FE_Expense_Range\"></a>\n",
    "### <span style=\"color:teal;font-weight:bold;\">Expense features: new features \"X_Range\"</span>\n",
    "\n",
    "Features <span style=\"font-weight:bold;\">RoomService</span>,\n",
    "<span style=\"font-weight:bold;\">FoodCourt</span>,\n",
    "<span style=\"font-weight:bold;\">ShoppingMall</span>,\n",
    "<span style=\"font-weight:bold;\">Spa</span> and\n",
    "<span style=\"font-weight:bold;\">VRDeck</span> describe expenses incurred by passengers. \n",
    "\n",
    "They are numerical features that span a wide range (from 0 to thousands) with a very skewed distribution: the vast majority of passengers spend very little, while the rest of the expense distribution is occupied by relatively few passengers. \n",
    "\n",
    "Consequently, I <span style=\"font-weight:bold;\">simplify the information by using a logarithmic distribution</span>.\n",
    "\n",
    "<span style=\"font-style:italic;\">Note: the logarithm operation requires values strictly greater than 0. For this purpose, I consider all 0 values as a tenth fraction the minimum non-zero value. </span>"
   ]
  },
  {
   "cell_type": "code",
   "execution_count": null,
   "metadata": {},
   "outputs": [],
   "source": [
    "exp_feats = ['RoomService','FoodCourt', 'ShoppingMall', 'Spa', 'VRDeck']\n",
    "for expense in exp_feats:    \n",
    "    new_feat = f'{expense}_Range' # New engineered feature\n",
    "    # Find minimum fare above 0 and maximum fare:\n",
    "    all_exp = set(pd.concat([train_df[expense], test_df[expense]])) # All fares\n",
    "    min_exp = sorted(all_exp)[1] # Minimum non-zero expense\n",
    "    max_exp = max(all_exp) # Manimum expense\n",
    "    # Create the new Fare_Range feature:\n",
    "    for dataset in [train_df_corr,test_df_corr]:\n",
    "        # First copy the Fare future and fix all zero values:\n",
    "        dataset[new_feat] = dataset[expense]\n",
    "        dataset.loc[dataset[new_feat]==0,new_feat] = min_exp\n",
    "        # Convert to logarithmic scale:\n",
    "        dataset[new_feat] = np.log10(dataset[new_feat])\n",
    "        # Encode to bins with width equal to 1:\n",
    "        dataset[new_feat] = dataset[new_feat].apply(\n",
    "            lambda x: np.nan if x!=x else np.ceil(x))"
   ]
  },
  {
   "cell_type": "code",
   "execution_count": null,
   "metadata": {},
   "outputs": [],
   "source": [
    "for feat in exp_feats:\n",
    "    feat_range = feat+'_Range' # Engineered feature\n",
    "    # Plot distribution of values and survival rates:\n",
    "    fig, (ax1,ax2) = plt.subplots(1, 2,figsize=(8, 3)) \n",
    "    plot_dist_hist(train_df_corr,test_df_corr,feat_range,ax1,bin_step=1)\n",
    "    plot_KDE(train_df_corr,feat_range,ax2)    \n",
    "    plt.show()\n",
    "    # Explained values:\n",
    "    feat_expl = pd.DataFrame(columns=[feat_range,feat,'#Passengers','Transported_Rate[%]'])\n",
    "    feat_expl[feat_range] = np.arange(0,int(np.max(train_df_corr[feat_range]))+1,1)\n",
    "    feat_expl[feat] = [f'[{int(10**(i-1))}, {int(10**i)})' for\n",
    "                       i in feat_expl[feat_range]]\n",
    "    feat_expl['#Passengers'] = [len(train_df_corr[train_df_corr[feat_range] == x])\n",
    "                              for x in feat_expl[feat_range]]\n",
    "    # Transported rates for each Expense_Range category:\n",
    "    feat_expl['Transported_Rate[%]'] = [\n",
    "        len(train_df_corr[(train_df_corr[feat_range] == x) & # Select expense range\n",
    "            (train_df_corr['Transported'] == 1)])/ # Passengers who were transported\n",
    "        len(train_df_corr[(train_df_corr[feat_range] == x)]) # Total passengers\n",
    "        for x in feat_expl[feat_range] # Iterate through all expense range values\n",
    "    ]\n",
    "    feat_expl['Transported_Rate[%]'] *= 100 # Convert from fraction to [%]\n",
    "    print(f'Explained {feat_range} values and Transported rates in training dataset:')\n",
    "    display(feat_expl.style.hide())"
   ]
  },
  {
   "cell_type": "markdown",
   "metadata": {},
   "source": [
    "Information is much simpler now and easier to visualize. There are some general highlights:\n",
    "\n",
    "* For all new ranged-features, the most common category is 0, integrated mainly by passengers with zero expenses. Transported rates in all cases are close to 60%.\n",
    "\n",
    "* Ignoring the category 0, expenses follow two opposite patterns:\n",
    "\n",
    "  - For <span style=\"font-weight:bold;\">RoomService_Range</span>, <span style=\"font-weight:bold;\">Spa_Range</span> and <span style=\"font-weight:bold;\">VRDeck_Range</span>: the <span style=\"color:green\">higher the expense</span>, the <span style=\"color:red\">worse Transported rate</span>.\n",
    "  \n",
    "  - For <span style=\"font-weight:bold;\">FoodCourt_Range</span> and <span style=\"font-weight:bold;\">ShoppingMall_Range</span>: the <span style=\"color:green\">higher the expense</span>, the <span style=\"color:green\">better Transported rate</span>."
   ]
  },
  {
   "cell_type": "markdown",
   "metadata": {},
   "source": [
    "<a id=\"DA_FE_Name\"></a>\n",
    "### <span style=\"color:teal;font-weight:bold;\">\"Name\" feature: new feature \"Ocurrence_LastName\"</span>\n",
    "\n",
    "Is there any encoded information in the <span style=\"font-weight:bold;\">Name</span> feature? Let's see a few examples:"
   ]
  },
  {
   "cell_type": "code",
   "execution_count": null,
   "metadata": {},
   "outputs": [],
   "source": [
    "train_df['Name'].head(10)"
   ]
  },
  {
   "cell_type": "markdown",
   "metadata": {},
   "source": [
    "Names come in the format \"FirstName LastName\". People bearing the same last name are likely belonging to the same family. \n",
    "\n",
    "Then, I create a new feature <span style=\"font-weight:bold;\">Ocurrence_LastName</span>, which records the ocurrence of the last name for each passenger."
   ]
  },
  {
   "cell_type": "code",
   "execution_count": null,
   "metadata": {},
   "outputs": [],
   "source": [
    "# Create Name_Last feature (temporarily):\n",
    "if 'Name_Last' not in train_df_corr: # In case faeture it's already created\n",
    "    # Training dataset:\n",
    "    train_df_corr['Name_Last'] = train_df['Name'].apply(\n",
    "        lambda x: np.nan if x!=x else (\n",
    "            x.split(' ')[-1]))\n",
    "    # Testing dataset:\n",
    "    test_df_corr['Name_Last'] = test_df['Name'].apply(\n",
    "        lambda x: np.nan if x!=x else (\n",
    "            x.split(' ')[-1]))\n",
    "    \n",
    "# Identify ocurrences for every unique value in Name_Last:\n",
    "ocurrences = pd.concat([train_df_corr['Name_Last'], test_df_corr['Name_Last']]).value_counts().to_dict()\n",
    "for dataset in [train_df_corr,test_df_corr]:\n",
    "    dataset['Ocurrence_LastName'] = dataset['Name_Last'].apply(\n",
    "        lambda x: np.nan if x!=x else ocurrences[x])\n",
    "\n",
    "# Drop unnecessary features:\n",
    "for feature in ['Name','Name_Last']:\n",
    "    if feature in train_df_corr: # Just in case feature is already dropped\n",
    "        train_df_corr = train_df_corr.drop(feature,axis=1)\n",
    "        test_df_corr = test_df_corr.drop(feature,axis=1)"
   ]
  },
  {
   "cell_type": "code",
   "execution_count": null,
   "metadata": {},
   "outputs": [],
   "source": [
    "# Plot distribution of values and Transported rates:\n",
    "fig, (ax1,ax2) = plt.subplots(1, 2,figsize=(8, 3)) # Start figure\n",
    "plot_dist_hist(train_df_corr,test_df_corr,'Ocurrence_LastName',ax1,bin_step=1)\n",
    "plot_KDE(train_df_corr,'Ocurrence_LastName',ax2)     \n",
    "fig.tight_layout()\n",
    "plt.show()\n",
    "\n",
    "fig, (ax1,ax2) = plt.subplots(1, 2,figsize=(8, 3)) # Start figure\n",
    "print('-'*10,'Outer:train, Inner:test','-'*10)\n",
    "# plot_dist_hist(train_df_corr,test_df_corr,'Ocurrence_LastName',ax1,bin_step=1)\n",
    "# plot_KDE(train_df_corr,'Ocurrence_LastName',ax2)  \n",
    "plot_dist_pie(train_df_corr,test_df_corr,'Ocurrence_LastName',ax1)\n",
    "plot_swarm(train_df_corr,'Ocurrence_LastName',ax2,xlabels_off=True)    \n",
    "fig.tight_layout()\n",
    "plt.show()"
   ]
  },
  {
   "cell_type": "markdown",
   "metadata": {},
   "source": [
    "With a few exceptions, the general behavior indicates that the more ocurrences in the last name, the worse Transported rate."
   ]
  },
  {
   "cell_type": "markdown",
   "metadata": {},
   "source": [
    "<a id=\"Feature_engineering_single_corr\"></a>\n",
    "### <span style=\"color:teal;font-weight:bold;\">Correlations II (engineered features)</span>\n",
    "\n",
    "So far, I've modified, dropped or generated new features from single original features. Let's have a look at the correlation at the current dataset:"
   ]
  },
  {
   "cell_type": "code",
   "execution_count": null,
   "metadata": {},
   "outputs": [],
   "source": [
    "print('\\nFeatures: names and data types:\\n')\n",
    "print(train_df_corr.dtypes)"
   ]
  },
  {
   "cell_type": "markdown",
   "metadata": {},
   "source": [
    "All features are numeric, except for <span style=\"font-weight:bold;\">HomePlanet</span>, <span style=\"font-weight:bold;\">Destination</span> and <span style=\"font-weight:bold;\">Cabin_1st</span>, which have 3, 3 and 8 categories, respectively. I will encode them and then plot the correlation matrix."
   ]
  },
  {
   "cell_type": "code",
   "execution_count": null,
   "metadata": {},
   "outputs": [],
   "source": [
    "# One-Hot encode non-numerical features with few unique values:\n",
    "feat_enc = [feat for feat in train_df_corr.columns if \n",
    "            train_df[feat].dtype == 'object' and # Numeric or...\n",
    "            train_df[feat].nunique()<10] # ...Few unique values\n",
    "\n",
    "# Encode features:\n",
    "data_train_corr_enc = pd.get_dummies(train_df_corr[feat_enc])\n",
    "# Prepare dataframes having only numeric/boolean features:\n",
    "data_train_corr_enc = pd.concat([train_df_corr, data_train_corr_enc], axis=1)\n",
    "# Sort columns alphabetically, but leave 'Transported' at the beggining in training dataset:\n",
    "train_df_corr_enc = train_df_enc.reindex(sorted(train_df_enc.columns), axis=1)\n",
    "train_df_enc = train_df_enc[['Transported'] + [col for col in train_df_enc.columns\n",
    "                                               if col != 'Transported' ]]\n",
    "# Drop source-encoded features: \n",
    "train_df_enc = train_df_enc.drop(feat_enc,axis=1)\n",
    "# Drop not suitable features:\n",
    "feat_not_enc = [feat for feat in train_df.columns if\n",
    "                train_df[feat].dtype == 'object' and # Numeric or...\n",
    "                train_df[feat].nunique()>=10] # ...Few unique values\n",
    "train_df_enc = train_df_enc.drop(feat_not_enc,axis=1)\n",
    "\n",
    "import matplotlib.patches as patches\n",
    "\n",
    "# Prepare data:\n",
    "corr_train = train_df_enc.corr() # Obtain correlations\n",
    "trimask = np.triu(np.ones_like(corr_train, dtype=bool)) # Mask upper triangle in correlations\n",
    "c_thres = 0.1 # Threshold value to show correlations\n",
    "\n",
    "fig, ax = plt.subplots(figsize=(20, 10))\n",
    "# Plot correlations in training dataset:\n",
    "sns.heatmap(corr_train, ax=ax, square=True, \n",
    "            cmap='coolwarm', vmin=-1, vmax=1,\n",
    "            linecolor='w',lw=0.5, \n",
    "            mask=trimask | (np.abs(corr_train) <= c_thres))\n",
    "# Separate the \"Survived\" correlations:\n",
    "ax.plot([1,1],[1,len(train_df_enc.columns)],color='k',lw=2)\n",
    "# Draw the correlations' triangle:\n",
    "ax.plot([1,len(train_df_enc.columns)],[1,len(train_df_enc.columns)],color='k',lw=0.5)\n",
    "ax.plot([1,len(train_df_enc.columns)],[len(train_df_enc.columns),len(train_df_enc.columns)],\n",
    "        color='k',lw=1.5)\n",
    "# Identify blocks of similar features:\n",
    "main_name = [feat.split('_')[0] for feat in list(train_df_enc.columns)]\n",
    "index_counts = [(main_name.index(name),main_name.count(name))\n",
    "                for name in sorted(set(main_name))]\n",
    "for index, counts in index_counts:\n",
    "    if counts>1: \n",
    "        triangle = [[index, index],\n",
    "                    [index+counts, index+counts],\n",
    "                    [index, index+counts]]\n",
    "        ax.add_patch(patches.Polygon(triangle, edgecolor=\"k\",facecolor='none',ls=\"--\",lw=2))\n",
    "ax.set_title(f\"Training Dataset Correlations\", size=15)\n",
    "fig.tight_layout()\n",
    "plt.show()"
   ]
  },
  {
   "cell_type": "code",
   "execution_count": null,
   "metadata": {},
   "outputs": [],
   "source": []
  },
  {
   "cell_type": "code",
   "execution_count": null,
   "metadata": {},
   "outputs": [],
   "source": [
    "# IDEA: Ratio (FoodCourt+ShoppingMall+1)/(RoomService+Spa+VRDeck+1)"
   ]
  },
  {
   "cell_type": "markdown",
   "metadata": {},
   "source": [
    "<a id=\"Feature_engineering_combined\"></a>\n",
    "## <span style=\"color:teal;font-weight:bold;\">Combined features</span>"
   ]
  },
  {
   "cell_type": "markdown",
   "metadata": {},
   "source": [
    "<a id=\"DA_FE_FromTo\"></a>\n",
    "### <span style=\"color:teal;font-weight:bold;\">\"FromTo\" new feature (from \"HomePlanet\" and \"Destination\")</span>\n",
    "\n",
    "In the Titanic voyage, <span style=\"font-weight:bold;\">the itinerary for any passenger can be defined by their HomePlanet feature and Destination</span>. Possibilities are limited: from [Earth, Europa, Mars] to [Cancri, PSO, Trappist].\n",
    "\n",
    "<span style=\"font-weight:bold;\">I will create a new feature called FromTo, containing strings with the format \"{HomePlanet}-{Destination}\".</span> \n",
    "\n",
    "<span style=\"font-style:italic;\">Note: Any missing value in either <span style=\"font-weight:bold;\">HomePlanet</span> or <span style=\"font-weight:bold;\">Destination</span> will be translated in a missing value in <span style=\"font-weight:bold;\">FromTo</span>.</span>"
   ]
  },
  {
   "cell_type": "code",
   "execution_count": null,
   "metadata": {},
   "outputs": [],
   "source": [
    "# Define feature:\n",
    "for dataset in [train_df_corr, test_df_corr]:\n",
    "    dataset[\"FromTo\"] = dataset[\"HomePlanet\"] + '-' + dataset[\"Destination\"]"
   ]
  },
  {
   "cell_type": "code",
   "execution_count": null,
   "metadata": {},
   "outputs": [],
   "source": [
    "# Plot distribution of values and Transported rates:\n",
    "fig, (ax1,ax2) = plt.subplots(1, 2,figsize=(8, 3)) # Start figure\n",
    "print('-'*10,f' FromTo | Outer:train, Inner:test','-'*10)\n",
    "plot_dist_pie(train_df_corr,test_df_corr,\"FromTo\",ax1)\n",
    "plot_swarm(train_df_corr,\"FromTo\",ax2,xlabels_off=True)    \n",
    "fig.tight_layout()\n",
    "plt.show()\n",
    "# Display explanatory table:\n",
    "explain_stats(train_df_corr,\"FromTo\")"
   ]
  },
  {
   "cell_type": "code",
   "execution_count": null,
   "metadata": {},
   "outputs": [],
   "source": []
  },
  {
   "cell_type": "markdown",
   "metadata": {},
   "source": [
    "<a id=\"ML_architectures\"></a>\n",
    "# <span style=\"color:teal;font-weight:bold;\">X</span>\n",
    "\n",
    "Xxxx"
   ]
  },
  {
   "cell_type": "markdown",
   "metadata": {},
   "source": [
    "<a id=\"Conclusions\"></a>\n",
    "# <span style=\"color:teal;font-weight:bold;\">Conclusions</span>\n",
    "\n",
    "Xxxx"
   ]
  },
  {
   "cell_type": "code",
   "execution_count": null,
   "metadata": {},
   "outputs": [],
   "source": []
  }
 ],
 "metadata": {
  "kaggle": {
   "accelerator": "none",
   "dataSources": [
    {
     "databundleVersionId": 3220602,
     "sourceId": 34377,
     "sourceType": "competition"
    }
   ],
   "dockerImageVersionId": 30746,
   "isGpuEnabled": false,
   "isInternetEnabled": true,
   "language": "python",
   "sourceType": "notebook"
  },
  "kernelspec": {
   "display_name": "Python 3 (ipykernel)",
   "language": "python",
   "name": "python3"
  },
  "language_info": {
   "codemirror_mode": {
    "name": "ipython",
    "version": 3
   },
   "file_extension": ".py",
   "mimetype": "text/x-python",
   "name": "python",
   "nbconvert_exporter": "python",
   "pygments_lexer": "ipython3",
   "version": "3.10.13"
  }
 },
 "nbformat": 4,
 "nbformat_minor": 4
}
