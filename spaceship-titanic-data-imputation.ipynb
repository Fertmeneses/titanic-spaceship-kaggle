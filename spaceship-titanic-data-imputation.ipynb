{
 "cells": [
  {
   "cell_type": "markdown",
   "id": "a7d4b3aa-1f7d-4c3c-93a4-4568b513bbbd",
   "metadata": {},
   "source": [
    "<a id=\"Title\"></a>\n",
    "# <span style=\"color:teal;font-weight:bold;\">Spaceship Titanic 🩹 Data imputation</span>\n",
    "\n",
    "This notebook is the third part of my <span style=\"font-weight:bold;color:green\">Spaceship Titanic series</span>:\n",
    "\n",
    "1. <a href=\"https://www.kaggle.com/code/fertmeneses/spaceship-titanic-getting-familiar\">Spaceship Titanic 🏁 Getting familiar</a>.\n",
    "2. <a href=\"https://www.kaggle.com/code/fertmeneses/spaceship-titanic-feature-engineering\">Spaceship Titanic 💡 Feature engineering.</a>\n",
    "3. <span style=\"font-weight:bold\">Spaceship Titanic 🩹 Data imputation.</span> [This notebook]\n",
    "4. Spaceship Titanic 🖥️ Model optimization. (Coming soon)\n",
    "5. Spaceship Titanic 🔭 Integrated analysis. (Coming soon)\n",
    "\n",
    "In the <span style=\"color:orangered;font-weight:bold;\">first episode</span>, I studied the Leaderboard (LB) and tried simple Machine Learning models with the original dataset, getting a <span style=\"color:orangered;font-weight:bold;\">submission score of 0.79635</span>. \n",
    "\n",
    "From that experience, I learned that **$\\approx$75% of the submissions in the LB are below a 0.80 score, while only $\\approx$5% are above 0.81**.\n",
    "\n",
    "In the <span style=\"color:orange;font-weight:bold;\">second episode</span>, I performed feature engineering on the original dataset (without any data correction), getting a <span style=\"color:orange;font-weight:bold;\">submission score of 0.80336</span>.\n",
    "\n",
    "<div style=\"color:white;\n",
    "    display:fill;\n",
    "    border-radius:15px;\n",
    "    margin-left: 100px;\n",
    "    margin-right: 100px;\n",
    "    background-color:lightblue;\n",
    "    font-size:105%;\n",
    "    font-family:Verdana;\n",
    "    letter-spacing:0.5px\">\n",
    "\n",
    "<p style=\"padding: 20px;color:black;text-align:center;\">\n",
    "In this <span style=\"color:green;font-weight:bold;\">notebook</span>, I use my previously engineered features and focus on <span style=\"font-weight:bold;\">data imputation</span> using my own Machine Learning methods, getting a <span style=\"color:green;font-weight:bold;\">submission score of X</span>.\n",
    "\n",
    "</p>\n",
    "</div>\n",
    "\n",
    "\n",
    "\n",
    "In the future notebooks, I'll optimize the Machine Learning model and finally make an integrated analysis based on my results and a deep study of other kagglers' contributions.\n",
    "\n",
    "<hr>"
   ]
  },
  {
   "cell_type": "code",
   "execution_count": null,
   "id": "ee2563b2-6b27-4d3f-a9f4-03b6c507c1af",
   "metadata": {},
   "outputs": [],
   "source": []
  }
 ],
 "metadata": {
  "kernelspec": {
   "display_name": "Python 3 (ipykernel)",
   "language": "python",
   "name": "python3"
  },
  "language_info": {
   "codemirror_mode": {
    "name": "ipython",
    "version": 3
   },
   "file_extension": ".py",
   "mimetype": "text/x-python",
   "name": "python",
   "nbconvert_exporter": "python",
   "pygments_lexer": "ipython3",
   "version": "3.10.12"
  }
 },
 "nbformat": 4,
 "nbformat_minor": 5
}
